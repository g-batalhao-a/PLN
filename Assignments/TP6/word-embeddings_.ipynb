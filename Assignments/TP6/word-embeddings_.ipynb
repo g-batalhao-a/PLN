{
 "cells": [
  {
   "cell_type": "markdown",
   "metadata": {},
   "source": [
    "Notebook prepared by Henrique Lopes Cardoso (hlc@fe.up.pt), based on [Word2Vec Tutorial Notebook](https://github.com/kavgan/nlp-in-practice/tree/master/word2vec) by Kavita Ganesan and on [Gensim's documentation on the Word2Vec Model](https://radimrehurek.com/gensim/auto_examples/tutorials/run_word2vec.html).\n",
    "\n",
    "# WORD EMBEDDINGS"
   ]
  },
  {
   "cell_type": "markdown",
   "metadata": {},
   "source": [
    "## Word2Vec in Gensim\n",
    "\n",
    "[Word2Vec](https://code.google.com/archive/p/word2vec/) is a model for training word embeddings that revolutionized the way words are represented. [Gensim](https://radimrehurek.com/gensim_3.8.3/models/word2vec.html) provides an implementation of the algorithm, with which we can train our own word embeddings."
   ]
  },
  {
   "cell_type": "markdown",
   "metadata": {},
   "source": [
    "#### The data\n",
    "\n",
    "Training embeddings requires a big corpus, the bigger the better.\n",
    "\n",
    "For illustration purposes, we'll make use of the (not very big) [OpinRank](http://kavita-ganesan.com/entity-ranking-data/) dataset, which includes full reviews of cars and hotels. More specifically, we'll use an 84MB compressed file with 255404 hotel reviews.\n",
    "\n",
    "This is how each review looks like:"
   ]
  },
  {
   "cell_type": "code",
   "execution_count": 1,
   "metadata": {},
   "outputs": [
    {
     "name": "stdout",
     "output_type": "stream",
     "text": [
      "b\"Oct 12 2009 \\tNice trendy hotel location not too bad.\\tI stayed in this hotel for one night. As this is a fairly new place some of the taxi drivers did not know where it was and/or did not want to drive there. Once I have eventually arrived at the hotel, I was very pleasantly surprised with the decor of the lobby/ground floor area. It was very stylish and modern. I found the reception's staff geeting me with 'Aloha' a bit out of place, but I guess they are briefed to say that to keep up the coroporate image.As I have a Starwood Preferred Guest member, I was given a small gift upon-check in. It was only a couple of fridge magnets in a gift box, but nevertheless a nice gesture.My room was nice and roomy, there are tea and coffee facilities in each room and you get two complimentary bottles of water plus some toiletries by 'bliss'.The location is not great. It is at the last metro stop and you then need to take a taxi, but if you are not planning on going to see the historic sites in Beijing, then you will be ok.I chose to have some breakfast in the hotel, which was really tasty and there was a good selection of dishes. There are a couple of computers to use in the communal area, as well as a pool table. There is also a small swimming pool and a gym area.I would definitely stay in this hotel again, but only if I did not plan to travel to central Beijing, as it can take a long time. The location is ok if you plan to do a lot of shopping, as there is a big shopping centre just few minutes away from the hotel and there are plenty of eating options around, including restaurants that serve a dog meat!\\t\\r\\n\"\n"
     ]
    }
   ],
   "source": [
    "import gzip\n",
    "\n",
    "data_file=\"reviews_data.txt.gz\"\n",
    "\n",
    "with gzip.open ('reviews_data.txt.gz', 'rb') as f:\n",
    "    for i,line in enumerate (f):\n",
    "        print(line)\n",
    "        break"
   ]
  },
  {
   "cell_type": "markdown",
   "metadata": {},
   "source": [
    "Let's read the whole dataset into a list, while providing some logging information.\n",
    "\n",
    "In the process of reading the data directly from the compressed file, we'll perform some pre-processing of the reviews using [gensim.utils.simple_preprocess](https://tedboy.github.io/nlps/generated/generated/gensim.utils.simple_preprocess.html). This does some basic pre-processing such as tokenization and lowercasing, and returns back a list of tokens (words)."
   ]
  },
  {
   "cell_type": "code",
   "execution_count": 3,
   "metadata": {},
   "outputs": [],
   "source": [
    "import gensim\n",
    "import logging\n",
    "\n",
    "logging.basicConfig(format='%(asctime)s : %(levelname)s : %(message)s', level=logging.INFO)\n",
    "\n",
    "def read_input(input_file):\n",
    "    \"\"\"This method reads the input file which is in gzip format\"\"\"\n",
    "    \n",
    "    logging.info(\"reading file {0}...this may take a while\".format(input_file))\n",
    "    \n",
    "    with gzip.open (input_file, 'rb') as f:\n",
    "        for i, line in enumerate (f): \n",
    "\n",
    "            if (i%10000==0):\n",
    "                logging.info (\"read {0} reviews\".format (i))\n",
    "            # do some pre-processing and return a list of words for each review text\n",
    "            yield gensim.utils.simple_preprocess(line)\n",
    "    logging.info(\"Done reading data file\")"
   ]
  },
  {
   "cell_type": "code",
   "execution_count": 4,
   "metadata": {},
   "outputs": [
    {
     "name": "stderr",
     "output_type": "stream",
     "text": [
      "2022-04-12 19:07:09,899 : INFO : reading file reviews_data.txt.gz...this may take a while\n",
      "2022-04-12 19:07:09,900 : INFO : read 0 reviews\n",
      "2022-04-12 19:07:11,617 : INFO : read 10000 reviews\n",
      "2022-04-12 19:07:13,293 : INFO : read 20000 reviews\n",
      "2022-04-12 19:07:15,205 : INFO : read 30000 reviews\n",
      "2022-04-12 19:07:17,047 : INFO : read 40000 reviews\n",
      "2022-04-12 19:07:19,069 : INFO : read 50000 reviews\n",
      "2022-04-12 19:07:20,995 : INFO : read 60000 reviews\n",
      "2022-04-12 19:07:22,619 : INFO : read 70000 reviews\n",
      "2022-04-12 19:07:24,076 : INFO : read 80000 reviews\n",
      "2022-04-12 19:07:25,654 : INFO : read 90000 reviews\n",
      "2022-04-12 19:07:27,510 : INFO : read 100000 reviews\n",
      "2022-04-12 19:07:29,188 : INFO : read 110000 reviews\n",
      "2022-04-12 19:07:30,819 : INFO : read 120000 reviews\n",
      "2022-04-12 19:07:32,568 : INFO : read 130000 reviews\n",
      "2022-04-12 19:07:34,311 : INFO : read 140000 reviews\n",
      "2022-04-12 19:07:35,852 : INFO : read 150000 reviews\n",
      "2022-04-12 19:07:37,482 : INFO : read 160000 reviews\n",
      "2022-04-12 19:07:39,024 : INFO : read 170000 reviews\n",
      "2022-04-12 19:07:40,711 : INFO : read 180000 reviews\n",
      "2022-04-12 19:07:42,698 : INFO : read 190000 reviews\n",
      "2022-04-12 19:07:44,394 : INFO : read 200000 reviews\n",
      "2022-04-12 19:07:46,122 : INFO : read 210000 reviews\n",
      "2022-04-12 19:07:47,878 : INFO : read 220000 reviews\n",
      "2022-04-12 19:07:49,583 : INFO : read 230000 reviews\n",
      "2022-04-12 19:07:51,294 : INFO : read 240000 reviews\n",
      "2022-04-12 19:07:52,948 : INFO : read 250000 reviews\n",
      "2022-04-12 19:07:53,806 : INFO : Done reading data file\n"
     ]
    },
    {
     "data": {
      "text/plain": [
       "255404"
      ]
     },
     "execution_count": 4,
     "metadata": {},
     "output_type": "execute_result"
    }
   ],
   "source": [
    "# compressed file with the data\n",
    "data_file=\"reviews_data.txt.gz\"\n",
    "\n",
    "# read the tokenized reviews into a list\n",
    "documents = list(read_input(data_file))\n",
    "\n",
    "len(documents)"
   ]
  },
  {
   "cell_type": "markdown",
   "metadata": {},
   "source": [
    "Each review item becomes a list of words, so what we have is a list of lists."
   ]
  },
  {
   "cell_type": "code",
   "execution_count": 5,
   "metadata": {},
   "outputs": [
    {
     "name": "stdout",
     "output_type": "stream",
     "text": [
      "['oct', 'nice', 'trendy', 'hotel', 'location', 'not', 'too', 'bad', 'stayed', 'in', 'this', 'hotel', 'for', 'one', 'night', 'as', 'this', 'is', 'fairly', 'new', 'place', 'some', 'of', 'the', 'taxi', 'drivers', 'did', 'not', 'know', 'where', 'it', 'was', 'and', 'or', 'did', 'not', 'want', 'to', 'drive', 'there', 'once', 'have', 'eventually', 'arrived', 'at', 'the', 'hotel', 'was', 'very', 'pleasantly', 'surprised', 'with', 'the', 'decor', 'of', 'the', 'lobby', 'ground', 'floor', 'area', 'it', 'was', 'very', 'stylish', 'and', 'modern', 'found', 'the', 'reception', 'staff', 'geeting', 'me', 'with', 'aloha', 'bit', 'out', 'of', 'place', 'but', 'guess', 'they', 'are', 'briefed', 'to', 'say', 'that', 'to', 'keep', 'up', 'the', 'coroporate', 'image', 'as', 'have', 'starwood', 'preferred', 'guest', 'member', 'was', 'given', 'small', 'gift', 'upon', 'check', 'in', 'it', 'was', 'only', 'couple', 'of', 'fridge', 'magnets', 'in', 'gift', 'box', 'but', 'nevertheless', 'nice', 'gesture', 'my', 'room', 'was', 'nice', 'and', 'roomy', 'there', 'are', 'tea', 'and', 'coffee', 'facilities', 'in', 'each', 'room', 'and', 'you', 'get', 'two', 'complimentary', 'bottles', 'of', 'water', 'plus', 'some', 'toiletries', 'by', 'bliss', 'the', 'location', 'is', 'not', 'great', 'it', 'is', 'at', 'the', 'last', 'metro', 'stop', 'and', 'you', 'then', 'need', 'to', 'take', 'taxi', 'but', 'if', 'you', 'are', 'not', 'planning', 'on', 'going', 'to', 'see', 'the', 'historic', 'sites', 'in', 'beijing', 'then', 'you', 'will', 'be', 'ok', 'chose', 'to', 'have', 'some', 'breakfast', 'in', 'the', 'hotel', 'which', 'was', 'really', 'tasty', 'and', 'there', 'was', 'good', 'selection', 'of', 'dishes', 'there', 'are', 'couple', 'of', 'computers', 'to', 'use', 'in', 'the', 'communal', 'area', 'as', 'well', 'as', 'pool', 'table', 'there', 'is', 'also', 'small', 'swimming', 'pool', 'and', 'gym', 'area', 'would', 'definitely', 'stay', 'in', 'this', 'hotel', 'again', 'but', 'only', 'if', 'did', 'not', 'plan', 'to', 'travel', 'to', 'central', 'beijing', 'as', 'it', 'can', 'take', 'long', 'time', 'the', 'location', 'is', 'ok', 'if', 'you', 'plan', 'to', 'do', 'lot', 'of', 'shopping', 'as', 'there', 'is', 'big', 'shopping', 'centre', 'just', 'few', 'minutes', 'away', 'from', 'the', 'hotel', 'and', 'there', 'are', 'plenty', 'of', 'eating', 'options', 'around', 'including', 'restaurants', 'that', 'serve', 'dog', 'meat']\n"
     ]
    }
   ],
   "source": [
    "print(documents[0])"
   ]
  },
  {
   "cell_type": "markdown",
   "metadata": {},
   "source": [
    "#### Training the Word2Vec model\n",
    "\n",
    "To train a Word2Vec model, we instantiate Word2Vec and pass it the text we have loaded before. You can check the available options for [instantiation](https://radimrehurek.com/gensim_3.8.3/models/word2vec.html#gensim.models.word2vec.Word2Vec) and for [training](https://radimrehurek.com/gensim_3.8.3/models/word2vec.html#gensim.models.word2vec.Word2Vec.train).\n",
    "\n",
    "Training a Word2Vec model takes time, depending on your hardware. In this particular case, expect training to take something between 5 to 10 minutes on an Intel Core-i7 16GB desktop. I know, that's a very wide range, but of course it depends on which other processes are running in the same machine..."
   ]
  },
  {
   "cell_type": "code",
   "execution_count": 7,
   "metadata": {},
   "outputs": [
    {
     "name": "stderr",
     "output_type": "stream",
     "text": [
      "2022-04-12 19:50:18,342 : INFO : collecting all words and their counts\n",
      "2022-04-12 19:50:18,342 : INFO : PROGRESS: at sentence #0, processed 0 words, keeping 0 word types\n",
      "2022-04-12 19:50:18,582 : INFO : PROGRESS: at sentence #10000, processed 1655714 words, keeping 25777 word types\n",
      "2022-04-12 19:50:18,834 : INFO : PROGRESS: at sentence #20000, processed 3317863 words, keeping 35016 word types\n",
      "2022-04-12 19:50:19,126 : INFO : PROGRESS: at sentence #30000, processed 5264072 words, keeping 47518 word types\n",
      "2022-04-12 19:50:19,392 : INFO : PROGRESS: at sentence #40000, processed 7081746 words, keeping 56675 word types\n",
      "2022-04-12 19:50:19,690 : INFO : PROGRESS: at sentence #50000, processed 9089491 words, keeping 63744 word types\n",
      "2022-04-12 19:50:19,973 : INFO : PROGRESS: at sentence #60000, processed 11013726 words, keeping 76786 word types\n",
      "2022-04-12 19:50:20,211 : INFO : PROGRESS: at sentence #70000, processed 12637528 words, keeping 83199 word types\n",
      "2022-04-12 19:50:20,428 : INFO : PROGRESS: at sentence #80000, processed 14099754 words, keeping 88459 word types\n",
      "2022-04-12 19:50:20,660 : INFO : PROGRESS: at sentence #90000, processed 15662152 words, keeping 93357 word types\n",
      "2022-04-12 19:50:20,884 : INFO : PROGRESS: at sentence #100000, processed 17164490 words, keeping 97886 word types\n",
      "2022-04-12 19:50:21,108 : INFO : PROGRESS: at sentence #110000, processed 18652295 words, keeping 102132 word types\n",
      "2022-04-12 19:50:21,331 : INFO : PROGRESS: at sentence #120000, processed 20152532 words, keeping 105923 word types\n",
      "2022-04-12 19:50:21,565 : INFO : PROGRESS: at sentence #130000, processed 21684333 words, keeping 110104 word types\n",
      "2022-04-12 19:50:21,811 : INFO : PROGRESS: at sentence #140000, processed 23330209 words, keeping 114108 word types\n",
      "2022-04-12 19:50:22,040 : INFO : PROGRESS: at sentence #150000, processed 24838757 words, keeping 118174 word types\n",
      "2022-04-12 19:50:22,277 : INFO : PROGRESS: at sentence #160000, processed 26390913 words, keeping 118670 word types\n",
      "2022-04-12 19:50:22,507 : INFO : PROGRESS: at sentence #170000, processed 27913919 words, keeping 123356 word types\n",
      "2022-04-12 19:50:22,750 : INFO : PROGRESS: at sentence #180000, processed 29535615 words, keeping 126748 word types\n",
      "2022-04-12 19:50:22,981 : INFO : PROGRESS: at sentence #190000, processed 31096462 words, keeping 129847 word types\n",
      "2022-04-12 19:50:23,234 : INFO : PROGRESS: at sentence #200000, processed 32805274 words, keeping 133255 word types\n",
      "2022-04-12 19:50:23,478 : INFO : PROGRESS: at sentence #210000, processed 34434201 words, keeping 136364 word types\n",
      "2022-04-12 19:50:23,726 : INFO : PROGRESS: at sentence #220000, processed 36083485 words, keeping 139418 word types\n",
      "2022-04-12 19:50:23,949 : INFO : PROGRESS: at sentence #230000, processed 37571765 words, keeping 142399 word types\n",
      "2022-04-12 19:50:24,184 : INFO : PROGRESS: at sentence #240000, processed 39138193 words, keeping 145232 word types\n",
      "2022-04-12 19:50:24,431 : INFO : PROGRESS: at sentence #250000, processed 40695052 words, keeping 147966 word types\n",
      "2022-04-12 19:50:24,556 : INFO : collected 150059 word types from a corpus of 41519358 raw words and 255404 sentences\n",
      "2022-04-12 19:50:24,557 : INFO : Creating a fresh vocabulary\n",
      "2022-04-12 19:50:24,813 : INFO : Word2Vec lifecycle event {'msg': 'effective_min_count=2 retains 70537 unique words (47.00617757015574%% of original 150059, drops 79522)', 'datetime': '2022-04-12T19:50:24.813906', 'gensim': '4.1.2', 'python': '3.8.5 (default, Sep  3 2020, 21:29:08) [MSC v.1916 64 bit (AMD64)]', 'platform': 'Windows-10-10.0.19041-SP0', 'event': 'prepare_vocab'}\n",
      "2022-04-12 19:50:24,815 : INFO : Word2Vec lifecycle event {'msg': 'effective_min_count=2 leaves 41439836 word corpus (99.80847006353036%% of original 41519358, drops 79522)', 'datetime': '2022-04-12T19:50:24.814907', 'gensim': '4.1.2', 'python': '3.8.5 (default, Sep  3 2020, 21:29:08) [MSC v.1916 64 bit (AMD64)]', 'platform': 'Windows-10-10.0.19041-SP0', 'event': 'prepare_vocab'}\n",
      "2022-04-12 19:50:25,191 : INFO : deleting the raw counts dictionary of 150059 items\n",
      "2022-04-12 19:50:25,195 : INFO : sample=0.001 downsamples 55 most-common words\n",
      "2022-04-12 19:50:25,195 : INFO : Word2Vec lifecycle event {'msg': 'downsampling leaves estimated 30349251.36700416 word corpus (73.2%% of prior 41439836)', 'datetime': '2022-04-12T19:50:25.195308', 'gensim': '4.1.2', 'python': '3.8.5 (default, Sep  3 2020, 21:29:08) [MSC v.1916 64 bit (AMD64)]', 'platform': 'Windows-10-10.0.19041-SP0', 'event': 'prepare_vocab'}\n",
      "2022-04-12 19:50:25,832 : INFO : estimated required memory for 70537 words and 150 dimensions: 119912900 bytes\n",
      "2022-04-12 19:50:25,833 : INFO : resetting layer weights\n",
      "2022-04-12 19:50:25,873 : INFO : Word2Vec lifecycle event {'update': False, 'trim_rule': 'None', 'datetime': '2022-04-12T19:50:25.873664', 'gensim': '4.1.2', 'python': '3.8.5 (default, Sep  3 2020, 21:29:08) [MSC v.1916 64 bit (AMD64)]', 'platform': 'Windows-10-10.0.19041-SP0', 'event': 'build_vocab'}\n",
      "2022-04-12 19:50:25,874 : INFO : Word2Vec lifecycle event {'msg': 'training model with 10 workers on 70537 vocabulary and 150 features, using sg=1 hs=0 sample=0.001 negative=5 window=10 shrink_windows=True', 'datetime': '2022-04-12T19:50:25.874664', 'gensim': '4.1.2', 'python': '3.8.5 (default, Sep  3 2020, 21:29:08) [MSC v.1916 64 bit (AMD64)]', 'platform': 'Windows-10-10.0.19041-SP0', 'event': 'train'}\n",
      "2022-04-12 19:50:26,913 : INFO : EPOCH 1 - PROGRESS: at 1.06% examples, 335558 words/s, in_qsize 19, out_qsize 0\n",
      "2022-04-12 19:50:27,915 : INFO : EPOCH 1 - PROGRESS: at 2.32% examples, 361461 words/s, in_qsize 19, out_qsize 0\n",
      "2022-04-12 19:50:28,921 : INFO : EPOCH 1 - PROGRESS: at 3.56% examples, 362906 words/s, in_qsize 19, out_qsize 0\n",
      "2022-04-12 19:50:29,921 : INFO : EPOCH 1 - PROGRESS: at 4.88% examples, 371574 words/s, in_qsize 19, out_qsize 0\n",
      "2022-04-12 19:50:30,959 : INFO : EPOCH 1 - PROGRESS: at 6.14% examples, 373201 words/s, in_qsize 19, out_qsize 0\n",
      "2022-04-12 19:50:31,997 : INFO : EPOCH 1 - PROGRESS: at 7.46% examples, 375823 words/s, in_qsize 19, out_qsize 0\n",
      "2022-04-12 19:50:33,001 : INFO : EPOCH 1 - PROGRESS: at 8.79% examples, 382351 words/s, in_qsize 19, out_qsize 0\n",
      "2022-04-12 19:50:34,027 : INFO : EPOCH 1 - PROGRESS: at 9.81% examples, 381806 words/s, in_qsize 19, out_qsize 0\n",
      "2022-04-12 19:50:35,029 : INFO : EPOCH 1 - PROGRESS: at 10.84% examples, 380887 words/s, in_qsize 19, out_qsize 0\n",
      "2022-04-12 19:50:36,036 : INFO : EPOCH 1 - PROGRESS: at 11.83% examples, 381347 words/s, in_qsize 19, out_qsize 0\n",
      "2022-04-12 19:50:37,057 : INFO : EPOCH 1 - PROGRESS: at 12.92% examples, 381219 words/s, in_qsize 19, out_qsize 0\n",
      "2022-04-12 19:50:38,066 : INFO : EPOCH 1 - PROGRESS: at 14.05% examples, 380967 words/s, in_qsize 19, out_qsize 0\n",
      "2022-04-12 19:50:39,073 : INFO : EPOCH 1 - PROGRESS: at 15.15% examples, 380872 words/s, in_qsize 19, out_qsize 0\n",
      "2022-04-12 19:50:40,093 : INFO : EPOCH 1 - PROGRESS: at 16.29% examples, 380986 words/s, in_qsize 19, out_qsize 0\n",
      "2022-04-12 19:50:41,104 : INFO : EPOCH 1 - PROGRESS: at 17.40% examples, 382738 words/s, in_qsize 19, out_qsize 0\n",
      "2022-04-12 19:50:42,119 : INFO : EPOCH 1 - PROGRESS: at 18.47% examples, 382716 words/s, in_qsize 19, out_qsize 0\n",
      "2022-04-12 19:50:43,169 : INFO : EPOCH 1 - PROGRESS: at 19.52% examples, 383419 words/s, in_qsize 19, out_qsize 0\n",
      "2022-04-12 19:50:44,179 : INFO : EPOCH 1 - PROGRESS: at 20.53% examples, 383398 words/s, in_qsize 19, out_qsize 0\n",
      "2022-04-12 19:50:45,216 : INFO : EPOCH 1 - PROGRESS: at 21.84% examples, 383143 words/s, in_qsize 19, out_qsize 0\n",
      "2022-04-12 19:50:46,241 : INFO : EPOCH 1 - PROGRESS: at 22.93% examples, 384024 words/s, in_qsize 19, out_qsize 0\n",
      "2022-04-12 19:50:47,260 : INFO : EPOCH 1 - PROGRESS: at 23.89% examples, 384204 words/s, in_qsize 19, out_qsize 0\n",
      "2022-04-12 19:50:48,273 : INFO : EPOCH 1 - PROGRESS: at 25.07% examples, 384169 words/s, in_qsize 19, out_qsize 0\n",
      "2022-04-12 19:50:49,278 : INFO : EPOCH 1 - PROGRESS: at 26.53% examples, 384323 words/s, in_qsize 19, out_qsize 0\n",
      "2022-04-12 19:50:50,298 : INFO : EPOCH 1 - PROGRESS: at 27.98% examples, 384241 words/s, in_qsize 19, out_qsize 0\n",
      "2022-04-12 19:50:51,300 : INFO : EPOCH 1 - PROGRESS: at 29.34% examples, 384136 words/s, in_qsize 19, out_qsize 0\n"
     ]
    },
    {
     "name": "stderr",
     "output_type": "stream",
     "text": [
      "2022-04-12 19:50:52,304 : INFO : EPOCH 1 - PROGRESS: at 30.67% examples, 384031 words/s, in_qsize 19, out_qsize 0\n",
      "2022-04-12 19:50:53,326 : INFO : EPOCH 1 - PROGRESS: at 32.05% examples, 383117 words/s, in_qsize 19, out_qsize 0\n",
      "2022-04-12 19:50:54,330 : INFO : EPOCH 1 - PROGRESS: at 33.33% examples, 382251 words/s, in_qsize 19, out_qsize 0\n",
      "2022-04-12 19:50:55,331 : INFO : EPOCH 1 - PROGRESS: at 34.58% examples, 382064 words/s, in_qsize 19, out_qsize 0\n",
      "2022-04-12 19:50:56,388 : INFO : EPOCH 1 - PROGRESS: at 35.97% examples, 382093 words/s, in_qsize 19, out_qsize 0\n",
      "2022-04-12 19:50:57,397 : INFO : EPOCH 1 - PROGRESS: at 37.35% examples, 382433 words/s, in_qsize 19, out_qsize 0\n",
      "2022-04-12 19:50:58,400 : INFO : EPOCH 1 - PROGRESS: at 38.74% examples, 382332 words/s, in_qsize 19, out_qsize 0\n",
      "2022-04-12 19:50:59,402 : INFO : EPOCH 1 - PROGRESS: at 40.21% examples, 383168 words/s, in_qsize 19, out_qsize 0\n",
      "2022-04-12 19:51:00,405 : INFO : EPOCH 1 - PROGRESS: at 41.66% examples, 383119 words/s, in_qsize 19, out_qsize 0\n",
      "2022-04-12 19:51:01,406 : INFO : EPOCH 1 - PROGRESS: at 43.00% examples, 383444 words/s, in_qsize 19, out_qsize 0\n",
      "2022-04-12 19:51:02,420 : INFO : EPOCH 1 - PROGRESS: at 44.49% examples, 383464 words/s, in_qsize 19, out_qsize 0\n",
      "2022-04-12 19:51:03,431 : INFO : EPOCH 1 - PROGRESS: at 45.95% examples, 383885 words/s, in_qsize 19, out_qsize 0\n",
      "2022-04-12 19:51:04,445 : INFO : EPOCH 1 - PROGRESS: at 47.27% examples, 384230 words/s, in_qsize 19, out_qsize 0\n",
      "2022-04-12 19:51:05,448 : INFO : EPOCH 1 - PROGRESS: at 48.60% examples, 383993 words/s, in_qsize 19, out_qsize 0\n",
      "2022-04-12 19:51:06,480 : INFO : EPOCH 1 - PROGRESS: at 50.03% examples, 384145 words/s, in_qsize 19, out_qsize 0\n",
      "2022-04-12 19:51:07,503 : INFO : EPOCH 1 - PROGRESS: at 51.27% examples, 383529 words/s, in_qsize 19, out_qsize 0\n",
      "2022-04-12 19:51:08,531 : INFO : EPOCH 1 - PROGRESS: at 52.64% examples, 384038 words/s, in_qsize 19, out_qsize 0\n",
      "2022-04-12 19:51:09,589 : INFO : EPOCH 1 - PROGRESS: at 53.93% examples, 383977 words/s, in_qsize 19, out_qsize 0\n",
      "2022-04-12 19:51:10,619 : INFO : EPOCH 1 - PROGRESS: at 55.45% examples, 384522 words/s, in_qsize 19, out_qsize 0\n",
      "2022-04-12 19:51:11,624 : INFO : EPOCH 1 - PROGRESS: at 56.74% examples, 384299 words/s, in_qsize 19, out_qsize 0\n",
      "2022-04-12 19:51:12,682 : INFO : EPOCH 1 - PROGRESS: at 58.17% examples, 384547 words/s, in_qsize 19, out_qsize 0\n",
      "2022-04-12 19:51:13,686 : INFO : EPOCH 1 - PROGRESS: at 59.59% examples, 384945 words/s, in_qsize 19, out_qsize 0\n",
      "2022-04-12 19:51:14,693 : INFO : EPOCH 1 - PROGRESS: at 60.95% examples, 385043 words/s, in_qsize 19, out_qsize 0\n",
      "2022-04-12 19:51:15,693 : INFO : EPOCH 1 - PROGRESS: at 62.25% examples, 385156 words/s, in_qsize 19, out_qsize 0\n",
      "2022-04-12 19:51:16,701 : INFO : EPOCH 1 - PROGRESS: at 63.68% examples, 384918 words/s, in_qsize 19, out_qsize 0\n",
      "2022-04-12 19:51:17,705 : INFO : EPOCH 1 - PROGRESS: at 65.15% examples, 385237 words/s, in_qsize 20, out_qsize 0\n",
      "2022-04-12 19:51:18,735 : INFO : EPOCH 1 - PROGRESS: at 66.43% examples, 385317 words/s, in_qsize 19, out_qsize 0\n",
      "2022-04-12 19:51:19,777 : INFO : EPOCH 1 - PROGRESS: at 67.83% examples, 385460 words/s, in_qsize 19, out_qsize 0\n",
      "2022-04-12 19:51:20,782 : INFO : EPOCH 1 - PROGRESS: at 69.13% examples, 385474 words/s, in_qsize 19, out_qsize 0\n",
      "2022-04-12 19:51:21,789 : INFO : EPOCH 1 - PROGRESS: at 70.38% examples, 385743 words/s, in_qsize 19, out_qsize 0\n",
      "2022-04-12 19:51:22,801 : INFO : EPOCH 1 - PROGRESS: at 71.61% examples, 385362 words/s, in_qsize 19, out_qsize 0\n",
      "2022-04-12 19:51:23,802 : INFO : EPOCH 1 - PROGRESS: at 72.94% examples, 385289 words/s, in_qsize 19, out_qsize 0\n",
      "2022-04-12 19:51:24,803 : INFO : EPOCH 1 - PROGRESS: at 74.28% examples, 385219 words/s, in_qsize 19, out_qsize 0\n",
      "2022-04-12 19:51:25,806 : INFO : EPOCH 1 - PROGRESS: at 75.56% examples, 385529 words/s, in_qsize 19, out_qsize 0\n",
      "2022-04-12 19:51:26,821 : INFO : EPOCH 1 - PROGRESS: at 76.72% examples, 385235 words/s, in_qsize 19, out_qsize 0\n",
      "2022-04-12 19:51:27,833 : INFO : EPOCH 1 - PROGRESS: at 77.95% examples, 385317 words/s, in_qsize 19, out_qsize 0\n",
      "2022-04-12 19:51:28,840 : INFO : EPOCH 1 - PROGRESS: at 79.21% examples, 385213 words/s, in_qsize 19, out_qsize 0\n",
      "2022-04-12 19:51:29,876 : INFO : EPOCH 1 - PROGRESS: at 80.51% examples, 385300 words/s, in_qsize 19, out_qsize 0\n",
      "2022-04-12 19:51:30,876 : INFO : EPOCH 1 - PROGRESS: at 81.90% examples, 385788 words/s, in_qsize 19, out_qsize 0\n",
      "2022-04-12 19:51:31,886 : INFO : EPOCH 1 - PROGRESS: at 83.17% examples, 385574 words/s, in_qsize 19, out_qsize 0\n",
      "2022-04-12 19:51:32,913 : INFO : EPOCH 1 - PROGRESS: at 84.39% examples, 385453 words/s, in_qsize 19, out_qsize 0\n",
      "2022-04-12 19:51:33,929 : INFO : EPOCH 1 - PROGRESS: at 85.57% examples, 385175 words/s, in_qsize 19, out_qsize 0\n",
      "2022-04-12 19:51:34,948 : INFO : EPOCH 1 - PROGRESS: at 87.00% examples, 385231 words/s, in_qsize 19, out_qsize 0\n",
      "2022-04-12 19:51:35,978 : INFO : EPOCH 1 - PROGRESS: at 88.43% examples, 385223 words/s, in_qsize 19, out_qsize 0\n",
      "2022-04-12 19:51:36,987 : INFO : EPOCH 1 - PROGRESS: at 89.89% examples, 385553 words/s, in_qsize 19, out_qsize 0\n",
      "2022-04-12 19:51:37,989 : INFO : EPOCH 1 - PROGRESS: at 91.16% examples, 385204 words/s, in_qsize 19, out_qsize 0\n",
      "2022-04-12 19:51:38,995 : INFO : EPOCH 1 - PROGRESS: at 92.44% examples, 384942 words/s, in_qsize 19, out_qsize 0\n",
      "2022-04-12 19:51:40,017 : INFO : EPOCH 1 - PROGRESS: at 93.72% examples, 384877 words/s, in_qsize 19, out_qsize 0\n",
      "2022-04-12 19:51:41,059 : INFO : EPOCH 1 - PROGRESS: at 95.17% examples, 385119 words/s, in_qsize 19, out_qsize 0\n",
      "2022-04-12 19:51:42,063 : INFO : EPOCH 1 - PROGRESS: at 96.51% examples, 385171 words/s, in_qsize 19, out_qsize 0\n",
      "2022-04-12 19:51:43,072 : INFO : EPOCH 1 - PROGRESS: at 97.84% examples, 385155 words/s, in_qsize 19, out_qsize 0\n",
      "2022-04-12 19:51:44,113 : INFO : EPOCH 1 - PROGRESS: at 99.28% examples, 385308 words/s, in_qsize 19, out_qsize 0\n",
      "2022-04-12 19:51:44,456 : INFO : worker thread finished; awaiting finish of 9 more threads\n",
      "2022-04-12 19:51:44,496 : INFO : worker thread finished; awaiting finish of 8 more threads\n",
      "2022-04-12 19:51:44,517 : INFO : worker thread finished; awaiting finish of 7 more threads\n",
      "2022-04-12 19:51:44,525 : INFO : worker thread finished; awaiting finish of 6 more threads\n",
      "2022-04-12 19:51:44,553 : INFO : worker thread finished; awaiting finish of 5 more threads\n",
      "2022-04-12 19:51:44,555 : INFO : worker thread finished; awaiting finish of 4 more threads\n",
      "2022-04-12 19:51:44,573 : INFO : worker thread finished; awaiting finish of 3 more threads\n",
      "2022-04-12 19:51:44,574 : INFO : worker thread finished; awaiting finish of 2 more threads\n",
      "2022-04-12 19:51:44,575 : INFO : worker thread finished; awaiting finish of 1 more threads\n",
      "2022-04-12 19:51:44,577 : INFO : worker thread finished; awaiting finish of 0 more threads\n",
      "2022-04-12 19:51:44,578 : INFO : EPOCH - 1 : training on 41519358 raw words (30348488 effective words) took 78.7s, 385628 effective words/s\n",
      "2022-04-12 19:51:45,601 : INFO : EPOCH 2 - PROGRESS: at 1.11% examples, 355602 words/s, in_qsize 19, out_qsize 0\n",
      "2022-04-12 19:51:46,651 : INFO : EPOCH 2 - PROGRESS: at 2.32% examples, 355738 words/s, in_qsize 19, out_qsize 0\n",
      "2022-04-12 19:51:47,663 : INFO : EPOCH 2 - PROGRESS: at 3.68% examples, 369984 words/s, in_qsize 19, out_qsize 0\n",
      "2022-04-12 19:51:48,676 : INFO : EPOCH 2 - PROGRESS: at 4.97% examples, 374011 words/s, in_qsize 19, out_qsize 0\n",
      "2022-04-12 19:51:49,704 : INFO : EPOCH 2 - PROGRESS: at 6.30% examples, 380210 words/s, in_qsize 19, out_qsize 0\n",
      "2022-04-12 19:51:50,725 : INFO : EPOCH 2 - PROGRESS: at 7.59% examples, 382653 words/s, in_qsize 19, out_qsize 0\n",
      "2022-04-12 19:51:51,728 : INFO : EPOCH 2 - PROGRESS: at 8.86% examples, 385204 words/s, in_qsize 19, out_qsize 0\n",
      "2022-04-12 19:51:52,750 : INFO : EPOCH 2 - PROGRESS: at 9.88% examples, 384487 words/s, in_qsize 19, out_qsize 0\n",
      "2022-04-12 19:51:53,787 : INFO : EPOCH 2 - PROGRESS: at 10.99% examples, 384938 words/s, in_qsize 19, out_qsize 0\n",
      "2022-04-12 19:51:54,802 : INFO : EPOCH 2 - PROGRESS: at 12.01% examples, 385335 words/s, in_qsize 19, out_qsize 0\n",
      "2022-04-12 19:51:55,851 : INFO : EPOCH 2 - PROGRESS: at 13.22% examples, 385896 words/s, in_qsize 19, out_qsize 0\n"
     ]
    },
    {
     "name": "stderr",
     "output_type": "stream",
     "text": [
      "2022-04-12 19:51:56,854 : INFO : EPOCH 2 - PROGRESS: at 14.36% examples, 387151 words/s, in_qsize 19, out_qsize 0\n",
      "2022-04-12 19:51:57,868 : INFO : EPOCH 2 - PROGRESS: at 15.56% examples, 387519 words/s, in_qsize 19, out_qsize 0\n",
      "2022-04-12 19:51:58,903 : INFO : EPOCH 2 - PROGRESS: at 16.72% examples, 389139 words/s, in_qsize 19, out_qsize 0\n",
      "2022-04-12 19:51:59,908 : INFO : EPOCH 2 - PROGRESS: at 17.77% examples, 389550 words/s, in_qsize 19, out_qsize 0\n",
      "2022-04-12 19:52:00,937 : INFO : EPOCH 2 - PROGRESS: at 18.90% examples, 389527 words/s, in_qsize 18, out_qsize 1\n",
      "2022-04-12 19:52:01,983 : INFO : EPOCH 2 - PROGRESS: at 19.95% examples, 390001 words/s, in_qsize 19, out_qsize 0\n",
      "2022-04-12 19:52:03,031 : INFO : EPOCH 2 - PROGRESS: at 20.94% examples, 389619 words/s, in_qsize 19, out_qsize 0\n",
      "2022-04-12 19:52:04,033 : INFO : EPOCH 2 - PROGRESS: at 22.29% examples, 389709 words/s, in_qsize 19, out_qsize 0\n",
      "2022-04-12 19:52:05,036 : INFO : EPOCH 2 - PROGRESS: at 23.31% examples, 389989 words/s, in_qsize 19, out_qsize 0\n",
      "2022-04-12 19:52:06,045 : INFO : EPOCH 2 - PROGRESS: at 24.36% examples, 390687 words/s, in_qsize 19, out_qsize 0\n",
      "2022-04-12 19:52:07,057 : INFO : EPOCH 2 - PROGRESS: at 25.70% examples, 390402 words/s, in_qsize 19, out_qsize 0\n",
      "2022-04-12 19:52:08,060 : INFO : EPOCH 2 - PROGRESS: at 27.22% examples, 391005 words/s, in_qsize 19, out_qsize 0\n",
      "2022-04-12 19:52:09,076 : INFO : EPOCH 2 - PROGRESS: at 28.71% examples, 391577 words/s, in_qsize 19, out_qsize 0\n",
      "2022-04-12 19:52:10,089 : INFO : EPOCH 2 - PROGRESS: at 30.14% examples, 392108 words/s, in_qsize 19, out_qsize 0\n",
      "2022-04-12 19:52:11,124 : INFO : EPOCH 2 - PROGRESS: at 31.65% examples, 391518 words/s, in_qsize 19, out_qsize 0\n",
      "2022-04-12 19:52:12,128 : INFO : EPOCH 2 - PROGRESS: at 33.05% examples, 391881 words/s, in_qsize 19, out_qsize 0\n",
      "2022-04-12 19:52:13,150 : INFO : EPOCH 2 - PROGRESS: at 34.35% examples, 391567 words/s, in_qsize 19, out_qsize 0\n",
      "2022-04-12 19:52:14,160 : INFO : EPOCH 2 - PROGRESS: at 35.72% examples, 391624 words/s, in_qsize 19, out_qsize 0\n",
      "2022-04-12 19:52:15,171 : INFO : EPOCH 2 - PROGRESS: at 37.01% examples, 390687 words/s, in_qsize 19, out_qsize 0\n",
      "2022-04-12 19:52:16,186 : INFO : EPOCH 2 - PROGRESS: at 38.34% examples, 389944 words/s, in_qsize 19, out_qsize 0\n",
      "2022-04-12 19:52:17,200 : INFO : EPOCH 2 - PROGRESS: at 39.73% examples, 390008 words/s, in_qsize 19, out_qsize 0\n",
      "2022-04-12 19:52:18,211 : INFO : EPOCH 2 - PROGRESS: at 41.19% examples, 389875 words/s, in_qsize 19, out_qsize 0\n",
      "2022-04-12 19:52:19,222 : INFO : EPOCH 2 - PROGRESS: at 42.64% examples, 390323 words/s, in_qsize 19, out_qsize 0\n",
      "2022-04-12 19:52:20,244 : INFO : EPOCH 2 - PROGRESS: at 44.12% examples, 390282 words/s, in_qsize 19, out_qsize 0\n",
      "2022-04-12 19:52:21,262 : INFO : EPOCH 2 - PROGRESS: at 45.62% examples, 390439 words/s, in_qsize 19, out_qsize 0\n",
      "2022-04-12 19:52:22,273 : INFO : EPOCH 2 - PROGRESS: at 46.93% examples, 390467 words/s, in_qsize 19, out_qsize 0\n",
      "2022-04-12 19:52:23,293 : INFO : EPOCH 2 - PROGRESS: at 48.31% examples, 390430 words/s, in_qsize 19, out_qsize 0\n",
      "2022-04-12 19:52:24,334 : INFO : EPOCH 2 - PROGRESS: at 49.78% examples, 390702 words/s, in_qsize 19, out_qsize 0\n",
      "2022-04-12 19:52:25,340 : INFO : EPOCH 2 - PROGRESS: at 51.10% examples, 390430 words/s, in_qsize 19, out_qsize 0\n",
      "2022-04-12 19:52:26,368 : INFO : EPOCH 2 - PROGRESS: at 52.47% examples, 390600 words/s, in_qsize 19, out_qsize 0\n",
      "2022-04-12 19:52:27,400 : INFO : EPOCH 2 - PROGRESS: at 53.68% examples, 390275 words/s, in_qsize 19, out_qsize 0\n",
      "2022-04-12 19:52:28,429 : INFO : EPOCH 2 - PROGRESS: at 55.13% examples, 390548 words/s, in_qsize 19, out_qsize 0\n",
      "2022-04-12 19:52:29,444 : INFO : EPOCH 2 - PROGRESS: at 56.54% examples, 390554 words/s, in_qsize 19, out_qsize 0\n",
      "2022-04-12 19:52:30,457 : INFO : EPOCH 2 - PROGRESS: at 57.91% examples, 390593 words/s, in_qsize 19, out_qsize 0\n",
      "2022-04-12 19:52:31,493 : INFO : EPOCH 2 - PROGRESS: at 59.28% examples, 390439 words/s, in_qsize 19, out_qsize 0\n",
      "2022-04-12 19:52:32,503 : INFO : EPOCH 2 - PROGRESS: at 60.53% examples, 389799 words/s, in_qsize 19, out_qsize 0\n",
      "2022-04-12 19:52:33,527 : INFO : EPOCH 2 - PROGRESS: at 61.78% examples, 389185 words/s, in_qsize 19, out_qsize 0\n",
      "2022-04-12 19:52:34,535 : INFO : EPOCH 2 - PROGRESS: at 63.21% examples, 389295 words/s, in_qsize 19, out_qsize 0\n",
      "2022-04-12 19:52:35,557 : INFO : EPOCH 2 - PROGRESS: at 64.77% examples, 389256 words/s, in_qsize 19, out_qsize 0\n",
      "2022-04-12 19:52:36,569 : INFO : EPOCH 2 - PROGRESS: at 66.01% examples, 389410 words/s, in_qsize 19, out_qsize 0\n",
      "2022-04-12 19:52:37,587 : INFO : EPOCH 2 - PROGRESS: at 67.34% examples, 389222 words/s, in_qsize 19, out_qsize 0\n",
      "2022-04-12 19:52:38,605 : INFO : EPOCH 2 - PROGRESS: at 68.69% examples, 389353 words/s, in_qsize 19, out_qsize 0\n",
      "2022-04-12 19:52:39,614 : INFO : EPOCH 2 - PROGRESS: at 69.92% examples, 389127 words/s, in_qsize 19, out_qsize 0\n",
      "2022-04-12 19:52:40,622 : INFO : EPOCH 2 - PROGRESS: at 71.13% examples, 389092 words/s, in_qsize 19, out_qsize 0\n",
      "2022-04-12 19:52:41,651 : INFO : EPOCH 2 - PROGRESS: at 72.44% examples, 388651 words/s, in_qsize 19, out_qsize 0\n",
      "2022-04-12 19:52:42,652 : INFO : EPOCH 2 - PROGRESS: at 73.90% examples, 388761 words/s, in_qsize 19, out_qsize 0\n",
      "2022-04-12 19:52:43,670 : INFO : EPOCH 2 - PROGRESS: at 75.10% examples, 388513 words/s, in_qsize 19, out_qsize 0\n",
      "2022-04-12 19:52:44,719 : INFO : EPOCH 2 - PROGRESS: at 76.32% examples, 388341 words/s, in_qsize 19, out_qsize 0\n",
      "2022-04-12 19:52:45,730 : INFO : EPOCH 2 - PROGRESS: at 77.58% examples, 388381 words/s, in_qsize 19, out_qsize 0\n",
      "2022-04-12 19:52:46,760 : INFO : EPOCH 2 - PROGRESS: at 78.82% examples, 388198 words/s, in_qsize 19, out_qsize 0\n",
      "2022-04-12 19:52:47,762 : INFO : EPOCH 2 - PROGRESS: at 80.16% examples, 388552 words/s, in_qsize 19, out_qsize 0\n",
      "2022-04-12 19:52:48,765 : INFO : EPOCH 2 - PROGRESS: at 81.39% examples, 388415 words/s, in_qsize 19, out_qsize 0\n",
      "2022-04-12 19:52:49,791 : INFO : EPOCH 2 - PROGRESS: at 82.73% examples, 388275 words/s, in_qsize 19, out_qsize 0\n",
      "2022-04-12 19:52:50,799 : INFO : EPOCH 2 - PROGRESS: at 84.02% examples, 388350 words/s, in_qsize 19, out_qsize 0\n",
      "2022-04-12 19:52:51,808 : INFO : EPOCH 2 - PROGRESS: at 85.22% examples, 388280 words/s, in_qsize 19, out_qsize 0\n",
      "2022-04-12 19:52:52,822 : INFO : EPOCH 2 - PROGRESS: at 86.61% examples, 388308 words/s, in_qsize 19, out_qsize 0\n",
      "2022-04-12 19:52:53,850 : INFO : EPOCH 2 - PROGRESS: at 88.05% examples, 388267 words/s, in_qsize 19, out_qsize 0\n",
      "2022-04-12 19:52:54,863 : INFO : EPOCH 2 - PROGRESS: at 89.38% examples, 388018 words/s, in_qsize 19, out_qsize 0\n",
      "2022-04-12 19:52:55,867 : INFO : EPOCH 2 - PROGRESS: at 90.78% examples, 388137 words/s, in_qsize 19, out_qsize 0\n",
      "2022-04-12 19:52:56,906 : INFO : EPOCH 2 - PROGRESS: at 92.16% examples, 387949 words/s, in_qsize 19, out_qsize 0\n",
      "2022-04-12 19:52:57,906 : INFO : EPOCH 2 - PROGRESS: at 93.36% examples, 387864 words/s, in_qsize 19, out_qsize 0\n",
      "2022-04-12 19:52:58,913 : INFO : EPOCH 2 - PROGRESS: at 94.76% examples, 387967 words/s, in_qsize 19, out_qsize 0\n",
      "2022-04-12 19:52:59,932 : INFO : EPOCH 2 - PROGRESS: at 96.05% examples, 387702 words/s, in_qsize 19, out_qsize 0\n",
      "2022-04-12 19:53:00,951 : INFO : EPOCH 2 - PROGRESS: at 97.39% examples, 387514 words/s, in_qsize 19, out_qsize 0\n",
      "2022-04-12 19:53:01,954 : INFO : EPOCH 2 - PROGRESS: at 98.66% examples, 387330 words/s, in_qsize 19, out_qsize 0\n",
      "2022-04-12 19:53:02,790 : INFO : worker thread finished; awaiting finish of 9 more threads\n",
      "2022-04-12 19:53:02,818 : INFO : worker thread finished; awaiting finish of 8 more threads\n",
      "2022-04-12 19:53:02,832 : INFO : worker thread finished; awaiting finish of 7 more threads\n",
      "2022-04-12 19:53:02,838 : INFO : worker thread finished; awaiting finish of 6 more threads\n",
      "2022-04-12 19:53:02,847 : INFO : worker thread finished; awaiting finish of 5 more threads\n",
      "2022-04-12 19:53:02,873 : INFO : worker thread finished; awaiting finish of 4 more threads\n",
      "2022-04-12 19:53:02,898 : INFO : worker thread finished; awaiting finish of 3 more threads\n",
      "2022-04-12 19:53:02,912 : INFO : worker thread finished; awaiting finish of 2 more threads\n",
      "2022-04-12 19:53:02,914 : INFO : worker thread finished; awaiting finish of 1 more threads\n"
     ]
    },
    {
     "name": "stderr",
     "output_type": "stream",
     "text": [
      "2022-04-12 19:53:02,922 : INFO : worker thread finished; awaiting finish of 0 more threads\n",
      "2022-04-12 19:53:02,922 : INFO : EPOCH - 2 : training on 41519358 raw words (30347054 effective words) took 78.3s, 387379 effective words/s\n",
      "2022-04-12 19:53:04,006 : INFO : EPOCH 3 - PROGRESS: at 1.14% examples, 341825 words/s, in_qsize 19, out_qsize 0\n",
      "2022-04-12 19:53:05,039 : INFO : EPOCH 3 - PROGRESS: at 2.46% examples, 369125 words/s, in_qsize 19, out_qsize 0\n",
      "2022-04-12 19:53:06,043 : INFO : EPOCH 3 - PROGRESS: at 3.73% examples, 370452 words/s, in_qsize 19, out_qsize 0\n",
      "2022-04-12 19:53:07,055 : INFO : EPOCH 3 - PROGRESS: at 5.03% examples, 375888 words/s, in_qsize 19, out_qsize 0\n",
      "2022-04-12 19:53:08,059 : INFO : EPOCH 3 - PROGRESS: at 6.28% examples, 377945 words/s, in_qsize 19, out_qsize 0\n",
      "2022-04-12 19:53:09,077 : INFO : EPOCH 3 - PROGRESS: at 7.54% examples, 378561 words/s, in_qsize 19, out_qsize 0\n",
      "2022-04-12 19:53:10,092 : INFO : EPOCH 3 - PROGRESS: at 8.81% examples, 381086 words/s, in_qsize 19, out_qsize 0\n",
      "2022-04-12 19:53:11,155 : INFO : EPOCH 3 - PROGRESS: at 9.81% examples, 378178 words/s, in_qsize 19, out_qsize 0\n",
      "2022-04-12 19:53:12,156 : INFO : EPOCH 3 - PROGRESS: at 10.95% examples, 382413 words/s, in_qsize 19, out_qsize 0\n",
      "2022-04-12 19:53:13,164 : INFO : EPOCH 3 - PROGRESS: at 11.90% examples, 380568 words/s, in_qsize 19, out_qsize 0\n",
      "2022-04-12 19:53:14,191 : INFO : EPOCH 3 - PROGRESS: at 13.05% examples, 382329 words/s, in_qsize 19, out_qsize 0\n",
      "2022-04-12 19:53:15,197 : INFO : EPOCH 3 - PROGRESS: at 14.12% examples, 380300 words/s, in_qsize 19, out_qsize 0\n",
      "2022-04-12 19:53:16,199 : INFO : EPOCH 3 - PROGRESS: at 15.29% examples, 381988 words/s, in_qsize 19, out_qsize 0\n",
      "2022-04-12 19:53:17,226 : INFO : EPOCH 3 - PROGRESS: at 16.39% examples, 381279 words/s, in_qsize 19, out_qsize 0\n",
      "2022-04-12 19:53:18,233 : INFO : EPOCH 3 - PROGRESS: at 17.40% examples, 380750 words/s, in_qsize 19, out_qsize 0\n",
      "2022-04-12 19:53:19,238 : INFO : EPOCH 3 - PROGRESS: at 18.50% examples, 381503 words/s, in_qsize 19, out_qsize 0\n",
      "2022-04-12 19:53:20,260 : INFO : EPOCH 3 - PROGRESS: at 19.50% examples, 382097 words/s, in_qsize 19, out_qsize 0\n",
      "2022-04-12 19:53:21,281 : INFO : EPOCH 3 - PROGRESS: at 20.51% examples, 381900 words/s, in_qsize 19, out_qsize 0\n",
      "2022-04-12 19:53:22,294 : INFO : EPOCH 3 - PROGRESS: at 21.85% examples, 382938 words/s, in_qsize 19, out_qsize 0\n",
      "2022-04-12 19:53:23,312 : INFO : EPOCH 3 - PROGRESS: at 22.83% examples, 381506 words/s, in_qsize 19, out_qsize 0\n",
      "2022-04-12 19:53:24,321 : INFO : EPOCH 3 - PROGRESS: at 23.66% examples, 379324 words/s, in_qsize 19, out_qsize 0\n",
      "2022-04-12 19:53:25,323 : INFO : EPOCH 3 - PROGRESS: at 24.62% examples, 379036 words/s, in_qsize 19, out_qsize 0\n",
      "2022-04-12 19:53:26,328 : INFO : EPOCH 3 - PROGRESS: at 26.00% examples, 378774 words/s, in_qsize 19, out_qsize 0\n",
      "2022-04-12 19:53:27,331 : INFO : EPOCH 3 - PROGRESS: at 27.49% examples, 379186 words/s, in_qsize 19, out_qsize 0\n",
      "2022-04-12 19:53:28,347 : INFO : EPOCH 3 - PROGRESS: at 28.90% examples, 379359 words/s, in_qsize 19, out_qsize 0\n",
      "2022-04-12 19:53:29,359 : INFO : EPOCH 3 - PROGRESS: at 30.21% examples, 379269 words/s, in_qsize 19, out_qsize 0\n",
      "2022-04-12 19:53:30,375 : INFO : EPOCH 3 - PROGRESS: at 31.79% examples, 379987 words/s, in_qsize 19, out_qsize 0\n",
      "2022-04-12 19:53:31,377 : INFO : EPOCH 3 - PROGRESS: at 33.09% examples, 379992 words/s, in_qsize 19, out_qsize 0\n",
      "2022-04-12 19:53:32,381 : INFO : EPOCH 3 - PROGRESS: at 34.45% examples, 380576 words/s, in_qsize 19, out_qsize 0\n",
      "2022-04-12 19:53:33,404 : INFO : EPOCH 3 - PROGRESS: at 35.76% examples, 380592 words/s, in_qsize 19, out_qsize 0\n",
      "2022-04-12 19:53:34,425 : INFO : EPOCH 3 - PROGRESS: at 37.18% examples, 381288 words/s, in_qsize 19, out_qsize 0\n",
      "2022-04-12 19:53:35,444 : INFO : EPOCH 3 - PROGRESS: at 38.54% examples, 380823 words/s, in_qsize 19, out_qsize 0\n",
      "2022-04-12 19:53:36,467 : INFO : EPOCH 3 - PROGRESS: at 39.92% examples, 380830 words/s, in_qsize 19, out_qsize 0\n",
      "2022-04-12 19:53:37,468 : INFO : EPOCH 3 - PROGRESS: at 41.40% examples, 381079 words/s, in_qsize 19, out_qsize 0\n",
      "2022-04-12 19:53:38,492 : INFO : EPOCH 3 - PROGRESS: at 42.70% examples, 380811 words/s, in_qsize 19, out_qsize 0\n",
      "2022-04-12 19:53:39,517 : INFO : EPOCH 3 - PROGRESS: at 44.29% examples, 381594 words/s, in_qsize 19, out_qsize 0\n",
      "2022-04-12 19:53:40,529 : INFO : EPOCH 3 - PROGRESS: at 45.74% examples, 381862 words/s, in_qsize 19, out_qsize 0\n",
      "2022-04-12 19:53:41,564 : INFO : EPOCH 3 - PROGRESS: at 47.08% examples, 382067 words/s, in_qsize 19, out_qsize 0\n",
      "2022-04-12 19:53:42,575 : INFO : EPOCH 3 - PROGRESS: at 48.52% examples, 382701 words/s, in_qsize 19, out_qsize 0\n",
      "2022-04-12 19:53:43,577 : INFO : EPOCH 3 - PROGRESS: at 49.88% examples, 382832 words/s, in_qsize 19, out_qsize 0\n",
      "2022-04-12 19:53:44,593 : INFO : EPOCH 3 - PROGRESS: at 51.27% examples, 383162 words/s, in_qsize 19, out_qsize 0\n",
      "2022-04-12 19:53:45,620 : INFO : EPOCH 3 - PROGRESS: at 52.58% examples, 383196 words/s, in_qsize 19, out_qsize 0\n",
      "2022-04-12 19:53:46,625 : INFO : EPOCH 3 - PROGRESS: at 53.85% examples, 383608 words/s, in_qsize 19, out_qsize 0\n",
      "2022-04-12 19:53:47,658 : INFO : EPOCH 3 - PROGRESS: at 55.23% examples, 383322 words/s, in_qsize 19, out_qsize 0\n",
      "2022-04-12 19:53:48,659 : INFO : EPOCH 3 - PROGRESS: at 56.65% examples, 383784 words/s, in_qsize 19, out_qsize 0\n",
      "2022-04-12 19:53:49,693 : INFO : EPOCH 3 - PROGRESS: at 57.99% examples, 383789 words/s, in_qsize 19, out_qsize 0\n",
      "2022-04-12 19:53:50,707 : INFO : EPOCH 3 - PROGRESS: at 59.35% examples, 383822 words/s, in_qsize 19, out_qsize 0\n",
      "2022-04-12 19:53:51,713 : INFO : EPOCH 3 - PROGRESS: at 60.75% examples, 384106 words/s, in_qsize 19, out_qsize 0\n",
      "2022-04-12 19:53:52,724 : INFO : EPOCH 3 - PROGRESS: at 62.05% examples, 384155 words/s, in_qsize 19, out_qsize 0\n",
      "2022-04-12 19:53:53,767 : INFO : EPOCH 3 - PROGRESS: at 63.55% examples, 384234 words/s, in_qsize 19, out_qsize 0\n",
      "2022-04-12 19:53:54,776 : INFO : EPOCH 3 - PROGRESS: at 65.05% examples, 384369 words/s, in_qsize 19, out_qsize 0\n",
      "2022-04-12 19:53:55,805 : INFO : EPOCH 3 - PROGRESS: at 66.31% examples, 384497 words/s, in_qsize 19, out_qsize 0\n",
      "2022-04-12 19:53:56,809 : INFO : EPOCH 3 - PROGRESS: at 67.68% examples, 384790 words/s, in_qsize 19, out_qsize 0\n",
      "2022-04-12 19:53:57,880 : INFO : EPOCH 3 - PROGRESS: at 69.07% examples, 384879 words/s, in_qsize 19, out_qsize 0\n",
      "2022-04-12 19:53:58,881 : INFO : EPOCH 3 - PROGRESS: at 70.27% examples, 384932 words/s, in_qsize 19, out_qsize 0\n",
      "2022-04-12 19:53:59,888 : INFO : EPOCH 3 - PROGRESS: at 71.63% examples, 385235 words/s, in_qsize 19, out_qsize 0\n",
      "2022-04-12 19:54:00,940 : INFO : EPOCH 3 - PROGRESS: at 72.81% examples, 384084 words/s, in_qsize 19, out_qsize 0\n",
      "2022-04-12 19:54:01,969 : INFO : EPOCH 3 - PROGRESS: at 74.13% examples, 383603 words/s, in_qsize 19, out_qsize 0\n",
      "2022-04-12 19:54:02,998 : INFO : EPOCH 3 - PROGRESS: at 75.26% examples, 382906 words/s, in_qsize 19, out_qsize 0\n",
      "2022-04-12 19:54:04,001 : INFO : EPOCH 3 - PROGRESS: at 76.36% examples, 382630 words/s, in_qsize 18, out_qsize 1\n",
      "2022-04-12 19:54:05,039 : INFO : EPOCH 3 - PROGRESS: at 77.63% examples, 382719 words/s, in_qsize 19, out_qsize 0\n",
      "2022-04-12 19:54:06,060 : INFO : EPOCH 3 - PROGRESS: at 78.95% examples, 383029 words/s, in_qsize 19, out_qsize 0\n",
      "2022-04-12 19:54:07,079 : INFO : EPOCH 3 - PROGRESS: at 80.21% examples, 382912 words/s, in_qsize 19, out_qsize 0\n",
      "2022-04-12 19:54:08,132 : INFO : EPOCH 3 - PROGRESS: at 81.48% examples, 382793 words/s, in_qsize 19, out_qsize 0\n",
      "2022-04-12 19:54:09,137 : INFO : EPOCH 3 - PROGRESS: at 82.86% examples, 382965 words/s, in_qsize 19, out_qsize 0\n",
      "2022-04-12 19:54:10,141 : INFO : EPOCH 3 - PROGRESS: at 84.15% examples, 383134 words/s, in_qsize 19, out_qsize 0\n",
      "2022-04-12 19:54:11,144 : INFO : EPOCH 3 - PROGRESS: at 85.41% examples, 383582 words/s, in_qsize 19, out_qsize 0\n",
      "2022-04-12 19:54:12,146 : INFO : EPOCH 3 - PROGRESS: at 86.78% examples, 383549 words/s, in_qsize 19, out_qsize 0\n",
      "2022-04-12 19:54:13,181 : INFO : EPOCH 3 - PROGRESS: at 88.22% examples, 383550 words/s, in_qsize 19, out_qsize 0\n",
      "2022-04-12 19:54:14,188 : INFO : EPOCH 3 - PROGRESS: at 89.70% examples, 384023 words/s, in_qsize 19, out_qsize 0\n"
     ]
    },
    {
     "name": "stderr",
     "output_type": "stream",
     "text": [
      "2022-04-12 19:54:15,201 : INFO : EPOCH 3 - PROGRESS: at 91.11% examples, 384135 words/s, in_qsize 19, out_qsize 0\n",
      "2022-04-12 19:54:16,204 : INFO : EPOCH 3 - PROGRESS: at 92.49% examples, 384300 words/s, in_qsize 19, out_qsize 0\n",
      "2022-04-12 19:54:17,205 : INFO : EPOCH 3 - PROGRESS: at 93.77% examples, 384351 words/s, in_qsize 19, out_qsize 0\n",
      "2022-04-12 19:54:18,221 : INFO : EPOCH 3 - PROGRESS: at 95.11% examples, 384341 words/s, in_qsize 19, out_qsize 0\n",
      "2022-04-12 19:54:19,248 : INFO : EPOCH 3 - PROGRESS: at 96.46% examples, 384293 words/s, in_qsize 19, out_qsize 0\n",
      "2022-04-12 19:54:20,251 : INFO : EPOCH 3 - PROGRESS: at 97.78% examples, 384315 words/s, in_qsize 19, out_qsize 0\n",
      "2022-04-12 19:54:21,253 : INFO : EPOCH 3 - PROGRESS: at 99.20% examples, 384576 words/s, in_qsize 19, out_qsize 0\n",
      "2022-04-12 19:54:21,627 : INFO : worker thread finished; awaiting finish of 9 more threads\n",
      "2022-04-12 19:54:21,654 : INFO : worker thread finished; awaiting finish of 8 more threads\n",
      "2022-04-12 19:54:21,679 : INFO : worker thread finished; awaiting finish of 7 more threads\n",
      "2022-04-12 19:54:21,702 : INFO : worker thread finished; awaiting finish of 6 more threads\n",
      "2022-04-12 19:54:21,708 : INFO : worker thread finished; awaiting finish of 5 more threads\n",
      "2022-04-12 19:54:21,729 : INFO : worker thread finished; awaiting finish of 4 more threads\n",
      "2022-04-12 19:54:21,734 : INFO : worker thread finished; awaiting finish of 3 more threads\n",
      "2022-04-12 19:54:21,761 : INFO : worker thread finished; awaiting finish of 2 more threads\n",
      "2022-04-12 19:54:21,767 : INFO : worker thread finished; awaiting finish of 1 more threads\n",
      "2022-04-12 19:54:21,768 : INFO : worker thread finished; awaiting finish of 0 more threads\n",
      "2022-04-12 19:54:21,768 : INFO : EPOCH - 3 : training on 41519358 raw words (30348623 effective words) took 78.8s, 384934 effective words/s\n",
      "2022-04-12 19:54:22,871 : INFO : EPOCH 4 - PROGRESS: at 1.14% examples, 336006 words/s, in_qsize 19, out_qsize 0\n",
      "2022-04-12 19:54:23,945 : INFO : EPOCH 4 - PROGRESS: at 2.54% examples, 368908 words/s, in_qsize 19, out_qsize 0\n",
      "2022-04-12 19:54:24,959 : INFO : EPOCH 4 - PROGRESS: at 3.86% examples, 376088 words/s, in_qsize 19, out_qsize 0\n",
      "2022-04-12 19:54:25,971 : INFO : EPOCH 4 - PROGRESS: at 5.13% examples, 376610 words/s, in_qsize 19, out_qsize 0\n",
      "2022-04-12 19:54:26,979 : INFO : EPOCH 4 - PROGRESS: at 6.45% examples, 382225 words/s, in_qsize 19, out_qsize 0\n",
      "2022-04-12 19:54:27,986 : INFO : EPOCH 4 - PROGRESS: at 7.68% examples, 382788 words/s, in_qsize 19, out_qsize 0\n",
      "2022-04-12 19:54:28,992 : INFO : EPOCH 4 - PROGRESS: at 8.95% examples, 386232 words/s, in_qsize 19, out_qsize 0\n",
      "2022-04-12 19:54:30,067 : INFO : EPOCH 4 - PROGRESS: at 10.09% examples, 387205 words/s, in_qsize 19, out_qsize 0\n",
      "2022-04-12 19:54:31,067 : INFO : EPOCH 4 - PROGRESS: at 11.17% examples, 388824 words/s, in_qsize 18, out_qsize 1\n",
      "2022-04-12 19:54:32,078 : INFO : EPOCH 4 - PROGRESS: at 12.08% examples, 384837 words/s, in_qsize 19, out_qsize 0\n",
      "2022-04-12 19:54:33,081 : INFO : EPOCH 4 - PROGRESS: at 13.17% examples, 383244 words/s, in_qsize 19, out_qsize 0\n",
      "2022-04-12 19:54:34,089 : INFO : EPOCH 4 - PROGRESS: at 14.30% examples, 383936 words/s, in_qsize 19, out_qsize 0\n",
      "2022-04-12 19:54:35,107 : INFO : EPOCH 4 - PROGRESS: at 15.47% examples, 383898 words/s, in_qsize 19, out_qsize 0\n",
      "2022-04-12 19:54:36,115 : INFO : EPOCH 4 - PROGRESS: at 16.54% examples, 384100 words/s, in_qsize 19, out_qsize 0\n",
      "2022-04-12 19:54:37,119 : INFO : EPOCH 4 - PROGRESS: at 17.63% examples, 385297 words/s, in_qsize 19, out_qsize 0\n",
      "2022-04-12 19:54:38,121 : INFO : EPOCH 4 - PROGRESS: at 18.73% examples, 385809 words/s, in_qsize 19, out_qsize 0\n",
      "2022-04-12 19:54:39,150 : INFO : EPOCH 4 - PROGRESS: at 19.73% examples, 385993 words/s, in_qsize 19, out_qsize 0\n",
      "2022-04-12 19:54:40,181 : INFO : EPOCH 4 - PROGRESS: at 20.70% examples, 385441 words/s, in_qsize 19, out_qsize 0\n",
      "2022-04-12 19:54:41,193 : INFO : EPOCH 4 - PROGRESS: at 22.06% examples, 385935 words/s, in_qsize 19, out_qsize 0\n",
      "2022-04-12 19:54:42,213 : INFO : EPOCH 4 - PROGRESS: at 23.08% examples, 386044 words/s, in_qsize 19, out_qsize 0\n",
      "2022-04-12 19:54:43,238 : INFO : EPOCH 4 - PROGRESS: at 24.13% examples, 386683 words/s, in_qsize 19, out_qsize 0\n",
      "2022-04-12 19:54:44,248 : INFO : EPOCH 4 - PROGRESS: at 25.47% examples, 387565 words/s, in_qsize 19, out_qsize 0\n",
      "2022-04-12 19:54:45,250 : INFO : EPOCH 4 - PROGRESS: at 26.93% examples, 387968 words/s, in_qsize 19, out_qsize 0\n",
      "2022-04-12 19:54:46,262 : INFO : EPOCH 4 - PROGRESS: at 28.46% examples, 388762 words/s, in_qsize 19, out_qsize 0\n",
      "2022-04-12 19:54:47,264 : INFO : EPOCH 4 - PROGRESS: at 29.92% examples, 389582 words/s, in_qsize 19, out_qsize 0\n",
      "2022-04-12 19:54:48,283 : INFO : EPOCH 4 - PROGRESS: at 31.37% examples, 389346 words/s, in_qsize 19, out_qsize 0\n",
      "2022-04-12 19:54:49,293 : INFO : EPOCH 4 - PROGRESS: at 32.78% examples, 389437 words/s, in_qsize 19, out_qsize 0\n",
      "2022-04-12 19:54:50,301 : INFO : EPOCH 4 - PROGRESS: at 34.10% examples, 389865 words/s, in_qsize 19, out_qsize 0\n",
      "2022-04-12 19:54:51,311 : INFO : EPOCH 4 - PROGRESS: at 35.48% examples, 389999 words/s, in_qsize 19, out_qsize 0\n",
      "2022-04-12 19:54:52,322 : INFO : EPOCH 4 - PROGRESS: at 36.91% examples, 390298 words/s, in_qsize 19, out_qsize 0\n",
      "2022-04-12 19:54:53,362 : INFO : EPOCH 4 - PROGRESS: at 38.44% examples, 390864 words/s, in_qsize 19, out_qsize 0\n",
      "2022-04-12 19:54:54,372 : INFO : EPOCH 4 - PROGRESS: at 39.79% examples, 390932 words/s, in_qsize 19, out_qsize 0\n",
      "2022-04-12 19:54:55,381 : INFO : EPOCH 4 - PROGRESS: at 41.36% examples, 391454 words/s, in_qsize 19, out_qsize 0\n",
      "2022-04-12 19:54:56,403 : INFO : EPOCH 4 - PROGRESS: at 42.76% examples, 391523 words/s, in_qsize 19, out_qsize 0\n",
      "2022-04-12 19:54:57,414 : INFO : EPOCH 4 - PROGRESS: at 44.35% examples, 392180 words/s, in_qsize 19, out_qsize 0\n",
      "2022-04-12 19:54:58,429 : INFO : EPOCH 4 - PROGRESS: at 45.83% examples, 392512 words/s, in_qsize 19, out_qsize 0\n",
      "2022-04-12 19:54:59,435 : INFO : EPOCH 4 - PROGRESS: at 47.16% examples, 392542 words/s, in_qsize 19, out_qsize 0\n",
      "2022-04-12 19:55:00,461 : INFO : EPOCH 4 - PROGRESS: at 48.62% examples, 392958 words/s, in_qsize 19, out_qsize 0\n",
      "2022-04-12 19:55:01,462 : INFO : EPOCH 4 - PROGRESS: at 50.06% examples, 393184 words/s, in_qsize 19, out_qsize 0\n",
      "2022-04-12 19:55:02,470 : INFO : EPOCH 4 - PROGRESS: at 51.48% examples, 393690 words/s, in_qsize 19, out_qsize 0\n",
      "2022-04-12 19:55:03,472 : INFO : EPOCH 4 - PROGRESS: at 52.73% examples, 393537 words/s, in_qsize 19, out_qsize 0\n",
      "2022-04-12 19:55:04,485 : INFO : EPOCH 4 - PROGRESS: at 54.05% examples, 393824 words/s, in_qsize 19, out_qsize 0\n",
      "2022-04-12 19:55:05,486 : INFO : EPOCH 4 - PROGRESS: at 55.52% examples, 394071 words/s, in_qsize 19, out_qsize 0\n",
      "2022-04-12 19:55:06,520 : INFO : EPOCH 4 - PROGRESS: at 56.90% examples, 393867 words/s, in_qsize 19, out_qsize 0\n",
      "2022-04-12 19:55:07,521 : INFO : EPOCH 4 - PROGRESS: at 58.30% examples, 394237 words/s, in_qsize 19, out_qsize 0\n",
      "2022-04-12 19:55:08,532 : INFO : EPOCH 4 - PROGRESS: at 59.70% examples, 394207 words/s, in_qsize 19, out_qsize 0\n",
      "2022-04-12 19:55:09,568 : INFO : EPOCH 4 - PROGRESS: at 61.10% examples, 394175 words/s, in_qsize 19, out_qsize 0\n",
      "2022-04-12 19:55:10,583 : INFO : EPOCH 4 - PROGRESS: at 62.47% examples, 394279 words/s, in_qsize 19, out_qsize 0\n",
      "2022-04-12 19:55:11,600 : INFO : EPOCH 4 - PROGRESS: at 64.08% examples, 394627 words/s, in_qsize 19, out_qsize 0\n",
      "2022-04-12 19:55:12,605 : INFO : EPOCH 4 - PROGRESS: at 65.41% examples, 394479 words/s, in_qsize 19, out_qsize 0\n",
      "2022-04-12 19:55:13,638 : INFO : EPOCH 4 - PROGRESS: at 66.74% examples, 394618 words/s, in_qsize 19, out_qsize 0\n",
      "2022-04-12 19:55:14,642 : INFO : EPOCH 4 - PROGRESS: at 68.20% examples, 395025 words/s, in_qsize 19, out_qsize 0\n",
      "2022-04-12 19:55:15,650 : INFO : EPOCH 4 - PROGRESS: at 69.47% examples, 394962 words/s, in_qsize 19, out_qsize 0\n",
      "2022-04-12 19:55:16,662 : INFO : EPOCH 4 - PROGRESS: at 70.76% examples, 395051 words/s, in_qsize 19, out_qsize 0\n",
      "2022-04-12 19:55:17,676 : INFO : EPOCH 4 - PROGRESS: at 72.12% examples, 395260 words/s, in_qsize 19, out_qsize 0\n",
      "2022-04-12 19:55:18,676 : INFO : EPOCH 4 - PROGRESS: at 73.60% examples, 395387 words/s, in_qsize 19, out_qsize 0\n"
     ]
    },
    {
     "name": "stderr",
     "output_type": "stream",
     "text": [
      "2022-04-12 19:55:19,679 : INFO : EPOCH 4 - PROGRESS: at 74.94% examples, 395493 words/s, in_qsize 19, out_qsize 0\n",
      "2022-04-12 19:55:20,688 : INFO : EPOCH 4 - PROGRESS: at 76.15% examples, 395441 words/s, in_qsize 19, out_qsize 0\n",
      "2022-04-12 19:55:21,701 : INFO : EPOCH 4 - PROGRESS: at 77.39% examples, 395362 words/s, in_qsize 19, out_qsize 0\n",
      "2022-04-12 19:55:22,705 : INFO : EPOCH 4 - PROGRESS: at 78.71% examples, 395574 words/s, in_qsize 19, out_qsize 0\n",
      "2022-04-12 19:55:23,709 : INFO : EPOCH 4 - PROGRESS: at 79.98% examples, 395447 words/s, in_qsize 19, out_qsize 0\n",
      "2022-04-12 19:55:24,721 : INFO : EPOCH 4 - PROGRESS: at 81.28% examples, 395495 words/s, in_qsize 19, out_qsize 0\n",
      "2022-04-12 19:55:25,739 : INFO : EPOCH 4 - PROGRESS: at 82.63% examples, 395391 words/s, in_qsize 19, out_qsize 0\n",
      "2022-04-12 19:55:26,747 : INFO : EPOCH 4 - PROGRESS: at 84.02% examples, 395798 words/s, in_qsize 19, out_qsize 0\n",
      "2022-04-12 19:55:27,761 : INFO : EPOCH 4 - PROGRESS: at 85.25% examples, 395690 words/s, in_qsize 19, out_qsize 0\n",
      "2022-04-12 19:55:28,774 : INFO : EPOCH 4 - PROGRESS: at 86.66% examples, 395716 words/s, in_qsize 19, out_qsize 0\n",
      "2022-04-12 19:55:29,778 : INFO : EPOCH 4 - PROGRESS: at 88.16% examples, 396024 words/s, in_qsize 19, out_qsize 0\n",
      "2022-04-12 19:55:30,781 : INFO : EPOCH 4 - PROGRESS: at 89.55% examples, 395929 words/s, in_qsize 19, out_qsize 0\n",
      "2022-04-12 19:55:31,811 : INFO : EPOCH 4 - PROGRESS: at 91.03% examples, 396095 words/s, in_qsize 19, out_qsize 0\n",
      "2022-04-12 19:55:32,824 : INFO : EPOCH 4 - PROGRESS: at 92.39% examples, 395836 words/s, in_qsize 19, out_qsize 0\n",
      "2022-04-12 19:55:33,828 : INFO : EPOCH 4 - PROGRESS: at 93.60% examples, 395512 words/s, in_qsize 19, out_qsize 0\n",
      "2022-04-12 19:55:34,838 : INFO : EPOCH 4 - PROGRESS: at 94.95% examples, 395389 words/s, in_qsize 19, out_qsize 0\n",
      "2022-04-12 19:55:35,903 : INFO : EPOCH 4 - PROGRESS: at 96.35% examples, 395267 words/s, in_qsize 19, out_qsize 0\n",
      "2022-04-12 19:55:36,943 : INFO : EPOCH 4 - PROGRESS: at 97.75% examples, 395235 words/s, in_qsize 19, out_qsize 0\n",
      "2022-04-12 19:55:37,956 : INFO : EPOCH 4 - PROGRESS: at 99.13% examples, 395108 words/s, in_qsize 19, out_qsize 0\n",
      "2022-04-12 19:55:38,415 : INFO : worker thread finished; awaiting finish of 9 more threads\n",
      "2022-04-12 19:55:38,456 : INFO : worker thread finished; awaiting finish of 8 more threads\n",
      "2022-04-12 19:55:38,458 : INFO : worker thread finished; awaiting finish of 7 more threads\n",
      "2022-04-12 19:55:38,500 : INFO : worker thread finished; awaiting finish of 6 more threads\n",
      "2022-04-12 19:55:38,510 : INFO : worker thread finished; awaiting finish of 5 more threads\n",
      "2022-04-12 19:55:38,533 : INFO : worker thread finished; awaiting finish of 4 more threads\n",
      "2022-04-12 19:55:38,546 : INFO : worker thread finished; awaiting finish of 3 more threads\n",
      "2022-04-12 19:55:38,557 : INFO : worker thread finished; awaiting finish of 2 more threads\n",
      "2022-04-12 19:55:38,560 : INFO : worker thread finished; awaiting finish of 1 more threads\n",
      "2022-04-12 19:55:38,565 : INFO : worker thread finished; awaiting finish of 0 more threads\n",
      "2022-04-12 19:55:38,566 : INFO : EPOCH - 4 : training on 41519358 raw words (30349500 effective words) took 76.8s, 395208 effective words/s\n",
      "2022-04-12 19:55:39,581 : INFO : EPOCH 5 - PROGRESS: at 1.02% examples, 329575 words/s, in_qsize 19, out_qsize 0\n",
      "2022-04-12 19:55:40,588 : INFO : EPOCH 5 - PROGRESS: at 2.26% examples, 354519 words/s, in_qsize 19, out_qsize 0\n",
      "2022-04-12 19:55:41,597 : INFO : EPOCH 5 - PROGRESS: at 3.57% examples, 367390 words/s, in_qsize 19, out_qsize 0\n",
      "2022-04-12 19:55:42,598 : INFO : EPOCH 5 - PROGRESS: at 4.78% examples, 365906 words/s, in_qsize 19, out_qsize 0\n",
      "2022-04-12 19:55:43,601 : INFO : EPOCH 5 - PROGRESS: at 5.97% examples, 367099 words/s, in_qsize 19, out_qsize 0\n",
      "2022-04-12 19:55:44,602 : INFO : EPOCH 5 - PROGRESS: at 7.27% examples, 371835 words/s, in_qsize 19, out_qsize 0\n",
      "2022-04-12 19:55:45,607 : INFO : EPOCH 5 - PROGRESS: at 8.43% examples, 370872 words/s, in_qsize 19, out_qsize 0\n",
      "2022-04-12 19:55:46,611 : INFO : EPOCH 5 - PROGRESS: at 9.59% examples, 374555 words/s, in_qsize 19, out_qsize 0\n",
      "2022-04-12 19:55:47,613 : INFO : EPOCH 5 - PROGRESS: at 10.53% examples, 372859 words/s, in_qsize 19, out_qsize 0\n",
      "2022-04-12 19:55:48,618 : INFO : EPOCH 5 - PROGRESS: at 11.56% examples, 373462 words/s, in_qsize 19, out_qsize 0\n",
      "2022-04-12 19:55:49,707 : INFO : EPOCH 5 - PROGRESS: at 12.48% examples, 370445 words/s, in_qsize 19, out_qsize 0\n",
      "2022-04-12 19:55:50,724 : INFO : EPOCH 5 - PROGRESS: at 13.76% examples, 373296 words/s, in_qsize 19, out_qsize 0\n",
      "2022-04-12 19:55:51,733 : INFO : EPOCH 5 - PROGRESS: at 14.80% examples, 372528 words/s, in_qsize 19, out_qsize 0\n",
      "2022-04-12 19:55:52,735 : INFO : EPOCH 5 - PROGRESS: at 15.93% examples, 373293 words/s, in_qsize 19, out_qsize 0\n",
      "2022-04-12 19:55:53,735 : INFO : EPOCH 5 - PROGRESS: at 17.00% examples, 373788 words/s, in_qsize 19, out_qsize 0\n",
      "2022-04-12 19:55:54,738 : INFO : EPOCH 5 - PROGRESS: at 18.05% examples, 375120 words/s, in_qsize 19, out_qsize 0\n",
      "2022-04-12 19:55:55,743 : INFO : EPOCH 5 - PROGRESS: at 19.04% examples, 374876 words/s, in_qsize 19, out_qsize 0\n",
      "2022-04-12 19:55:56,774 : INFO : EPOCH 5 - PROGRESS: at 20.06% examples, 375625 words/s, in_qsize 19, out_qsize 0\n",
      "2022-04-12 19:55:57,792 : INFO : EPOCH 5 - PROGRESS: at 20.99% examples, 375226 words/s, in_qsize 19, out_qsize 0\n",
      "2022-04-12 19:55:58,828 : INFO : EPOCH 5 - PROGRESS: at 22.40% examples, 376105 words/s, in_qsize 19, out_qsize 0\n",
      "2022-04-12 19:55:59,859 : INFO : EPOCH 5 - PROGRESS: at 23.41% examples, 376824 words/s, in_qsize 19, out_qsize 0\n",
      "2022-04-12 19:56:00,875 : INFO : EPOCH 5 - PROGRESS: at 24.44% examples, 377361 words/s, in_qsize 19, out_qsize 0\n",
      "2022-04-12 19:56:01,881 : INFO : EPOCH 5 - PROGRESS: at 25.80% examples, 377773 words/s, in_qsize 19, out_qsize 0\n",
      "2022-04-12 19:56:02,894 : INFO : EPOCH 5 - PROGRESS: at 27.32% examples, 378682 words/s, in_qsize 19, out_qsize 0\n",
      "2022-04-12 19:56:03,898 : INFO : EPOCH 5 - PROGRESS: at 28.74% examples, 379068 words/s, in_qsize 19, out_qsize 0\n",
      "2022-04-12 19:56:04,906 : INFO : EPOCH 5 - PROGRESS: at 30.09% examples, 379316 words/s, in_qsize 19, out_qsize 0\n",
      "2022-04-12 19:56:05,944 : INFO : EPOCH 5 - PROGRESS: at 31.59% examples, 379178 words/s, in_qsize 19, out_qsize 0\n",
      "2022-04-12 19:56:06,945 : INFO : EPOCH 5 - PROGRESS: at 32.96% examples, 379514 words/s, in_qsize 19, out_qsize 0\n",
      "2022-04-12 19:56:07,947 : INFO : EPOCH 5 - PROGRESS: at 34.22% examples, 379614 words/s, in_qsize 19, out_qsize 0\n",
      "2022-04-12 19:56:08,950 : INFO : EPOCH 5 - PROGRESS: at 35.62% examples, 380399 words/s, in_qsize 19, out_qsize 0\n",
      "2022-04-12 19:56:09,952 : INFO : EPOCH 5 - PROGRESS: at 36.93% examples, 380196 words/s, in_qsize 19, out_qsize 0\n",
      "2022-04-12 19:56:10,959 : INFO : EPOCH 5 - PROGRESS: at 38.32% examples, 380338 words/s, in_qsize 19, out_qsize 0\n",
      "2022-04-12 19:56:11,971 : INFO : EPOCH 5 - PROGRESS: at 39.63% examples, 380051 words/s, in_qsize 19, out_qsize 0\n",
      "2022-04-12 19:56:12,976 : INFO : EPOCH 5 - PROGRESS: at 41.17% examples, 380907 words/s, in_qsize 19, out_qsize 0\n",
      "2022-04-12 19:56:13,996 : INFO : EPOCH 5 - PROGRESS: at 42.57% examples, 381090 words/s, in_qsize 19, out_qsize 0\n",
      "2022-04-12 19:56:15,038 : INFO : EPOCH 5 - PROGRESS: at 43.98% examples, 380705 words/s, in_qsize 19, out_qsize 0\n",
      "2022-04-12 19:56:16,057 : INFO : EPOCH 5 - PROGRESS: at 45.51% examples, 381127 words/s, in_qsize 19, out_qsize 0\n",
      "2022-04-12 19:56:17,061 : INFO : EPOCH 5 - PROGRESS: at 46.87% examples, 381843 words/s, in_qsize 19, out_qsize 0\n",
      "2022-04-12 19:56:18,078 : INFO : EPOCH 5 - PROGRESS: at 48.21% examples, 381884 words/s, in_qsize 19, out_qsize 0\n",
      "2022-04-12 19:56:19,090 : INFO : EPOCH 5 - PROGRESS: at 49.59% examples, 381936 words/s, in_qsize 19, out_qsize 0\n",
      "2022-04-12 19:56:20,106 : INFO : EPOCH 5 - PROGRESS: at 51.02% examples, 382477 words/s, in_qsize 19, out_qsize 0\n",
      "2022-04-12 19:56:21,112 : INFO : EPOCH 5 - PROGRESS: at 52.30% examples, 382704 words/s, in_qsize 19, out_qsize 0\n",
      "2022-04-12 19:56:22,133 : INFO : EPOCH 5 - PROGRESS: at 53.54% examples, 382821 words/s, in_qsize 19, out_qsize 0\n",
      "2022-04-12 19:56:23,150 : INFO : EPOCH 5 - PROGRESS: at 54.90% examples, 383027 words/s, in_qsize 19, out_qsize 0\n"
     ]
    },
    {
     "name": "stderr",
     "output_type": "stream",
     "text": [
      "2022-04-12 19:56:24,159 : INFO : EPOCH 5 - PROGRESS: at 56.42% examples, 383578 words/s, in_qsize 19, out_qsize 0\n",
      "2022-04-12 19:56:25,163 : INFO : EPOCH 5 - PROGRESS: at 57.74% examples, 383552 words/s, in_qsize 19, out_qsize 0\n",
      "2022-04-12 19:56:26,190 : INFO : EPOCH 5 - PROGRESS: at 59.14% examples, 383776 words/s, in_qsize 19, out_qsize 0\n",
      "2022-04-12 19:56:27,203 : INFO : EPOCH 5 - PROGRESS: at 60.42% examples, 383537 words/s, in_qsize 19, out_qsize 0\n",
      "2022-04-12 19:56:28,204 : INFO : EPOCH 5 - PROGRESS: at 61.74% examples, 383532 words/s, in_qsize 19, out_qsize 0\n",
      "2022-04-12 19:56:29,207 : INFO : EPOCH 5 - PROGRESS: at 63.08% examples, 383506 words/s, in_qsize 19, out_qsize 0\n",
      "2022-04-12 19:56:30,211 : INFO : EPOCH 5 - PROGRESS: at 64.67% examples, 383732 words/s, in_qsize 19, out_qsize 0\n",
      "2022-04-12 19:56:31,212 : INFO : EPOCH 5 - PROGRESS: at 65.87% examples, 383795 words/s, in_qsize 19, out_qsize 0\n",
      "2022-04-12 19:56:32,245 : INFO : EPOCH 5 - PROGRESS: at 67.23% examples, 383847 words/s, in_qsize 19, out_qsize 0\n",
      "2022-04-12 19:56:33,257 : INFO : EPOCH 5 - PROGRESS: at 68.55% examples, 383998 words/s, in_qsize 19, out_qsize 0\n",
      "2022-04-12 19:56:34,263 : INFO : EPOCH 5 - PROGRESS: at 69.88% examples, 384302 words/s, in_qsize 19, out_qsize 0\n",
      "2022-04-12 19:56:35,265 : INFO : EPOCH 5 - PROGRESS: at 71.13% examples, 384637 words/s, in_qsize 19, out_qsize 0\n",
      "2022-04-12 19:56:36,304 : INFO : EPOCH 5 - PROGRESS: at 72.46% examples, 384349 words/s, in_qsize 19, out_qsize 0\n",
      "2022-04-12 19:56:37,333 : INFO : EPOCH 5 - PROGRESS: at 74.00% examples, 384706 words/s, in_qsize 19, out_qsize 0\n",
      "2022-04-12 19:56:38,342 : INFO : EPOCH 5 - PROGRESS: at 75.26% examples, 384844 words/s, in_qsize 19, out_qsize 0\n",
      "2022-04-12 19:56:39,345 : INFO : EPOCH 5 - PROGRESS: at 76.44% examples, 384998 words/s, in_qsize 19, out_qsize 0\n",
      "2022-04-12 19:56:40,381 : INFO : EPOCH 5 - PROGRESS: at 77.67% examples, 384830 words/s, in_qsize 19, out_qsize 0\n",
      "2022-04-12 19:56:41,383 : INFO : EPOCH 5 - PROGRESS: at 78.97% examples, 385097 words/s, in_qsize 19, out_qsize 0\n",
      "2022-04-12 19:56:42,383 : INFO : EPOCH 5 - PROGRESS: at 80.24% examples, 385069 words/s, in_qsize 19, out_qsize 0\n",
      "2022-04-12 19:56:43,406 : INFO : EPOCH 5 - PROGRESS: at 81.48% examples, 384976 words/s, in_qsize 19, out_qsize 0\n",
      "2022-04-12 19:56:44,413 : INFO : EPOCH 5 - PROGRESS: at 82.88% examples, 385223 words/s, in_qsize 19, out_qsize 0\n",
      "2022-04-12 19:56:45,424 : INFO : EPOCH 5 - PROGRESS: at 84.08% examples, 384988 words/s, in_qsize 19, out_qsize 0\n",
      "2022-04-12 19:56:46,428 : INFO : EPOCH 5 - PROGRESS: at 85.37% examples, 385416 words/s, in_qsize 19, out_qsize 0\n",
      "2022-04-12 19:56:47,436 : INFO : EPOCH 5 - PROGRESS: at 86.78% examples, 385528 words/s, in_qsize 19, out_qsize 0\n",
      "2022-04-12 19:56:48,453 : INFO : EPOCH 5 - PROGRESS: at 88.16% examples, 385384 words/s, in_qsize 19, out_qsize 0\n",
      "2022-04-12 19:56:49,484 : INFO : EPOCH 5 - PROGRESS: at 89.66% examples, 385707 words/s, in_qsize 19, out_qsize 0\n",
      "2022-04-12 19:56:50,494 : INFO : EPOCH 5 - PROGRESS: at 91.06% examples, 385819 words/s, in_qsize 19, out_qsize 0\n",
      "2022-04-12 19:56:51,510 : INFO : EPOCH 5 - PROGRESS: at 92.41% examples, 385695 words/s, in_qsize 19, out_qsize 0\n",
      "2022-04-12 19:56:52,559 : INFO : EPOCH 5 - PROGRESS: at 93.75% examples, 385771 words/s, in_qsize 19, out_qsize 0\n",
      "2022-04-12 19:56:53,563 : INFO : EPOCH 5 - PROGRESS: at 95.14% examples, 386007 words/s, in_qsize 19, out_qsize 0\n",
      "2022-04-12 19:56:54,564 : INFO : EPOCH 5 - PROGRESS: at 96.51% examples, 386149 words/s, in_qsize 20, out_qsize 0\n",
      "2022-04-12 19:56:55,590 : INFO : EPOCH 5 - PROGRESS: at 97.86% examples, 386121 words/s, in_qsize 19, out_qsize 0\n",
      "2022-04-12 19:56:56,619 : INFO : EPOCH 5 - PROGRESS: at 99.25% examples, 386142 words/s, in_qsize 19, out_qsize 0\n",
      "2022-04-12 19:56:56,974 : INFO : worker thread finished; awaiting finish of 9 more threads\n",
      "2022-04-12 19:56:56,982 : INFO : worker thread finished; awaiting finish of 8 more threads\n",
      "2022-04-12 19:56:56,996 : INFO : worker thread finished; awaiting finish of 7 more threads\n",
      "2022-04-12 19:56:57,000 : INFO : worker thread finished; awaiting finish of 6 more threads\n",
      "2022-04-12 19:56:57,040 : INFO : worker thread finished; awaiting finish of 5 more threads\n",
      "2022-04-12 19:56:57,056 : INFO : worker thread finished; awaiting finish of 4 more threads\n",
      "2022-04-12 19:56:57,083 : INFO : worker thread finished; awaiting finish of 3 more threads\n",
      "2022-04-12 19:56:57,095 : INFO : worker thread finished; awaiting finish of 2 more threads\n",
      "2022-04-12 19:56:57,096 : INFO : worker thread finished; awaiting finish of 1 more threads\n",
      "2022-04-12 19:56:57,100 : INFO : worker thread finished; awaiting finish of 0 more threads\n",
      "2022-04-12 19:56:57,100 : INFO : EPOCH - 5 : training on 41519358 raw words (30349308 effective words) took 78.5s, 386473 effective words/s\n",
      "2022-04-12 19:56:57,101 : INFO : Word2Vec lifecycle event {'msg': 'training on 207596790 raw words (151742973 effective words) took 391.2s, 387865 effective words/s', 'datetime': '2022-04-12T19:56:57.101777', 'gensim': '4.1.2', 'python': '3.8.5 (default, Sep  3 2020, 21:29:08) [MSC v.1916 64 bit (AMD64)]', 'platform': 'Windows-10-10.0.19041-SP0', 'event': 'train'}\n",
      "2022-04-12 19:56:57,102 : INFO : Word2Vec lifecycle event {'params': 'Word2Vec(vocab=70537, vector_size=150, alpha=0.025)', 'datetime': '2022-04-12T19:56:57.102775', 'gensim': '4.1.2', 'python': '3.8.5 (default, Sep  3 2020, 21:29:08) [MSC v.1916 64 bit (AMD64)]', 'platform': 'Windows-10-10.0.19041-SP0', 'event': 'created'}\n"
     ]
    },
    {
     "name": "stdout",
     "output_type": "stream",
     "text": [
      "Training time: 0:06:38.774523\n"
     ]
    }
   ],
   "source": [
    "from datetime import datetime\n",
    "\n",
    "start_time = datetime.now()\n",
    "\n",
    "model = gensim.models.Word2Vec(documents, vector_size=150, window=10, min_count=2, workers=10, sg=1)\n",
    "\n",
    "print(\"Training time:\", datetime.now() - start_time)"
   ]
  },
  {
   "cell_type": "markdown",
   "metadata": {},
   "source": [
    "#### Exploiting the Word2Vec model\n",
    "\n",
    "We can now inspect the word embeddings that we have trained. We can start by looking at the embeddings of a specific word:"
   ]
  },
  {
   "cell_type": "code",
   "execution_count": 8,
   "metadata": {},
   "outputs": [
    {
     "data": {
      "text/plain": [
       "array([ 2.50233281e-02,  4.41313237e-02, -6.13904476e-01, -1.00894764e-01,\n",
       "       -1.00337807e-02,  1.40544355e-01,  1.13145620e-01,  3.34137157e-02,\n",
       "       -1.07785538e-02, -1.60253450e-01,  6.97525740e-02, -1.42105117e-01,\n",
       "       -2.73801088e-01,  1.33586243e-01, -3.56884420e-01, -1.26492217e-01,\n",
       "        9.82334390e-02,  2.20837906e-01, -3.83132726e-01, -1.53535888e-01,\n",
       "       -3.03947985e-01,  6.49795830e-02, -2.23509539e-02, -3.91503066e-01,\n",
       "       -2.88635939e-02, -8.15830529e-02,  1.36714086e-01,  2.12775953e-02,\n",
       "       -2.96685308e-01,  1.13852821e-01, -3.05059962e-02,  3.67184609e-01,\n",
       "        4.64369804e-02,  6.37694728e-04,  2.37109333e-01, -3.27774398e-02,\n",
       "        9.99253541e-02, -2.78991759e-01,  3.53296474e-02, -3.44324075e-02,\n",
       "        5.59256434e-01, -1.23323038e-01,  7.69853517e-02, -3.33119720e-01,\n",
       "       -4.35700938e-02, -1.57066897e-01,  6.84317276e-02, -1.57364100e-01,\n",
       "        2.23682866e-01,  1.34315595e-01, -2.02789351e-01,  2.55838096e-01,\n",
       "       -2.89253294e-01, -7.99807012e-02, -1.59407910e-02, -6.81361333e-02,\n",
       "        4.31465745e-01,  2.51483142e-01, -2.79652745e-01, -6.02861345e-01,\n",
       "        3.68027866e-01, -3.60148847e-01, -1.64196402e-01,  3.32602382e-01,\n",
       "       -1.42636389e-01, -1.38646439e-01, -5.88551939e-01, -2.92697608e-01,\n",
       "       -7.78484762e-01,  2.24839803e-02,  4.92390096e-02,  2.47998148e-01,\n",
       "        1.66623995e-01, -8.49264413e-02, -1.15032583e-01, -3.85884762e-01,\n",
       "        2.56616920e-01, -2.09984645e-01,  2.31289431e-01, -1.90991119e-01,\n",
       "       -1.64031431e-01, -3.66780698e-01, -1.05338082e-01,  4.11209464e-01,\n",
       "       -2.68620640e-01, -1.40725002e-01,  1.14246525e-01, -3.80573515e-03,\n",
       "       -8.59469399e-02, -3.18222463e-01,  1.69273570e-01,  2.45892629e-02,\n",
       "        8.41715708e-02,  3.01805973e-01,  4.63088959e-01,  1.00261830e-02,\n",
       "        3.18678021e-02,  1.06830135e-01,  1.46687493e-01,  4.89505619e-01,\n",
       "        3.57456475e-01,  1.02475703e-01,  3.91889423e-01,  6.22162744e-02,\n",
       "       -7.64913484e-02, -2.43037358e-01,  2.69945920e-01,  9.55797881e-02,\n",
       "       -2.99486816e-01, -4.47652340e-01, -1.36548012e-01,  5.33422589e-01,\n",
       "        9.09512341e-02, -2.62336552e-01, -3.25417578e-01,  2.65842527e-01,\n",
       "       -1.64578632e-01, -3.25626172e-02, -3.14752162e-01, -6.54032379e-02,\n",
       "       -1.40968993e-01,  1.49489716e-01, -7.81106949e-02,  1.06474966e-01,\n",
       "        5.27893156e-02,  2.13221952e-01,  7.07094595e-02,  1.40802816e-01,\n",
       "        1.21103600e-01,  1.55492708e-01,  2.03394279e-01,  2.37899069e-02,\n",
       "        3.11854005e-01, -1.34997129e-01, -1.21723048e-01,  1.73313364e-01,\n",
       "       -9.44048464e-02,  1.01690227e-02,  2.19415501e-01,  1.45719856e-01,\n",
       "        3.47202033e-01,  8.60904977e-02,  1.88088238e-01,  2.81614214e-02,\n",
       "       -1.89206988e-01,  3.74001116e-01, -1.99707881e-01,  2.54244089e-01,\n",
       "       -1.10232912e-01, -2.05261275e-01], dtype=float32)"
      ]
     },
     "execution_count": 8,
     "metadata": {},
     "output_type": "execute_result"
    }
   ],
   "source": [
    "# embeddings\n",
    "model.wv.get_vector(\"dirty\")"
   ]
  },
  {
   "cell_type": "markdown",
   "metadata": {},
   "source": [
    "Which are the words most similar to this one?"
   ]
  },
  {
   "cell_type": "code",
   "execution_count": 9,
   "metadata": {},
   "outputs": [
    {
     "data": {
      "text/plain": [
       "[('filthy', 0.8960638642311096),\n",
       " ('smelly', 0.8580575585365295),\n",
       " ('unclean', 0.8436622023582458),\n",
       " ('dusty', 0.8244562745094299),\n",
       " ('dingy', 0.8230564594268799),\n",
       " ('stained', 0.8184140920639038),\n",
       " ('disgusting', 0.7959451079368591),\n",
       " ('grubby', 0.7912654280662537),\n",
       " ('soiled', 0.786354124546051),\n",
       " ('moldy', 0.7736567854881287)]"
      ]
     },
     "execution_count": 9,
     "metadata": {},
     "output_type": "execute_result"
    }
   ],
   "source": [
    "# similarity\n",
    "w1 = \"dirty\"\n",
    "model.wv.most_similar(positive=w1)"
   ]
  },
  {
   "cell_type": "markdown",
   "metadata": {},
   "source": [
    "You can also limit to a smaller number of hits:"
   ]
  },
  {
   "cell_type": "code",
   "execution_count": 10,
   "metadata": {},
   "outputs": [
    {
     "data": {
      "text/plain": [
       "[('courteous', 0.9103379845619202),\n",
       " ('professional', 0.8581339716911316),\n",
       " ('attentive', 0.8290826082229614),\n",
       " ('efficient', 0.8212716579437256),\n",
       " ('curtious', 0.8026942610740662),\n",
       " ('obliging', 0.8016121983528137)]"
      ]
     },
     "execution_count": 10,
     "metadata": {},
     "output_type": "execute_result"
    }
   ],
   "source": [
    "# look up top 6 words similar to 'polite'\n",
    "w1 = [\"polite\"]\n",
    "model.wv.most_similar(positive=w1, topn=6)"
   ]
  },
  {
   "cell_type": "code",
   "execution_count": 11,
   "metadata": {},
   "outputs": [
    {
     "data": {
      "text/plain": [
       "[('spain', 0.7145701050758362),\n",
       " ('germany', 0.6841493844985962),\n",
       " ('england', 0.6734349131584167),\n",
       " ('europe', 0.6540875434875488),\n",
       " ('paris', 0.6473349332809448),\n",
       " ('greece', 0.6402392387390137)]"
      ]
     },
     "execution_count": 11,
     "metadata": {},
     "output_type": "execute_result"
    }
   ],
   "source": [
    "# look up top 6 words similar to 'france'\n",
    "w1 = [\"france\"]\n",
    "model.wv.most_similar(positive=w1, topn=6)"
   ]
  },
  {
   "cell_type": "markdown",
   "metadata": {},
   "source": [
    "We can also provide to *most_similar* not only positive concepts, but also negative ones. This allows us to do some arithmetic on the vector representations for certain sets of words!\n",
    "\n",
    "The famous example **king - man + woman = queen** goes as follows:"
   ]
  },
  {
   "cell_type": "code",
   "execution_count": 12,
   "metadata": {},
   "outputs": [
    {
     "data": {
      "text/plain": [
       "[('queen', 0.7641563415527344)]"
      ]
     },
     "execution_count": 12,
     "metadata": {},
     "output_type": "execute_result"
    }
   ],
   "source": [
    "# arithmetic: vec(“king”) - vec(“man”) + vec(“woman”) =~ vec(“queen”)\n",
    "w1 = [\"king\",'woman']\n",
    "w2 = ['man']\n",
    "model.wv.most_similar(positive=w1, negative=w2, topn=1)"
   ]
  },
  {
   "cell_type": "markdown",
   "metadata": {},
   "source": [
    "We can get the similarity scores for specific word pairs."
   ]
  },
  {
   "cell_type": "code",
   "execution_count": 13,
   "metadata": {},
   "outputs": [
    {
     "data": {
      "text/plain": [
       "0.85805756"
      ]
     },
     "execution_count": 13,
     "metadata": {},
     "output_type": "execute_result"
    }
   ],
   "source": [
    "# similarity between two different words\n",
    "model.wv.similarity(w1=\"dirty\", w2=\"smelly\")"
   ]
  },
  {
   "cell_type": "code",
   "execution_count": 14,
   "metadata": {},
   "outputs": [
    {
     "data": {
      "text/plain": [
       "1.0"
      ]
     },
     "execution_count": 14,
     "metadata": {},
     "output_type": "execute_result"
    }
   ],
   "source": [
    "# similarity between two identical words\n",
    "model.wv.similarity(w1=\"dirty\", w2=\"dirty\")"
   ]
  },
  {
   "cell_type": "code",
   "execution_count": 15,
   "metadata": {},
   "outputs": [
    {
     "data": {
      "text/plain": [
       "0.37121075"
      ]
     },
     "execution_count": 15,
     "metadata": {},
     "output_type": "execute_result"
    }
   ],
   "source": [
    "# similarity between two unrelated words\n",
    "model.wv.similarity(w1=\"dirty\", w2=\"clean\")"
   ]
  },
  {
   "cell_type": "markdown",
   "metadata": {},
   "source": [
    "And we can check which word in a list of words is an intruder:"
   ]
  },
  {
   "cell_type": "code",
   "execution_count": 16,
   "metadata": {},
   "outputs": [
    {
     "data": {
      "text/plain": [
       "'france'"
      ]
     },
     "execution_count": 16,
     "metadata": {},
     "output_type": "execute_result"
    }
   ],
   "source": [
    "model.wv.doesnt_match([\"cat\", \"dog\", \"france\"])"
   ]
  },
  {
   "cell_type": "code",
   "execution_count": 17,
   "metadata": {},
   "outputs": [
    {
     "data": {
      "text/plain": [
       "'shower'"
      ]
     },
     "execution_count": 17,
     "metadata": {},
     "output_type": "execute_result"
    }
   ],
   "source": [
    "model.wv.doesnt_match([\"bed\", \"pillow\", \"duvet\", \"shower\"])"
   ]
  },
  {
   "cell_type": "code",
   "execution_count": 18,
   "metadata": {},
   "outputs": [
    {
     "data": {
      "text/plain": [
       "'plane'"
      ]
     },
     "execution_count": 18,
     "metadata": {},
     "output_type": "execute_result"
    }
   ],
   "source": [
    "model.wv.doesnt_match([\"car\", \"bicycle\", \"plane\", \"skate\"])"
   ]
  },
  {
   "cell_type": "code",
   "execution_count": 19,
   "metadata": {},
   "outputs": [
    {
     "data": {
      "text/plain": [
       "'bicycle'"
      ]
     },
     "execution_count": 19,
     "metadata": {},
     "output_type": "execute_result"
    }
   ],
   "source": [
    "model.wv.doesnt_match([\"car\", \"bicycle\", \"bus\", \"trolley\"])"
   ]
  },
  {
   "cell_type": "markdown",
   "metadata": {},
   "source": [
    "Make your own experiments! Try to find out:\n",
    "- Which word is most similar to *lift*?\n",
    "- What are the 3 words most similar to *crab*?\n",
    "- How similar are the words *waitress* and *waiter*?\n",
    "- If you take *portugal*, remove *lisbon*, and add *dublin*, what do you get?"
   ]
  },
  {
   "cell_type": "code",
   "execution_count": 20,
   "metadata": {},
   "outputs": [
    {
     "name": "stdout",
     "output_type": "stream",
     "text": [
      "[('lifts', 0.8279808163642883), ('elevator', 0.8175176978111267), ('stairs', 0.7627535462379456), ('elavator', 0.7209851741790771), ('elevators', 0.7075425982475281), ('stairway', 0.694572389125824), ('staircase', 0.684212863445282), ('elevater', 0.6659742593765259), ('stairwell', 0.6610690355300903), ('stair', 0.6338859796524048)]\n",
      "[('oysters', 0.7942777872085571), ('lobster', 0.7728639841079712), ('chowder', 0.7612332105636597), ('seafood', 0.7482102513313293), ('shrimp', 0.7413221597671509), ('scampi', 0.7240632176399231)]\n",
      "0.88525736\n",
      "dublin\n"
     ]
    }
   ],
   "source": [
    "# your code here\n",
    "print(model.wv.most_similar(positive=\"lift\"))\n",
    "print(model.wv.most_similar(positive=[\"crab\"], topn=6))\n",
    "print(model.wv.similarity(w1=\"waitress\", w2=\"waiter\"))\n",
    "print(model.wv.doesnt_match([\"portugal\", \"lisbon\", \"dublin\"]))"
   ]
  },
  {
   "cell_type": "markdown",
   "metadata": {},
   "source": [
    "#### Saving and loading a Word2Vec model\n",
    "\n",
    "You can save a trained model so that you are able to load it again in the future, and optionally continue training it."
   ]
  },
  {
   "cell_type": "code",
   "execution_count": 21,
   "metadata": {},
   "outputs": [
    {
     "name": "stderr",
     "output_type": "stream",
     "text": [
      "2022-04-12 19:56:57,397 : INFO : Word2Vec lifecycle event {'fname_or_handle': 'reviews_model', 'separately': 'None', 'sep_limit': 10485760, 'ignore': frozenset(), 'datetime': '2022-04-12T19:56:57.397777', 'gensim': '4.1.2', 'python': '3.8.5 (default, Sep  3 2020, 21:29:08) [MSC v.1916 64 bit (AMD64)]', 'platform': 'Windows-10-10.0.19041-SP0', 'event': 'saving'}\n",
      "2022-04-12 19:56:57,400 : INFO : storing np array 'vectors' to reviews_model.wv.vectors.npy\n",
      "2022-04-12 19:56:57,437 : INFO : storing np array 'syn1neg' to reviews_model.syn1neg.npy\n",
      "2022-04-12 19:56:57,473 : INFO : not storing attribute cum_table\n",
      "2022-04-12 19:56:57,515 : INFO : saved reviews_model\n"
     ]
    }
   ],
   "source": [
    "# save full model (including trainable vectors to resume training)\n",
    "model.save(\"reviews_model\")"
   ]
  },
  {
   "cell_type": "code",
   "execution_count": 22,
   "metadata": {},
   "outputs": [
    {
     "name": "stderr",
     "output_type": "stream",
     "text": [
      "2022-04-12 19:56:57,532 : INFO : loading Word2Vec object from reviews_model\n",
      "2022-04-12 19:56:57,551 : INFO : loading wv recursively from reviews_model.wv.* with mmap=None\n",
      "2022-04-12 19:56:57,553 : INFO : loading vectors from reviews_model.wv.vectors.npy with mmap=None\n",
      "2022-04-12 19:56:57,571 : INFO : loading syn1neg from reviews_model.syn1neg.npy with mmap=None\n",
      "2022-04-12 19:56:57,589 : INFO : setting ignored attribute cum_table to None\n",
      "2022-04-12 19:56:58,177 : INFO : Word2Vec lifecycle event {'fname': 'reviews_model', 'datetime': '2022-04-12T19:56:58.177775', 'gensim': '4.1.2', 'python': '3.8.5 (default, Sep  3 2020, 21:29:08) [MSC v.1916 64 bit (AMD64)]', 'platform': 'Windows-10-10.0.19041-SP0', 'event': 'loaded'}\n"
     ]
    }
   ],
   "source": [
    "# load full model\n",
    "model = gensim.models.Word2Vec.load(\"reviews_model\")"
   ]
  },
  {
   "cell_type": "markdown",
   "metadata": {},
   "source": [
    "#### Saving and loading the word embeddings\n",
    "\n",
    "If you're sure you won't be training the model any longer, you can save its *KeyedVectors* (the word embeddings)."
   ]
  },
  {
   "cell_type": "code",
   "execution_count": 23,
   "metadata": {},
   "outputs": [
    {
     "name": "stderr",
     "output_type": "stream",
     "text": [
      "2022-04-12 19:56:58,198 : INFO : KeyedVectors lifecycle event {'fname_or_handle': 'reviews_wv', 'separately': 'None', 'sep_limit': 10485760, 'ignore': frozenset(), 'datetime': '2022-04-12T19:56:58.198778', 'gensim': '4.1.2', 'python': '3.8.5 (default, Sep  3 2020, 21:29:08) [MSC v.1916 64 bit (AMD64)]', 'platform': 'Windows-10-10.0.19041-SP0', 'event': 'saving'}\n",
      "2022-04-12 19:56:58,199 : INFO : storing np array 'vectors' to reviews_wv.vectors.npy\n",
      "2022-04-12 19:56:58,335 : INFO : saved reviews_wv\n"
     ]
    }
   ],
   "source": [
    "# save model word vectors\n",
    "model.wv.save(\"reviews_wv\")"
   ]
  },
  {
   "cell_type": "markdown",
   "metadata": {},
   "source": [
    "After saving the embeddings, you can load them and use them."
   ]
  },
  {
   "cell_type": "code",
   "execution_count": 24,
   "metadata": {},
   "outputs": [
    {
     "name": "stderr",
     "output_type": "stream",
     "text": [
      "2022-04-12 19:56:58,354 : INFO : loading KeyedVectors object from reviews_wv\n",
      "2022-04-12 19:56:58,372 : INFO : loading vectors from reviews_wv.vectors.npy with mmap=None\n",
      "2022-04-12 19:56:58,392 : INFO : KeyedVectors lifecycle event {'fname': 'reviews_wv', 'datetime': '2022-04-12T19:56:58.392552', 'gensim': '4.1.2', 'python': '3.8.5 (default, Sep  3 2020, 21:29:08) [MSC v.1916 64 bit (AMD64)]', 'platform': 'Windows-10-10.0.19041-SP0', 'event': 'loaded'}\n"
     ]
    },
    {
     "name": "stdout",
     "output_type": "stream",
     "text": [
      "[('lifts', 0.8279808163642883)]\n"
     ]
    }
   ],
   "source": [
    "# load model word vectors\n",
    "wv = gensim.models.KeyedVectors.load(\"reviews_wv\")\n",
    "\n",
    "print(wv.most_similar(positive=\"lift\", topn=1))"
   ]
  },
  {
   "cell_type": "markdown",
   "metadata": {},
   "source": [
    "## Visualization\n",
    "\n",
    "Word embeddings can be visualized by reducing dimensionality of the words to 2 dimensions using [tSNE](https://scikit-learn.org/stable/modules/generated/sklearn.manifold.TSNE.html).\n",
    "\n",
    "Given enough training data, we can observe certain patterns in the vector space, including:\n",
    "- Semantic relations: words like *cat*, *dog*, *cow*, etc. have a tendency to lie close by.\n",
    "- Syntactic relations: words like *run*, *running* or *cut*, *cutting* lie close together.\n",
    "- Arithmetic properties such as *King - Man = Queen - Woman*."
   ]
  },
  {
   "cell_type": "code",
   "execution_count": 25,
   "metadata": {},
   "outputs": [],
   "source": [
    "from sklearn.manifold import TSNE\n",
    "import numpy as np\n",
    "import matplotlib.pyplot as plt\n",
    "import random\n",
    "\n",
    "\n",
    "def reduce_dimensions(model, num_dimensions=2, words=[]):\n",
    "\n",
    "    vectors = [] # positions in vector space\n",
    "    labels = [] # keep track of words to label our data again later\n",
    "    word_count = 0\n",
    "    \n",
    "    # if no word list is given, assume we want to use the whole data in the model\n",
    "    if(words == []):\n",
    "        words = model.wv.index_to_key\n",
    "\n",
    "    for word in words:\n",
    "        vectors.append(model.wv[word])\n",
    "        labels.append(word)\n",
    "\n",
    "    # convert both lists into numpy vectors for reduction\n",
    "    vectors = np.asarray(vectors)\n",
    "    labels = np.asarray(labels)\n",
    "\n",
    "    # reduce using t-SNE\n",
    "    tsne = TSNE(n_components=num_dimensions, random_state=0)\n",
    "    vectors = tsne.fit_transform(vectors)\n",
    "\n",
    "    return vectors, labels\n",
    "\n",
    "\n",
    "# 2 dimension plotting\n",
    "def plot_with_matplotlib(x_vals, y_vals, labels, words=[]):\n",
    "\n",
    "    random.seed(0)\n",
    "    \n",
    "    x_vals_new = np.array([])\n",
    "    y_vals_new = np.array([])\n",
    "    labels_new = np.array([])\n",
    "    if(words == []):\n",
    "        # if no word list is given, assume we want to plot the whole data\n",
    "        x_vals_new = x_vals\n",
    "        y_vals_new = y_vals\n",
    "        labels_new = labels\n",
    "    else:\n",
    "        for i in range(len(labels)):\n",
    "            if(labels[i] in words):\n",
    "                x_vals_new = np.append(x_vals_new,x_vals[i])\n",
    "                y_vals_new = np.append(y_vals_new,y_vals[i])\n",
    "                labels_new = np.append(labels_new,labels[i])\n",
    "    \n",
    "    plt.figure(figsize=(12, 12))\n",
    "    plt.scatter(x_vals_new, y_vals_new)\n",
    "\n",
    "    # apply labels\n",
    "    for i in range(len(labels_new)):\n",
    "        plt.annotate(labels_new[i], (x_vals_new[i], y_vals_new[i]))\n",
    "    \n",
    "    plt.show()"
   ]
  },
  {
   "cell_type": "code",
   "execution_count": 26,
   "metadata": {},
   "outputs": [
    {
     "name": "stdout",
     "output_type": "stream",
     "text": [
      "[269.5624, 1.7829943, 220.81143, 50.533993] [-124.8034, -295.07968, -343.83212, -76.050934] ['king' 'man' 'queen' 'woman']\n"
     ]
    }
   ],
   "source": [
    "words = []\n",
    "words.extend([\"king\", \"man\", \"queen\", \"woman\"])\n",
    "\n",
    "vectors, labels = reduce_dimensions(model, 2, words)\n",
    "x_vals = [v[0] for v in vectors]\n",
    "y_vals = [v[1] for v in vectors]\n",
    "print(x_vals, y_vals, labels)"
   ]
  },
  {
   "cell_type": "code",
   "execution_count": 27,
   "metadata": {},
   "outputs": [
    {
     "data": {
      "image/png": "[encoded data removed]",
      "text/plain": [
       "<Figure size 864x864 with 1 Axes>"
      ]
     },
     "metadata": {
      "needs_background": "light"
     },
     "output_type": "display_data"
    }
   ],
   "source": [
    "plot_with_matplotlib(x_vals, y_vals, labels, [\"king\", \"man\", \"queen\", \"woman\"])"
   ]
  },
  {
   "cell_type": "markdown",
   "metadata": {},
   "source": [
    "## Portuguese embeddings\n",
    "\n",
    "A number of embeddings for Portuguese are available at [NILC](http://nilc.icmc.usp.br/embeddings), as well as at the [NLX-group](https://github.com/nlx-group/LX-DSemVectors)."
   ]
  },
  {
   "cell_type": "code",
   "execution_count": 28,
   "metadata": {},
   "outputs": [
    {
     "name": "stderr",
     "output_type": "stream",
     "text": [
      "2022-04-12 19:58:21,903 : INFO : loading projection weights from skip_s100.txt\n"
     ]
    },
    {
     "ename": "FileNotFoundError",
     "evalue": "[Errno 2] No such file or directory: 'skip_s100.txt'",
     "output_type": "error",
     "traceback": [
      "\u001b[1;31m---------------------------------------------------------------------------\u001b[0m",
      "\u001b[1;31mFileNotFoundError\u001b[0m                         Traceback (most recent call last)",
      "\u001b[1;32m<ipython-input-28-c7d048cd18cf>\u001b[0m in \u001b[0;36m<module>\u001b[1;34m\u001b[0m\n\u001b[0;32m      2\u001b[0m \u001b[1;33m\u001b[0m\u001b[0m\n\u001b[0;32m      3\u001b[0m \u001b[1;31m# takes a while to load...\u001b[0m\u001b[1;33m\u001b[0m\u001b[1;33m\u001b[0m\u001b[1;33m\u001b[0m\u001b[0m\n\u001b[1;32m----> 4\u001b[1;33m \u001b[0mmodel_pt\u001b[0m \u001b[1;33m=\u001b[0m \u001b[0mKeyedVectors\u001b[0m\u001b[1;33m.\u001b[0m\u001b[0mload_word2vec_format\u001b[0m\u001b[1;33m(\u001b[0m\u001b[1;34m'skip_s100.txt'\u001b[0m\u001b[1;33m)\u001b[0m\u001b[1;33m\u001b[0m\u001b[1;33m\u001b[0m\u001b[0m\n\u001b[0m",
      "\u001b[1;32m~\\AppData\\Roaming\\Python\\Python38\\site-packages\\gensim\\models\\keyedvectors.py\u001b[0m in \u001b[0;36mload_word2vec_format\u001b[1;34m(cls, fname, fvocab, binary, encoding, unicode_errors, limit, datatype, no_header)\u001b[0m\n\u001b[0;32m   1627\u001b[0m \u001b[1;33m\u001b[0m\u001b[0m\n\u001b[0;32m   1628\u001b[0m         \"\"\"\n\u001b[1;32m-> 1629\u001b[1;33m         return _load_word2vec_format(\n\u001b[0m\u001b[0;32m   1630\u001b[0m             \u001b[0mcls\u001b[0m\u001b[1;33m,\u001b[0m \u001b[0mfname\u001b[0m\u001b[1;33m,\u001b[0m \u001b[0mfvocab\u001b[0m\u001b[1;33m=\u001b[0m\u001b[0mfvocab\u001b[0m\u001b[1;33m,\u001b[0m \u001b[0mbinary\u001b[0m\u001b[1;33m=\u001b[0m\u001b[0mbinary\u001b[0m\u001b[1;33m,\u001b[0m \u001b[0mencoding\u001b[0m\u001b[1;33m=\u001b[0m\u001b[0mencoding\u001b[0m\u001b[1;33m,\u001b[0m \u001b[0municode_errors\u001b[0m\u001b[1;33m=\u001b[0m\u001b[0municode_errors\u001b[0m\u001b[1;33m,\u001b[0m\u001b[1;33m\u001b[0m\u001b[1;33m\u001b[0m\u001b[0m\n\u001b[0;32m   1631\u001b[0m             \u001b[0mlimit\u001b[0m\u001b[1;33m=\u001b[0m\u001b[0mlimit\u001b[0m\u001b[1;33m,\u001b[0m \u001b[0mdatatype\u001b[0m\u001b[1;33m=\u001b[0m\u001b[0mdatatype\u001b[0m\u001b[1;33m,\u001b[0m \u001b[0mno_header\u001b[0m\u001b[1;33m=\u001b[0m\u001b[0mno_header\u001b[0m\u001b[1;33m,\u001b[0m\u001b[1;33m\u001b[0m\u001b[1;33m\u001b[0m\u001b[0m\n",
      "\u001b[1;32m~\\AppData\\Roaming\\Python\\Python38\\site-packages\\gensim\\models\\keyedvectors.py\u001b[0m in \u001b[0;36m_load_word2vec_format\u001b[1;34m(cls, fname, fvocab, binary, encoding, unicode_errors, limit, datatype, no_header, binary_chunk_size)\u001b[0m\n\u001b[0;32m   1953\u001b[0m \u001b[1;33m\u001b[0m\u001b[0m\n\u001b[0;32m   1954\u001b[0m     \u001b[0mlogger\u001b[0m\u001b[1;33m.\u001b[0m\u001b[0minfo\u001b[0m\u001b[1;33m(\u001b[0m\u001b[1;34m\"loading projection weights from %s\"\u001b[0m\u001b[1;33m,\u001b[0m \u001b[0mfname\u001b[0m\u001b[1;33m)\u001b[0m\u001b[1;33m\u001b[0m\u001b[1;33m\u001b[0m\u001b[0m\n\u001b[1;32m-> 1955\u001b[1;33m     \u001b[1;32mwith\u001b[0m \u001b[0mutils\u001b[0m\u001b[1;33m.\u001b[0m\u001b[0mopen\u001b[0m\u001b[1;33m(\u001b[0m\u001b[0mfname\u001b[0m\u001b[1;33m,\u001b[0m \u001b[1;34m'rb'\u001b[0m\u001b[1;33m)\u001b[0m \u001b[1;32mas\u001b[0m \u001b[0mfin\u001b[0m\u001b[1;33m:\u001b[0m\u001b[1;33m\u001b[0m\u001b[1;33m\u001b[0m\u001b[0m\n\u001b[0m\u001b[0;32m   1956\u001b[0m         \u001b[1;32mif\u001b[0m \u001b[0mno_header\u001b[0m\u001b[1;33m:\u001b[0m\u001b[1;33m\u001b[0m\u001b[1;33m\u001b[0m\u001b[0m\n\u001b[0;32m   1957\u001b[0m             \u001b[1;31m# deduce both vocab_size & vector_size from 1st pass over file\u001b[0m\u001b[1;33m\u001b[0m\u001b[1;33m\u001b[0m\u001b[1;33m\u001b[0m\u001b[0m\n",
      "\u001b[1;32mC:\\ProgramData\\Anaconda3\\lib\\site-packages\\smart_open\\smart_open_lib.py\u001b[0m in \u001b[0;36mopen\u001b[1;34m(uri, mode, buffering, encoding, errors, newline, closefd, opener, ignore_ext, compression, transport_params)\u001b[0m\n\u001b[0;32m    186\u001b[0m         \u001b[0mtransport_params\u001b[0m \u001b[1;33m=\u001b[0m \u001b[1;33m{\u001b[0m\u001b[1;33m}\u001b[0m\u001b[1;33m\u001b[0m\u001b[1;33m\u001b[0m\u001b[0m\n\u001b[0;32m    187\u001b[0m \u001b[1;33m\u001b[0m\u001b[0m\n\u001b[1;32m--> 188\u001b[1;33m     fobj = _shortcut_open(\n\u001b[0m\u001b[0;32m    189\u001b[0m         \u001b[0muri\u001b[0m\u001b[1;33m,\u001b[0m\u001b[1;33m\u001b[0m\u001b[1;33m\u001b[0m\u001b[0m\n\u001b[0;32m    190\u001b[0m         \u001b[0mmode\u001b[0m\u001b[1;33m,\u001b[0m\u001b[1;33m\u001b[0m\u001b[1;33m\u001b[0m\u001b[0m\n",
      "\u001b[1;32mC:\\ProgramData\\Anaconda3\\lib\\site-packages\\smart_open\\smart_open_lib.py\u001b[0m in \u001b[0;36m_shortcut_open\u001b[1;34m(uri, mode, compression, buffering, encoding, errors, newline)\u001b[0m\n\u001b[0;32m    359\u001b[0m         \u001b[0mopen_kwargs\u001b[0m\u001b[1;33m[\u001b[0m\u001b[1;34m'errors'\u001b[0m\u001b[1;33m]\u001b[0m \u001b[1;33m=\u001b[0m \u001b[0merrors\u001b[0m\u001b[1;33m\u001b[0m\u001b[1;33m\u001b[0m\u001b[0m\n\u001b[0;32m    360\u001b[0m \u001b[1;33m\u001b[0m\u001b[0m\n\u001b[1;32m--> 361\u001b[1;33m     \u001b[1;32mreturn\u001b[0m \u001b[0m_builtin_open\u001b[0m\u001b[1;33m(\u001b[0m\u001b[0mlocal_path\u001b[0m\u001b[1;33m,\u001b[0m \u001b[0mmode\u001b[0m\u001b[1;33m,\u001b[0m \u001b[0mbuffering\u001b[0m\u001b[1;33m=\u001b[0m\u001b[0mbuffering\u001b[0m\u001b[1;33m,\u001b[0m \u001b[1;33m**\u001b[0m\u001b[0mopen_kwargs\u001b[0m\u001b[1;33m)\u001b[0m\u001b[1;33m\u001b[0m\u001b[1;33m\u001b[0m\u001b[0m\n\u001b[0m\u001b[0;32m    362\u001b[0m \u001b[1;33m\u001b[0m\u001b[0m\n\u001b[0;32m    363\u001b[0m \u001b[1;33m\u001b[0m\u001b[0m\n",
      "\u001b[1;31mFileNotFoundError\u001b[0m: [Errno 2] No such file or directory: 'skip_s100.txt'"
     ]
    }
   ],
   "source": [
    "from gensim.models import KeyedVectors\n",
    "\n",
    "# takes a while to load...\n",
    "model_pt = KeyedVectors.load_word2vec_format('skip_s100.txt')"
   ]
  },
  {
   "cell_type": "code",
   "execution_count": null,
   "metadata": {},
   "outputs": [],
   "source": [
    "# save model word vectors\n",
    "model_pt.save(\"pt_wv\")"
   ]
  },
  {
   "cell_type": "code",
   "execution_count": null,
   "metadata": {},
   "outputs": [],
   "source": [
    "# load model word vectors (much faster than the above)\n",
    "model_pt = gensim.models.KeyedVectors.load(\"pt_wv\")"
   ]
  },
  {
   "cell_type": "code",
   "execution_count": null,
   "metadata": {},
   "outputs": [],
   "source": [
    "model_pt.most_similar(positive=[\"cão\"])"
   ]
  },
  {
   "cell_type": "code",
   "execution_count": null,
   "metadata": {},
   "outputs": [],
   "source": [
    "model_pt.most_similar(positive=[\"rei\", \"mulher\"], negative=[\"homem\"])"
   ]
  },
  {
   "cell_type": "markdown",
   "metadata": {},
   "source": [
    "Make your own experiments!"
   ]
  },
  {
   "cell_type": "code",
   "execution_count": null,
   "metadata": {},
   "outputs": [],
   "source": [
    "# your code here\n"
   ]
  }
 ],
 "metadata": {
  "kernelspec": {
   "display_name": "Python 3",
   "language": "python",
   "name": "python3"
  },
  "language_info": {
   "codemirror_mode": {
    "name": "ipython",
    "version": 3
   },
   "file_extension": ".py",
   "mimetype": "text/x-python",
   "name": "python",
   "nbconvert_exporter": "python",
   "pygments_lexer": "ipython3",
   "version": "3.8.5"
  }
 },
 "nbformat": 4,
 "nbformat_minor": 2
}
