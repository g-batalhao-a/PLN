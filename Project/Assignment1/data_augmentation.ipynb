{
 "cells": [
  {
   "cell_type": "markdown",
   "id": "fa43cfb7",
   "metadata": {},
   "source": [
    "# Data augmentation\n",
    "\n",
    "As we have seen in the data_analysis notebook, the dataset is very imbalanced. In the classification notebook both undersampling and oversampling techniques were simple, non-complex, and yield no better results\n",
    "\n",
    "Regarding NLP, a strategy to balance the dataset is to perform data augmentation through translations. In this notebook we will translate the tokens from the minority classes to a random language and then translate it back to portuguese, so sentences with the same meaning but writting in slittly diferent order are created"
   ]
  },
  {
   "cell_type": "code",
   "execution_count": 1,
   "id": "0de389a0",
   "metadata": {},
   "outputs": [],
   "source": [
    "import pandas as pd\n",
    "df = pd.read_excel('./data/OpArticles_ADUs.xlsx')"
   ]
  },
  {
   "cell_type": "markdown",
   "id": "a2307990",
   "metadata": {},
   "source": [
    "Split the data so we only perform data augmentation in the training set, avoid data leakage to the test set"
   ]
  },
  {
   "cell_type": "code",
   "execution_count": 42,
   "id": "7146af1a",
   "metadata": {},
   "outputs": [],
   "source": [
    "from sklearn.model_selection import train_test_split\n",
    "\n",
    "X = df.drop(columns='label')\n",
    "y = df['label']\n",
    "\n",
    "X_train, X_test, y_train, y_test = train_test_split(X, y, test_size=0.20, random_state=0, stratify=y)\n"
   ]
  },
  {
   "cell_type": "code",
   "execution_count": 44,
   "id": "80aa194f",
   "metadata": {},
   "outputs": [
    {
     "name": "stdout",
     "output_type": "stream",
     "text": [
      "2674     Value(-)\n",
      "7609     Value(-)\n",
      "10747    Value(-)\n",
      "12931        Fact\n",
      "4107     Value(+)\n",
      "           ...   \n",
      "8773        Value\n",
      "13538    Value(-)\n",
      "1782        Value\n",
      "9772        Value\n",
      "11212       Value\n",
      "Name: label, Length: 3349, dtype: object\n"
     ]
    }
   ],
   "source": [
    "print(y_test)"
   ]
  },
  {
   "cell_type": "code",
   "execution_count": 43,
   "id": "8f9d17a1",
   "metadata": {},
   "outputs": [
    {
     "name": "stdout",
     "output_type": "stream",
     "text": [
      "(13394, 5) (13394,)\n",
      "(3349, 5) (3349,)\n"
     ]
    }
   ],
   "source": [
    "print(X_train.shape, y_train.shape)\n",
    "print(X_test.shape, y_test.shape)"
   ]
  },
  {
   "cell_type": "code",
   "execution_count": 3,
   "id": "9190d541",
   "metadata": {},
   "outputs": [
    {
     "data": {
      "text/html": [
       "<div>\n",
       "<style scoped>\n",
       "    .dataframe tbody tr th:only-of-type {\n",
       "        vertical-align: middle;\n",
       "    }\n",
       "\n",
       "    .dataframe tbody tr th {\n",
       "        vertical-align: top;\n",
       "    }\n",
       "\n",
       "    .dataframe thead th {\n",
       "        text-align: right;\n",
       "    }\n",
       "</style>\n",
       "<table border=\"1\" class=\"dataframe\">\n",
       "  <thead>\n",
       "    <tr style=\"text-align: right;\">\n",
       "      <th></th>\n",
       "      <th>article_id</th>\n",
       "      <th>annotator</th>\n",
       "      <th>node</th>\n",
       "      <th>ranges</th>\n",
       "      <th>tokens</th>\n",
       "    </tr>\n",
       "  </thead>\n",
       "  <tbody>\n",
       "    <tr>\n",
       "      <th>2754</th>\n",
       "      <td>5cf4789f896a7fea0600d732</td>\n",
       "      <td>B</td>\n",
       "      <td>16</td>\n",
       "      <td>[[2244, 2333]]</td>\n",
       "      <td>A efetivação dos direitos requer mediações ent...</td>\n",
       "    </tr>\n",
       "    <tr>\n",
       "      <th>1046</th>\n",
       "      <td>5d04c332896a7fea06a0dfa5</td>\n",
       "      <td>C</td>\n",
       "      <td>1</td>\n",
       "      <td>[[957, 1080]]</td>\n",
       "      <td>Adeptos, patrocinadores e operadores televisiv...</td>\n",
       "    </tr>\n",
       "    <tr>\n",
       "      <th>10426</th>\n",
       "      <td>5cf46162896a7fea06ff8973</td>\n",
       "      <td>B</td>\n",
       "      <td>4</td>\n",
       "      <td>[[944, 1008]]</td>\n",
       "      <td>pouco mais de um terço dos contratos anunciado...</td>\n",
       "    </tr>\n",
       "    <tr>\n",
       "      <th>4186</th>\n",
       "      <td>5cf4719e896a7fea060082ee</td>\n",
       "      <td>D</td>\n",
       "      <td>9</td>\n",
       "      <td>[[2011, 2027]]</td>\n",
       "      <td>exige tratamento</td>\n",
       "    </tr>\n",
       "    <tr>\n",
       "      <th>4059</th>\n",
       "      <td>5cf47206896a7fea06008592</td>\n",
       "      <td>A</td>\n",
       "      <td>7</td>\n",
       "      <td>[[1591, 1602]]</td>\n",
       "      <td>fiabilidade</td>\n",
       "    </tr>\n",
       "    <tr>\n",
       "      <th>...</th>\n",
       "      <td>...</td>\n",
       "      <td>...</td>\n",
       "      <td>...</td>\n",
       "      <td>...</td>\n",
       "      <td>...</td>\n",
       "    </tr>\n",
       "    <tr>\n",
       "      <th>9073</th>\n",
       "      <td>5cf462d0896a7fea06ff9424</td>\n",
       "      <td>D</td>\n",
       "      <td>17</td>\n",
       "      <td>[[3462, 3582]]</td>\n",
       "      <td>houve já o cuidado de dilatar a sua entrada em...</td>\n",
       "    </tr>\n",
       "    <tr>\n",
       "      <th>11072</th>\n",
       "      <td>5cf46047896a7fea06ff6fe8</td>\n",
       "      <td>B</td>\n",
       "      <td>33</td>\n",
       "      <td>[[3804, 3892]]</td>\n",
       "      <td>melhoraram, reforçaram os seus procedimentos d...</td>\n",
       "    </tr>\n",
       "    <tr>\n",
       "      <th>15771</th>\n",
       "      <td>5ce393e4896a7fea066355bd</td>\n",
       "      <td>A</td>\n",
       "      <td>0</td>\n",
       "      <td>[[189, 301]]</td>\n",
       "      <td>Os problemas do Centro Cultural de Belém (CCB)...</td>\n",
       "    </tr>\n",
       "    <tr>\n",
       "      <th>11269</th>\n",
       "      <td>5cf46092896a7fea06ff7210</td>\n",
       "      <td>B</td>\n",
       "      <td>0</td>\n",
       "      <td>[[2327, 2412]]</td>\n",
       "      <td>abertura histórica de sanções à Hungria, no âm...</td>\n",
       "    </tr>\n",
       "    <tr>\n",
       "      <th>5794</th>\n",
       "      <td>5cf46a05896a7fea06000656</td>\n",
       "      <td>C</td>\n",
       "      <td>0</td>\n",
       "      <td>[[1139, 1244]]</td>\n",
       "      <td>esta massificação do acesso tem sido conseguid...</td>\n",
       "    </tr>\n",
       "  </tbody>\n",
       "</table>\n",
       "<p>13394 rows × 5 columns</p>\n",
       "</div>"
      ],
      "text/plain": [
       "                     article_id annotator  node          ranges  \\\n",
       "2754   5cf4789f896a7fea0600d732         B    16  [[2244, 2333]]   \n",
       "1046   5d04c332896a7fea06a0dfa5         C     1   [[957, 1080]]   \n",
       "10426  5cf46162896a7fea06ff8973         B     4   [[944, 1008]]   \n",
       "4186   5cf4719e896a7fea060082ee         D     9  [[2011, 2027]]   \n",
       "4059   5cf47206896a7fea06008592         A     7  [[1591, 1602]]   \n",
       "...                         ...       ...   ...             ...   \n",
       "9073   5cf462d0896a7fea06ff9424         D    17  [[3462, 3582]]   \n",
       "11072  5cf46047896a7fea06ff6fe8         B    33  [[3804, 3892]]   \n",
       "15771  5ce393e4896a7fea066355bd         A     0    [[189, 301]]   \n",
       "11269  5cf46092896a7fea06ff7210         B     0  [[2327, 2412]]   \n",
       "5794   5cf46a05896a7fea06000656         C     0  [[1139, 1244]]   \n",
       "\n",
       "                                                  tokens  \n",
       "2754   A efetivação dos direitos requer mediações ent...  \n",
       "1046   Adeptos, patrocinadores e operadores televisiv...  \n",
       "10426  pouco mais de um terço dos contratos anunciado...  \n",
       "4186                                    exige tratamento  \n",
       "4059                                         fiabilidade  \n",
       "...                                                  ...  \n",
       "9073   houve já o cuidado de dilatar a sua entrada em...  \n",
       "11072  melhoraram, reforçaram os seus procedimentos d...  \n",
       "15771  Os problemas do Centro Cultural de Belém (CCB)...  \n",
       "11269  abertura histórica de sanções à Hungria, no âm...  \n",
       "5794   esta massificação do acesso tem sido conseguid...  \n",
       "\n",
       "[13394 rows x 5 columns]"
      ]
     },
     "execution_count": 3,
     "metadata": {},
     "output_type": "execute_result"
    }
   ],
   "source": [
    "X_train"
   ]
  },
  {
   "cell_type": "code",
   "execution_count": 4,
   "id": "9573473a",
   "metadata": {},
   "outputs": [
    {
     "data": {
      "text/plain": [
       "2754        Value\n",
       "1046     Value(-)\n",
       "10426        Fact\n",
       "4186         Fact\n",
       "4059         Fact\n",
       "           ...   \n",
       "9073         Fact\n",
       "11072    Value(+)\n",
       "15771       Value\n",
       "11269        Fact\n",
       "5794     Value(-)\n",
       "Name: label, Length: 13394, dtype: object"
      ]
     },
     "execution_count": 4,
     "metadata": {},
     "output_type": "execute_result"
    }
   ],
   "source": [
    "y_train"
   ]
  },
  {
   "cell_type": "code",
   "execution_count": 5,
   "id": "ab722916",
   "metadata": {},
   "outputs": [],
   "source": [
    "df_train = pd.concat([X_train, y_train], axis=1)\n",
    "df_test = pd.concat([X_test, y_test], axis=1)"
   ]
  },
  {
   "cell_type": "code",
   "execution_count": 6,
   "id": "584da1a2",
   "metadata": {},
   "outputs": [
    {
     "data": {
      "text/html": [
       "<div>\n",
       "<style scoped>\n",
       "    .dataframe tbody tr th:only-of-type {\n",
       "        vertical-align: middle;\n",
       "    }\n",
       "\n",
       "    .dataframe tbody tr th {\n",
       "        vertical-align: top;\n",
       "    }\n",
       "\n",
       "    .dataframe thead th {\n",
       "        text-align: right;\n",
       "    }\n",
       "</style>\n",
       "<table border=\"1\" class=\"dataframe\">\n",
       "  <thead>\n",
       "    <tr style=\"text-align: right;\">\n",
       "      <th></th>\n",
       "      <th>article_id</th>\n",
       "      <th>annotator</th>\n",
       "      <th>node</th>\n",
       "      <th>ranges</th>\n",
       "      <th>tokens</th>\n",
       "      <th>label</th>\n",
       "    </tr>\n",
       "  </thead>\n",
       "  <tbody>\n",
       "    <tr>\n",
       "      <th>2754</th>\n",
       "      <td>5cf4789f896a7fea0600d732</td>\n",
       "      <td>B</td>\n",
       "      <td>16</td>\n",
       "      <td>[[2244, 2333]]</td>\n",
       "      <td>A efetivação dos direitos requer mediações ent...</td>\n",
       "      <td>Value</td>\n",
       "    </tr>\n",
       "    <tr>\n",
       "      <th>1046</th>\n",
       "      <td>5d04c332896a7fea06a0dfa5</td>\n",
       "      <td>C</td>\n",
       "      <td>1</td>\n",
       "      <td>[[957, 1080]]</td>\n",
       "      <td>Adeptos, patrocinadores e operadores televisiv...</td>\n",
       "      <td>Value(-)</td>\n",
       "    </tr>\n",
       "    <tr>\n",
       "      <th>10426</th>\n",
       "      <td>5cf46162896a7fea06ff8973</td>\n",
       "      <td>B</td>\n",
       "      <td>4</td>\n",
       "      <td>[[944, 1008]]</td>\n",
       "      <td>pouco mais de um terço dos contratos anunciado...</td>\n",
       "      <td>Fact</td>\n",
       "    </tr>\n",
       "    <tr>\n",
       "      <th>4186</th>\n",
       "      <td>5cf4719e896a7fea060082ee</td>\n",
       "      <td>D</td>\n",
       "      <td>9</td>\n",
       "      <td>[[2011, 2027]]</td>\n",
       "      <td>exige tratamento</td>\n",
       "      <td>Fact</td>\n",
       "    </tr>\n",
       "    <tr>\n",
       "      <th>4059</th>\n",
       "      <td>5cf47206896a7fea06008592</td>\n",
       "      <td>A</td>\n",
       "      <td>7</td>\n",
       "      <td>[[1591, 1602]]</td>\n",
       "      <td>fiabilidade</td>\n",
       "      <td>Fact</td>\n",
       "    </tr>\n",
       "    <tr>\n",
       "      <th>...</th>\n",
       "      <td>...</td>\n",
       "      <td>...</td>\n",
       "      <td>...</td>\n",
       "      <td>...</td>\n",
       "      <td>...</td>\n",
       "      <td>...</td>\n",
       "    </tr>\n",
       "    <tr>\n",
       "      <th>9073</th>\n",
       "      <td>5cf462d0896a7fea06ff9424</td>\n",
       "      <td>D</td>\n",
       "      <td>17</td>\n",
       "      <td>[[3462, 3582]]</td>\n",
       "      <td>houve já o cuidado de dilatar a sua entrada em...</td>\n",
       "      <td>Fact</td>\n",
       "    </tr>\n",
       "    <tr>\n",
       "      <th>11072</th>\n",
       "      <td>5cf46047896a7fea06ff6fe8</td>\n",
       "      <td>B</td>\n",
       "      <td>33</td>\n",
       "      <td>[[3804, 3892]]</td>\n",
       "      <td>melhoraram, reforçaram os seus procedimentos d...</td>\n",
       "      <td>Value(+)</td>\n",
       "    </tr>\n",
       "    <tr>\n",
       "      <th>15771</th>\n",
       "      <td>5ce393e4896a7fea066355bd</td>\n",
       "      <td>A</td>\n",
       "      <td>0</td>\n",
       "      <td>[[189, 301]]</td>\n",
       "      <td>Os problemas do Centro Cultural de Belém (CCB)...</td>\n",
       "      <td>Value</td>\n",
       "    </tr>\n",
       "    <tr>\n",
       "      <th>11269</th>\n",
       "      <td>5cf46092896a7fea06ff7210</td>\n",
       "      <td>B</td>\n",
       "      <td>0</td>\n",
       "      <td>[[2327, 2412]]</td>\n",
       "      <td>abertura histórica de sanções à Hungria, no âm...</td>\n",
       "      <td>Fact</td>\n",
       "    </tr>\n",
       "    <tr>\n",
       "      <th>5794</th>\n",
       "      <td>5cf46a05896a7fea06000656</td>\n",
       "      <td>C</td>\n",
       "      <td>0</td>\n",
       "      <td>[[1139, 1244]]</td>\n",
       "      <td>esta massificação do acesso tem sido conseguid...</td>\n",
       "      <td>Value(-)</td>\n",
       "    </tr>\n",
       "  </tbody>\n",
       "</table>\n",
       "<p>13394 rows × 6 columns</p>\n",
       "</div>"
      ],
      "text/plain": [
       "                     article_id annotator  node          ranges  \\\n",
       "2754   5cf4789f896a7fea0600d732         B    16  [[2244, 2333]]   \n",
       "1046   5d04c332896a7fea06a0dfa5         C     1   [[957, 1080]]   \n",
       "10426  5cf46162896a7fea06ff8973         B     4   [[944, 1008]]   \n",
       "4186   5cf4719e896a7fea060082ee         D     9  [[2011, 2027]]   \n",
       "4059   5cf47206896a7fea06008592         A     7  [[1591, 1602]]   \n",
       "...                         ...       ...   ...             ...   \n",
       "9073   5cf462d0896a7fea06ff9424         D    17  [[3462, 3582]]   \n",
       "11072  5cf46047896a7fea06ff6fe8         B    33  [[3804, 3892]]   \n",
       "15771  5ce393e4896a7fea066355bd         A     0    [[189, 301]]   \n",
       "11269  5cf46092896a7fea06ff7210         B     0  [[2327, 2412]]   \n",
       "5794   5cf46a05896a7fea06000656         C     0  [[1139, 1244]]   \n",
       "\n",
       "                                                  tokens     label  \n",
       "2754   A efetivação dos direitos requer mediações ent...     Value  \n",
       "1046   Adeptos, patrocinadores e operadores televisiv...  Value(-)  \n",
       "10426  pouco mais de um terço dos contratos anunciado...      Fact  \n",
       "4186                                    exige tratamento      Fact  \n",
       "4059                                         fiabilidade      Fact  \n",
       "...                                                  ...       ...  \n",
       "9073   houve já o cuidado de dilatar a sua entrada em...      Fact  \n",
       "11072  melhoraram, reforçaram os seus procedimentos d...  Value(+)  \n",
       "15771  Os problemas do Centro Cultural de Belém (CCB)...     Value  \n",
       "11269  abertura histórica de sanções à Hungria, no âm...      Fact  \n",
       "5794   esta massificação do acesso tem sido conseguid...  Value(-)  \n",
       "\n",
       "[13394 rows x 6 columns]"
      ]
     },
     "execution_count": 6,
     "metadata": {},
     "output_type": "execute_result"
    }
   ],
   "source": [
    "df_train"
   ]
  },
  {
   "cell_type": "markdown",
   "id": "196b4166",
   "metadata": {},
   "source": [
    "Save files for later use instead of running this part of the notebook"
   ]
  },
  {
   "cell_type": "code",
   "execution_count": 7,
   "id": "431f6e1a",
   "metadata": {},
   "outputs": [],
   "source": [
    "df_train.to_csv('./data/augmented/OpArticles_ADUs_train.csv', index=False)\n",
    "df_test.to_csv('./data/augmented/OpArticles_ADUs_test.csv', index=False)"
   ]
  },
  {
   "cell_type": "markdown",
   "id": "fbe87507",
   "metadata": {},
   "source": [
    "Function for translation using Google Translator"
   ]
  },
  {
   "cell_type": "code",
   "execution_count": 8,
   "id": "a28a113d",
   "metadata": {},
   "outputs": [],
   "source": [
    "from googletrans import Translator\n",
    "import random\n",
    "sr = random.SystemRandom(x=0)\n",
    "\n",
    "translator = Translator()\n",
    "\n",
    "def back_translate(sentences, aug_range=1):\n",
    "    augmented_messages = []\n",
    "\n",
    "    languages = [\"es\", \"te\", \"it\", \"nl\", \"en\", \"ar\", \"no\", \"de\", \"ja\", \"fr\", \"hr\", \"bg\", \"hi\", \"gu\"]\n",
    "    for i in range(0, aug_range):\n",
    "        dest_lang = sr.choice(languages)\n",
    "        languages.remove(dest_lang)\n",
    "        print(f\"Iter {i} with lang {dest_lang}\")\n",
    "\n",
    "        translations = translator.translate(sentences, src=\"pt\", dest=dest_lang) # Converting to random langauge for meaningful variation\n",
    "        back_translations = translator.translate([t.text for t in translations], src=dest_lang, dest=\"pt\") # Convert back to portuguese\n",
    "\n",
    "        augmented_messages += [bt.text for bt in back_translations]\n",
    "\n",
    "    return augmented_messages"
   ]
  },
  {
   "cell_type": "code",
   "execution_count": 10,
   "id": "688734cc",
   "metadata": {},
   "outputs": [
    {
     "name": "stdout",
     "output_type": "stream",
     "text": [
      "Iter 0 with lang te\n",
      "Iter 1 with lang de\n",
      "Iter 2 with lang it\n"
     ]
    },
    {
     "data": {
      "text/plain": [
       "['Estou a estudar engenharia, grita Porto quando passo. Eu amo o processamento de linguagem natural',\n",
       " 'Estou a estudar engenharia, grita Porto ao passar. Eu realmente gosto de processamento de linguagem natural',\n",
       " 'Estou a estudar para ser engenheiro, grita o Porto quando passo. Eu realmente gosto de processamento de linguagem natural']"
      ]
     },
     "execution_count": 10,
     "metadata": {},
     "output_type": "execute_result"
    }
   ],
   "source": [
    "back_translate([\"Estou a estudar para engenheiro, o Porto berra quando eu passo. Gosto muito de processamento natural de linguagem\"], 3)"
   ]
  },
  {
   "cell_type": "code",
   "execution_count": 11,
   "id": "4400d94b",
   "metadata": {},
   "outputs": [
    {
     "data": {
      "text/plain": [
       "Value       6481\n",
       "Fact        2930\n",
       "Value(-)    2320\n",
       "Value(+)    1129\n",
       "Policy       534\n",
       "Name: label, dtype: int64"
      ]
     },
     "execution_count": 11,
     "metadata": {},
     "output_type": "execute_result"
    }
   ],
   "source": [
    "## Dictionary for label count\n",
    "label_count = df_train[\"label\"].value_counts().to_dict()\n",
    "\n",
    "df_train[\"label\"].value_counts()"
   ]
  },
  {
   "cell_type": "code",
   "execution_count": 12,
   "id": "8fd3fbca",
   "metadata": {},
   "outputs": [],
   "source": [
    "## Get max intent count to match other minority classes through data augmentation\n",
    "import operator\n",
    "max_label_count = max(label_count.items(), key=operator.itemgetter(1))[1]"
   ]
  },
  {
   "cell_type": "markdown",
   "id": "8aa5109c",
   "metadata": {},
   "source": [
    "Iterate through minority labels' tokens and apply data augmentation function"
   ]
  },
  {
   "cell_type": "code",
   "execution_count": null,
   "id": "68a19994",
   "metadata": {},
   "outputs": [],
   "source": [
    "import numpy as np\n",
    "import math\n",
    "\n",
    "## Loop to iterate all tokens\n",
    "df_train_aug = pd.read_csv('./data/augmented/Op_Articles_ADUs_train_aug_+_Value(-).csv')\n",
    "for label, count in label_count.items():\n",
    "    if label == \"Policy\":\n",
    "        count_diff = max_label_count - count    ## Difference to fill\n",
    "        multiplication_count = math.ceil((count_diff)/count)  ## Multiplying a minority classes for multiplication_count times\n",
    "\n",
    "        if count_diff > 0:\n",
    "            print(f\"Augmenting {label} {multiplication_count} times\")\n",
    "\n",
    "            new_aug_df = pd.DataFrame(back_translate(df_train[df_train[\"label\"] == label][\"tokens\"].to_list()), columns=['tokens'])\n",
    "            new_aug_df = new_aug_df.take(np.random.permutation(len(new_aug_df))[:count_diff])\n",
    "            new_aug_df['label'] = label\n",
    "\n",
    "            new_aug_df.to_csv('./data/augmented/OpArticles_ADUs_train_aug_' + label + '.csv', index=False)\n",
    "            \n",
    "            ## Merge existing and augmented data points\n",
    "            df_train_aug = pd.concat([df_train_aug, new_aug_df])\n",
    "            df_train_aug.to_csv('./data/augmented/OpArticles_ADUs_train_aug.csv', index=False)"
   ]
  },
  {
   "cell_type": "code",
   "execution_count": 13,
   "id": "8b1cf362",
   "metadata": {},
   "outputs": [],
   "source": [
    "df_train_aug = pd.read_csv('./data/augmented/OpArticles_ADUs_train_aug.csv')"
   ]
  },
  {
   "cell_type": "code",
   "execution_count": 14,
   "id": "c0e482bb",
   "metadata": {},
   "outputs": [
    {
     "data": {
      "text/plain": [
       "Value       6481\n",
       "Fact        6481\n",
       "Policy      6481\n",
       "Value(+)    6481\n",
       "Value(-)    6481\n",
       "Name: label, dtype: int64"
      ]
     },
     "execution_count": 14,
     "metadata": {},
     "output_type": "execute_result"
    }
   ],
   "source": [
    "# Print count of all new data points\n",
    "df_train_aug.label.value_counts()"
   ]
  },
  {
   "cell_type": "markdown",
   "id": "7fff229c",
   "metadata": {},
   "source": [
    "## Preprocess Train and Test"
   ]
  },
  {
   "cell_type": "code",
   "execution_count": 32,
   "id": "46bf0cee",
   "metadata": {},
   "outputs": [],
   "source": [
    "import re\n",
    "from nltk.stem import RSLPStemmer\n",
    "from nltk.corpus import stopwords\n",
    "\n",
    "stopwords_list = stopwords.words('portuguese')\n",
    "stopwords_list.remove('não')\n",
    "\n",
    "def preprocess(df):\n",
    "    corpus = []\n",
    "    stemmer = RSLPStemmer()\n",
    "    for sentence in df['tokens']:\n",
    "        # get review and remove non alpha chars\n",
    "        review = re.sub('[^a-zA-Z\\u00C0-\\u00ff]', ' ', sentence)\n",
    "        # to lower-case \n",
    "        review = review.lower()\n",
    "        # split into tokens, apply stemming and remove stop words\n",
    "        review = ' '.join([stemmer.stem(w) for w in review.split() if not w in set(stopwords_list)])\n",
    "        corpus.append(review)\n",
    "    \n",
    "    return corpus"
   ]
  },
  {
   "cell_type": "code",
   "execution_count": 35,
   "id": "68084ad0",
   "metadata": {},
   "outputs": [],
   "source": [
    "corpus_train = preprocess(df_train_aug)\n",
    "corpus_test = preprocess(df_test)"
   ]
  },
  {
   "cell_type": "code",
   "execution_count": 45,
   "id": "2a29101c",
   "metadata": {},
   "outputs": [
    {
     "name": "stdout",
     "output_type": "stream",
     "text": [
      "(32405, 31809) (32405,)\n",
      "(3349, 31809) (3349,)\n"
     ]
    }
   ],
   "source": [
    "from sklearn.feature_extraction.text import TfidfVectorizer\n",
    "    \n",
    "vectorizer = TfidfVectorizer(ngram_range=(1,2), min_df=3, max_df=0.8)\n",
    "X_train = vectorizer.fit_transform(corpus_train).toarray()\n",
    "y_train = df_train_aug['label']\n",
    "\n",
    "X_test = vectorizer.transform(corpus_test).toarray()\n",
    "y_test = df_test['label']\n",
    "\n",
    "print(X_train.shape, y_train.shape)\n",
    "print(X_test.shape, y_test.shape)"
   ]
  },
  {
   "cell_type": "code",
   "execution_count": 46,
   "id": "09fff97b",
   "metadata": {},
   "outputs": [],
   "source": [
    "# Metrics\n",
    "from sklearn.metrics import confusion_matrix, ConfusionMatrixDisplay, classification_report\n",
    "from time import time\n",
    "\n",
    "# Cross Validation and Hyper Tuning\n",
    "from sklearn.model_selection import train_test_split, StratifiedKFold, GridSearchCV\n",
    "\n",
    "# Classifiers\n",
    "from sklearn.naive_bayes import MultinomialNB, ComplementNB\n",
    "from sklearn.linear_model import LogisticRegression\n",
    "from sklearn.linear_model import SGDClassifier\n",
    "from sklearn.tree import DecisionTreeClassifier\n",
    "from sklearn.ensemble import RandomForestClassifier\n",
    "from sklearn.neighbors import KNeighborsClassifier\n",
    "from sklearn.svm import SVC\n",
    "from sklearn.linear_model import Perceptron\n",
    "import xgboost as xgb"
   ]
  },
  {
   "cell_type": "code",
   "execution_count": 47,
   "id": "9c7b63f4",
   "metadata": {},
   "outputs": [],
   "source": [
    "def predict(clf, XT=X_train, yT=y_train):\n",
    "    start_time = time()\n",
    "    clf.fit(XT, yT)\n",
    "    y_pred = clf.predict(X_test)\n",
    "    stop_time = time()\n",
    "\n",
    "    # Metrics\n",
    "    print(\"Elapsed time: %0.2fs\" % (stop_time - start_time))\n",
    "    print(\"\\nClassification report:\\n\", classification_report(y_test, y_pred))\n",
    "    ConfusionMatrixDisplay(confusion_matrix(y_test, y_pred, labels=clf.classes_), display_labels=clf.classes_).plot()"
   ]
  },
  {
   "cell_type": "code",
   "execution_count": 48,
   "id": "295f50c2",
   "metadata": {},
   "outputs": [
    {
     "name": "stdout",
     "output_type": "stream",
     "text": [
      "Elapsed time: 65.50s\n",
      "\n",
      "Classification report:\n",
      "               precision    recall  f1-score   support\n",
      "\n",
      "        Fact       0.42      0.45      0.43       733\n",
      "      Policy       0.35      0.65      0.46       133\n",
      "       Value       0.65      0.39      0.49      1621\n",
      "    Value(+)       0.27      0.57      0.37       282\n",
      "    Value(-)       0.43      0.57      0.49       580\n",
      "\n",
      "    accuracy                           0.46      3349\n",
      "   macro avg       0.43      0.53      0.45      3349\n",
      "weighted avg       0.52      0.46      0.46      3349\n",
      "\n"
     ]
    },
    {
     "data": {
      "image/png": "[encoded data removed]",
      "text/plain": [
       "<Figure size 432x288 with 2 Axes>"
      ]
     },
     "metadata": {
      "needs_background": "light"
     },
     "output_type": "display_data"
    }
   ],
   "source": [
    "predict(SGDClassifier(random_state=0, n_jobs=-1))"
   ]
  }
 ],
 "metadata": {
  "kernelspec": {
   "display_name": "Python 3 (ipykernel)",
   "language": "python",
   "name": "python3"
  },
  "language_info": {
   "codemirror_mode": {
    "name": "ipython",
    "version": 3
   },
   "file_extension": ".py",
   "mimetype": "text/x-python",
   "name": "python",
   "nbconvert_exporter": "python",
   "pygments_lexer": "ipython3",
   "version": "3.8.13"
  }
 },
 "nbformat": 4,
 "nbformat_minor": 5
}
