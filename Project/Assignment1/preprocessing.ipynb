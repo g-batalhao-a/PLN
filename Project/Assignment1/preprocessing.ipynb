{
 "cells": [
  {
   "cell_type": "markdown",
   "metadata": {},
   "source": [
    "# Testing Stopwords, Stemming and Lemmatization"
   ]
  },
  {
   "cell_type": "markdown",
   "metadata": {},
   "source": [
    "## Portuguese Stopwords"
   ]
  },
  {
   "cell_type": "code",
   "execution_count": 1,
   "metadata": {},
   "outputs": [
    {
     "name": "stdout",
     "output_type": "stream",
     "text": [
      "['de', 'a', 'o', 'que', 'e', 'é', 'do', 'da', 'em', 'um', 'para', 'com', 'uma', 'os', 'no', 'se', 'na', 'por', 'mais', 'as', 'dos', 'como', 'mas', 'ao', 'ele', 'das', 'à', 'seu', 'sua', 'ou', 'quando', 'muito', 'nos', 'já', 'eu', 'também', 'só', 'pelo', 'pela', 'até', 'isso', 'ela', 'entre', 'depois', 'sem', 'mesmo', 'aos', 'seus', 'quem', 'nas', 'me', 'esse', 'eles', 'você', 'essa', 'num', 'nem', 'suas', 'meu', 'às', 'minha', 'numa', 'pelos', 'elas', 'qual', 'nós', 'lhe', 'deles', 'essas', 'esses', 'pelas', 'este', 'dele', 'tu', 'te', 'vocês', 'vos', 'lhes', 'meus', 'minhas', 'teu', 'tua', 'teus', 'tuas', 'nosso', 'nossa', 'nossos', 'nossas', 'dela', 'delas', 'esta', 'estes', 'estas', 'aquele', 'aquela', 'aqueles', 'aquelas', 'isto', 'aquilo', 'estou', 'está', 'estamos', 'estão', 'estive', 'esteve', 'estivemos', 'estiveram', 'estava', 'estávamos', 'estavam', 'estivera', 'estivéramos', 'esteja', 'estejamos', 'estejam', 'estivesse', 'estivéssemos', 'estivessem', 'estiver', 'estivermos', 'estiverem', 'hei', 'há', 'havemos', 'hão', 'houve', 'houvemos', 'houveram', 'houvera', 'houvéramos', 'haja', 'hajamos', 'hajam', 'houvesse', 'houvéssemos', 'houvessem', 'houver', 'houvermos', 'houverem', 'houverei', 'houverá', 'houveremos', 'houverão', 'houveria', 'houveríamos', 'houveriam', 'sou', 'somos', 'são', 'era', 'éramos', 'eram', 'fui', 'foi', 'fomos', 'foram', 'fora', 'fôramos', 'seja', 'sejamos', 'sejam', 'fosse', 'fôssemos', 'fossem', 'for', 'formos', 'forem', 'serei', 'será', 'seremos', 'serão', 'seria', 'seríamos', 'seriam', 'tenho', 'tem', 'temos', 'tém', 'tinha', 'tínhamos', 'tinham', 'tive', 'teve', 'tivemos', 'tiveram', 'tivera', 'tivéramos', 'tenha', 'tenhamos', 'tenham', 'tivesse', 'tivéssemos', 'tivessem', 'tiver', 'tivermos', 'tiverem', 'terei', 'terá', 'teremos', 'terão', 'teria', 'teríamos', 'teriam']\n"
     ]
    }
   ],
   "source": [
    "from nltk.corpus import stopwords\n",
    "\n",
    "stopwords_list = stopwords.words('portuguese')\n",
    "\n",
    "# Remover algumas palavras da lista, p.ex. \"não\" para manter a negação\n",
    "stopwords_list.remove('não')\n",
    "\n",
    "print(stopwords_list)"
   ]
  },
  {
   "cell_type": "code",
   "execution_count": 2,
   "metadata": {},
   "outputs": [],
   "source": [
    "text = \"Esta unidade curricular de Processamento de Linguagem Natural é extremamente divertida e útil porque nos ajuda a desenvolver novas competências no campo da Aprendizagem Computacional\""
   ]
  },
  {
   "cell_type": "code",
   "execution_count": 3,
   "metadata": {},
   "outputs": [
    {
     "data": {
      "text/plain": [
       "'Esta unidade curricular Processamento Linguagem Natural extremamente divertida útil porque ajuda desenvolver novas competências campo Aprendizagem Computacional'"
      ]
     },
     "execution_count": 3,
     "metadata": {},
     "output_type": "execute_result"
    }
   ],
   "source": [
    "' '.join([w for w in text.split() if w not in stopwords_list])"
   ]
  },
  {
   "cell_type": "markdown",
   "metadata": {},
   "source": [
    "## Stemming\n",
    "\n",
    "Stemming is the process of producing morphological variants of a root/base word"
   ]
  },
  {
   "cell_type": "code",
   "execution_count": 4,
   "metadata": {},
   "outputs": [
    {
     "name": "stdout",
     "output_type": "stream",
     "text": [
      "Porter Stemmer:\n",
      " esta unidad curricular de processamento de linguagem natur é extremament divertida e útil porqu no ajuda a desenvolv nova competência no campo da aprendizagem computacion\n",
      "\n",
      "Snowball Portugue Stemmer:\n",
      " esta unidad curricul de process de linguag natural é extrem divert e útil porqu nos ajud a desenvolv nov competent no camp da aprendizag computacional\n",
      "\n",
      "RSLP Stemmer:\n",
      " est unidad curricul de process de lingu natur é extrem divert e útil porqu no ajud a desenvolv nov compet no camp da aprendiz computac\n"
     ]
    }
   ],
   "source": [
    "from nltk.stem import PorterStemmer, RSLPStemmer\n",
    "from nltk.stem.snowball import PortugueseStemmer\n",
    "\n",
    "ps = PorterStemmer()\n",
    "snb = PortugueseStemmer()\n",
    "rslp = RSLPStemmer()\n",
    "\n",
    "text_list = text.split()\n",
    "\n",
    "print(\"Porter Stemmer:\\n\", ' '.join([ps.stem(w) for w in text_list]))\n",
    "print(\"\\nSnowball Portugue Stemmer:\\n\", ' '.join([snb.stem(w) for w in text_list]))\n",
    "print(\"\\nRSLP Stemmer:\\n\",' '.join([rslp.stem(w) for w in text_list]))"
   ]
  },
  {
   "cell_type": "markdown",
   "metadata": {},
   "source": [
    "#### Dataset"
   ]
  },
  {
   "cell_type": "code",
   "execution_count": 5,
   "metadata": {},
   "outputs": [],
   "source": [
    "import pandas as pd\n",
    "\n",
    "dataset = pd.read_excel('./data/OpArticles_ADUs.xlsx')"
   ]
  },
  {
   "cell_type": "markdown",
   "metadata": {},
   "source": [
    "Base code to test the different Stemmers with a TfidfVectorizer and ComplementNB Classifier, later compare their metrics"
   ]
  },
  {
   "cell_type": "code",
   "execution_count": 6,
   "metadata": {},
   "outputs": [],
   "source": [
    "import re\n",
    "from nltk.corpus import stopwords\n",
    "from sklearn.feature_extraction.text import TfidfVectorizer\n",
    "from sklearn.model_selection import train_test_split\n",
    "from sklearn.naive_bayes import ComplementNB\n",
    "from sklearn.metrics import confusion_matrix, ConfusionMatrixDisplay, classification_report\n",
    "import time\n",
    "\n",
    "stopwords_list = stopwords.words('portuguese')\n",
    "stopwords_list.remove('não')\n",
    "\n",
    "vectorizer = TfidfVectorizer()\n",
    "\n",
    "y = dataset['label']"
   ]
  },
  {
   "cell_type": "code",
   "execution_count": 7,
   "metadata": {},
   "outputs": [],
   "source": [
    "def test_stemmer(stemmer):\n",
    "    corpus = []\n",
    "\n",
    "    # Preprocess\n",
    "    start = time.time()\n",
    "    for i in range(0, dataset['tokens'].size):\n",
    "        # get review, remove and lowercase non alpha chars\n",
    "        review = re.sub('[^a-zA-Z\\u00C0-\\u00ff]', ' ', dataset['tokens'][i]).lower()\n",
    "        # split into tokens, apply stemming and remove stop words\n",
    "        review = ' '.join([stemmer.stem(w) for w in review.split() if w not in stopwords_list])\n",
    "        corpus.append(review)\n",
    "    stop = time.time()\n",
    "    print(\"Preprocess time: %0.2fs\" % (stop - start))\n",
    "    print(\"Corpus Set length: \", len(set(corpus)))\n",
    "\n",
    "    print(\"\\n\", corpus[:5])\n",
    "\n",
    "    # Fit vectorizer\n",
    "    X = vectorizer.fit_transform(corpus).toarray()\n",
    "    print(\"\\n(Number of samples, Number of features):\", X.shape)\n",
    "\n",
    "    X_train, X_test, y_train, y_test = train_test_split(X, y, test_size=0.20, random_state=0, stratify=y)\n",
    "\n",
    "    start = time.time()\n",
    "    clf = ComplementNB()\n",
    "    clf.fit(X_train, y_train)\n",
    "    y_pred = clf.predict(X_test)\n",
    "    stop = time.time()\n",
    "\n",
    "    print(\"\\nModel time: %0.2fs\" % (stop - start))\n",
    "    print(\"\\nClassification report:\\n\", classification_report(y_test, y_pred))\n",
    "    ConfusionMatrixDisplay(confusion_matrix(y_test, y_pred, labels=clf.classes_), display_labels=clf.classes_).plot()\n"
   ]
  },
  {
   "cell_type": "markdown",
   "metadata": {},
   "source": [
    "### Porter"
   ]
  },
  {
   "cell_type": "code",
   "execution_count": 8,
   "metadata": {},
   "outputs": [
    {
     "name": "stdout",
     "output_type": "stream",
     "text": [
      "Preprocess time: 4.14s\n",
      "Corpus Set length:  11761\n",
      "\n",
      " ['facto não apena fruto ignorância', 'havia humor jornalismo investigação preocupação aprofundar contextualizar história isenção relato preocupação social urgência denunciar muita peça realment jornalística', 'tudo cómico fifa', 'todo permitimo organização faça totalment absurdo sentido', 'não fazem rir custa poderoso']\n",
      "\n",
      "(Number of samples, Number of features): (16743, 15170)\n",
      "\n",
      "Model time: 0.85s\n",
      "\n",
      "Classification report:\n",
      "               precision    recall  f1-score   support\n",
      "\n",
      "        Fact       0.44      0.42      0.43       733\n",
      "      Policy       0.28      0.43      0.34       133\n",
      "       Value       0.61      0.60      0.60      1621\n",
      "    Value(+)       0.35      0.33      0.34       282\n",
      "    Value(-)       0.46      0.47      0.46       580\n",
      "\n",
      "    accuracy                           0.51      3349\n",
      "   macro avg       0.43      0.45      0.43      3349\n",
      "weighted avg       0.51      0.51      0.51      3349\n",
      "\n"
     ]
    },
    {
     "data": {
      "image/png": "[encoded data removed]",
      "text/plain": [
       "<Figure size 432x288 with 2 Axes>"
      ]
     },
     "metadata": {
      "needs_background": "light"
     },
     "output_type": "display_data"
    }
   ],
   "source": [
    "test_stemmer(ps)"
   ]
  },
  {
   "cell_type": "markdown",
   "metadata": {},
   "source": [
    "### Portuguese Snowball"
   ]
  },
  {
   "cell_type": "code",
   "execution_count": 9,
   "metadata": {},
   "outputs": [
    {
     "name": "stdout",
     "output_type": "stream",
     "text": [
      "Preprocess time: 4.63s\n",
      "Corpus Set length:  11753\n",
      "\n",
      " ['fact nã apen frut ignor', 'hav humor jornal investig preocup aprofund contextualiz histór isençã relat preocup social urgênc denunc muit pec realment jornalíst', 'tud cómic fif', 'tod permit organiz fac total absurd sent', 'nã faz rir cust poder']\n",
      "\n",
      "(Number of samples, Number of features): (16743, 9148)\n",
      "\n",
      "Model time: 0.52s\n",
      "\n",
      "Classification report:\n",
      "               precision    recall  f1-score   support\n",
      "\n",
      "        Fact       0.45      0.41      0.43       733\n",
      "      Policy       0.21      0.29      0.25       133\n",
      "       Value       0.60      0.61      0.60      1621\n",
      "    Value(+)       0.34      0.32      0.33       282\n",
      "    Value(-)       0.48      0.48      0.48       580\n",
      "\n",
      "    accuracy                           0.51      3349\n",
      "   macro avg       0.42      0.42      0.42      3349\n",
      "weighted avg       0.51      0.51      0.51      3349\n",
      "\n"
     ]
    },
    {
     "data": {
      "image/png": "[encoded data removed]",
      "text/plain": [
       "<Figure size 432x288 with 2 Axes>"
      ]
     },
     "metadata": {
      "needs_background": "light"
     },
     "output_type": "display_data"
    }
   ],
   "source": [
    "test_stemmer(snb)"
   ]
  },
  {
   "cell_type": "markdown",
   "metadata": {},
   "source": [
    "### RSLP"
   ]
  },
  {
   "cell_type": "code",
   "execution_count": 10,
   "metadata": {},
   "outputs": [
    {
     "name": "stdout",
     "output_type": "stream",
     "text": [
      "Preprocess time: 7.98s\n",
      "Corpus Set length:  11753\n",
      "\n",
      " ['fact não apen frut ignor', 'hav hum jorn investig preocup aprofund contextual histór isenç relat preocup soc urg denunci muit peç real jorn', 'tud cómic fif', 'tod permit organiz faç total absurd sent', 'não faz rir cust poder']\n",
      "\n",
      "(Number of samples, Number of features): (16743, 8256)\n",
      "\n",
      "Model time: 0.46s\n",
      "\n",
      "Classification report:\n",
      "               precision    recall  f1-score   support\n",
      "\n",
      "        Fact       0.44      0.41      0.42       733\n",
      "      Policy       0.24      0.31      0.27       133\n",
      "       Value       0.59      0.60      0.59      1621\n",
      "    Value(+)       0.34      0.33      0.33       282\n",
      "    Value(-)       0.46      0.46      0.46       580\n",
      "\n",
      "    accuracy                           0.50      3349\n",
      "   macro avg       0.41      0.42      0.42      3349\n",
      "weighted avg       0.50      0.50      0.50      3349\n",
      "\n"
     ]
    },
    {
     "data": {
      "image/png": "[encoded data removed]",
      "text/plain": [
       "<Figure size 432x288 with 2 Axes>"
      ]
     },
     "metadata": {
      "needs_background": "light"
     },
     "output_type": "display_data"
    }
   ],
   "source": [
    "test_stemmer(rslp)"
   ]
  },
  {
   "cell_type": "markdown",
   "metadata": {},
   "source": [
    "## Lemmatization\n",
    "\n",
    "In contrast to stemming, lemmatization looks beyond word reduction and considers a language’s full vocabulary to apply a morphological analysis to words.\n",
    "\n",
    "NLTK does not contain any Portuguese lemmatizer, so we will be using Spacy"
   ]
  },
  {
   "cell_type": "code",
   "execution_count": 11,
   "metadata": {},
   "outputs": [
    {
     "name": "stderr",
     "output_type": "stream",
     "text": [
      "C:\\Users\\fmna\\anaconda3\\lib\\site-packages\\spacy\\util.py:833: UserWarning: [W095] Model 'pt_core_news_sm' (3.0.0) was trained with spaCy v3.0 and may not be 100% compatible with the current version (3.2.4). If you see errors or degraded performance, download a newer compatible model or retrain your custom model with the current spaCy version. For more details and available updates, run: python -m spacy validate\n",
      "  warnings.warn(warn_msg)\n"
     ]
    },
    {
     "name": "stdout",
     "output_type": "stream",
     "text": [
      "Lemmatization:\n",
      " Esta unidade curricular de Processamento de Linguagem Natural ser extremamente divertir e útil porque o ajudar o desenvolver novo competência o campar da Aprendizagem Computacional\n"
     ]
    }
   ],
   "source": [
    "import spacy\n",
    "\n",
    "nlp = spacy.load('pt_core_news_sm')\n",
    "\n",
    "print(\"Lemmatization:\\n\", ' '.join([token.lemma_ for token in nlp(text)]))"
   ]
  },
  {
   "cell_type": "code",
   "execution_count": 12,
   "metadata": {},
   "outputs": [
    {
     "name": "stdout",
     "output_type": "stream",
     "text": [
      "Esta unidade curricular de Processamento de Linguagem Natural é extremamente divertida e útil porque nos ajuda a desenvolver novas competências no campo da Aprendizagem Computacional\n"
     ]
    }
   ],
   "source": [
    "print(nlp(text))"
   ]
  },
  {
   "cell_type": "code",
   "execution_count": 13,
   "metadata": {},
   "outputs": [
    {
     "name": "stdout",
     "output_type": "stream",
     "text": [
      "Preprocess time: 114.72s\n",
      "Corpus Set length:  11781\n",
      "\n",
      " ['facto não apenas frutar ignorância', 'haver humor jornalismo   investigação   preocupação aprofundar contextualizar história   isenção relatar   preocupação social   urgência denunciar   muito pedir realmente jornalístico', 'tudo cómico fifa', 'todo permitir organização fazer totalmente absurdo sentir', 'não fazer rir custar poderoso']\n",
      "\n",
      "(Number of samples, Number of features): (16743, 10310)\n",
      "\n",
      "Model time: 0.65s\n",
      "\n",
      "Classification report:\n",
      "               precision    recall  f1-score   support\n",
      "\n",
      "        Fact       0.44      0.40      0.42       733\n",
      "      Policy       0.22      0.32      0.26       133\n",
      "       Value       0.60      0.60      0.60      1621\n",
      "    Value(+)       0.35      0.34      0.35       282\n",
      "    Value(-)       0.47      0.46      0.47       580\n",
      "\n",
      "    accuracy                           0.50      3349\n",
      "   macro avg       0.42      0.43      0.42      3349\n",
      "weighted avg       0.50      0.50      0.50      3349\n",
      "\n"
     ]
    },
    {
     "data": {
      "text/plain": [
       "<sklearn.metrics._plot.confusion_matrix.ConfusionMatrixDisplay at 0x275f53c4ac0>"
      ]
     },
     "execution_count": 13,
     "metadata": {},
     "output_type": "execute_result"
    },
    {
     "data": {
      "image/png": "[encoded data removed]",
      "text/plain": [
       "<Figure size 432x288 with 2 Axes>"
      ]
     },
     "metadata": {
      "needs_background": "light"
     },
     "output_type": "display_data"
    }
   ],
   "source": [
    "corpus = []\n",
    "\n",
    "# Preprocess\n",
    "start = time.time()\n",
    "for i in range(0, dataset['tokens'].size):\n",
    "    # get review, remove and lowercase non alpha chars\n",
    "    review = re.sub('[^a-zA-Z\\u00C0-\\u00ff]', ' ', dataset['tokens'][i]).lower()\n",
    "    # split into tokens, apply stemming and remove stop words\n",
    "    review = ' '.join([token.lemma_ for token in nlp(review) if token.text not in stopwords_list])\n",
    "    corpus.append(review)\n",
    "stop = time.time()\n",
    "print(\"Preprocess time: %0.2fs\" % (stop - start))\n",
    "print(\"Corpus Set length: \", len(set(corpus)))\n",
    "\n",
    "print(\"\\n\", corpus[:5])\n",
    "\n",
    "# Fit vectorizer\n",
    "X = vectorizer.fit_transform(corpus).toarray()\n",
    "print(\"\\n(Number of samples, Number of features):\", X.shape)\n",
    "\n",
    "X_train, X_test, y_train, y_test = train_test_split(X, y, test_size=0.20, random_state=0, stratify=y)\n",
    "\n",
    "start = time.time()\n",
    "clf = ComplementNB()\n",
    "clf.fit(X_train, y_train)\n",
    "y_pred = clf.predict(X_test)\n",
    "stop = time.time()\n",
    "\n",
    "print(\"\\nModel time: %0.2fs\" % (stop - start))\n",
    "print(\"\\nClassification report:\\n\", classification_report(y_test, y_pred))\n",
    "ConfusionMatrixDisplay(confusion_matrix(y_test, y_pred, labels=clf.classes_), display_labels=clf.classes_).plot()"
   ]
  },
  {
   "cell_type": "markdown",
   "metadata": {},
   "source": [
    "## Conclusions"
   ]
  },
  {
   "cell_type": "markdown",
   "metadata": {},
   "source": [
    "The _Porter Stemmer_  had similar metrics to the others, but it does not make sense to use it since it is not a Stemmer aimed to Portuguese text, was only used as a matter of comparison.\n",
    "\n",
    "We will use the _RSLP Stemmer_ as it trims more the word endings and leads to less features, causing smaller matrixes for the classifiers and thus faster times and less resources.\n",
    "Even though the preprocess time was double compared to the _Snowball Portuguese Stemmer_, the metrics are simliar, and it is only run once in the preprocess before the classification tasks, so the advantages outweight this disavantage.\n",
    "\n",
    "Lemmatization lead to similar scores but with a lot higher preprocessing times. Although this would not be a big issue since the preprocessing will be run only in the beginning of the classification notebook, we opted not to explore further this technique"
   ]
  }
 ],
 "metadata": {
  "interpreter": {
   "hash": "55f82424ee0038bf843e9f84700baa6bcc97076ded2739a9002049e8174a9129"
  },
  "kernelspec": {
   "display_name": "Python 3",
   "language": "python",
   "name": "python3"
  },
  "language_info": {
   "codemirror_mode": {
    "name": "ipython",
    "version": 3
   },
   "file_extension": ".py",
   "mimetype": "text/x-python",
   "name": "python",
   "nbconvert_exporter": "python",
   "pygments_lexer": "ipython3",
   "version": "3.8.13"
  }
 },
 "nbformat": 4,
 "nbformat_minor": 2
}
