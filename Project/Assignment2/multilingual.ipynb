{
  "cells": [
    {
      "cell_type": "code",
      "source": [
        "!pip install pandas\n",
        "!pip install datasets\n",
        "!pip install transformers\n",
        "!pip install torch torchvision torchaudio --extra-index-url https://download.pytorch.org/whl/cu113"
      ],
      "metadata": {
        "id": "DqvXISYRVQ6p"
      },
      "execution_count": null,
      "outputs": []
    },
    {
      "cell_type": "markdown",
      "metadata": {
        "id": "W6yUirr1T4D5"
      },
      "source": [
        "## Preparing our Data"
      ]
    },
    {
      "cell_type": "markdown",
      "source": [
        "### Loading dataset"
      ],
      "metadata": {
        "id": "rVlZFvo2ExgO"
      }
    },
    {
      "cell_type": "code",
      "source": [
        "from google.colab import drive\n",
        "drive.mount('/content/drive')"
      ],
      "metadata": {
        "id": "rkVfoo4bnCiR",
        "colab": {
          "base_uri": "https://localhost:8080/"
        },
        "outputId": "b8e9c3e8-573e-48c9-f112-64cea6e4cab2"
      },
      "execution_count": null,
      "outputs": [
        {
          "output_type": "stream",
          "name": "stdout",
          "text": [
            "Mounted at /content/drive\n"
          ]
        }
      ]
    },
    {
      "cell_type": "markdown",
      "source": [
        "Load previously split dataset"
      ],
      "metadata": {
        "id": "HwHldBkJZJUK"
      }
    },
    {
      "cell_type": "code",
      "source": [
        "import pandas as pd\n",
        "\n",
        "def load_process_data(filename):\n",
        "  dataset = pd.read_excel(filename)\n",
        "  dataset = dataset.drop(columns=['article_id', 'annotator', 'node','ranges'])\n",
        "  dataset.replace(['Value', 'Value(+)', 'Value(-)', 'Fact', 'Policy'],[0,1,2,3,4], inplace=True)\n",
        "\n",
        "  return dataset"
      ],
      "metadata": {
        "id": "vVpCpzK5ZQT8"
      },
      "execution_count": null,
      "outputs": []
    },
    {
      "cell_type": "code",
      "execution_count": null,
      "metadata": {
        "id": "EwL0UYu3T4D6",
        "colab": {
          "base_uri": "https://localhost:8080/"
        },
        "outputId": "50464782-5385-4f0f-fd72-4fc71f88cd2b"
      },
      "outputs": [
        {
          "output_type": "stream",
          "name": "stdout",
          "text": [
            "<class 'pandas.core.frame.DataFrame'>\n",
            "RangeIndex: 13394 entries, 0 to 13393\n",
            "Data columns (total 2 columns):\n",
            " #   Column  Non-Null Count  Dtype \n",
            "---  ------  --------------  ----- \n",
            " 0   tokens  13394 non-null  object\n",
            " 1   label   13394 non-null  int64 \n",
            "dtypes: int64(1), object(1)\n",
            "memory usage: 209.4+ KB\n",
            "None\n",
            "<class 'pandas.core.frame.DataFrame'>\n",
            "RangeIndex: 3349 entries, 0 to 3348\n",
            "Data columns (total 2 columns):\n",
            " #   Column  Non-Null Count  Dtype \n",
            "---  ------  --------------  ----- \n",
            " 0   tokens  3349 non-null   object\n",
            " 1   label   3349 non-null   int64 \n",
            "dtypes: int64(1), object(1)\n",
            "memory usage: 52.5+ KB\n",
            "None\n"
          ]
        }
      ],
      "source": [
        "# 80% train\n",
        "train_set = load_process_data('/content/drive/Shareddrives/PLN/Assignment 2/data/OpArticles_ADUs_train.xlsx')\n",
        "\n",
        "# 20% test\n",
        "test_set = load_process_data('/content/drive/Shareddrives/PLN/Assignment 2/data/OpArticles_ADUs_test.xlsx')\n",
        "\n",
        "print(train_set.info())\n",
        "print(test_set.info())"
      ]
    },
    {
      "cell_type": "markdown",
      "source": [
        "Load translated train sets"
      ],
      "metadata": {
        "id": "ANSCukLbZzXs"
      }
    },
    {
      "cell_type": "code",
      "source": [
        "train_en = load_process_data('/content/drive/Shareddrives/PLN/Assignment 2/data/multilingual/OpArticles_ADUs_train_en.xlsx')\n",
        "train_es = load_process_data('/content/drive/Shareddrives/PLN/Assignment 2/data/multilingual/OpArticles_ADUs_train_es.xlsx')\n",
        "train_ga = load_process_data('/content/drive/Shareddrives/PLN/Assignment 2/data/multilingual/OpArticles_ADUs_train_ga.xlsx')\n",
        "train_fr = load_process_data('/content/drive/Shareddrives/PLN/Assignment 2/data/multilingual/OpArticles_ADUs_train_fr.xlsx')\n",
        "train_it = load_process_data('/content/drive/Shareddrives/PLN/Assignment 2/data/multilingual/OpArticles_ADUs_train_it.xlsx')\n",
        "train_ro = load_process_data('/content/drive/Shareddrives/PLN/Assignment 2/data/multilingual/OpArticles_ADUs_train_ro.xlsx')\n",
        "\n",
        "train_en.info()"
      ],
      "metadata": {
        "colab": {
          "base_uri": "https://localhost:8080/"
        },
        "id": "0IDxc99zZzAP",
        "outputId": "1233e475-aead-4057-a844-7574b70e667f"
      },
      "execution_count": null,
      "outputs": [
        {
          "output_type": "stream",
          "name": "stdout",
          "text": [
            "<class 'pandas.core.frame.DataFrame'>\n",
            "RangeIndex: 13394 entries, 0 to 13393\n",
            "Data columns (total 2 columns):\n",
            " #   Column  Non-Null Count  Dtype \n",
            "---  ------  --------------  ----- \n",
            " 0   tokens  13394 non-null  object\n",
            " 1   label   13394 non-null  int64 \n",
            "dtypes: int64(1), object(1)\n",
            "memory usage: 209.4+ KB\n"
          ]
        }
      ]
    },
    {
      "cell_type": "markdown",
      "metadata": {
        "id": "UX0JQf3zT4D7"
      },
      "source": [
        "For ease of usage with Transformer models, we convert the dataset into a Hugging Face dataset and split it into train, validation and test sets."
      ]
    },
    {
      "cell_type": "code",
      "execution_count": null,
      "metadata": {
        "id": "SBuO31lRT4D8",
        "colab": {
          "base_uri": "https://localhost:8080/"
        },
        "outputId": "ff9d139c-9f72-4dc8-84f0-29b25bca2f94"
      },
      "outputs": [
        {
          "output_type": "execute_result",
          "data": {
            "text/plain": [
              "DatasetDict({\n",
              "    train_pt: Dataset({\n",
              "        features: ['tokens', 'label'],\n",
              "        num_rows: 13394\n",
              "    })\n",
              "    validation: Dataset({\n",
              "        features: ['tokens', 'label'],\n",
              "        num_rows: 1674\n",
              "    })\n",
              "    test: Dataset({\n",
              "        features: ['tokens', 'label'],\n",
              "        num_rows: 1675\n",
              "    })\n",
              "    train_en: Dataset({\n",
              "        features: ['tokens', 'label'],\n",
              "        num_rows: 13394\n",
              "    })\n",
              "    train_es: Dataset({\n",
              "        features: ['tokens', 'label'],\n",
              "        num_rows: 13394\n",
              "    })\n",
              "    train_ga: Dataset({\n",
              "        features: ['tokens', 'label'],\n",
              "        num_rows: 13394\n",
              "    })\n",
              "    train_fr: Dataset({\n",
              "        features: ['tokens', 'label'],\n",
              "        num_rows: 13394\n",
              "    })\n",
              "    train_it: Dataset({\n",
              "        features: ['tokens', 'label'],\n",
              "        num_rows: 13394\n",
              "    })\n",
              "    train_ro: Dataset({\n",
              "        features: ['tokens', 'label'],\n",
              "        num_rows: 13394\n",
              "    })\n",
              "})"
            ]
          },
          "metadata": {},
          "execution_count": 25
        }
      ],
      "source": [
        "from datasets import Dataset\n",
        "from datasets import DatasetDict\n",
        "\n",
        "train_hf = Dataset.from_pandas(train_set)\n",
        "test_hf = Dataset.from_pandas(test_set)\n",
        "\n",
        "train_en_hf = Dataset.from_pandas(train_en)\n",
        "train_es_hf = Dataset.from_pandas(train_es)\n",
        "train_ga_hf = Dataset.from_pandas(train_ga)\n",
        "train_fr_hf = Dataset.from_pandas(train_fr)\n",
        "train_it_hf = Dataset.from_pandas(train_it)\n",
        "train_ro_hf = Dataset.from_pandas(train_ro)\n",
        "\n",
        "# Split 10% valid / 10% test\n",
        "valid_test = test_hf.train_test_split(test_size=0.5, shuffle=True, seed=42)\n",
        "\n",
        "train_valid_test_dataset = DatasetDict({\n",
        "    'train_pt': train_hf,\n",
        "    'validation': valid_test['train'],\n",
        "    'test': valid_test['test'],\n",
        "    'train_en': train_en_hf,\n",
        "    'train_es': train_es_hf,\n",
        "    'train_ga': train_ga_hf,\n",
        "    'train_fr': train_fr_hf,\n",
        "    'train_it': train_it_hf,\n",
        "    'train_ro': train_ro_hf\n",
        "})\n",
        "\n",
        "train_valid_test_dataset"
      ]
    },
    {
      "cell_type": "markdown",
      "metadata": {
        "id": "zyUwAwWaT4D-"
      },
      "source": [
        "## Fine-tuning a pretrained model"
      ]
    },
    {
      "cell_type": "markdown",
      "metadata": {
        "id": "zA2HzqzVT4EB"
      },
      "source": [
        "### Tokenizer\n",
        "\n",
        "We first load the tokenizer for our model:"
      ]
    },
    {
      "cell_type": "code",
      "execution_count": null,
      "metadata": {
        "scrolled": true,
        "id": "4KTZJol_T4EB"
      },
      "outputs": [],
      "source": [
        "from transformers import AutoTokenizer\n",
        "\n",
        "def get_tokenizer(name):\n",
        "    return AutoTokenizer.from_pretrained(name)"
      ]
    },
    {
      "cell_type": "markdown",
      "metadata": {
        "id": "KwU7Axm2T4EC"
      },
      "source": [
        "Now we need to [preprocess](https://huggingface.co/docs/transformers/preprocessing) our data."
      ]
    },
    {
      "cell_type": "markdown",
      "source": [
        "Obtaining the length of the longest sequences in our data splits"
      ],
      "metadata": {
        "id": "suYlKXcDKr_N"
      }
    },
    {
      "cell_type": "code",
      "source": [
        "def find_max_length(dataset):\n",
        "    return len(max(dataset, key=lambda x: len(x.split())).split())\n",
        "\n",
        "find_max_length(train_en_hf[\"tokens\"])"
      ],
      "metadata": {
        "id": "TfK7ITi9K5S-",
        "colab": {
          "base_uri": "https://localhost:8080/"
        },
        "outputId": "51484d41-ecff-4796-9858-aedd679eea13"
      },
      "execution_count": null,
      "outputs": [
        {
          "output_type": "execute_result",
          "data": {
            "text/plain": [
              "86"
            ]
          },
          "metadata": {},
          "execution_count": 8
        }
      ]
    },
    {
      "cell_type": "markdown",
      "source": [
        "Tokenize entire dataset"
      ],
      "metadata": {
        "id": "30L93IpONTNS"
      }
    },
    {
      "cell_type": "code",
      "execution_count": null,
      "metadata": {
        "id": "dbtKsaV8T4ED"
      },
      "outputs": [],
      "source": [
        "# Define tokenizer later\n",
        "tokenizer = None\n",
        "\n",
        "def tokenize_dataset(sample):\n",
        "    return tokenizer(sample[\"tokens\"], truncation=True, max_length=86, padding=\"max_length\")\n",
        "\n",
        "def get_tokenized_data(dataset):\n",
        "    return dataset.map(tokenize_dataset, batched=True, remove_columns=[\"tokens\"])"
      ]
    },
    {
      "cell_type": "markdown",
      "metadata": {
        "id": "wVhiKvsET4EG"
      },
      "source": [
        "### Loading the model"
      ]
    },
    {
      "cell_type": "markdown",
      "metadata": {
        "id": "SptaytWjT4EG"
      },
      "source": [
        "Since we want to use the model for classification, we should load it with an appropriate classification head:"
      ]
    },
    {
      "cell_type": "code",
      "execution_count": null,
      "metadata": {
        "id": "aTRvqR7TT4EH"
      },
      "outputs": [],
      "source": [
        "from transformers import AutoModelForSequenceClassification\n",
        "\n",
        "def get_model(name):\n",
        "    model = AutoModelForSequenceClassification.from_pretrained(name, num_labels=5)\n",
        "    model.cuda() # Use GPU\n",
        "\n",
        "    return model"
      ]
    },
    {
      "cell_type": "markdown",
      "metadata": {
        "id": "KG5h2J_FT4EI"
      },
      "source": [
        "### Fine-tuning\n",
        "\n",
        "The next step is to [fine-tune](https://huggingface.co/docs/transformers/training) the model with our train data. To do so, we can make use of a [Trainer](https://huggingface.co/docs/transformers/main_classes/trainer).\n",
        "There are several aspects of training that you can specify via [TrainingArguments](https://huggingface.co/docs/transformers/main_classes/trainer#transformers.TrainingArguments)."
      ]
    },
    {
      "cell_type": "code",
      "execution_count": null,
      "metadata": {
        "id": "JKPJ6Jr2T4EI"
      },
      "outputs": [],
      "source": [
        "from transformers import TrainingArguments, Trainer\n",
        "from sklearn.metrics import precision_recall_fscore_support, accuracy_score\n",
        "import numpy as np\n",
        "\n",
        "def compute_metrics(pred):\n",
        "    labels = pred.label_ids\n",
        "    preds = pred.predictions.argmax(-1)\n",
        "    precision, recall, f1, _ = precision_recall_fscore_support(labels, preds, average='macro')\n",
        "    acc = accuracy_score(labels, preds)\n",
        "    return {\n",
        "        'accuracy': acc,\n",
        "        'f1': f1,\n",
        "        'precision': precision,\n",
        "        'recall': recall\n",
        "    }\n",
        "\n",
        "def get_trainingArgs():\n",
        "    return TrainingArguments(\n",
        "        output_dir=\"./results\",\n",
        "        learning_rate=2e-5,\n",
        "        per_device_train_batch_size=16,\n",
        "        per_device_eval_batch_size=16,\n",
        "        num_train_epochs=3  ,\n",
        "        weight_decay=0.01,\n",
        "        data_seed=42,\n",
        "        evaluation_strategy=\"epoch\",\n",
        "        save_strategy=\"epoch\",\n",
        "        load_best_model_at_end=True,\n",
        "        metric_for_best_model=\"f1\"\n",
        "    )\n",
        "\n",
        "def get_trainer(model_, args_, train_dataset_, eval_dataset_, tokenizer_, data_collator_, compute_metrics_):\n",
        "    return Trainer(\n",
        "        model=model_,\n",
        "        args=args_,\n",
        "        train_dataset=train_dataset_,\n",
        "        eval_dataset=eval_dataset_,\n",
        "        tokenizer=tokenizer_,\n",
        "        data_collator=data_collator_,\n",
        "        compute_metrics=compute_metrics_\n",
        "    )"
      ]
    },
    {
      "cell_type": "markdown",
      "source": [
        "### Train, evaluate, predict, and save"
      ],
      "metadata": {
        "id": "kRKdbaeKPBmH"
      }
    },
    {
      "cell_type": "code",
      "source": [
        "from transformers import DataCollatorWithPadding\n",
        "from IPython.display import display\n",
        "\n",
        "model_name = \"bert-base-multilingual-cased\"\n",
        "\n",
        "tokenizer = get_tokenizer(model_name)\n",
        "tokenized_dataset = get_tokenized_data(train_valid_test_dataset)\n",
        "model = get_model(model_name)\n",
        "\n",
        "def train_model(train_dataset_, lang='all'):\n",
        "  trainer = get_trainer(\n",
        "    model,\n",
        "    get_trainingArgs(),\n",
        "    train_dataset_,\n",
        "    tokenized_dataset['validation'],\n",
        "    tokenizer,\n",
        "    DataCollatorWithPadding(tokenizer=tokenizer),\n",
        "    compute_metrics\n",
        "    )\n",
        "  \n",
        "  # Train Model\n",
        "  display(trainer.train())\n",
        "\n",
        "  # Check performance in validation set\n",
        "  display(trainer.evaluate())\n",
        "\n",
        "  # Check how the model fares in our test set.\n",
        "  display(trainer.predict(test_dataset=tokenized_dataset[\"test\"]))\n",
        "\n",
        "  # Save model for future use\n",
        "  trainer.save_model('/content/drive/Shareddrives/PLN/Assignment 2/models/multilingual/' + lang + '/' + model_name)"
      ],
      "metadata": {
        "id": "UTY8gCm4O3de",
        "colab": {
          "base_uri": "https://localhost:8080/",
          "height": 1000,
          "referenced_widgets": [
            "f3ec333bb1154ccebaa0421e92850e4b",
            "f062d5ea44f44b0fb6fdfdf427c3f08d",
            "38274316be4141f88053df38da79fb26",
            "506d5c130bba4d35b0e09bd1e90f7568",
            "84edd605cef44a568852cd2b7f88e574",
            "69811f8f6e67437db67946572343e8f4",
            "1dfceee987ba4af8a25318d594f1b014",
            "bfb091fed6c54a0893c3b906305d45e3",
            "d3a00b70e944460686b0799266ee1e67",
            "763886bf903c4371ba2427964ce4eb06",
            "a5af522a3db646a396d21dd09725bcbf",
            "87cdd3a2948e4a4491fa87c3aff75192",
            "260ec8692b154e60a6e4a5a5d3c14e64",
            "4b64c9275d834f98a2d34a165698d7d4",
            "262e780b3ee548cc8ca3772053a925b4",
            "857d6e0d968f4037bb9757d15580acb8",
            "f969f25dc29e485f8ed1a1a7eb3e2e39",
            "a2edd31c1ff14bc8b68785cae2308649",
            "bb2d397aab364447923e5a9087d1e8f0",
            "9273ee299e3e4e839d25171c71762b25",
            "c959620bee7a439db42728764ceb9727",
            "67c89094d3b44ed98fe77078d3a3ab52",
            "d02eb2ca6dee481b9402989008604d12",
            "6bc248b9ae4a45209f85881fcf49e0c9",
            "1f71295f75b645b094282e8f0f0094ee",
            "9c83161bfcf549deb7ad0f0d91278cb2",
            "cdb9877230b94f3e8cc4211d1dc8812b",
            "bd3d813467cf4ced8e793d1e182998a4",
            "39e6c99df66847c787f241e9c39cd4a0",
            "01dc0e72c1354556bde07058854aea80",
            "fe63434688604392bf2451d723d468fa",
            "d10c8c58363a4c17a4871b31b00eed3e",
            "a631f01f0944482b9845f3d80bb30c5c",
            "f48416fc079341dc9cbff0e04f2b6a8a",
            "918f8c4c946f4c469a58c3541b9e65d5",
            "8d846a7a6eec48348aad0ed7229bcb45",
            "a3d92ba667b3465bb83425122ba7ea5e",
            "770d9acd421347bab959c670c49cddbd",
            "508ea1bd46b04de9b96f22bcb17f78ca",
            "d5061dbb2624436292958f7631521424",
            "686c70359be74879b4f87558db749d02",
            "946acadd9e7c447c9e3a93de90048c0c",
            "e2a0646ecacd4ac69c0e5554fbee9912",
            "51448f7d00494b76aae6a8d6d5e06d4a",
            "a881e579963d49b082da88d47ef4e5ca",
            "dc0318ce6bd34ae9b49037f670cfa7f0",
            "fe4c12f211c140919a13bbf10b23bc56",
            "6baaadc05eb745b18836e3cc34d066bc",
            "9effe406038a48bb8859405cae596208",
            "3647834840f942b18f702b448df3b714",
            "0c18e20e6af546eda536fe5de68074cf",
            "b7175ce885774e83b38d057aba0939cf",
            "bca3ff09fd044e32a6f1de986e5371ac",
            "9395cba3d5ac4422bad62d898fe92f77",
            "b90bddc30f0f4ca3acc2912244b7ccd0",
            "8ec2cc947c2448ed9d6a8c65172d38cd",
            "07030e2b35b9496cb5322920779be9d2",
            "7fa9ec6dc94e42948affa4da0a9753d5",
            "d792fe66da6d41aa96dd2e73c0ca82ab",
            "17aacd8d206b489493f3e64473c75d19",
            "82583b6049454917a24f1ecc4de8954d",
            "93d1b1859e634455891b2ea33cbb263c",
            "83f897c703a5496d8ea83b13e5590a68",
            "a21d5ec0af364cc2a97af3976e4b4ca4",
            "77b115b31d8e43828227d99425a0d5c6",
            "d25047092f8f43509ba1e8d9bda472a1",
            "6a5836587da44c6794be474e115e1449",
            "1bc50db9bbce419ebda5b49802546e4f",
            "08c853f64a514efdb386091920386791",
            "d4fe7de9a0bf4630bf61120beee46574",
            "ee1cbab3dedf42daa8222ad46b64bd15",
            "0da5eacb276342049c2a480f614fb85b",
            "ca66672deab34897a54b67fb9fbd5672",
            "a7bd711448b749efb11836660a8f1152",
            "9108c1ccaa074587ba04f24f0b7cf0a1",
            "1c91f3fabb144ea2a7a22ea8cfe1b75d",
            "3a296bba2deb49f49504ffba9db3a2ed",
            "261aff0d8d174d6386b1de46825a0bb0",
            "0f092a68dfa94eb2b30e4d1bf814c229",
            "88c7dacb728d4f848708fc975f471bb7",
            "d3426f704013472db09fa9c15baeaed5",
            "9f3c4ac03ca5427995b867f4d250df78",
            "4343e964cd444b83bff61128270b16ce",
            "8d6961a62aec4e3aae1746718d53432b",
            "9369bd8090cb4f9e9f60705ca93069da",
            "42be39d2e4cb493eb2448d1b46dcba12",
            "d415d220dcb64448bc59a9107b2f3a67",
            "db58cbb5f11a4a51a57f68f9a4ea6b1a",
            "abd3a516e4b543ff8de7f31eef219b8e",
            "e7b2d6cd39a14d0aa8371e017054e48c",
            "28c4b8b3b0d342c2b983a3671c124d43",
            "3021d43d5af645d888db73def7ef2728",
            "e597770645714393af54760c615a1448",
            "b47e6582448f43bf984588bcf24f3ee5",
            "412e0e4effa042959602c788c7dcea9b",
            "a9f98f2e4f4f45d2892f9d0601396fcd",
            "921a8fc52e0f4d1692e918bcab44ea19",
            "1ff8c1af62754911a940199980f5196f",
            "cfdecdd7320d4f07a3abfd01ffdee382"
          ]
        },
        "outputId": "83a4fccd-8763-49dd-c0cc-54d22883e358"
      },
      "execution_count": null,
      "outputs": [
        {
          "output_type": "stream",
          "name": "stderr",
          "text": [
            "loading configuration file https://huggingface.co/bert-base-multilingual-cased/resolve/main/config.json from cache at /root/.cache/huggingface/transformers/6c4a5d81a58c9791cdf76a09bce1b5abfb9cf958aebada51200f4515403e5d08.0fe59f3f4f1335dadeb4bce8b8146199d9083512b50d07323c1c319f96df450c\n",
            "Model config BertConfig {\n",
            "  \"_name_or_path\": \"bert-base-multilingual-cased\",\n",
            "  \"architectures\": [\n",
            "    \"BertForMaskedLM\"\n",
            "  ],\n",
            "  \"attention_probs_dropout_prob\": 0.1,\n",
            "  \"classifier_dropout\": null,\n",
            "  \"directionality\": \"bidi\",\n",
            "  \"hidden_act\": \"gelu\",\n",
            "  \"hidden_dropout_prob\": 0.1,\n",
            "  \"hidden_size\": 768,\n",
            "  \"initializer_range\": 0.02,\n",
            "  \"intermediate_size\": 3072,\n",
            "  \"layer_norm_eps\": 1e-12,\n",
            "  \"max_position_embeddings\": 512,\n",
            "  \"model_type\": \"bert\",\n",
            "  \"num_attention_heads\": 12,\n",
            "  \"num_hidden_layers\": 12,\n",
            "  \"pad_token_id\": 0,\n",
            "  \"pooler_fc_size\": 768,\n",
            "  \"pooler_num_attention_heads\": 12,\n",
            "  \"pooler_num_fc_layers\": 3,\n",
            "  \"pooler_size_per_head\": 128,\n",
            "  \"pooler_type\": \"first_token_transform\",\n",
            "  \"position_embedding_type\": \"absolute\",\n",
            "  \"transformers_version\": \"4.19.2\",\n",
            "  \"type_vocab_size\": 2,\n",
            "  \"use_cache\": true,\n",
            "  \"vocab_size\": 119547\n",
            "}\n",
            "\n",
            "loading file https://huggingface.co/bert-base-multilingual-cased/resolve/main/vocab.txt from cache at /root/.cache/huggingface/transformers/eff018e45de5364a8368df1f2df3461d506e2a111e9dd50af1fae061cd460ead.6c5b6600e968f4b5e08c86d8891ea99e51537fc2bf251435fb46922e8f7a7b29\n",
            "loading file https://huggingface.co/bert-base-multilingual-cased/resolve/main/tokenizer.json from cache at /root/.cache/huggingface/transformers/46880f3b0081fda494a4e15b05787692aa4c1e21e0ff2428ba8b14d4eda0784d.b33e51591f94f17c238ee9b1fac75b96ff2678cbaed6e108feadb3449d18dc24\n",
            "loading file https://huggingface.co/bert-base-multilingual-cased/resolve/main/added_tokens.json from cache at None\n",
            "loading file https://huggingface.co/bert-base-multilingual-cased/resolve/main/special_tokens_map.json from cache at None\n",
            "loading file https://huggingface.co/bert-base-multilingual-cased/resolve/main/tokenizer_config.json from cache at /root/.cache/huggingface/transformers/f55e7a2ad4f8d0fff2733b3f79777e1e99247f2e4583703e92ce74453af8c235.ec5c189f89475aac7d8cbd243960a0655cfadc3d0474da8ff2ed0bf1699c2a5f\n",
            "loading configuration file https://huggingface.co/bert-base-multilingual-cased/resolve/main/config.json from cache at /root/.cache/huggingface/transformers/6c4a5d81a58c9791cdf76a09bce1b5abfb9cf958aebada51200f4515403e5d08.0fe59f3f4f1335dadeb4bce8b8146199d9083512b50d07323c1c319f96df450c\n",
            "Model config BertConfig {\n",
            "  \"_name_or_path\": \"bert-base-multilingual-cased\",\n",
            "  \"architectures\": [\n",
            "    \"BertForMaskedLM\"\n",
            "  ],\n",
            "  \"attention_probs_dropout_prob\": 0.1,\n",
            "  \"classifier_dropout\": null,\n",
            "  \"directionality\": \"bidi\",\n",
            "  \"hidden_act\": \"gelu\",\n",
            "  \"hidden_dropout_prob\": 0.1,\n",
            "  \"hidden_size\": 768,\n",
            "  \"initializer_range\": 0.02,\n",
            "  \"intermediate_size\": 3072,\n",
            "  \"layer_norm_eps\": 1e-12,\n",
            "  \"max_position_embeddings\": 512,\n",
            "  \"model_type\": \"bert\",\n",
            "  \"num_attention_heads\": 12,\n",
            "  \"num_hidden_layers\": 12,\n",
            "  \"pad_token_id\": 0,\n",
            "  \"pooler_fc_size\": 768,\n",
            "  \"pooler_num_attention_heads\": 12,\n",
            "  \"pooler_num_fc_layers\": 3,\n",
            "  \"pooler_size_per_head\": 128,\n",
            "  \"pooler_type\": \"first_token_transform\",\n",
            "  \"position_embedding_type\": \"absolute\",\n",
            "  \"transformers_version\": \"4.19.2\",\n",
            "  \"type_vocab_size\": 2,\n",
            "  \"use_cache\": true,\n",
            "  \"vocab_size\": 119547\n",
            "}\n",
            "\n"
          ]
        },
        {
          "output_type": "display_data",
          "data": {
            "text/plain": [
              "  0%|          | 0/14 [00:00<?, ?ba/s]"
            ],
            "application/vnd.jupyter.widget-view+json": {
              "version_major": 2,
              "version_minor": 0,
              "model_id": "f3ec333bb1154ccebaa0421e92850e4b"
            }
          },
          "metadata": {}
        },
        {
          "output_type": "display_data",
          "data": {
            "text/plain": [
              "  0%|          | 0/2 [00:00<?, ?ba/s]"
            ],
            "application/vnd.jupyter.widget-view+json": {
              "version_major": 2,
              "version_minor": 0,
              "model_id": "87cdd3a2948e4a4491fa87c3aff75192"
            }
          },
          "metadata": {}
        },
        {
          "output_type": "display_data",
          "data": {
            "text/plain": [
              "  0%|          | 0/2 [00:00<?, ?ba/s]"
            ],
            "application/vnd.jupyter.widget-view+json": {
              "version_major": 2,
              "version_minor": 0,
              "model_id": "d02eb2ca6dee481b9402989008604d12"
            }
          },
          "metadata": {}
        },
        {
          "output_type": "display_data",
          "data": {
            "text/plain": [
              "  0%|          | 0/14 [00:00<?, ?ba/s]"
            ],
            "application/vnd.jupyter.widget-view+json": {
              "version_major": 2,
              "version_minor": 0,
              "model_id": "f48416fc079341dc9cbff0e04f2b6a8a"
            }
          },
          "metadata": {}
        },
        {
          "output_type": "display_data",
          "data": {
            "text/plain": [
              "  0%|          | 0/14 [00:00<?, ?ba/s]"
            ],
            "application/vnd.jupyter.widget-view+json": {
              "version_major": 2,
              "version_minor": 0,
              "model_id": "a881e579963d49b082da88d47ef4e5ca"
            }
          },
          "metadata": {}
        },
        {
          "output_type": "display_data",
          "data": {
            "text/plain": [
              "  0%|          | 0/14 [00:00<?, ?ba/s]"
            ],
            "application/vnd.jupyter.widget-view+json": {
              "version_major": 2,
              "version_minor": 0,
              "model_id": "8ec2cc947c2448ed9d6a8c65172d38cd"
            }
          },
          "metadata": {}
        },
        {
          "output_type": "display_data",
          "data": {
            "text/plain": [
              "  0%|          | 0/14 [00:00<?, ?ba/s]"
            ],
            "application/vnd.jupyter.widget-view+json": {
              "version_major": 2,
              "version_minor": 0,
              "model_id": "6a5836587da44c6794be474e115e1449"
            }
          },
          "metadata": {}
        },
        {
          "output_type": "display_data",
          "data": {
            "text/plain": [
              "  0%|          | 0/14 [00:00<?, ?ba/s]"
            ],
            "application/vnd.jupyter.widget-view+json": {
              "version_major": 2,
              "version_minor": 0,
              "model_id": "261aff0d8d174d6386b1de46825a0bb0"
            }
          },
          "metadata": {}
        },
        {
          "output_type": "display_data",
          "data": {
            "text/plain": [
              "  0%|          | 0/14 [00:00<?, ?ba/s]"
            ],
            "application/vnd.jupyter.widget-view+json": {
              "version_major": 2,
              "version_minor": 0,
              "model_id": "abd3a516e4b543ff8de7f31eef219b8e"
            }
          },
          "metadata": {}
        },
        {
          "output_type": "stream",
          "name": "stderr",
          "text": [
            "loading configuration file https://huggingface.co/bert-base-multilingual-cased/resolve/main/config.json from cache at /root/.cache/huggingface/transformers/6c4a5d81a58c9791cdf76a09bce1b5abfb9cf958aebada51200f4515403e5d08.0fe59f3f4f1335dadeb4bce8b8146199d9083512b50d07323c1c319f96df450c\n",
            "Model config BertConfig {\n",
            "  \"_name_or_path\": \"bert-base-multilingual-cased\",\n",
            "  \"architectures\": [\n",
            "    \"BertForMaskedLM\"\n",
            "  ],\n",
            "  \"attention_probs_dropout_prob\": 0.1,\n",
            "  \"classifier_dropout\": null,\n",
            "  \"directionality\": \"bidi\",\n",
            "  \"hidden_act\": \"gelu\",\n",
            "  \"hidden_dropout_prob\": 0.1,\n",
            "  \"hidden_size\": 768,\n",
            "  \"id2label\": {\n",
            "    \"0\": \"LABEL_0\",\n",
            "    \"1\": \"LABEL_1\",\n",
            "    \"2\": \"LABEL_2\",\n",
            "    \"3\": \"LABEL_3\",\n",
            "    \"4\": \"LABEL_4\"\n",
            "  },\n",
            "  \"initializer_range\": 0.02,\n",
            "  \"intermediate_size\": 3072,\n",
            "  \"label2id\": {\n",
            "    \"LABEL_0\": 0,\n",
            "    \"LABEL_1\": 1,\n",
            "    \"LABEL_2\": 2,\n",
            "    \"LABEL_3\": 3,\n",
            "    \"LABEL_4\": 4\n",
            "  },\n",
            "  \"layer_norm_eps\": 1e-12,\n",
            "  \"max_position_embeddings\": 512,\n",
            "  \"model_type\": \"bert\",\n",
            "  \"num_attention_heads\": 12,\n",
            "  \"num_hidden_layers\": 12,\n",
            "  \"pad_token_id\": 0,\n",
            "  \"pooler_fc_size\": 768,\n",
            "  \"pooler_num_attention_heads\": 12,\n",
            "  \"pooler_num_fc_layers\": 3,\n",
            "  \"pooler_size_per_head\": 128,\n",
            "  \"pooler_type\": \"first_token_transform\",\n",
            "  \"position_embedding_type\": \"absolute\",\n",
            "  \"transformers_version\": \"4.19.2\",\n",
            "  \"type_vocab_size\": 2,\n",
            "  \"use_cache\": true,\n",
            "  \"vocab_size\": 119547\n",
            "}\n",
            "\n",
            "loading weights file https://huggingface.co/bert-base-multilingual-cased/resolve/main/pytorch_model.bin from cache at /root/.cache/huggingface/transformers/0a3fd51713dcbb4def175c7f85bddc995d5976ce1dde327f99104e4d33069f17.aa7be4c79d76f4066d9b354496ea477c9ee39c5d889156dd1efb680643c2b052\n",
            "Some weights of the model checkpoint at bert-base-multilingual-cased were not used when initializing BertForSequenceClassification: ['cls.predictions.bias', 'cls.predictions.transform.dense.bias', 'cls.predictions.transform.LayerNorm.bias', 'cls.predictions.transform.dense.weight', 'cls.predictions.decoder.weight', 'cls.seq_relationship.bias', 'cls.predictions.transform.LayerNorm.weight', 'cls.seq_relationship.weight']\n",
            "- This IS expected if you are initializing BertForSequenceClassification from the checkpoint of a model trained on another task or with another architecture (e.g. initializing a BertForSequenceClassification model from a BertForPreTraining model).\n",
            "- This IS NOT expected if you are initializing BertForSequenceClassification from the checkpoint of a model that you expect to be exactly identical (initializing a BertForSequenceClassification model from a BertForSequenceClassification model).\n",
            "Some weights of BertForSequenceClassification were not initialized from the model checkpoint at bert-base-multilingual-cased and are newly initialized: ['classifier.weight', 'classifier.bias']\n",
            "You should probably TRAIN this model on a down-stream task to be able to use it for predictions and inference.\n"
          ]
        }
      ]
    },
    {
      "cell_type": "markdown",
      "source": [
        "### Zero-shot several languages"
      ],
      "metadata": {
        "id": "HNhoFkAcNhoB"
      }
    },
    {
      "cell_type": "markdown",
      "source": [
        "#### Portuguese"
      ],
      "metadata": {
        "id": "UWhL6b0KAsc1"
      }
    },
    {
      "cell_type": "code",
      "source": [
        "train_model(train_dataset_=tokenized_dataset['pt'], lang='pt')"
      ],
      "metadata": {
        "colab": {
          "base_uri": "https://localhost:8080/",
          "height": 1000
        },
        "id": "SXbLFebNAt1d",
        "outputId": "6c14b5c7-2f1d-4e18-fe35-da9731bea756"
      },
      "execution_count": null,
      "outputs": [
        {
          "output_type": "stream",
          "name": "stderr",
          "text": [
            "PyTorch: setting up devices\n",
            "The default value for the training argument `--report_to` will change in v5 (from all installed integrations to none). In v5, you will need to use `--report_to all` to get the same behavior as now. You should start updating your code and make this info disappear :-).\n",
            "The following columns in the training set don't have a corresponding argument in `BertForSequenceClassification.forward` and have been ignored: tokens. If tokens are not expected by `BertForSequenceClassification.forward`,  you can safely ignore this message.\n",
            "/usr/local/lib/python3.7/dist-packages/transformers/optimization.py:309: FutureWarning: This implementation of AdamW is deprecated and will be removed in a future version. Use the PyTorch implementation torch.optim.AdamW instead, or set `no_deprecation_warning=True` to disable this warning\n",
            "  FutureWarning,\n",
            "***** Running training *****\n",
            "  Num examples = 13394\n",
            "  Num Epochs = 3\n",
            "  Instantaneous batch size per device = 16\n",
            "  Total train batch size (w. parallel, distributed & accumulation) = 16\n",
            "  Gradient Accumulation steps = 1\n",
            "  Total optimization steps = 2514\n"
          ]
        },
        {
          "output_type": "display_data",
          "data": {
            "text/plain": [
              "<IPython.core.display.HTML object>"
            ],
            "text/html": [
              "\n",
              "    <div>\n",
              "      \n",
              "      <progress value='2514' max='2514' style='width:300px; height:20px; vertical-align: middle;'></progress>\n",
              "      [2514/2514 13:31, Epoch 3/3]\n",
              "    </div>\n",
              "    <table border=\"1\" class=\"dataframe\">\n",
              "  <thead>\n",
              " <tr style=\"text-align: left;\">\n",
              "      <th>Epoch</th>\n",
              "      <th>Training Loss</th>\n",
              "      <th>Validation Loss</th>\n",
              "      <th>Accuracy</th>\n",
              "      <th>F1</th>\n",
              "      <th>Precision</th>\n",
              "      <th>Recall</th>\n",
              "    </tr>\n",
              "  </thead>\n",
              "  <tbody>\n",
              "    <tr>\n",
              "      <td>1</td>\n",
              "      <td>1.182300</td>\n",
              "      <td>1.009982</td>\n",
              "      <td>0.580048</td>\n",
              "      <td>0.505474</td>\n",
              "      <td>0.599145</td>\n",
              "      <td>0.467789</td>\n",
              "    </tr>\n",
              "    <tr>\n",
              "      <td>2</td>\n",
              "      <td>0.909700</td>\n",
              "      <td>1.016058</td>\n",
              "      <td>0.586619</td>\n",
              "      <td>0.554393</td>\n",
              "      <td>0.587447</td>\n",
              "      <td>0.546993</td>\n",
              "    </tr>\n",
              "    <tr>\n",
              "      <td>3</td>\n",
              "      <td>0.753000</td>\n",
              "      <td>1.070261</td>\n",
              "      <td>0.594385</td>\n",
              "      <td>0.563842</td>\n",
              "      <td>0.574537</td>\n",
              "      <td>0.557672</td>\n",
              "    </tr>\n",
              "  </tbody>\n",
              "</table><p>"
            ]
          },
          "metadata": {}
        },
        {
          "output_type": "stream",
          "name": "stderr",
          "text": [
            "The following columns in the evaluation set don't have a corresponding argument in `BertForSequenceClassification.forward` and have been ignored: tokens. If tokens are not expected by `BertForSequenceClassification.forward`,  you can safely ignore this message.\n",
            "***** Running Evaluation *****\n",
            "  Num examples = 1674\n",
            "  Batch size = 16\n",
            "Saving model checkpoint to ./results/checkpoint-838\n",
            "Configuration saved in ./results/checkpoint-838/config.json\n",
            "Model weights saved in ./results/checkpoint-838/pytorch_model.bin\n",
            "tokenizer config file saved in ./results/checkpoint-838/tokenizer_config.json\n",
            "Special tokens file saved in ./results/checkpoint-838/special_tokens_map.json\n",
            "The following columns in the evaluation set don't have a corresponding argument in `BertForSequenceClassification.forward` and have been ignored: tokens. If tokens are not expected by `BertForSequenceClassification.forward`,  you can safely ignore this message.\n",
            "***** Running Evaluation *****\n",
            "  Num examples = 1674\n",
            "  Batch size = 16\n",
            "Saving model checkpoint to ./results/checkpoint-1676\n",
            "Configuration saved in ./results/checkpoint-1676/config.json\n",
            "Model weights saved in ./results/checkpoint-1676/pytorch_model.bin\n",
            "tokenizer config file saved in ./results/checkpoint-1676/tokenizer_config.json\n",
            "Special tokens file saved in ./results/checkpoint-1676/special_tokens_map.json\n",
            "The following columns in the evaluation set don't have a corresponding argument in `BertForSequenceClassification.forward` and have been ignored: tokens. If tokens are not expected by `BertForSequenceClassification.forward`,  you can safely ignore this message.\n",
            "***** Running Evaluation *****\n",
            "  Num examples = 1674\n",
            "  Batch size = 16\n",
            "Saving model checkpoint to ./results/checkpoint-2514\n",
            "Configuration saved in ./results/checkpoint-2514/config.json\n",
            "Model weights saved in ./results/checkpoint-2514/pytorch_model.bin\n",
            "tokenizer config file saved in ./results/checkpoint-2514/tokenizer_config.json\n",
            "Special tokens file saved in ./results/checkpoint-2514/special_tokens_map.json\n",
            "\n",
            "\n",
            "Training completed. Do not forget to share your model on huggingface.co/models =)\n",
            "\n",
            "\n",
            "Loading best model from ./results/checkpoint-2514 (score: 0.5638418745897852).\n"
          ]
        },
        {
          "output_type": "display_data",
          "data": {
            "text/plain": [
              "TrainOutput(global_step=2514, training_loss=0.9336443349493811, metrics={'train_runtime': 811.4625, 'train_samples_per_second': 49.518, 'train_steps_per_second': 3.098, 'total_flos': 1775868623519544.0, 'train_loss': 0.9336443349493811, 'epoch': 3.0})"
            ]
          },
          "metadata": {}
        },
        {
          "output_type": "stream",
          "name": "stderr",
          "text": [
            "The following columns in the evaluation set don't have a corresponding argument in `BertForSequenceClassification.forward` and have been ignored: tokens. If tokens are not expected by `BertForSequenceClassification.forward`,  you can safely ignore this message.\n",
            "***** Running Evaluation *****\n",
            "  Num examples = 1674\n",
            "  Batch size = 16\n"
          ]
        },
        {
          "output_type": "display_data",
          "data": {
            "text/plain": [
              "<IPython.core.display.HTML object>"
            ],
            "text/html": [
              "\n",
              "    <div>\n",
              "      \n",
              "      <progress value='210' max='105' style='width:300px; height:20px; vertical-align: middle;'></progress>\n",
              "      [105/105 00:18]\n",
              "    </div>\n",
              "    "
            ]
          },
          "metadata": {}
        },
        {
          "output_type": "display_data",
          "data": {
            "text/plain": [
              "{'epoch': 3.0,\n",
              " 'eval_accuracy': 0.5943847072879331,\n",
              " 'eval_f1': 0.5638418745897852,\n",
              " 'eval_loss': 1.0702614784240723,\n",
              " 'eval_precision': 0.5745369583803732,\n",
              " 'eval_recall': 0.5576719670851249,\n",
              " 'eval_runtime': 9.2474,\n",
              " 'eval_samples_per_second': 181.024,\n",
              " 'eval_steps_per_second': 11.355}"
            ]
          },
          "metadata": {}
        },
        {
          "output_type": "stream",
          "name": "stderr",
          "text": [
            "The following columns in the test set don't have a corresponding argument in `BertForSequenceClassification.forward` and have been ignored: tokens. If tokens are not expected by `BertForSequenceClassification.forward`,  you can safely ignore this message.\n",
            "***** Running Prediction *****\n",
            "  Num examples = 1675\n",
            "  Batch size = 16\n"
          ]
        },
        {
          "output_type": "display_data",
          "data": {
            "text/plain": [
              "PredictionOutput(predictions=array([[ 2.3569963 , -0.5056619 , -1.5216085 ,  1.9893084 , -2.7937179 ],\n",
              "       [ 2.4618914 , -1.4521484 ,  1.1548529 ,  0.32186386, -2.621744  ],\n",
              "       [ 0.82349795, -2.5367563 ,  2.99239   ,  0.5507926 , -1.5780839 ],\n",
              "       ...,\n",
              "       [ 1.4572164 ,  1.5743827 , -2.5829337 ,  1.389753  , -2.364238  ],\n",
              "       [ 1.2282764 , -1.9081117 ,  3.0067067 , -0.09163611, -2.1226697 ],\n",
              "       [ 1.3913858 ,  1.5657791 , -2.886854  , -1.8013538 ,  1.7046494 ]],\n",
              "      dtype=float32), label_ids=array([0, 3, 2, ..., 1, 2, 4]), metrics={'test_loss': 1.0826913118362427, 'test_accuracy': 0.5934328358208956, 'test_f1': 0.5515175106837085, 'test_precision': 0.5636671987230646, 'test_recall': 0.5443049293049294, 'test_runtime': 9.4376, 'test_samples_per_second': 177.482, 'test_steps_per_second': 11.126})"
            ]
          },
          "metadata": {}
        },
        {
          "output_type": "stream",
          "name": "stderr",
          "text": [
            "Saving model checkpoint to /content/drive/Shareddrives/PLN/Assignment 2/models/pt/bert-base-multilingual-cased\n",
            "Configuration saved in /content/drive/Shareddrives/PLN/Assignment 2/models/pt/bert-base-multilingual-cased/config.json\n",
            "Model weights saved in /content/drive/Shareddrives/PLN/Assignment 2/models/pt/bert-base-multilingual-cased/pytorch_model.bin\n",
            "tokenizer config file saved in /content/drive/Shareddrives/PLN/Assignment 2/models/pt/bert-base-multilingual-cased/tokenizer_config.json\n",
            "Special tokens file saved in /content/drive/Shareddrives/PLN/Assignment 2/models/pt/bert-base-multilingual-cased/special_tokens_map.json\n"
          ]
        }
      ]
    },
    {
      "cell_type": "code",
      "source": [
        "!rm -rf ./results/"
      ],
      "metadata": {
        "id": "HqIykAfoAvEf"
      },
      "execution_count": null,
      "outputs": []
    },
    {
      "cell_type": "markdown",
      "source": [
        "#### English"
      ],
      "metadata": {
        "id": "uB1eejcf_edu"
      }
    },
    {
      "cell_type": "code",
      "source": [
        "train_model(train_dataset_=tokenized_dataset['en'], lang='en')"
      ],
      "metadata": {
        "colab": {
          "base_uri": "https://localhost:8080/",
          "height": 1000
        },
        "id": "pf9vXIRigrKu",
        "outputId": "3d9859f5-a713-4b6b-a563-e371ad5d2798"
      },
      "execution_count": null,
      "outputs": [
        {
          "output_type": "stream",
          "name": "stderr",
          "text": [
            "The following columns in the training set don't have a corresponding argument in `BertForSequenceClassification.forward` and have been ignored: tokens. If tokens are not expected by `BertForSequenceClassification.forward`,  you can safely ignore this message.\n",
            "/usr/local/lib/python3.7/dist-packages/transformers/optimization.py:309: FutureWarning: This implementation of AdamW is deprecated and will be removed in a future version. Use the PyTorch implementation torch.optim.AdamW instead, or set `no_deprecation_warning=True` to disable this warning\n",
            "  FutureWarning,\n",
            "***** Running training *****\n",
            "  Num examples = 13394\n",
            "  Num Epochs = 3\n",
            "  Instantaneous batch size per device = 16\n",
            "  Total train batch size (w. parallel, distributed & accumulation) = 16\n",
            "  Gradient Accumulation steps = 1\n",
            "  Total optimization steps = 2514\n"
          ]
        },
        {
          "output_type": "display_data",
          "data": {
            "text/plain": [
              "<IPython.core.display.HTML object>"
            ],
            "text/html": [
              "\n",
              "    <div>\n",
              "      \n",
              "      <progress value='2514' max='2514' style='width:300px; height:20px; vertical-align: middle;'></progress>\n",
              "      [2514/2514 13:26, Epoch 3/3]\n",
              "    </div>\n",
              "    <table border=\"1\" class=\"dataframe\">\n",
              "  <thead>\n",
              " <tr style=\"text-align: left;\">\n",
              "      <th>Epoch</th>\n",
              "      <th>Training Loss</th>\n",
              "      <th>Validation Loss</th>\n",
              "      <th>Accuracy</th>\n",
              "      <th>F1</th>\n",
              "      <th>Precision</th>\n",
              "      <th>Recall</th>\n",
              "    </tr>\n",
              "  </thead>\n",
              "  <tbody>\n",
              "    <tr>\n",
              "      <td>1</td>\n",
              "      <td>1.163100</td>\n",
              "      <td>1.087873</td>\n",
              "      <td>0.560335</td>\n",
              "      <td>0.394698</td>\n",
              "      <td>0.625832</td>\n",
              "      <td>0.362509</td>\n",
              "    </tr>\n",
              "    <tr>\n",
              "      <td>2</td>\n",
              "      <td>0.886900</td>\n",
              "      <td>1.076017</td>\n",
              "      <td>0.555556</td>\n",
              "      <td>0.462441</td>\n",
              "      <td>0.568675</td>\n",
              "      <td>0.429809</td>\n",
              "    </tr>\n",
              "    <tr>\n",
              "      <td>3</td>\n",
              "      <td>0.735000</td>\n",
              "      <td>1.115303</td>\n",
              "      <td>0.554361</td>\n",
              "      <td>0.469818</td>\n",
              "      <td>0.538859</td>\n",
              "      <td>0.437176</td>\n",
              "    </tr>\n",
              "  </tbody>\n",
              "</table><p>"
            ]
          },
          "metadata": {}
        },
        {
          "output_type": "stream",
          "name": "stderr",
          "text": [
            "The following columns in the evaluation set don't have a corresponding argument in `BertForSequenceClassification.forward` and have been ignored: tokens. If tokens are not expected by `BertForSequenceClassification.forward`,  you can safely ignore this message.\n",
            "***** Running Evaluation *****\n",
            "  Num examples = 1674\n",
            "  Batch size = 16\n",
            "Saving model checkpoint to ./results/checkpoint-838\n",
            "Configuration saved in ./results/checkpoint-838/config.json\n",
            "Model weights saved in ./results/checkpoint-838/pytorch_model.bin\n",
            "tokenizer config file saved in ./results/checkpoint-838/tokenizer_config.json\n",
            "Special tokens file saved in ./results/checkpoint-838/special_tokens_map.json\n",
            "The following columns in the evaluation set don't have a corresponding argument in `BertForSequenceClassification.forward` and have been ignored: tokens. If tokens are not expected by `BertForSequenceClassification.forward`,  you can safely ignore this message.\n",
            "***** Running Evaluation *****\n",
            "  Num examples = 1674\n",
            "  Batch size = 16\n",
            "Saving model checkpoint to ./results/checkpoint-1676\n",
            "Configuration saved in ./results/checkpoint-1676/config.json\n",
            "Model weights saved in ./results/checkpoint-1676/pytorch_model.bin\n",
            "tokenizer config file saved in ./results/checkpoint-1676/tokenizer_config.json\n",
            "Special tokens file saved in ./results/checkpoint-1676/special_tokens_map.json\n",
            "The following columns in the evaluation set don't have a corresponding argument in `BertForSequenceClassification.forward` and have been ignored: tokens. If tokens are not expected by `BertForSequenceClassification.forward`,  you can safely ignore this message.\n",
            "***** Running Evaluation *****\n",
            "  Num examples = 1674\n",
            "  Batch size = 16\n",
            "Saving model checkpoint to ./results/checkpoint-2514\n",
            "Configuration saved in ./results/checkpoint-2514/config.json\n",
            "Model weights saved in ./results/checkpoint-2514/pytorch_model.bin\n",
            "tokenizer config file saved in ./results/checkpoint-2514/tokenizer_config.json\n",
            "Special tokens file saved in ./results/checkpoint-2514/special_tokens_map.json\n",
            "\n",
            "\n",
            "Training completed. Do not forget to share your model on huggingface.co/models =)\n",
            "\n",
            "\n",
            "Loading best model from ./results/checkpoint-2514 (score: 0.46981812596609734).\n"
          ]
        },
        {
          "output_type": "display_data",
          "data": {
            "text/plain": [
              "TrainOutput(global_step=2514, training_loss=0.9153515110911125, metrics={'train_runtime': 806.8399, 'train_samples_per_second': 49.802, 'train_steps_per_second': 3.116, 'total_flos': 1775868623519544.0, 'train_loss': 0.9153515110911125, 'epoch': 3.0})"
            ]
          },
          "metadata": {}
        },
        {
          "output_type": "stream",
          "name": "stderr",
          "text": [
            "The following columns in the evaluation set don't have a corresponding argument in `BertForSequenceClassification.forward` and have been ignored: tokens. If tokens are not expected by `BertForSequenceClassification.forward`,  you can safely ignore this message.\n",
            "***** Running Evaluation *****\n",
            "  Num examples = 1674\n",
            "  Batch size = 16\n"
          ]
        },
        {
          "output_type": "display_data",
          "data": {
            "text/plain": [
              "<IPython.core.display.HTML object>"
            ],
            "text/html": [
              "\n",
              "    <div>\n",
              "      \n",
              "      <progress value='210' max='105' style='width:300px; height:20px; vertical-align: middle;'></progress>\n",
              "      [105/105 00:18]\n",
              "    </div>\n",
              "    "
            ]
          },
          "metadata": {}
        },
        {
          "output_type": "display_data",
          "data": {
            "text/plain": [
              "{'epoch': 3.0,\n",
              " 'eval_accuracy': 0.5543608124253285,\n",
              " 'eval_f1': 0.46981812596609734,\n",
              " 'eval_loss': 1.1153031587600708,\n",
              " 'eval_precision': 0.5388590673673541,\n",
              " 'eval_recall': 0.4371758333048151,\n",
              " 'eval_runtime': 9.2489,\n",
              " 'eval_samples_per_second': 180.995,\n",
              " 'eval_steps_per_second': 11.353}"
            ]
          },
          "metadata": {}
        },
        {
          "output_type": "stream",
          "name": "stderr",
          "text": [
            "The following columns in the test set don't have a corresponding argument in `BertForSequenceClassification.forward` and have been ignored: tokens. If tokens are not expected by `BertForSequenceClassification.forward`,  you can safely ignore this message.\n",
            "***** Running Prediction *****\n",
            "  Num examples = 1675\n",
            "  Batch size = 16\n"
          ]
        },
        {
          "output_type": "display_data",
          "data": {
            "text/plain": [
              "PredictionOutput(predictions=array([[ 2.2730577 , -0.38209984, -1.485879  ,  2.0117543 , -2.7955055 ],\n",
              "       [ 2.3029656 , -1.8601569 ,  1.2731074 ,  0.7600737 , -2.9897532 ],\n",
              "       [ 0.5340132 , -2.0112958 ,  3.2515519 , -0.24893504, -1.7813315 ],\n",
              "       ...,\n",
              "       [ 1.515837  ,  2.273377  , -2.0447404 ,  0.9392453 , -2.4451215 ],\n",
              "       [ 0.5097926 , -1.7330992 ,  1.5644592 , -0.17139944, -0.7610098 ],\n",
              "       [ 1.7860159 ,  0.7420413 , -2.09492   , -1.8021395 ,  1.4617672 ]],\n",
              "      dtype=float32), label_ids=array([0, 3, 2, ..., 1, 2, 4]), metrics={'test_loss': 1.0893518924713135, 'test_accuracy': 0.5749253731343283, 'test_f1': 0.47280775750415244, 'test_precision': 0.5577648102842093, 'test_recall': 0.4400215165669711, 'test_runtime': 9.4491, 'test_samples_per_second': 177.266, 'test_steps_per_second': 11.112})"
            ]
          },
          "metadata": {}
        },
        {
          "output_type": "stream",
          "name": "stderr",
          "text": [
            "Saving model checkpoint to /content/drive/Shareddrives/PLN/Assignment 2/models/en/bert-base-multilingual-cased\n",
            "Configuration saved in /content/drive/Shareddrives/PLN/Assignment 2/models/en/bert-base-multilingual-cased/config.json\n",
            "Model weights saved in /content/drive/Shareddrives/PLN/Assignment 2/models/en/bert-base-multilingual-cased/pytorch_model.bin\n",
            "tokenizer config file saved in /content/drive/Shareddrives/PLN/Assignment 2/models/en/bert-base-multilingual-cased/tokenizer_config.json\n",
            "Special tokens file saved in /content/drive/Shareddrives/PLN/Assignment 2/models/en/bert-base-multilingual-cased/special_tokens_map.json\n"
          ]
        }
      ]
    },
    {
      "cell_type": "code",
      "source": [
        "!rm -rf ./results/"
      ],
      "metadata": {
        "id": "rl1tklfCYxp-"
      },
      "execution_count": null,
      "outputs": []
    },
    {
      "cell_type": "markdown",
      "source": [
        "#### Spanish"
      ],
      "metadata": {
        "id": "oG5ATc15_gpI"
      }
    },
    {
      "cell_type": "code",
      "source": [
        "train_model(train_dataset_=tokenized_dataset['es'], lang='es')"
      ],
      "metadata": {
        "colab": {
          "base_uri": "https://localhost:8080/",
          "height": 1000
        },
        "id": "Z8chX0dyioYg",
        "outputId": "0c924dbc-0b39-4597-d49d-f2505a97d282"
      },
      "execution_count": null,
      "outputs": [
        {
          "output_type": "stream",
          "name": "stderr",
          "text": [
            "PyTorch: setting up devices\n",
            "The default value for the training argument `--report_to` will change in v5 (from all installed integrations to none). In v5, you will need to use `--report_to all` to get the same behavior as now. You should start updating your code and make this info disappear :-).\n",
            "The following columns in the training set don't have a corresponding argument in `BertForSequenceClassification.forward` and have been ignored: tokens. If tokens are not expected by `BertForSequenceClassification.forward`,  you can safely ignore this message.\n",
            "/usr/local/lib/python3.7/dist-packages/transformers/optimization.py:309: FutureWarning: This implementation of AdamW is deprecated and will be removed in a future version. Use the PyTorch implementation torch.optim.AdamW instead, or set `no_deprecation_warning=True` to disable this warning\n",
            "  FutureWarning,\n",
            "***** Running training *****\n",
            "  Num examples = 13394\n",
            "  Num Epochs = 3\n",
            "  Instantaneous batch size per device = 16\n",
            "  Total train batch size (w. parallel, distributed & accumulation) = 16\n",
            "  Gradient Accumulation steps = 1\n",
            "  Total optimization steps = 2514\n"
          ]
        },
        {
          "output_type": "display_data",
          "data": {
            "text/plain": [
              "<IPython.core.display.HTML object>"
            ],
            "text/html": [
              "\n",
              "    <div>\n",
              "      \n",
              "      <progress value='2514' max='2514' style='width:300px; height:20px; vertical-align: middle;'></progress>\n",
              "      [2514/2514 13:30, Epoch 3/3]\n",
              "    </div>\n",
              "    <table border=\"1\" class=\"dataframe\">\n",
              "  <thead>\n",
              " <tr style=\"text-align: left;\">\n",
              "      <th>Epoch</th>\n",
              "      <th>Training Loss</th>\n",
              "      <th>Validation Loss</th>\n",
              "      <th>Accuracy</th>\n",
              "      <th>F1</th>\n",
              "      <th>Precision</th>\n",
              "      <th>Recall</th>\n",
              "    </tr>\n",
              "  </thead>\n",
              "  <tbody>\n",
              "    <tr>\n",
              "      <td>1</td>\n",
              "      <td>0.984500</td>\n",
              "      <td>1.024782</td>\n",
              "      <td>0.580645</td>\n",
              "      <td>0.482984</td>\n",
              "      <td>0.594924</td>\n",
              "      <td>0.443693</td>\n",
              "    </tr>\n",
              "    <tr>\n",
              "      <td>2</td>\n",
              "      <td>0.758000</td>\n",
              "      <td>1.097132</td>\n",
              "      <td>0.563321</td>\n",
              "      <td>0.510496</td>\n",
              "      <td>0.576393</td>\n",
              "      <td>0.490694</td>\n",
              "    </tr>\n",
              "    <tr>\n",
              "      <td>3</td>\n",
              "      <td>0.623500</td>\n",
              "      <td>1.183407</td>\n",
              "      <td>0.549582</td>\n",
              "      <td>0.515523</td>\n",
              "      <td>0.535688</td>\n",
              "      <td>0.504253</td>\n",
              "    </tr>\n",
              "  </tbody>\n",
              "</table><p>"
            ]
          },
          "metadata": {}
        },
        {
          "output_type": "stream",
          "name": "stderr",
          "text": [
            "The following columns in the evaluation set don't have a corresponding argument in `BertForSequenceClassification.forward` and have been ignored: tokens. If tokens are not expected by `BertForSequenceClassification.forward`,  you can safely ignore this message.\n",
            "***** Running Evaluation *****\n",
            "  Num examples = 1674\n",
            "  Batch size = 16\n",
            "Saving model checkpoint to ./results/checkpoint-838\n",
            "Configuration saved in ./results/checkpoint-838/config.json\n",
            "Model weights saved in ./results/checkpoint-838/pytorch_model.bin\n",
            "tokenizer config file saved in ./results/checkpoint-838/tokenizer_config.json\n",
            "Special tokens file saved in ./results/checkpoint-838/special_tokens_map.json\n",
            "The following columns in the evaluation set don't have a corresponding argument in `BertForSequenceClassification.forward` and have been ignored: tokens. If tokens are not expected by `BertForSequenceClassification.forward`,  you can safely ignore this message.\n",
            "***** Running Evaluation *****\n",
            "  Num examples = 1674\n",
            "  Batch size = 16\n",
            "Saving model checkpoint to ./results/checkpoint-1676\n",
            "Configuration saved in ./results/checkpoint-1676/config.json\n",
            "Model weights saved in ./results/checkpoint-1676/pytorch_model.bin\n",
            "tokenizer config file saved in ./results/checkpoint-1676/tokenizer_config.json\n",
            "Special tokens file saved in ./results/checkpoint-1676/special_tokens_map.json\n",
            "The following columns in the evaluation set don't have a corresponding argument in `BertForSequenceClassification.forward` and have been ignored: tokens. If tokens are not expected by `BertForSequenceClassification.forward`,  you can safely ignore this message.\n",
            "***** Running Evaluation *****\n",
            "  Num examples = 1674\n",
            "  Batch size = 16\n",
            "Saving model checkpoint to ./results/checkpoint-2514\n",
            "Configuration saved in ./results/checkpoint-2514/config.json\n",
            "Model weights saved in ./results/checkpoint-2514/pytorch_model.bin\n",
            "tokenizer config file saved in ./results/checkpoint-2514/tokenizer_config.json\n",
            "Special tokens file saved in ./results/checkpoint-2514/special_tokens_map.json\n",
            "\n",
            "\n",
            "Training completed. Do not forget to share your model on huggingface.co/models =)\n",
            "\n",
            "\n",
            "Loading best model from ./results/checkpoint-2514 (score: 0.515523230907694).\n"
          ]
        },
        {
          "output_type": "display_data",
          "data": {
            "text/plain": [
              "TrainOutput(global_step=2514, training_loss=0.7853347490776506, metrics={'train_runtime': 811.3131, 'train_samples_per_second': 49.527, 'train_steps_per_second': 3.099, 'total_flos': 1775868623519544.0, 'train_loss': 0.7853347490776506, 'epoch': 3.0})"
            ]
          },
          "metadata": {}
        },
        {
          "output_type": "stream",
          "name": "stderr",
          "text": [
            "The following columns in the evaluation set don't have a corresponding argument in `BertForSequenceClassification.forward` and have been ignored: tokens. If tokens are not expected by `BertForSequenceClassification.forward`,  you can safely ignore this message.\n",
            "***** Running Evaluation *****\n",
            "  Num examples = 1674\n",
            "  Batch size = 16\n"
          ]
        },
        {
          "output_type": "display_data",
          "data": {
            "text/plain": [
              "<IPython.core.display.HTML object>"
            ],
            "text/html": [
              "\n",
              "    <div>\n",
              "      \n",
              "      <progress value='210' max='105' style='width:300px; height:20px; vertical-align: middle;'></progress>\n",
              "      [105/105 00:18]\n",
              "    </div>\n",
              "    "
            ]
          },
          "metadata": {}
        },
        {
          "output_type": "display_data",
          "data": {
            "text/plain": [
              "{'epoch': 3.0,\n",
              " 'eval_accuracy': 0.5495818399044206,\n",
              " 'eval_f1': 0.515523230907694,\n",
              " 'eval_loss': 1.1834070682525635,\n",
              " 'eval_precision': 0.5356880009031807,\n",
              " 'eval_recall': 0.5042531374513051,\n",
              " 'eval_runtime': 9.2882,\n",
              " 'eval_samples_per_second': 180.23,\n",
              " 'eval_steps_per_second': 11.305}"
            ]
          },
          "metadata": {}
        },
        {
          "output_type": "stream",
          "name": "stderr",
          "text": [
            "The following columns in the test set don't have a corresponding argument in `BertForSequenceClassification.forward` and have been ignored: tokens. If tokens are not expected by `BertForSequenceClassification.forward`,  you can safely ignore this message.\n",
            "***** Running Prediction *****\n",
            "  Num examples = 1675\n",
            "  Batch size = 16\n"
          ]
        },
        {
          "output_type": "display_data",
          "data": {
            "text/plain": [
              "PredictionOutput(predictions=array([[ 3.2260716 , -0.74787545, -2.0615969 ,  1.8557225 , -2.879161  ],\n",
              "       [ 2.3072426 , -1.9754125 ,  2.298366  ,  0.3516692 , -3.4420042 ],\n",
              "       [ 0.93096703, -2.6186986 ,  3.1016548 ,  0.5749084 , -2.4945393 ],\n",
              "       ...,\n",
              "       [ 1.7521371 ,  2.3677483 , -2.6919951 ,  1.5470537 , -2.913363  ],\n",
              "       [ 0.5957954 , -2.3890164 ,  4.053494  , -0.31822258, -2.3912656 ],\n",
              "       [ 1.4082956 ,  0.58619773, -2.455303  , -2.524176  ,  3.1378322 ]],\n",
              "      dtype=float32), label_ids=array([0, 3, 2, ..., 1, 2, 4]), metrics={'test_loss': 1.1516385078430176, 'test_accuracy': 0.5647761194029851, 'test_f1': 0.5236365310584083, 'test_precision': 0.5428681807360272, 'test_recall': 0.5099955515410062, 'test_runtime': 9.5355, 'test_samples_per_second': 175.659, 'test_steps_per_second': 11.011})"
            ]
          },
          "metadata": {}
        },
        {
          "output_type": "stream",
          "name": "stderr",
          "text": [
            "Saving model checkpoint to /content/drive/Shareddrives/PLN/Assignment 2/models/es/bert-base-multilingual-cased\n",
            "Configuration saved in /content/drive/Shareddrives/PLN/Assignment 2/models/es/bert-base-multilingual-cased/config.json\n",
            "Model weights saved in /content/drive/Shareddrives/PLN/Assignment 2/models/es/bert-base-multilingual-cased/pytorch_model.bin\n",
            "tokenizer config file saved in /content/drive/Shareddrives/PLN/Assignment 2/models/es/bert-base-multilingual-cased/tokenizer_config.json\n",
            "Special tokens file saved in /content/drive/Shareddrives/PLN/Assignment 2/models/es/bert-base-multilingual-cased/special_tokens_map.json\n"
          ]
        }
      ]
    },
    {
      "cell_type": "code",
      "source": [
        "!rm -rf ./results/"
      ],
      "metadata": {
        "id": "mP3MUlGqiqG5"
      },
      "execution_count": null,
      "outputs": []
    },
    {
      "cell_type": "markdown",
      "source": [
        "#### Galician"
      ],
      "metadata": {
        "id": "gLpwm6KP_nx8"
      }
    },
    {
      "cell_type": "code",
      "source": [
        "train_model(train_dataset_=tokenized_dataset['ga'], lang='ga')"
      ],
      "metadata": {
        "colab": {
          "base_uri": "https://localhost:8080/",
          "height": 1000
        },
        "id": "d6XxhOiSp_XL",
        "outputId": "8e8bfdad-fbb2-44a7-f546-e52b46197056"
      },
      "execution_count": null,
      "outputs": [
        {
          "output_type": "stream",
          "name": "stderr",
          "text": [
            "PyTorch: setting up devices\n",
            "The default value for the training argument `--report_to` will change in v5 (from all installed integrations to none). In v5, you will need to use `--report_to all` to get the same behavior as now. You should start updating your code and make this info disappear :-).\n",
            "The following columns in the training set don't have a corresponding argument in `BertForSequenceClassification.forward` and have been ignored: tokens. If tokens are not expected by `BertForSequenceClassification.forward`,  you can safely ignore this message.\n",
            "/usr/local/lib/python3.7/dist-packages/transformers/optimization.py:309: FutureWarning: This implementation of AdamW is deprecated and will be removed in a future version. Use the PyTorch implementation torch.optim.AdamW instead, or set `no_deprecation_warning=True` to disable this warning\n",
            "  FutureWarning,\n",
            "***** Running training *****\n",
            "  Num examples = 13394\n",
            "  Num Epochs = 3\n",
            "  Instantaneous batch size per device = 16\n",
            "  Total train batch size (w. parallel, distributed & accumulation) = 16\n",
            "  Gradient Accumulation steps = 1\n",
            "  Total optimization steps = 2514\n"
          ]
        },
        {
          "output_type": "display_data",
          "data": {
            "text/plain": [
              "<IPython.core.display.HTML object>"
            ],
            "text/html": [
              "\n",
              "    <div>\n",
              "      \n",
              "      <progress value='2514' max='2514' style='width:300px; height:20px; vertical-align: middle;'></progress>\n",
              "      [2514/2514 13:36, Epoch 3/3]\n",
              "    </div>\n",
              "    <table border=\"1\" class=\"dataframe\">\n",
              "  <thead>\n",
              " <tr style=\"text-align: left;\">\n",
              "      <th>Epoch</th>\n",
              "      <th>Training Loss</th>\n",
              "      <th>Validation Loss</th>\n",
              "      <th>Accuracy</th>\n",
              "      <th>F1</th>\n",
              "      <th>Precision</th>\n",
              "      <th>Recall</th>\n",
              "    </tr>\n",
              "  </thead>\n",
              "  <tbody>\n",
              "    <tr>\n",
              "      <td>1</td>\n",
              "      <td>0.744400</td>\n",
              "      <td>1.164826</td>\n",
              "      <td>0.559737</td>\n",
              "      <td>0.483457</td>\n",
              "      <td>0.538671</td>\n",
              "      <td>0.454764</td>\n",
              "    </tr>\n",
              "    <tr>\n",
              "      <td>2</td>\n",
              "      <td>0.590900</td>\n",
              "      <td>1.226598</td>\n",
              "      <td>0.556750</td>\n",
              "      <td>0.528548</td>\n",
              "      <td>0.542557</td>\n",
              "      <td>0.523747</td>\n",
              "    </tr>\n",
              "    <tr>\n",
              "      <td>3</td>\n",
              "      <td>0.504600</td>\n",
              "      <td>1.361347</td>\n",
              "      <td>0.539427</td>\n",
              "      <td>0.513961</td>\n",
              "      <td>0.522782</td>\n",
              "      <td>0.506512</td>\n",
              "    </tr>\n",
              "  </tbody>\n",
              "</table><p>"
            ]
          },
          "metadata": {}
        },
        {
          "output_type": "stream",
          "name": "stderr",
          "text": [
            "The following columns in the evaluation set don't have a corresponding argument in `BertForSequenceClassification.forward` and have been ignored: tokens. If tokens are not expected by `BertForSequenceClassification.forward`,  you can safely ignore this message.\n",
            "***** Running Evaluation *****\n",
            "  Num examples = 1674\n",
            "  Batch size = 16\n",
            "Saving model checkpoint to ./results/checkpoint-838\n",
            "Configuration saved in ./results/checkpoint-838/config.json\n",
            "Model weights saved in ./results/checkpoint-838/pytorch_model.bin\n",
            "tokenizer config file saved in ./results/checkpoint-838/tokenizer_config.json\n",
            "Special tokens file saved in ./results/checkpoint-838/special_tokens_map.json\n",
            "The following columns in the evaluation set don't have a corresponding argument in `BertForSequenceClassification.forward` and have been ignored: tokens. If tokens are not expected by `BertForSequenceClassification.forward`,  you can safely ignore this message.\n",
            "***** Running Evaluation *****\n",
            "  Num examples = 1674\n",
            "  Batch size = 16\n",
            "Saving model checkpoint to ./results/checkpoint-1676\n",
            "Configuration saved in ./results/checkpoint-1676/config.json\n",
            "Model weights saved in ./results/checkpoint-1676/pytorch_model.bin\n",
            "tokenizer config file saved in ./results/checkpoint-1676/tokenizer_config.json\n",
            "Special tokens file saved in ./results/checkpoint-1676/special_tokens_map.json\n",
            "The following columns in the evaluation set don't have a corresponding argument in `BertForSequenceClassification.forward` and have been ignored: tokens. If tokens are not expected by `BertForSequenceClassification.forward`,  you can safely ignore this message.\n",
            "***** Running Evaluation *****\n",
            "  Num examples = 1674\n",
            "  Batch size = 16\n",
            "Saving model checkpoint to ./results/checkpoint-2514\n",
            "Configuration saved in ./results/checkpoint-2514/config.json\n",
            "Model weights saved in ./results/checkpoint-2514/pytorch_model.bin\n",
            "tokenizer config file saved in ./results/checkpoint-2514/tokenizer_config.json\n",
            "Special tokens file saved in ./results/checkpoint-2514/special_tokens_map.json\n",
            "\n",
            "\n",
            "Training completed. Do not forget to share your model on huggingface.co/models =)\n",
            "\n",
            "\n",
            "Loading best model from ./results/checkpoint-1676 (score: 0.5285476726535665).\n"
          ]
        },
        {
          "output_type": "display_data",
          "data": {
            "text/plain": [
              "TrainOutput(global_step=2514, training_loss=0.6061285202144723, metrics={'train_runtime': 816.7086, 'train_samples_per_second': 49.2, 'train_steps_per_second': 3.078, 'total_flos': 1775868623519544.0, 'train_loss': 0.6061285202144723, 'epoch': 3.0})"
            ]
          },
          "metadata": {}
        },
        {
          "output_type": "stream",
          "name": "stderr",
          "text": [
            "The following columns in the evaluation set don't have a corresponding argument in `BertForSequenceClassification.forward` and have been ignored: tokens. If tokens are not expected by `BertForSequenceClassification.forward`,  you can safely ignore this message.\n",
            "***** Running Evaluation *****\n",
            "  Num examples = 1674\n",
            "  Batch size = 16\n"
          ]
        },
        {
          "output_type": "display_data",
          "data": {
            "text/plain": [
              "<IPython.core.display.HTML object>"
            ],
            "text/html": [
              "\n",
              "    <div>\n",
              "      \n",
              "      <progress value='210' max='105' style='width:300px; height:20px; vertical-align: middle;'></progress>\n",
              "      [105/105 00:18]\n",
              "    </div>\n",
              "    "
            ]
          },
          "metadata": {}
        },
        {
          "output_type": "display_data",
          "data": {
            "text/plain": [
              "{'epoch': 3.0,\n",
              " 'eval_accuracy': 0.5567502986857825,\n",
              " 'eval_f1': 0.5285476726535665,\n",
              " 'eval_loss': 1.2265983819961548,\n",
              " 'eval_precision': 0.5425565714851429,\n",
              " 'eval_recall': 0.52374654088472,\n",
              " 'eval_runtime': 9.2198,\n",
              " 'eval_samples_per_second': 181.566,\n",
              " 'eval_steps_per_second': 11.389}"
            ]
          },
          "metadata": {}
        },
        {
          "output_type": "stream",
          "name": "stderr",
          "text": [
            "The following columns in the test set don't have a corresponding argument in `BertForSequenceClassification.forward` and have been ignored: tokens. If tokens are not expected by `BertForSequenceClassification.forward`,  you can safely ignore this message.\n",
            "***** Running Prediction *****\n",
            "  Num examples = 1675\n",
            "  Batch size = 16\n"
          ]
        },
        {
          "output_type": "display_data",
          "data": {
            "text/plain": [
              "PredictionOutput(predictions=array([[ 2.979091  , -1.6636992 , -1.5398701 ,  2.212641  , -2.9077034 ],\n",
              "       [ 2.336499  , -2.0212781 ,  1.7375876 ,  1.0090541 , -3.6609035 ],\n",
              "       [ 1.2810286 , -3.0915082 ,  2.955997  ,  0.78869104, -2.680071  ],\n",
              "       ...,\n",
              "       [ 1.4296207 ,  3.4225059 , -3.0995514 ,  0.9431521 , -2.6815386 ],\n",
              "       [ 0.9804    , -3.0449114 ,  4.3757415 , -0.06949195, -2.7023401 ],\n",
              "       [ 1.1725712 , -0.05328814, -2.0808673 , -2.8646948 ,  3.789807  ]],\n",
              "      dtype=float32), label_ids=array([0, 3, 2, ..., 1, 2, 4]), metrics={'test_loss': 1.2057018280029297, 'test_accuracy': 0.5582089552238806, 'test_f1': 0.5175554917980448, 'test_precision': 0.5426340409432638, 'test_recall': 0.5034765782947601, 'test_runtime': 9.4604, 'test_samples_per_second': 177.055, 'test_steps_per_second': 11.099})"
            ]
          },
          "metadata": {}
        },
        {
          "output_type": "stream",
          "name": "stderr",
          "text": [
            "Saving model checkpoint to /content/drive/Shareddrives/PLN/Assignment 2/models/ga/bert-base-multilingual-cased\n",
            "Configuration saved in /content/drive/Shareddrives/PLN/Assignment 2/models/ga/bert-base-multilingual-cased/config.json\n",
            "Model weights saved in /content/drive/Shareddrives/PLN/Assignment 2/models/ga/bert-base-multilingual-cased/pytorch_model.bin\n",
            "tokenizer config file saved in /content/drive/Shareddrives/PLN/Assignment 2/models/ga/bert-base-multilingual-cased/tokenizer_config.json\n",
            "Special tokens file saved in /content/drive/Shareddrives/PLN/Assignment 2/models/ga/bert-base-multilingual-cased/special_tokens_map.json\n"
          ]
        }
      ]
    },
    {
      "cell_type": "code",
      "source": [
        "!rm -rf ./results/"
      ],
      "metadata": {
        "id": "mVDRS799qQA8"
      },
      "execution_count": null,
      "outputs": []
    },
    {
      "cell_type": "markdown",
      "source": [
        "#### French"
      ],
      "metadata": {
        "id": "IUCt4xqj_pLs"
      }
    },
    {
      "cell_type": "code",
      "source": [
        "train_model(train_dataset_=tokenized_dataset['fr'], lang='fr')"
      ],
      "metadata": {
        "colab": {
          "base_uri": "https://localhost:8080/",
          "height": 1000
        },
        "id": "8wTvsSn6u_NH",
        "outputId": "b6efe419-ffbc-4180-951b-6ab7670e34ad"
      },
      "execution_count": null,
      "outputs": [
        {
          "output_type": "stream",
          "name": "stderr",
          "text": [
            "PyTorch: setting up devices\n",
            "The default value for the training argument `--report_to` will change in v5 (from all installed integrations to none). In v5, you will need to use `--report_to all` to get the same behavior as now. You should start updating your code and make this info disappear :-).\n",
            "The following columns in the training set don't have a corresponding argument in `BertForSequenceClassification.forward` and have been ignored: tokens. If tokens are not expected by `BertForSequenceClassification.forward`,  you can safely ignore this message.\n",
            "/usr/local/lib/python3.7/dist-packages/transformers/optimization.py:309: FutureWarning: This implementation of AdamW is deprecated and will be removed in a future version. Use the PyTorch implementation torch.optim.AdamW instead, or set `no_deprecation_warning=True` to disable this warning\n",
            "  FutureWarning,\n",
            "***** Running training *****\n",
            "  Num examples = 13394\n",
            "  Num Epochs = 3\n",
            "  Instantaneous batch size per device = 16\n",
            "  Total train batch size (w. parallel, distributed & accumulation) = 16\n",
            "  Gradient Accumulation steps = 1\n",
            "  Total optimization steps = 2514\n"
          ]
        },
        {
          "output_type": "display_data",
          "data": {
            "text/plain": [
              "<IPython.core.display.HTML object>"
            ],
            "text/html": [
              "\n",
              "    <div>\n",
              "      \n",
              "      <progress value='2514' max='2514' style='width:300px; height:20px; vertical-align: middle;'></progress>\n",
              "      [2514/2514 13:36, Epoch 3/3]\n",
              "    </div>\n",
              "    <table border=\"1\" class=\"dataframe\">\n",
              "  <thead>\n",
              " <tr style=\"text-align: left;\">\n",
              "      <th>Epoch</th>\n",
              "      <th>Training Loss</th>\n",
              "      <th>Validation Loss</th>\n",
              "      <th>Accuracy</th>\n",
              "      <th>F1</th>\n",
              "      <th>Precision</th>\n",
              "      <th>Recall</th>\n",
              "    </tr>\n",
              "  </thead>\n",
              "  <tbody>\n",
              "    <tr>\n",
              "      <td>1</td>\n",
              "      <td>0.804400</td>\n",
              "      <td>1.102363</td>\n",
              "      <td>0.555556</td>\n",
              "      <td>0.525114</td>\n",
              "      <td>0.518421</td>\n",
              "      <td>0.543867</td>\n",
              "    </tr>\n",
              "    <tr>\n",
              "      <td>2</td>\n",
              "      <td>0.595400</td>\n",
              "      <td>1.213794</td>\n",
              "      <td>0.556750</td>\n",
              "      <td>0.526468</td>\n",
              "      <td>0.532517</td>\n",
              "      <td>0.538058</td>\n",
              "    </tr>\n",
              "    <tr>\n",
              "      <td>3</td>\n",
              "      <td>0.507500</td>\n",
              "      <td>1.361052</td>\n",
              "      <td>0.534050</td>\n",
              "      <td>0.507577</td>\n",
              "      <td>0.499313</td>\n",
              "      <td>0.518719</td>\n",
              "    </tr>\n",
              "  </tbody>\n",
              "</table><p>"
            ]
          },
          "metadata": {}
        },
        {
          "output_type": "stream",
          "name": "stderr",
          "text": [
            "The following columns in the evaluation set don't have a corresponding argument in `BertForSequenceClassification.forward` and have been ignored: tokens. If tokens are not expected by `BertForSequenceClassification.forward`,  you can safely ignore this message.\n",
            "***** Running Evaluation *****\n",
            "  Num examples = 1674\n",
            "  Batch size = 16\n",
            "Saving model checkpoint to ./results/checkpoint-838\n",
            "Configuration saved in ./results/checkpoint-838/config.json\n",
            "Model weights saved in ./results/checkpoint-838/pytorch_model.bin\n",
            "tokenizer config file saved in ./results/checkpoint-838/tokenizer_config.json\n",
            "Special tokens file saved in ./results/checkpoint-838/special_tokens_map.json\n",
            "The following columns in the evaluation set don't have a corresponding argument in `BertForSequenceClassification.forward` and have been ignored: tokens. If tokens are not expected by `BertForSequenceClassification.forward`,  you can safely ignore this message.\n",
            "***** Running Evaluation *****\n",
            "  Num examples = 1674\n",
            "  Batch size = 16\n",
            "Saving model checkpoint to ./results/checkpoint-1676\n",
            "Configuration saved in ./results/checkpoint-1676/config.json\n",
            "Model weights saved in ./results/checkpoint-1676/pytorch_model.bin\n",
            "tokenizer config file saved in ./results/checkpoint-1676/tokenizer_config.json\n",
            "Special tokens file saved in ./results/checkpoint-1676/special_tokens_map.json\n",
            "The following columns in the evaluation set don't have a corresponding argument in `BertForSequenceClassification.forward` and have been ignored: tokens. If tokens are not expected by `BertForSequenceClassification.forward`,  you can safely ignore this message.\n",
            "***** Running Evaluation *****\n",
            "  Num examples = 1674\n",
            "  Batch size = 16\n",
            "Saving model checkpoint to ./results/checkpoint-2514\n",
            "Configuration saved in ./results/checkpoint-2514/config.json\n",
            "Model weights saved in ./results/checkpoint-2514/pytorch_model.bin\n",
            "tokenizer config file saved in ./results/checkpoint-2514/tokenizer_config.json\n",
            "Special tokens file saved in ./results/checkpoint-2514/special_tokens_map.json\n",
            "\n",
            "\n",
            "Training completed. Do not forget to share your model on huggingface.co/models =)\n",
            "\n",
            "\n",
            "Loading best model from ./results/checkpoint-1676 (score: 0.526468372770523).\n"
          ]
        },
        {
          "output_type": "display_data",
          "data": {
            "text/plain": [
              "TrainOutput(global_step=2514, training_loss=0.6337519886954588, metrics={'train_runtime': 816.5466, 'train_samples_per_second': 49.21, 'train_steps_per_second': 3.079, 'total_flos': 1775868623519544.0, 'train_loss': 0.6337519886954588, 'epoch': 3.0})"
            ]
          },
          "metadata": {}
        },
        {
          "output_type": "stream",
          "name": "stderr",
          "text": [
            "The following columns in the evaluation set don't have a corresponding argument in `BertForSequenceClassification.forward` and have been ignored: tokens. If tokens are not expected by `BertForSequenceClassification.forward`,  you can safely ignore this message.\n",
            "***** Running Evaluation *****\n",
            "  Num examples = 1674\n",
            "  Batch size = 16\n"
          ]
        },
        {
          "output_type": "display_data",
          "data": {
            "text/plain": [
              "<IPython.core.display.HTML object>"
            ],
            "text/html": [
              "\n",
              "    <div>\n",
              "      \n",
              "      <progress value='210' max='105' style='width:300px; height:20px; vertical-align: middle;'></progress>\n",
              "      [105/105 00:18]\n",
              "    </div>\n",
              "    "
            ]
          },
          "metadata": {}
        },
        {
          "output_type": "display_data",
          "data": {
            "text/plain": [
              "{'epoch': 3.0,\n",
              " 'eval_accuracy': 0.5567502986857825,\n",
              " 'eval_f1': 0.526468372770523,\n",
              " 'eval_loss': 1.2137943506240845,\n",
              " 'eval_precision': 0.5325168420360612,\n",
              " 'eval_recall': 0.5380581959720734,\n",
              " 'eval_runtime': 9.2053,\n",
              " 'eval_samples_per_second': 181.852,\n",
              " 'eval_steps_per_second': 11.406}"
            ]
          },
          "metadata": {}
        },
        {
          "output_type": "stream",
          "name": "stderr",
          "text": [
            "The following columns in the test set don't have a corresponding argument in `BertForSequenceClassification.forward` and have been ignored: tokens. If tokens are not expected by `BertForSequenceClassification.forward`,  you can safely ignore this message.\n",
            "***** Running Prediction *****\n",
            "  Num examples = 1675\n",
            "  Batch size = 16\n"
          ]
        },
        {
          "output_type": "display_data",
          "data": {
            "text/plain": [
              "PredictionOutput(predictions=array([[ 2.7789636 , -1.8320004 , -1.3612224 ,  2.4146144 , -2.9325416 ],\n",
              "       [ 1.7230608 , -1.9590844 ,  2.178066  ,  1.0589224 , -3.982875  ],\n",
              "       [ 1.370651  , -3.4718704 ,  3.4706452 ,  0.75558776, -2.8990152 ],\n",
              "       ...,\n",
              "       [ 2.3340838 ,  2.5653589 , -2.4022202 ,  0.3235347 , -3.1236992 ],\n",
              "       [ 1.0710703 , -3.016546  ,  4.45786   , -0.10570648, -2.9112284 ],\n",
              "       [ 1.4195867 , -1.3453461 , -1.5903379 , -2.4765651 ,  4.0151343 ]],\n",
              "      dtype=float32), label_ids=array([0, 3, 2, ..., 1, 2, 4]), metrics={'test_loss': 1.2258025407791138, 'test_accuracy': 0.5408955223880597, 'test_f1': 0.5053307095536879, 'test_precision': 0.5130058664671668, 'test_recall': 0.5128002652548107, 'test_runtime': 9.4301, 'test_samples_per_second': 177.623, 'test_steps_per_second': 11.135})"
            ]
          },
          "metadata": {}
        },
        {
          "output_type": "stream",
          "name": "stderr",
          "text": [
            "Saving model checkpoint to /content/drive/Shareddrives/PLN/Assignment 2/models/fr/bert-base-multilingual-cased\n",
            "Configuration saved in /content/drive/Shareddrives/PLN/Assignment 2/models/fr/bert-base-multilingual-cased/config.json\n",
            "Model weights saved in /content/drive/Shareddrives/PLN/Assignment 2/models/fr/bert-base-multilingual-cased/pytorch_model.bin\n",
            "tokenizer config file saved in /content/drive/Shareddrives/PLN/Assignment 2/models/fr/bert-base-multilingual-cased/tokenizer_config.json\n",
            "Special tokens file saved in /content/drive/Shareddrives/PLN/Assignment 2/models/fr/bert-base-multilingual-cased/special_tokens_map.json\n"
          ]
        }
      ]
    },
    {
      "cell_type": "code",
      "source": [
        "!rm -rf ./results/"
      ],
      "metadata": {
        "id": "JgO9zyt2vCju"
      },
      "execution_count": null,
      "outputs": []
    },
    {
      "cell_type": "markdown",
      "source": [
        "#### Italian"
      ],
      "metadata": {
        "id": "iwEJUxTR_quy"
      }
    },
    {
      "cell_type": "code",
      "source": [
        "train_model(train_dataset_=tokenized_dataset['it'], lang='it')"
      ],
      "metadata": {
        "colab": {
          "base_uri": "https://localhost:8080/",
          "height": 1000
        },
        "id": "4IBaLWGM2q02",
        "outputId": "a1451527-76c7-495b-98b9-df9e6b85675b"
      },
      "execution_count": null,
      "outputs": [
        {
          "output_type": "stream",
          "name": "stderr",
          "text": [
            "PyTorch: setting up devices\n",
            "The default value for the training argument `--report_to` will change in v5 (from all installed integrations to none). In v5, you will need to use `--report_to all` to get the same behavior as now. You should start updating your code and make this info disappear :-).\n",
            "The following columns in the training set don't have a corresponding argument in `BertForSequenceClassification.forward` and have been ignored: tokens. If tokens are not expected by `BertForSequenceClassification.forward`,  you can safely ignore this message.\n",
            "/usr/local/lib/python3.7/dist-packages/transformers/optimization.py:309: FutureWarning: This implementation of AdamW is deprecated and will be removed in a future version. Use the PyTorch implementation torch.optim.AdamW instead, or set `no_deprecation_warning=True` to disable this warning\n",
            "  FutureWarning,\n",
            "***** Running training *****\n",
            "  Num examples = 13394\n",
            "  Num Epochs = 3\n",
            "  Instantaneous batch size per device = 16\n",
            "  Total train batch size (w. parallel, distributed & accumulation) = 16\n",
            "  Gradient Accumulation steps = 1\n",
            "  Total optimization steps = 2514\n"
          ]
        },
        {
          "output_type": "display_data",
          "data": {
            "text/plain": [
              "<IPython.core.display.HTML object>"
            ],
            "text/html": [
              "\n",
              "    <div>\n",
              "      \n",
              "      <progress value='2514' max='2514' style='width:300px; height:20px; vertical-align: middle;'></progress>\n",
              "      [2514/2514 13:30, Epoch 3/3]\n",
              "    </div>\n",
              "    <table border=\"1\" class=\"dataframe\">\n",
              "  <thead>\n",
              " <tr style=\"text-align: left;\">\n",
              "      <th>Epoch</th>\n",
              "      <th>Training Loss</th>\n",
              "      <th>Validation Loss</th>\n",
              "      <th>Accuracy</th>\n",
              "      <th>F1</th>\n",
              "      <th>Precision</th>\n",
              "      <th>Recall</th>\n",
              "    </tr>\n",
              "  </thead>\n",
              "  <tbody>\n",
              "    <tr>\n",
              "      <td>1</td>\n",
              "      <td>0.672200</td>\n",
              "      <td>1.229860</td>\n",
              "      <td>0.556153</td>\n",
              "      <td>0.502326</td>\n",
              "      <td>0.539126</td>\n",
              "      <td>0.479781</td>\n",
              "    </tr>\n",
              "    <tr>\n",
              "      <td>2</td>\n",
              "      <td>0.518800</td>\n",
              "      <td>1.332829</td>\n",
              "      <td>0.531661</td>\n",
              "      <td>0.505466</td>\n",
              "      <td>0.506375</td>\n",
              "      <td>0.510227</td>\n",
              "    </tr>\n",
              "    <tr>\n",
              "      <td>3</td>\n",
              "      <td>0.474900</td>\n",
              "      <td>1.454119</td>\n",
              "      <td>0.532258</td>\n",
              "      <td>0.511354</td>\n",
              "      <td>0.507593</td>\n",
              "      <td>0.519838</td>\n",
              "    </tr>\n",
              "  </tbody>\n",
              "</table><p>"
            ]
          },
          "metadata": {}
        },
        {
          "output_type": "stream",
          "name": "stderr",
          "text": [
            "The following columns in the evaluation set don't have a corresponding argument in `BertForSequenceClassification.forward` and have been ignored: tokens. If tokens are not expected by `BertForSequenceClassification.forward`,  you can safely ignore this message.\n",
            "***** Running Evaluation *****\n",
            "  Num examples = 1674\n",
            "  Batch size = 16\n",
            "Saving model checkpoint to ./results/checkpoint-838\n",
            "Configuration saved in ./results/checkpoint-838/config.json\n",
            "Model weights saved in ./results/checkpoint-838/pytorch_model.bin\n",
            "tokenizer config file saved in ./results/checkpoint-838/tokenizer_config.json\n",
            "Special tokens file saved in ./results/checkpoint-838/special_tokens_map.json\n",
            "The following columns in the evaluation set don't have a corresponding argument in `BertForSequenceClassification.forward` and have been ignored: tokens. If tokens are not expected by `BertForSequenceClassification.forward`,  you can safely ignore this message.\n",
            "***** Running Evaluation *****\n",
            "  Num examples = 1674\n",
            "  Batch size = 16\n",
            "Saving model checkpoint to ./results/checkpoint-1676\n",
            "Configuration saved in ./results/checkpoint-1676/config.json\n",
            "Model weights saved in ./results/checkpoint-1676/pytorch_model.bin\n",
            "tokenizer config file saved in ./results/checkpoint-1676/tokenizer_config.json\n",
            "Special tokens file saved in ./results/checkpoint-1676/special_tokens_map.json\n",
            "The following columns in the evaluation set don't have a corresponding argument in `BertForSequenceClassification.forward` and have been ignored: tokens. If tokens are not expected by `BertForSequenceClassification.forward`,  you can safely ignore this message.\n",
            "***** Running Evaluation *****\n",
            "  Num examples = 1674\n",
            "  Batch size = 16\n",
            "Saving model checkpoint to ./results/checkpoint-2514\n",
            "Configuration saved in ./results/checkpoint-2514/config.json\n",
            "Model weights saved in ./results/checkpoint-2514/pytorch_model.bin\n",
            "tokenizer config file saved in ./results/checkpoint-2514/tokenizer_config.json\n",
            "Special tokens file saved in ./results/checkpoint-2514/special_tokens_map.json\n",
            "\n",
            "\n",
            "Training completed. Do not forget to share your model on huggingface.co/models =)\n",
            "\n",
            "\n",
            "Loading best model from ./results/checkpoint-2514 (score: 0.5113536969913994).\n"
          ]
        },
        {
          "output_type": "display_data",
          "data": {
            "text/plain": [
              "TrainOutput(global_step=2514, training_loss=0.5504074250314571, metrics={'train_runtime': 811.2669, 'train_samples_per_second': 49.53, 'train_steps_per_second': 3.099, 'total_flos': 1775868623519544.0, 'train_loss': 0.5504074250314571, 'epoch': 3.0})"
            ]
          },
          "metadata": {}
        },
        {
          "output_type": "stream",
          "name": "stderr",
          "text": [
            "The following columns in the evaluation set don't have a corresponding argument in `BertForSequenceClassification.forward` and have been ignored: tokens. If tokens are not expected by `BertForSequenceClassification.forward`,  you can safely ignore this message.\n",
            "***** Running Evaluation *****\n",
            "  Num examples = 1674\n",
            "  Batch size = 16\n"
          ]
        },
        {
          "output_type": "display_data",
          "data": {
            "text/plain": [
              "<IPython.core.display.HTML object>"
            ],
            "text/html": [
              "\n",
              "    <div>\n",
              "      \n",
              "      <progress value='210' max='105' style='width:300px; height:20px; vertical-align: middle;'></progress>\n",
              "      [105/105 00:18]\n",
              "    </div>\n",
              "    "
            ]
          },
          "metadata": {}
        },
        {
          "output_type": "display_data",
          "data": {
            "text/plain": [
              "{'epoch': 3.0,\n",
              " 'eval_accuracy': 0.532258064516129,\n",
              " 'eval_f1': 0.5113536969913994,\n",
              " 'eval_loss': 1.454119086265564,\n",
              " 'eval_precision': 0.5075932687956994,\n",
              " 'eval_recall': 0.5198380024085583,\n",
              " 'eval_runtime': 9.3285,\n",
              " 'eval_samples_per_second': 179.45,\n",
              " 'eval_steps_per_second': 11.256}"
            ]
          },
          "metadata": {}
        },
        {
          "output_type": "stream",
          "name": "stderr",
          "text": [
            "The following columns in the test set don't have a corresponding argument in `BertForSequenceClassification.forward` and have been ignored: tokens. If tokens are not expected by `BertForSequenceClassification.forward`,  you can safely ignore this message.\n",
            "***** Running Prediction *****\n",
            "  Num examples = 1675\n",
            "  Batch size = 16\n"
          ]
        },
        {
          "output_type": "display_data",
          "data": {
            "text/plain": [
              "PredictionOutput(predictions=array([[ 4.390415  , -2.5091972 , -1.5952117 ,  1.3535274 , -3.4117403 ],\n",
              "       [ 2.0807445 , -2.2641907 ,  2.285258  ,  0.63960934, -3.8179755 ],\n",
              "       [ 0.9006915 , -3.0546267 ,  4.2198734 ,  0.13133536, -2.7574365 ],\n",
              "       ...,\n",
              "       [ 2.2087047 ,  4.016245  , -3.214292  , -0.44390032, -2.763296  ],\n",
              "       [ 0.47694308, -2.6573312 ,  4.9704366 ,  0.05897301, -3.2288368 ],\n",
              "       [ 1.3633063 , -1.3371292 , -1.7399693 , -2.5681915 ,  4.232589  ]],\n",
              "      dtype=float32), label_ids=array([0, 3, 2, ..., 1, 2, 4]), metrics={'test_loss': 1.4337358474731445, 'test_accuracy': 0.5605970149253732, 'test_f1': 0.5268435390284084, 'test_precision': 0.5303695094067737, 'test_recall': 0.5268314871042143, 'test_runtime': 9.5289, 'test_samples_per_second': 175.781, 'test_steps_per_second': 11.019})"
            ]
          },
          "metadata": {}
        },
        {
          "output_type": "stream",
          "name": "stderr",
          "text": [
            "Saving model checkpoint to /content/drive/Shareddrives/PLN/Assignment 2/models/it/bert-base-multilingual-cased\n",
            "Configuration saved in /content/drive/Shareddrives/PLN/Assignment 2/models/it/bert-base-multilingual-cased/config.json\n",
            "Model weights saved in /content/drive/Shareddrives/PLN/Assignment 2/models/it/bert-base-multilingual-cased/pytorch_model.bin\n",
            "tokenizer config file saved in /content/drive/Shareddrives/PLN/Assignment 2/models/it/bert-base-multilingual-cased/tokenizer_config.json\n",
            "Special tokens file saved in /content/drive/Shareddrives/PLN/Assignment 2/models/it/bert-base-multilingual-cased/special_tokens_map.json\n"
          ]
        }
      ]
    },
    {
      "cell_type": "code",
      "source": [
        "!rm -rf ./results/"
      ],
      "metadata": {
        "id": "Sywb8p5j2uPe"
      },
      "execution_count": null,
      "outputs": []
    },
    {
      "cell_type": "markdown",
      "source": [
        "#### Romanian"
      ],
      "metadata": {
        "id": "u2J-hM-N_sLH"
      }
    },
    {
      "cell_type": "code",
      "source": [
        "train_model(train_dataset_=tokenized_dataset['ro'], lang='ro')"
      ],
      "metadata": {
        "colab": {
          "base_uri": "https://localhost:8080/",
          "height": 1000
        },
        "id": "-gixepLM2vMC",
        "outputId": "ee4eb241-812b-42e0-bbd4-e637c9dd6ab0"
      },
      "execution_count": null,
      "outputs": [
        {
          "output_type": "stream",
          "name": "stderr",
          "text": [
            "PyTorch: setting up devices\n",
            "The default value for the training argument `--report_to` will change in v5 (from all installed integrations to none). In v5, you will need to use `--report_to all` to get the same behavior as now. You should start updating your code and make this info disappear :-).\n",
            "The following columns in the training set don't have a corresponding argument in `BertForSequenceClassification.forward` and have been ignored: tokens. If tokens are not expected by `BertForSequenceClassification.forward`,  you can safely ignore this message.\n",
            "/usr/local/lib/python3.7/dist-packages/transformers/optimization.py:309: FutureWarning: This implementation of AdamW is deprecated and will be removed in a future version. Use the PyTorch implementation torch.optim.AdamW instead, or set `no_deprecation_warning=True` to disable this warning\n",
            "  FutureWarning,\n",
            "***** Running training *****\n",
            "  Num examples = 13394\n",
            "  Num Epochs = 3\n",
            "  Instantaneous batch size per device = 16\n",
            "  Total train batch size (w. parallel, distributed & accumulation) = 16\n",
            "  Gradient Accumulation steps = 1\n",
            "  Total optimization steps = 2514\n"
          ]
        },
        {
          "output_type": "display_data",
          "data": {
            "text/plain": [
              "<IPython.core.display.HTML object>"
            ],
            "text/html": [
              "\n",
              "    <div>\n",
              "      \n",
              "      <progress value='2514' max='2514' style='width:300px; height:20px; vertical-align: middle;'></progress>\n",
              "      [2514/2514 13:35, Epoch 3/3]\n",
              "    </div>\n",
              "    <table border=\"1\" class=\"dataframe\">\n",
              "  <thead>\n",
              " <tr style=\"text-align: left;\">\n",
              "      <th>Epoch</th>\n",
              "      <th>Training Loss</th>\n",
              "      <th>Validation Loss</th>\n",
              "      <th>Accuracy</th>\n",
              "      <th>F1</th>\n",
              "      <th>Precision</th>\n",
              "      <th>Recall</th>\n",
              "    </tr>\n",
              "  </thead>\n",
              "  <tbody>\n",
              "    <tr>\n",
              "      <td>1</td>\n",
              "      <td>0.773400</td>\n",
              "      <td>1.236294</td>\n",
              "      <td>0.544803</td>\n",
              "      <td>0.494346</td>\n",
              "      <td>0.536383</td>\n",
              "      <td>0.470115</td>\n",
              "    </tr>\n",
              "    <tr>\n",
              "      <td>2</td>\n",
              "      <td>0.578900</td>\n",
              "      <td>1.358112</td>\n",
              "      <td>0.541816</td>\n",
              "      <td>0.508635</td>\n",
              "      <td>0.522934</td>\n",
              "      <td>0.499847</td>\n",
              "    </tr>\n",
              "    <tr>\n",
              "      <td>3</td>\n",
              "      <td>0.499100</td>\n",
              "      <td>1.503880</td>\n",
              "      <td>0.523895</td>\n",
              "      <td>0.495132</td>\n",
              "      <td>0.504056</td>\n",
              "      <td>0.487778</td>\n",
              "    </tr>\n",
              "  </tbody>\n",
              "</table><p>"
            ]
          },
          "metadata": {}
        },
        {
          "output_type": "stream",
          "name": "stderr",
          "text": [
            "The following columns in the evaluation set don't have a corresponding argument in `BertForSequenceClassification.forward` and have been ignored: tokens. If tokens are not expected by `BertForSequenceClassification.forward`,  you can safely ignore this message.\n",
            "***** Running Evaluation *****\n",
            "  Num examples = 1674\n",
            "  Batch size = 16\n",
            "Saving model checkpoint to ./results/checkpoint-838\n",
            "Configuration saved in ./results/checkpoint-838/config.json\n",
            "Model weights saved in ./results/checkpoint-838/pytorch_model.bin\n",
            "tokenizer config file saved in ./results/checkpoint-838/tokenizer_config.json\n",
            "Special tokens file saved in ./results/checkpoint-838/special_tokens_map.json\n",
            "The following columns in the evaluation set don't have a corresponding argument in `BertForSequenceClassification.forward` and have been ignored: tokens. If tokens are not expected by `BertForSequenceClassification.forward`,  you can safely ignore this message.\n",
            "***** Running Evaluation *****\n",
            "  Num examples = 1674\n",
            "  Batch size = 16\n",
            "Saving model checkpoint to ./results/checkpoint-1676\n",
            "Configuration saved in ./results/checkpoint-1676/config.json\n",
            "Model weights saved in ./results/checkpoint-1676/pytorch_model.bin\n",
            "tokenizer config file saved in ./results/checkpoint-1676/tokenizer_config.json\n",
            "Special tokens file saved in ./results/checkpoint-1676/special_tokens_map.json\n",
            "The following columns in the evaluation set don't have a corresponding argument in `BertForSequenceClassification.forward` and have been ignored: tokens. If tokens are not expected by `BertForSequenceClassification.forward`,  you can safely ignore this message.\n",
            "***** Running Evaluation *****\n",
            "  Num examples = 1674\n",
            "  Batch size = 16\n",
            "Saving model checkpoint to ./results/checkpoint-2514\n",
            "Configuration saved in ./results/checkpoint-2514/config.json\n",
            "Model weights saved in ./results/checkpoint-2514/pytorch_model.bin\n",
            "tokenizer config file saved in ./results/checkpoint-2514/tokenizer_config.json\n",
            "Special tokens file saved in ./results/checkpoint-2514/special_tokens_map.json\n",
            "\n",
            "\n",
            "Training completed. Do not forget to share your model on huggingface.co/models =)\n",
            "\n",
            "\n",
            "Loading best model from ./results/checkpoint-1676 (score: 0.5086353968463568).\n"
          ]
        },
        {
          "output_type": "display_data",
          "data": {
            "text/plain": [
              "TrainOutput(global_step=2514, training_loss=0.6147597896360459, metrics={'train_runtime': 815.5705, 'train_samples_per_second': 49.269, 'train_steps_per_second': 3.083, 'total_flos': 1775868623519544.0, 'train_loss': 0.6147597896360459, 'epoch': 3.0})"
            ]
          },
          "metadata": {}
        },
        {
          "output_type": "stream",
          "name": "stderr",
          "text": [
            "The following columns in the evaluation set don't have a corresponding argument in `BertForSequenceClassification.forward` and have been ignored: tokens. If tokens are not expected by `BertForSequenceClassification.forward`,  you can safely ignore this message.\n",
            "***** Running Evaluation *****\n",
            "  Num examples = 1674\n",
            "  Batch size = 16\n"
          ]
        },
        {
          "output_type": "display_data",
          "data": {
            "text/plain": [
              "<IPython.core.display.HTML object>"
            ],
            "text/html": [
              "\n",
              "    <div>\n",
              "      \n",
              "      <progress value='210' max='105' style='width:300px; height:20px; vertical-align: middle;'></progress>\n",
              "      [105/105 00:18]\n",
              "    </div>\n",
              "    "
            ]
          },
          "metadata": {}
        },
        {
          "output_type": "display_data",
          "data": {
            "text/plain": [
              "{'epoch': 3.0,\n",
              " 'eval_accuracy': 0.5418160095579451,\n",
              " 'eval_f1': 0.5086353968463568,\n",
              " 'eval_loss': 1.358112096786499,\n",
              " 'eval_precision': 0.5229340440404717,\n",
              " 'eval_recall': 0.4998471452559022,\n",
              " 'eval_runtime': 9.2551,\n",
              " 'eval_samples_per_second': 180.874,\n",
              " 'eval_steps_per_second': 11.345}"
            ]
          },
          "metadata": {}
        },
        {
          "output_type": "stream",
          "name": "stderr",
          "text": [
            "The following columns in the test set don't have a corresponding argument in `BertForSequenceClassification.forward` and have been ignored: tokens. If tokens are not expected by `BertForSequenceClassification.forward`,  you can safely ignore this message.\n",
            "***** Running Prediction *****\n",
            "  Num examples = 1675\n",
            "  Batch size = 16\n"
          ]
        },
        {
          "output_type": "display_data",
          "data": {
            "text/plain": [
              "PredictionOutput(predictions=array([[ 3.3729086 , -2.2987332 , -1.5236608 ,  2.9040341 , -3.8212361 ],\n",
              "       [ 2.40844   , -1.2382742 ,  1.4599144 ,  0.2062933 , -3.8143141 ],\n",
              "       [ 1.1286784 , -3.6143486 ,  3.5224068 ,  1.2309724 , -3.0709188 ],\n",
              "       ...,\n",
              "       [ 2.9815881 ,  1.259246  , -2.6544123 ,  1.2848495 , -3.848719  ],\n",
              "       [ 0.6710588 , -3.4833012 ,  4.8904886 ,  0.13078153, -2.9407892 ],\n",
              "       [ 1.1168277 , -1.2139498 , -1.9687793 , -2.0621443 ,  4.127039  ]],\n",
              "      dtype=float32), label_ids=array([0, 3, 2, ..., 1, 2, 4]), metrics={'test_loss': 1.3584296703338623, 'test_accuracy': 0.5450746268656717, 'test_f1': 0.49632022587788516, 'test_precision': 0.5214839662853626, 'test_recall': 0.4797219889038071, 'test_runtime': 9.5083, 'test_samples_per_second': 176.161, 'test_steps_per_second': 11.043})"
            ]
          },
          "metadata": {}
        },
        {
          "output_type": "stream",
          "name": "stderr",
          "text": [
            "Saving model checkpoint to /content/drive/Shareddrives/PLN/Assignment 2/models/ro/bert-base-multilingual-cased\n",
            "Configuration saved in /content/drive/Shareddrives/PLN/Assignment 2/models/ro/bert-base-multilingual-cased/config.json\n",
            "Model weights saved in /content/drive/Shareddrives/PLN/Assignment 2/models/ro/bert-base-multilingual-cased/pytorch_model.bin\n",
            "tokenizer config file saved in /content/drive/Shareddrives/PLN/Assignment 2/models/ro/bert-base-multilingual-cased/tokenizer_config.json\n",
            "Special tokens file saved in /content/drive/Shareddrives/PLN/Assignment 2/models/ro/bert-base-multilingual-cased/special_tokens_map.json\n"
          ]
        }
      ]
    },
    {
      "cell_type": "code",
      "source": [
        "!rm -rf ./results/"
      ],
      "metadata": {
        "id": "g9SildC62vMD"
      },
      "execution_count": null,
      "outputs": []
    },
    {
      "cell_type": "markdown",
      "source": [
        "### Multilingual train dataset"
      ],
      "metadata": {
        "id": "52ojHf9QHPiw"
      }
    },
    {
      "cell_type": "code",
      "source": [
        "from datasets import concatenate_datasets\n",
        "\n",
        "tokenized_train_all = concatenate_datasets([\n",
        "                                            tokenized_dataset['train_pt'],\n",
        "                                            tokenized_dataset['train_en'],\n",
        "                                            tokenized_dataset['train_es'],\n",
        "                                            tokenized_dataset['train_ga'],\n",
        "                                            tokenized_dataset['train_fr'],\n",
        "                                            tokenized_dataset['train_it'],\n",
        "                                            tokenized_dataset['train_ro']\n",
        "                                            ])"
      ],
      "metadata": {
        "id": "3x8gY06uG2Ww"
      },
      "execution_count": null,
      "outputs": []
    },
    {
      "cell_type": "code",
      "source": [
        "tokenized_train_all"
      ],
      "metadata": {
        "colab": {
          "base_uri": "https://localhost:8080/"
        },
        "id": "GbMg3b2THJrj",
        "outputId": "1505c439-914e-47ec-f55e-c5101106baca"
      },
      "execution_count": null,
      "outputs": [
        {
          "output_type": "execute_result",
          "data": {
            "text/plain": [
              "Dataset({\n",
              "    features: ['tokens', 'label', 'input_ids', 'token_type_ids', 'attention_mask'],\n",
              "    num_rows: 93758\n",
              "})"
            ]
          },
          "metadata": {},
          "execution_count": 33
        }
      ]
    },
    {
      "cell_type": "code",
      "source": [
        "train_model(train_dataset_=tokenized_train_all)"
      ],
      "metadata": {
        "colab": {
          "base_uri": "https://localhost:8080/",
          "height": 1000
        },
        "id": "F1xYG1qEHSsQ",
        "outputId": "ad2b0a63-9f18-4366-88d4-f864b6c29ace"
      },
      "execution_count": null,
      "outputs": [
        {
          "output_type": "stream",
          "name": "stderr",
          "text": [
            "PyTorch: setting up devices\n",
            "The default value for the training argument `--report_to` will change in v5 (from all installed integrations to none). In v5, you will need to use `--report_to all` to get the same behavior as now. You should start updating your code and make this info disappear :-).\n",
            "The following columns in the training set don't have a corresponding argument in `BertForSequenceClassification.forward` and have been ignored: tokens. If tokens are not expected by `BertForSequenceClassification.forward`,  you can safely ignore this message.\n",
            "/usr/local/lib/python3.7/dist-packages/transformers/optimization.py:309: FutureWarning: This implementation of AdamW is deprecated and will be removed in a future version. Use the PyTorch implementation torch.optim.AdamW instead, or set `no_deprecation_warning=True` to disable this warning\n",
            "  FutureWarning,\n",
            "***** Running training *****\n",
            "  Num examples = 93758\n",
            "  Num Epochs = 3\n",
            "  Instantaneous batch size per device = 16\n",
            "  Total train batch size (w. parallel, distributed & accumulation) = 16\n",
            "  Gradient Accumulation steps = 1\n",
            "  Total optimization steps = 17580\n"
          ]
        },
        {
          "output_type": "display_data",
          "data": {
            "text/plain": [
              "<IPython.core.display.HTML object>"
            ],
            "text/html": [
              "\n",
              "    <div>\n",
              "      \n",
              "      <progress value='17580' max='17580' style='width:300px; height:20px; vertical-align: middle;'></progress>\n",
              "      [17580/17580 1:29:32, Epoch 3/3]\n",
              "    </div>\n",
              "    <table border=\"1\" class=\"dataframe\">\n",
              "  <thead>\n",
              " <tr style=\"text-align: left;\">\n",
              "      <th>Epoch</th>\n",
              "      <th>Training Loss</th>\n",
              "      <th>Validation Loss</th>\n",
              "      <th>Accuracy</th>\n",
              "      <th>F1</th>\n",
              "      <th>Precision</th>\n",
              "      <th>Recall</th>\n",
              "    </tr>\n",
              "  </thead>\n",
              "  <tbody>\n",
              "    <tr>\n",
              "      <td>1</td>\n",
              "      <td>0.813300</td>\n",
              "      <td>1.185946</td>\n",
              "      <td>0.571685</td>\n",
              "      <td>0.528466</td>\n",
              "      <td>0.538748</td>\n",
              "      <td>0.528122</td>\n",
              "    </tr>\n",
              "    <tr>\n",
              "      <td>2</td>\n",
              "      <td>0.551900</td>\n",
              "      <td>1.498299</td>\n",
              "      <td>0.551374</td>\n",
              "      <td>0.547146</td>\n",
              "      <td>0.540326</td>\n",
              "      <td>0.556472</td>\n",
              "    </tr>\n",
              "    <tr>\n",
              "      <td>3</td>\n",
              "      <td>0.381800</td>\n",
              "      <td>1.750463</td>\n",
              "      <td>0.550777</td>\n",
              "      <td>0.535802</td>\n",
              "      <td>0.538383</td>\n",
              "      <td>0.533904</td>\n",
              "    </tr>\n",
              "  </tbody>\n",
              "</table><p>"
            ]
          },
          "metadata": {}
        },
        {
          "output_type": "stream",
          "name": "stderr",
          "text": [
            "The following columns in the evaluation set don't have a corresponding argument in `BertForSequenceClassification.forward` and have been ignored: tokens. If tokens are not expected by `BertForSequenceClassification.forward`,  you can safely ignore this message.\n",
            "***** Running Evaluation *****\n",
            "  Num examples = 1674\n",
            "  Batch size = 16\n",
            "Saving model checkpoint to ./results/checkpoint-5860\n",
            "Configuration saved in ./results/checkpoint-5860/config.json\n",
            "Model weights saved in ./results/checkpoint-5860/pytorch_model.bin\n",
            "tokenizer config file saved in ./results/checkpoint-5860/tokenizer_config.json\n",
            "Special tokens file saved in ./results/checkpoint-5860/special_tokens_map.json\n",
            "The following columns in the evaluation set don't have a corresponding argument in `BertForSequenceClassification.forward` and have been ignored: tokens. If tokens are not expected by `BertForSequenceClassification.forward`,  you can safely ignore this message.\n",
            "***** Running Evaluation *****\n",
            "  Num examples = 1674\n",
            "  Batch size = 16\n",
            "Saving model checkpoint to ./results/checkpoint-11720\n",
            "Configuration saved in ./results/checkpoint-11720/config.json\n",
            "Model weights saved in ./results/checkpoint-11720/pytorch_model.bin\n",
            "tokenizer config file saved in ./results/checkpoint-11720/tokenizer_config.json\n",
            "Special tokens file saved in ./results/checkpoint-11720/special_tokens_map.json\n",
            "The following columns in the evaluation set don't have a corresponding argument in `BertForSequenceClassification.forward` and have been ignored: tokens. If tokens are not expected by `BertForSequenceClassification.forward`,  you can safely ignore this message.\n",
            "***** Running Evaluation *****\n",
            "  Num examples = 1674\n",
            "  Batch size = 16\n",
            "Saving model checkpoint to ./results/checkpoint-17580\n",
            "Configuration saved in ./results/checkpoint-17580/config.json\n",
            "Model weights saved in ./results/checkpoint-17580/pytorch_model.bin\n",
            "tokenizer config file saved in ./results/checkpoint-17580/tokenizer_config.json\n",
            "Special tokens file saved in ./results/checkpoint-17580/special_tokens_map.json\n",
            "\n",
            "\n",
            "Training completed. Do not forget to share your model on huggingface.co/models =)\n",
            "\n",
            "\n",
            "Loading best model from ./results/checkpoint-11720 (score: 0.5471462194467286).\n"
          ]
        },
        {
          "output_type": "display_data",
          "data": {
            "text/plain": [
              "TrainOutput(global_step=17580, training_loss=0.6405608375731588, metrics={'train_runtime': 5372.619, 'train_samples_per_second': 52.353, 'train_steps_per_second': 3.272, 'total_flos': 1.2431080364636808e+16, 'train_loss': 0.6405608375731588, 'epoch': 3.0})"
            ]
          },
          "metadata": {}
        },
        {
          "output_type": "stream",
          "name": "stderr",
          "text": [
            "The following columns in the evaluation set don't have a corresponding argument in `BertForSequenceClassification.forward` and have been ignored: tokens. If tokens are not expected by `BertForSequenceClassification.forward`,  you can safely ignore this message.\n",
            "***** Running Evaluation *****\n",
            "  Num examples = 1674\n",
            "  Batch size = 16\n"
          ]
        },
        {
          "output_type": "display_data",
          "data": {
            "text/plain": [
              "<IPython.core.display.HTML object>"
            ],
            "text/html": [
              "\n",
              "    <div>\n",
              "      \n",
              "      <progress value='210' max='105' style='width:300px; height:20px; vertical-align: middle;'></progress>\n",
              "      [105/105 00:18]\n",
              "    </div>\n",
              "    "
            ]
          },
          "metadata": {}
        },
        {
          "output_type": "display_data",
          "data": {
            "text/plain": [
              "{'epoch': 3.0,\n",
              " 'eval_accuracy': 0.551373954599761,\n",
              " 'eval_f1': 0.5471462194467286,\n",
              " 'eval_loss': 1.4982988834381104,\n",
              " 'eval_precision': 0.5403264105965828,\n",
              " 'eval_recall': 0.5564724491390857,\n",
              " 'eval_runtime': 9.2154,\n",
              " 'eval_samples_per_second': 181.652,\n",
              " 'eval_steps_per_second': 11.394}"
            ]
          },
          "metadata": {}
        },
        {
          "output_type": "stream",
          "name": "stderr",
          "text": [
            "The following columns in the test set don't have a corresponding argument in `BertForSequenceClassification.forward` and have been ignored: tokens. If tokens are not expected by `BertForSequenceClassification.forward`,  you can safely ignore this message.\n",
            "***** Running Prediction *****\n",
            "  Num examples = 1675\n",
            "  Batch size = 16\n"
          ]
        },
        {
          "output_type": "display_data",
          "data": {
            "text/plain": [
              "PredictionOutput(predictions=array([[ 2.8979235 , -0.6176683 , -2.349339  ,  3.2117224 , -4.449437  ],\n",
              "       [ 2.044838  ,  0.5774766 ,  2.59012   , -1.1042497 , -3.9134207 ],\n",
              "       [ 1.3072327 , -4.1152706 ,  4.3953166 ,  1.3379388 , -3.1644344 ],\n",
              "       ...,\n",
              "       [ 2.4369042 ,  2.881226  , -3.4025137 ,  0.515247  , -3.633068  ],\n",
              "       [ 1.0594006 , -2.7000813 ,  5.146634  , -0.19508982, -2.9948146 ],\n",
              "       [ 1.5476972 , -0.32869703, -1.9418008 , -2.9085994 ,  4.42515   ]],\n",
              "      dtype=float32), label_ids=array([0, 3, 2, ..., 1, 2, 4]), metrics={'test_loss': 1.446563959121704, 'test_accuracy': 0.5647761194029851, 'test_f1': 0.5429058904516969, 'test_precision': 0.5445197998966635, 'test_recall': 0.5423222993222994, 'test_runtime': 9.4083, 'test_samples_per_second': 178.034, 'test_steps_per_second': 11.16})"
            ]
          },
          "metadata": {}
        },
        {
          "output_type": "stream",
          "name": "stderr",
          "text": [
            "Saving model checkpoint to /content/drive/Shareddrives/PLN/Assignment 2/models/all/bert-base-multilingual-cased\n",
            "Configuration saved in /content/drive/Shareddrives/PLN/Assignment 2/models/all/bert-base-multilingual-cased/config.json\n",
            "Model weights saved in /content/drive/Shareddrives/PLN/Assignment 2/models/all/bert-base-multilingual-cased/pytorch_model.bin\n",
            "tokenizer config file saved in /content/drive/Shareddrives/PLN/Assignment 2/models/all/bert-base-multilingual-cased/tokenizer_config.json\n",
            "Special tokens file saved in /content/drive/Shareddrives/PLN/Assignment 2/models/all/bert-base-multilingual-cased/special_tokens_map.json\n"
          ]
        }
      ]
    },
    {
      "cell_type": "code",
      "source": [
        "!rm -rf ./results/"
      ],
      "metadata": {
        "id": "o1OZM7nZd4gw"
      },
      "execution_count": null,
      "outputs": []
    }
  ],
  "metadata": {
    "colab": {
      "name": "multilingual.ipynb",
      "provenance": [],
      "collapsed_sections": []
    },
    "kernelspec": {
      "display_name": "Python 3 (ipykernel)",
      "language": "python",
      "name": "python3"
    },
    "language_info": {
      "codemirror_mode": {
        "name": "ipython",
        "version": 3
      },
      "file_extension": ".py",
      "mimetype": "text/x-python",
      "name": "python",
      "nbconvert_exporter": "python",
      "pygments_lexer": "ipython3",
      "version": "3.8.13"
    },
    "widgets": {
      "application/vnd.jupyter.widget-state+json": {
        "f3ec333bb1154ccebaa0421e92850e4b": {
          "model_module": "@jupyter-widgets/controls",
          "model_name": "HBoxModel",
          "model_module_version": "1.5.0",
          "state": {
            "_dom_classes": [],
            "_model_module": "@jupyter-widgets/controls",
            "_model_module_version": "1.5.0",
            "_model_name": "HBoxModel",
            "_view_count": null,
            "_view_module": "@jupyter-widgets/controls",
            "_view_module_version": "1.5.0",
            "_view_name": "HBoxView",
            "box_style": "",
            "children": [
              "IPY_MODEL_f062d5ea44f44b0fb6fdfdf427c3f08d",
              "IPY_MODEL_38274316be4141f88053df38da79fb26",
              "IPY_MODEL_506d5c130bba4d35b0e09bd1e90f7568"
            ],
            "layout": "IPY_MODEL_84edd605cef44a568852cd2b7f88e574"
          }
        },
        "f062d5ea44f44b0fb6fdfdf427c3f08d": {
          "model_module": "@jupyter-widgets/controls",
          "model_name": "HTMLModel",
          "model_module_version": "1.5.0",
          "state": {
            "_dom_classes": [],
            "_model_module": "@jupyter-widgets/controls",
            "_model_module_version": "1.5.0",
            "_model_name": "HTMLModel",
            "_view_count": null,
            "_view_module": "@jupyter-widgets/controls",
            "_view_module_version": "1.5.0",
            "_view_name": "HTMLView",
            "description": "",
            "description_tooltip": null,
            "layout": "IPY_MODEL_69811f8f6e67437db67946572343e8f4",
            "placeholder": "​",
            "style": "IPY_MODEL_1dfceee987ba4af8a25318d594f1b014",
            "value": "100%"
          }
        },
        "38274316be4141f88053df38da79fb26": {
          "model_module": "@jupyter-widgets/controls",
          "model_name": "FloatProgressModel",
          "model_module_version": "1.5.0",
          "state": {
            "_dom_classes": [],
            "_model_module": "@jupyter-widgets/controls",
            "_model_module_version": "1.5.0",
            "_model_name": "FloatProgressModel",
            "_view_count": null,
            "_view_module": "@jupyter-widgets/controls",
            "_view_module_version": "1.5.0",
            "_view_name": "ProgressView",
            "bar_style": "success",
            "description": "",
            "description_tooltip": null,
            "layout": "IPY_MODEL_bfb091fed6c54a0893c3b906305d45e3",
            "max": 14,
            "min": 0,
            "orientation": "horizontal",
            "style": "IPY_MODEL_d3a00b70e944460686b0799266ee1e67",
            "value": 14
          }
        },
        "506d5c130bba4d35b0e09bd1e90f7568": {
          "model_module": "@jupyter-widgets/controls",
          "model_name": "HTMLModel",
          "model_module_version": "1.5.0",
          "state": {
            "_dom_classes": [],
            "_model_module": "@jupyter-widgets/controls",
            "_model_module_version": "1.5.0",
            "_model_name": "HTMLModel",
            "_view_count": null,
            "_view_module": "@jupyter-widgets/controls",
            "_view_module_version": "1.5.0",
            "_view_name": "HTMLView",
            "description": "",
            "description_tooltip": null,
            "layout": "IPY_MODEL_763886bf903c4371ba2427964ce4eb06",
            "placeholder": "​",
            "style": "IPY_MODEL_a5af522a3db646a396d21dd09725bcbf",
            "value": " 14/14 [00:01&lt;00:00, 11.31ba/s]"
          }
        },
        "84edd605cef44a568852cd2b7f88e574": {
          "model_module": "@jupyter-widgets/base",
          "model_name": "LayoutModel",
          "model_module_version": "1.2.0",
          "state": {
            "_model_module": "@jupyter-widgets/base",
            "_model_module_version": "1.2.0",
            "_model_name": "LayoutModel",
            "_view_count": null,
            "_view_module": "@jupyter-widgets/base",
            "_view_module_version": "1.2.0",
            "_view_name": "LayoutView",
            "align_content": null,
            "align_items": null,
            "align_self": null,
            "border": null,
            "bottom": null,
            "display": null,
            "flex": null,
            "flex_flow": null,
            "grid_area": null,
            "grid_auto_columns": null,
            "grid_auto_flow": null,
            "grid_auto_rows": null,
            "grid_column": null,
            "grid_gap": null,
            "grid_row": null,
            "grid_template_areas": null,
            "grid_template_columns": null,
            "grid_template_rows": null,
            "height": null,
            "justify_content": null,
            "justify_items": null,
            "left": null,
            "margin": null,
            "max_height": null,
            "max_width": null,
            "min_height": null,
            "min_width": null,
            "object_fit": null,
            "object_position": null,
            "order": null,
            "overflow": null,
            "overflow_x": null,
            "overflow_y": null,
            "padding": null,
            "right": null,
            "top": null,
            "visibility": null,
            "width": null
          }
        },
        "69811f8f6e67437db67946572343e8f4": {
          "model_module": "@jupyter-widgets/base",
          "model_name": "LayoutModel",
          "model_module_version": "1.2.0",
          "state": {
            "_model_module": "@jupyter-widgets/base",
            "_model_module_version": "1.2.0",
            "_model_name": "LayoutModel",
            "_view_count": null,
            "_view_module": "@jupyter-widgets/base",
            "_view_module_version": "1.2.0",
            "_view_name": "LayoutView",
            "align_content": null,
            "align_items": null,
            "align_self": null,
            "border": null,
            "bottom": null,
            "display": null,
            "flex": null,
            "flex_flow": null,
            "grid_area": null,
            "grid_auto_columns": null,
            "grid_auto_flow": null,
            "grid_auto_rows": null,
            "grid_column": null,
            "grid_gap": null,
            "grid_row": null,
            "grid_template_areas": null,
            "grid_template_columns": null,
            "grid_template_rows": null,
            "height": null,
            "justify_content": null,
            "justify_items": null,
            "left": null,
            "margin": null,
            "max_height": null,
            "max_width": null,
            "min_height": null,
            "min_width": null,
            "object_fit": null,
            "object_position": null,
            "order": null,
            "overflow": null,
            "overflow_x": null,
            "overflow_y": null,
            "padding": null,
            "right": null,
            "top": null,
            "visibility": null,
            "width": null
          }
        },
        "1dfceee987ba4af8a25318d594f1b014": {
          "model_module": "@jupyter-widgets/controls",
          "model_name": "DescriptionStyleModel",
          "model_module_version": "1.5.0",
          "state": {
            "_model_module": "@jupyter-widgets/controls",
            "_model_module_version": "1.5.0",
            "_model_name": "DescriptionStyleModel",
            "_view_count": null,
            "_view_module": "@jupyter-widgets/base",
            "_view_module_version": "1.2.0",
            "_view_name": "StyleView",
            "description_width": ""
          }
        },
        "bfb091fed6c54a0893c3b906305d45e3": {
          "model_module": "@jupyter-widgets/base",
          "model_name": "LayoutModel",
          "model_module_version": "1.2.0",
          "state": {
            "_model_module": "@jupyter-widgets/base",
            "_model_module_version": "1.2.0",
            "_model_name": "LayoutModel",
            "_view_count": null,
            "_view_module": "@jupyter-widgets/base",
            "_view_module_version": "1.2.0",
            "_view_name": "LayoutView",
            "align_content": null,
            "align_items": null,
            "align_self": null,
            "border": null,
            "bottom": null,
            "display": null,
            "flex": null,
            "flex_flow": null,
            "grid_area": null,
            "grid_auto_columns": null,
            "grid_auto_flow": null,
            "grid_auto_rows": null,
            "grid_column": null,
            "grid_gap": null,
            "grid_row": null,
            "grid_template_areas": null,
            "grid_template_columns": null,
            "grid_template_rows": null,
            "height": null,
            "justify_content": null,
            "justify_items": null,
            "left": null,
            "margin": null,
            "max_height": null,
            "max_width": null,
            "min_height": null,
            "min_width": null,
            "object_fit": null,
            "object_position": null,
            "order": null,
            "overflow": null,
            "overflow_x": null,
            "overflow_y": null,
            "padding": null,
            "right": null,
            "top": null,
            "visibility": null,
            "width": null
          }
        },
        "d3a00b70e944460686b0799266ee1e67": {
          "model_module": "@jupyter-widgets/controls",
          "model_name": "ProgressStyleModel",
          "model_module_version": "1.5.0",
          "state": {
            "_model_module": "@jupyter-widgets/controls",
            "_model_module_version": "1.5.0",
            "_model_name": "ProgressStyleModel",
            "_view_count": null,
            "_view_module": "@jupyter-widgets/base",
            "_view_module_version": "1.2.0",
            "_view_name": "StyleView",
            "bar_color": null,
            "description_width": ""
          }
        },
        "763886bf903c4371ba2427964ce4eb06": {
          "model_module": "@jupyter-widgets/base",
          "model_name": "LayoutModel",
          "model_module_version": "1.2.0",
          "state": {
            "_model_module": "@jupyter-widgets/base",
            "_model_module_version": "1.2.0",
            "_model_name": "LayoutModel",
            "_view_count": null,
            "_view_module": "@jupyter-widgets/base",
            "_view_module_version": "1.2.0",
            "_view_name": "LayoutView",
            "align_content": null,
            "align_items": null,
            "align_self": null,
            "border": null,
            "bottom": null,
            "display": null,
            "flex": null,
            "flex_flow": null,
            "grid_area": null,
            "grid_auto_columns": null,
            "grid_auto_flow": null,
            "grid_auto_rows": null,
            "grid_column": null,
            "grid_gap": null,
            "grid_row": null,
            "grid_template_areas": null,
            "grid_template_columns": null,
            "grid_template_rows": null,
            "height": null,
            "justify_content": null,
            "justify_items": null,
            "left": null,
            "margin": null,
            "max_height": null,
            "max_width": null,
            "min_height": null,
            "min_width": null,
            "object_fit": null,
            "object_position": null,
            "order": null,
            "overflow": null,
            "overflow_x": null,
            "overflow_y": null,
            "padding": null,
            "right": null,
            "top": null,
            "visibility": null,
            "width": null
          }
        },
        "a5af522a3db646a396d21dd09725bcbf": {
          "model_module": "@jupyter-widgets/controls",
          "model_name": "DescriptionStyleModel",
          "model_module_version": "1.5.0",
          "state": {
            "_model_module": "@jupyter-widgets/controls",
            "_model_module_version": "1.5.0",
            "_model_name": "DescriptionStyleModel",
            "_view_count": null,
            "_view_module": "@jupyter-widgets/base",
            "_view_module_version": "1.2.0",
            "_view_name": "StyleView",
            "description_width": ""
          }
        },
        "87cdd3a2948e4a4491fa87c3aff75192": {
          "model_module": "@jupyter-widgets/controls",
          "model_name": "HBoxModel",
          "model_module_version": "1.5.0",
          "state": {
            "_dom_classes": [],
            "_model_module": "@jupyter-widgets/controls",
            "_model_module_version": "1.5.0",
            "_model_name": "HBoxModel",
            "_view_count": null,
            "_view_module": "@jupyter-widgets/controls",
            "_view_module_version": "1.5.0",
            "_view_name": "HBoxView",
            "box_style": "",
            "children": [
              "IPY_MODEL_260ec8692b154e60a6e4a5a5d3c14e64",
              "IPY_MODEL_4b64c9275d834f98a2d34a165698d7d4",
              "IPY_MODEL_262e780b3ee548cc8ca3772053a925b4"
            ],
            "layout": "IPY_MODEL_857d6e0d968f4037bb9757d15580acb8"
          }
        },
        "260ec8692b154e60a6e4a5a5d3c14e64": {
          "model_module": "@jupyter-widgets/controls",
          "model_name": "HTMLModel",
          "model_module_version": "1.5.0",
          "state": {
            "_dom_classes": [],
            "_model_module": "@jupyter-widgets/controls",
            "_model_module_version": "1.5.0",
            "_model_name": "HTMLModel",
            "_view_count": null,
            "_view_module": "@jupyter-widgets/controls",
            "_view_module_version": "1.5.0",
            "_view_name": "HTMLView",
            "description": "",
            "description_tooltip": null,
            "layout": "IPY_MODEL_f969f25dc29e485f8ed1a1a7eb3e2e39",
            "placeholder": "​",
            "style": "IPY_MODEL_a2edd31c1ff14bc8b68785cae2308649",
            "value": "100%"
          }
        },
        "4b64c9275d834f98a2d34a165698d7d4": {
          "model_module": "@jupyter-widgets/controls",
          "model_name": "FloatProgressModel",
          "model_module_version": "1.5.0",
          "state": {
            "_dom_classes": [],
            "_model_module": "@jupyter-widgets/controls",
            "_model_module_version": "1.5.0",
            "_model_name": "FloatProgressModel",
            "_view_count": null,
            "_view_module": "@jupyter-widgets/controls",
            "_view_module_version": "1.5.0",
            "_view_name": "ProgressView",
            "bar_style": "success",
            "description": "",
            "description_tooltip": null,
            "layout": "IPY_MODEL_bb2d397aab364447923e5a9087d1e8f0",
            "max": 2,
            "min": 0,
            "orientation": "horizontal",
            "style": "IPY_MODEL_9273ee299e3e4e839d25171c71762b25",
            "value": 2
          }
        },
        "262e780b3ee548cc8ca3772053a925b4": {
          "model_module": "@jupyter-widgets/controls",
          "model_name": "HTMLModel",
          "model_module_version": "1.5.0",
          "state": {
            "_dom_classes": [],
            "_model_module": "@jupyter-widgets/controls",
            "_model_module_version": "1.5.0",
            "_model_name": "HTMLModel",
            "_view_count": null,
            "_view_module": "@jupyter-widgets/controls",
            "_view_module_version": "1.5.0",
            "_view_name": "HTMLView",
            "description": "",
            "description_tooltip": null,
            "layout": "IPY_MODEL_c959620bee7a439db42728764ceb9727",
            "placeholder": "​",
            "style": "IPY_MODEL_67c89094d3b44ed98fe77078d3a3ab52",
            "value": " 2/2 [00:00&lt;00:00,  3.11ba/s]"
          }
        },
        "857d6e0d968f4037bb9757d15580acb8": {
          "model_module": "@jupyter-widgets/base",
          "model_name": "LayoutModel",
          "model_module_version": "1.2.0",
          "state": {
            "_model_module": "@jupyter-widgets/base",
            "_model_module_version": "1.2.0",
            "_model_name": "LayoutModel",
            "_view_count": null,
            "_view_module": "@jupyter-widgets/base",
            "_view_module_version": "1.2.0",
            "_view_name": "LayoutView",
            "align_content": null,
            "align_items": null,
            "align_self": null,
            "border": null,
            "bottom": null,
            "display": null,
            "flex": null,
            "flex_flow": null,
            "grid_area": null,
            "grid_auto_columns": null,
            "grid_auto_flow": null,
            "grid_auto_rows": null,
            "grid_column": null,
            "grid_gap": null,
            "grid_row": null,
            "grid_template_areas": null,
            "grid_template_columns": null,
            "grid_template_rows": null,
            "height": null,
            "justify_content": null,
            "justify_items": null,
            "left": null,
            "margin": null,
            "max_height": null,
            "max_width": null,
            "min_height": null,
            "min_width": null,
            "object_fit": null,
            "object_position": null,
            "order": null,
            "overflow": null,
            "overflow_x": null,
            "overflow_y": null,
            "padding": null,
            "right": null,
            "top": null,
            "visibility": null,
            "width": null
          }
        },
        "f969f25dc29e485f8ed1a1a7eb3e2e39": {
          "model_module": "@jupyter-widgets/base",
          "model_name": "LayoutModel",
          "model_module_version": "1.2.0",
          "state": {
            "_model_module": "@jupyter-widgets/base",
            "_model_module_version": "1.2.0",
            "_model_name": "LayoutModel",
            "_view_count": null,
            "_view_module": "@jupyter-widgets/base",
            "_view_module_version": "1.2.0",
            "_view_name": "LayoutView",
            "align_content": null,
            "align_items": null,
            "align_self": null,
            "border": null,
            "bottom": null,
            "display": null,
            "flex": null,
            "flex_flow": null,
            "grid_area": null,
            "grid_auto_columns": null,
            "grid_auto_flow": null,
            "grid_auto_rows": null,
            "grid_column": null,
            "grid_gap": null,
            "grid_row": null,
            "grid_template_areas": null,
            "grid_template_columns": null,
            "grid_template_rows": null,
            "height": null,
            "justify_content": null,
            "justify_items": null,
            "left": null,
            "margin": null,
            "max_height": null,
            "max_width": null,
            "min_height": null,
            "min_width": null,
            "object_fit": null,
            "object_position": null,
            "order": null,
            "overflow": null,
            "overflow_x": null,
            "overflow_y": null,
            "padding": null,
            "right": null,
            "top": null,
            "visibility": null,
            "width": null
          }
        },
        "a2edd31c1ff14bc8b68785cae2308649": {
          "model_module": "@jupyter-widgets/controls",
          "model_name": "DescriptionStyleModel",
          "model_module_version": "1.5.0",
          "state": {
            "_model_module": "@jupyter-widgets/controls",
            "_model_module_version": "1.5.0",
            "_model_name": "DescriptionStyleModel",
            "_view_count": null,
            "_view_module": "@jupyter-widgets/base",
            "_view_module_version": "1.2.0",
            "_view_name": "StyleView",
            "description_width": ""
          }
        },
        "bb2d397aab364447923e5a9087d1e8f0": {
          "model_module": "@jupyter-widgets/base",
          "model_name": "LayoutModel",
          "model_module_version": "1.2.0",
          "state": {
            "_model_module": "@jupyter-widgets/base",
            "_model_module_version": "1.2.0",
            "_model_name": "LayoutModel",
            "_view_count": null,
            "_view_module": "@jupyter-widgets/base",
            "_view_module_version": "1.2.0",
            "_view_name": "LayoutView",
            "align_content": null,
            "align_items": null,
            "align_self": null,
            "border": null,
            "bottom": null,
            "display": null,
            "flex": null,
            "flex_flow": null,
            "grid_area": null,
            "grid_auto_columns": null,
            "grid_auto_flow": null,
            "grid_auto_rows": null,
            "grid_column": null,
            "grid_gap": null,
            "grid_row": null,
            "grid_template_areas": null,
            "grid_template_columns": null,
            "grid_template_rows": null,
            "height": null,
            "justify_content": null,
            "justify_items": null,
            "left": null,
            "margin": null,
            "max_height": null,
            "max_width": null,
            "min_height": null,
            "min_width": null,
            "object_fit": null,
            "object_position": null,
            "order": null,
            "overflow": null,
            "overflow_x": null,
            "overflow_y": null,
            "padding": null,
            "right": null,
            "top": null,
            "visibility": null,
            "width": null
          }
        },
        "9273ee299e3e4e839d25171c71762b25": {
          "model_module": "@jupyter-widgets/controls",
          "model_name": "ProgressStyleModel",
          "model_module_version": "1.5.0",
          "state": {
            "_model_module": "@jupyter-widgets/controls",
            "_model_module_version": "1.5.0",
            "_model_name": "ProgressStyleModel",
            "_view_count": null,
            "_view_module": "@jupyter-widgets/base",
            "_view_module_version": "1.2.0",
            "_view_name": "StyleView",
            "bar_color": null,
            "description_width": ""
          }
        },
        "c959620bee7a439db42728764ceb9727": {
          "model_module": "@jupyter-widgets/base",
          "model_name": "LayoutModel",
          "model_module_version": "1.2.0",
          "state": {
            "_model_module": "@jupyter-widgets/base",
            "_model_module_version": "1.2.0",
            "_model_name": "LayoutModel",
            "_view_count": null,
            "_view_module": "@jupyter-widgets/base",
            "_view_module_version": "1.2.0",
            "_view_name": "LayoutView",
            "align_content": null,
            "align_items": null,
            "align_self": null,
            "border": null,
            "bottom": null,
            "display": null,
            "flex": null,
            "flex_flow": null,
            "grid_area": null,
            "grid_auto_columns": null,
            "grid_auto_flow": null,
            "grid_auto_rows": null,
            "grid_column": null,
            "grid_gap": null,
            "grid_row": null,
            "grid_template_areas": null,
            "grid_template_columns": null,
            "grid_template_rows": null,
            "height": null,
            "justify_content": null,
            "justify_items": null,
            "left": null,
            "margin": null,
            "max_height": null,
            "max_width": null,
            "min_height": null,
            "min_width": null,
            "object_fit": null,
            "object_position": null,
            "order": null,
            "overflow": null,
            "overflow_x": null,
            "overflow_y": null,
            "padding": null,
            "right": null,
            "top": null,
            "visibility": null,
            "width": null
          }
        },
        "67c89094d3b44ed98fe77078d3a3ab52": {
          "model_module": "@jupyter-widgets/controls",
          "model_name": "DescriptionStyleModel",
          "model_module_version": "1.5.0",
          "state": {
            "_model_module": "@jupyter-widgets/controls",
            "_model_module_version": "1.5.0",
            "_model_name": "DescriptionStyleModel",
            "_view_count": null,
            "_view_module": "@jupyter-widgets/base",
            "_view_module_version": "1.2.0",
            "_view_name": "StyleView",
            "description_width": ""
          }
        },
        "d02eb2ca6dee481b9402989008604d12": {
          "model_module": "@jupyter-widgets/controls",
          "model_name": "HBoxModel",
          "model_module_version": "1.5.0",
          "state": {
            "_dom_classes": [],
            "_model_module": "@jupyter-widgets/controls",
            "_model_module_version": "1.5.0",
            "_model_name": "HBoxModel",
            "_view_count": null,
            "_view_module": "@jupyter-widgets/controls",
            "_view_module_version": "1.5.0",
            "_view_name": "HBoxView",
            "box_style": "",
            "children": [
              "IPY_MODEL_6bc248b9ae4a45209f85881fcf49e0c9",
              "IPY_MODEL_1f71295f75b645b094282e8f0f0094ee",
              "IPY_MODEL_9c83161bfcf549deb7ad0f0d91278cb2"
            ],
            "layout": "IPY_MODEL_cdb9877230b94f3e8cc4211d1dc8812b"
          }
        },
        "6bc248b9ae4a45209f85881fcf49e0c9": {
          "model_module": "@jupyter-widgets/controls",
          "model_name": "HTMLModel",
          "model_module_version": "1.5.0",
          "state": {
            "_dom_classes": [],
            "_model_module": "@jupyter-widgets/controls",
            "_model_module_version": "1.5.0",
            "_model_name": "HTMLModel",
            "_view_count": null,
            "_view_module": "@jupyter-widgets/controls",
            "_view_module_version": "1.5.0",
            "_view_name": "HTMLView",
            "description": "",
            "description_tooltip": null,
            "layout": "IPY_MODEL_bd3d813467cf4ced8e793d1e182998a4",
            "placeholder": "​",
            "style": "IPY_MODEL_39e6c99df66847c787f241e9c39cd4a0",
            "value": "100%"
          }
        },
        "1f71295f75b645b094282e8f0f0094ee": {
          "model_module": "@jupyter-widgets/controls",
          "model_name": "FloatProgressModel",
          "model_module_version": "1.5.0",
          "state": {
            "_dom_classes": [],
            "_model_module": "@jupyter-widgets/controls",
            "_model_module_version": "1.5.0",
            "_model_name": "FloatProgressModel",
            "_view_count": null,
            "_view_module": "@jupyter-widgets/controls",
            "_view_module_version": "1.5.0",
            "_view_name": "ProgressView",
            "bar_style": "success",
            "description": "",
            "description_tooltip": null,
            "layout": "IPY_MODEL_01dc0e72c1354556bde07058854aea80",
            "max": 2,
            "min": 0,
            "orientation": "horizontal",
            "style": "IPY_MODEL_fe63434688604392bf2451d723d468fa",
            "value": 2
          }
        },
        "9c83161bfcf549deb7ad0f0d91278cb2": {
          "model_module": "@jupyter-widgets/controls",
          "model_name": "HTMLModel",
          "model_module_version": "1.5.0",
          "state": {
            "_dom_classes": [],
            "_model_module": "@jupyter-widgets/controls",
            "_model_module_version": "1.5.0",
            "_model_name": "HTMLModel",
            "_view_count": null,
            "_view_module": "@jupyter-widgets/controls",
            "_view_module_version": "1.5.0",
            "_view_name": "HTMLView",
            "description": "",
            "description_tooltip": null,
            "layout": "IPY_MODEL_d10c8c58363a4c17a4871b31b00eed3e",
            "placeholder": "​",
            "style": "IPY_MODEL_a631f01f0944482b9845f3d80bb30c5c",
            "value": " 2/2 [00:00&lt;00:00,  7.56ba/s]"
          }
        },
        "cdb9877230b94f3e8cc4211d1dc8812b": {
          "model_module": "@jupyter-widgets/base",
          "model_name": "LayoutModel",
          "model_module_version": "1.2.0",
          "state": {
            "_model_module": "@jupyter-widgets/base",
            "_model_module_version": "1.2.0",
            "_model_name": "LayoutModel",
            "_view_count": null,
            "_view_module": "@jupyter-widgets/base",
            "_view_module_version": "1.2.0",
            "_view_name": "LayoutView",
            "align_content": null,
            "align_items": null,
            "align_self": null,
            "border": null,
            "bottom": null,
            "display": null,
            "flex": null,
            "flex_flow": null,
            "grid_area": null,
            "grid_auto_columns": null,
            "grid_auto_flow": null,
            "grid_auto_rows": null,
            "grid_column": null,
            "grid_gap": null,
            "grid_row": null,
            "grid_template_areas": null,
            "grid_template_columns": null,
            "grid_template_rows": null,
            "height": null,
            "justify_content": null,
            "justify_items": null,
            "left": null,
            "margin": null,
            "max_height": null,
            "max_width": null,
            "min_height": null,
            "min_width": null,
            "object_fit": null,
            "object_position": null,
            "order": null,
            "overflow": null,
            "overflow_x": null,
            "overflow_y": null,
            "padding": null,
            "right": null,
            "top": null,
            "visibility": null,
            "width": null
          }
        },
        "bd3d813467cf4ced8e793d1e182998a4": {
          "model_module": "@jupyter-widgets/base",
          "model_name": "LayoutModel",
          "model_module_version": "1.2.0",
          "state": {
            "_model_module": "@jupyter-widgets/base",
            "_model_module_version": "1.2.0",
            "_model_name": "LayoutModel",
            "_view_count": null,
            "_view_module": "@jupyter-widgets/base",
            "_view_module_version": "1.2.0",
            "_view_name": "LayoutView",
            "align_content": null,
            "align_items": null,
            "align_self": null,
            "border": null,
            "bottom": null,
            "display": null,
            "flex": null,
            "flex_flow": null,
            "grid_area": null,
            "grid_auto_columns": null,
            "grid_auto_flow": null,
            "grid_auto_rows": null,
            "grid_column": null,
            "grid_gap": null,
            "grid_row": null,
            "grid_template_areas": null,
            "grid_template_columns": null,
            "grid_template_rows": null,
            "height": null,
            "justify_content": null,
            "justify_items": null,
            "left": null,
            "margin": null,
            "max_height": null,
            "max_width": null,
            "min_height": null,
            "min_width": null,
            "object_fit": null,
            "object_position": null,
            "order": null,
            "overflow": null,
            "overflow_x": null,
            "overflow_y": null,
            "padding": null,
            "right": null,
            "top": null,
            "visibility": null,
            "width": null
          }
        },
        "39e6c99df66847c787f241e9c39cd4a0": {
          "model_module": "@jupyter-widgets/controls",
          "model_name": "DescriptionStyleModel",
          "model_module_version": "1.5.0",
          "state": {
            "_model_module": "@jupyter-widgets/controls",
            "_model_module_version": "1.5.0",
            "_model_name": "DescriptionStyleModel",
            "_view_count": null,
            "_view_module": "@jupyter-widgets/base",
            "_view_module_version": "1.2.0",
            "_view_name": "StyleView",
            "description_width": ""
          }
        },
        "01dc0e72c1354556bde07058854aea80": {
          "model_module": "@jupyter-widgets/base",
          "model_name": "LayoutModel",
          "model_module_version": "1.2.0",
          "state": {
            "_model_module": "@jupyter-widgets/base",
            "_model_module_version": "1.2.0",
            "_model_name": "LayoutModel",
            "_view_count": null,
            "_view_module": "@jupyter-widgets/base",
            "_view_module_version": "1.2.0",
            "_view_name": "LayoutView",
            "align_content": null,
            "align_items": null,
            "align_self": null,
            "border": null,
            "bottom": null,
            "display": null,
            "flex": null,
            "flex_flow": null,
            "grid_area": null,
            "grid_auto_columns": null,
            "grid_auto_flow": null,
            "grid_auto_rows": null,
            "grid_column": null,
            "grid_gap": null,
            "grid_row": null,
            "grid_template_areas": null,
            "grid_template_columns": null,
            "grid_template_rows": null,
            "height": null,
            "justify_content": null,
            "justify_items": null,
            "left": null,
            "margin": null,
            "max_height": null,
            "max_width": null,
            "min_height": null,
            "min_width": null,
            "object_fit": null,
            "object_position": null,
            "order": null,
            "overflow": null,
            "overflow_x": null,
            "overflow_y": null,
            "padding": null,
            "right": null,
            "top": null,
            "visibility": null,
            "width": null
          }
        },
        "fe63434688604392bf2451d723d468fa": {
          "model_module": "@jupyter-widgets/controls",
          "model_name": "ProgressStyleModel",
          "model_module_version": "1.5.0",
          "state": {
            "_model_module": "@jupyter-widgets/controls",
            "_model_module_version": "1.5.0",
            "_model_name": "ProgressStyleModel",
            "_view_count": null,
            "_view_module": "@jupyter-widgets/base",
            "_view_module_version": "1.2.0",
            "_view_name": "StyleView",
            "bar_color": null,
            "description_width": ""
          }
        },
        "d10c8c58363a4c17a4871b31b00eed3e": {
          "model_module": "@jupyter-widgets/base",
          "model_name": "LayoutModel",
          "model_module_version": "1.2.0",
          "state": {
            "_model_module": "@jupyter-widgets/base",
            "_model_module_version": "1.2.0",
            "_model_name": "LayoutModel",
            "_view_count": null,
            "_view_module": "@jupyter-widgets/base",
            "_view_module_version": "1.2.0",
            "_view_name": "LayoutView",
            "align_content": null,
            "align_items": null,
            "align_self": null,
            "border": null,
            "bottom": null,
            "display": null,
            "flex": null,
            "flex_flow": null,
            "grid_area": null,
            "grid_auto_columns": null,
            "grid_auto_flow": null,
            "grid_auto_rows": null,
            "grid_column": null,
            "grid_gap": null,
            "grid_row": null,
            "grid_template_areas": null,
            "grid_template_columns": null,
            "grid_template_rows": null,
            "height": null,
            "justify_content": null,
            "justify_items": null,
            "left": null,
            "margin": null,
            "max_height": null,
            "max_width": null,
            "min_height": null,
            "min_width": null,
            "object_fit": null,
            "object_position": null,
            "order": null,
            "overflow": null,
            "overflow_x": null,
            "overflow_y": null,
            "padding": null,
            "right": null,
            "top": null,
            "visibility": null,
            "width": null
          }
        },
        "a631f01f0944482b9845f3d80bb30c5c": {
          "model_module": "@jupyter-widgets/controls",
          "model_name": "DescriptionStyleModel",
          "model_module_version": "1.5.0",
          "state": {
            "_model_module": "@jupyter-widgets/controls",
            "_model_module_version": "1.5.0",
            "_model_name": "DescriptionStyleModel",
            "_view_count": null,
            "_view_module": "@jupyter-widgets/base",
            "_view_module_version": "1.2.0",
            "_view_name": "StyleView",
            "description_width": ""
          }
        },
        "f48416fc079341dc9cbff0e04f2b6a8a": {
          "model_module": "@jupyter-widgets/controls",
          "model_name": "HBoxModel",
          "model_module_version": "1.5.0",
          "state": {
            "_dom_classes": [],
            "_model_module": "@jupyter-widgets/controls",
            "_model_module_version": "1.5.0",
            "_model_name": "HBoxModel",
            "_view_count": null,
            "_view_module": "@jupyter-widgets/controls",
            "_view_module_version": "1.5.0",
            "_view_name": "HBoxView",
            "box_style": "",
            "children": [
              "IPY_MODEL_918f8c4c946f4c469a58c3541b9e65d5",
              "IPY_MODEL_8d846a7a6eec48348aad0ed7229bcb45",
              "IPY_MODEL_a3d92ba667b3465bb83425122ba7ea5e"
            ],
            "layout": "IPY_MODEL_770d9acd421347bab959c670c49cddbd"
          }
        },
        "918f8c4c946f4c469a58c3541b9e65d5": {
          "model_module": "@jupyter-widgets/controls",
          "model_name": "HTMLModel",
          "model_module_version": "1.5.0",
          "state": {
            "_dom_classes": [],
            "_model_module": "@jupyter-widgets/controls",
            "_model_module_version": "1.5.0",
            "_model_name": "HTMLModel",
            "_view_count": null,
            "_view_module": "@jupyter-widgets/controls",
            "_view_module_version": "1.5.0",
            "_view_name": "HTMLView",
            "description": "",
            "description_tooltip": null,
            "layout": "IPY_MODEL_508ea1bd46b04de9b96f22bcb17f78ca",
            "placeholder": "​",
            "style": "IPY_MODEL_d5061dbb2624436292958f7631521424",
            "value": "100%"
          }
        },
        "8d846a7a6eec48348aad0ed7229bcb45": {
          "model_module": "@jupyter-widgets/controls",
          "model_name": "FloatProgressModel",
          "model_module_version": "1.5.0",
          "state": {
            "_dom_classes": [],
            "_model_module": "@jupyter-widgets/controls",
            "_model_module_version": "1.5.0",
            "_model_name": "FloatProgressModel",
            "_view_count": null,
            "_view_module": "@jupyter-widgets/controls",
            "_view_module_version": "1.5.0",
            "_view_name": "ProgressView",
            "bar_style": "success",
            "description": "",
            "description_tooltip": null,
            "layout": "IPY_MODEL_686c70359be74879b4f87558db749d02",
            "max": 14,
            "min": 0,
            "orientation": "horizontal",
            "style": "IPY_MODEL_946acadd9e7c447c9e3a93de90048c0c",
            "value": 14
          }
        },
        "a3d92ba667b3465bb83425122ba7ea5e": {
          "model_module": "@jupyter-widgets/controls",
          "model_name": "HTMLModel",
          "model_module_version": "1.5.0",
          "state": {
            "_dom_classes": [],
            "_model_module": "@jupyter-widgets/controls",
            "_model_module_version": "1.5.0",
            "_model_name": "HTMLModel",
            "_view_count": null,
            "_view_module": "@jupyter-widgets/controls",
            "_view_module_version": "1.5.0",
            "_view_name": "HTMLView",
            "description": "",
            "description_tooltip": null,
            "layout": "IPY_MODEL_e2a0646ecacd4ac69c0e5554fbee9912",
            "placeholder": "​",
            "style": "IPY_MODEL_51448f7d00494b76aae6a8d6d5e06d4a",
            "value": " 14/14 [00:01&lt;00:00, 11.86ba/s]"
          }
        },
        "770d9acd421347bab959c670c49cddbd": {
          "model_module": "@jupyter-widgets/base",
          "model_name": "LayoutModel",
          "model_module_version": "1.2.0",
          "state": {
            "_model_module": "@jupyter-widgets/base",
            "_model_module_version": "1.2.0",
            "_model_name": "LayoutModel",
            "_view_count": null,
            "_view_module": "@jupyter-widgets/base",
            "_view_module_version": "1.2.0",
            "_view_name": "LayoutView",
            "align_content": null,
            "align_items": null,
            "align_self": null,
            "border": null,
            "bottom": null,
            "display": null,
            "flex": null,
            "flex_flow": null,
            "grid_area": null,
            "grid_auto_columns": null,
            "grid_auto_flow": null,
            "grid_auto_rows": null,
            "grid_column": null,
            "grid_gap": null,
            "grid_row": null,
            "grid_template_areas": null,
            "grid_template_columns": null,
            "grid_template_rows": null,
            "height": null,
            "justify_content": null,
            "justify_items": null,
            "left": null,
            "margin": null,
            "max_height": null,
            "max_width": null,
            "min_height": null,
            "min_width": null,
            "object_fit": null,
            "object_position": null,
            "order": null,
            "overflow": null,
            "overflow_x": null,
            "overflow_y": null,
            "padding": null,
            "right": null,
            "top": null,
            "visibility": null,
            "width": null
          }
        },
        "508ea1bd46b04de9b96f22bcb17f78ca": {
          "model_module": "@jupyter-widgets/base",
          "model_name": "LayoutModel",
          "model_module_version": "1.2.0",
          "state": {
            "_model_module": "@jupyter-widgets/base",
            "_model_module_version": "1.2.0",
            "_model_name": "LayoutModel",
            "_view_count": null,
            "_view_module": "@jupyter-widgets/base",
            "_view_module_version": "1.2.0",
            "_view_name": "LayoutView",
            "align_content": null,
            "align_items": null,
            "align_self": null,
            "border": null,
            "bottom": null,
            "display": null,
            "flex": null,
            "flex_flow": null,
            "grid_area": null,
            "grid_auto_columns": null,
            "grid_auto_flow": null,
            "grid_auto_rows": null,
            "grid_column": null,
            "grid_gap": null,
            "grid_row": null,
            "grid_template_areas": null,
            "grid_template_columns": null,
            "grid_template_rows": null,
            "height": null,
            "justify_content": null,
            "justify_items": null,
            "left": null,
            "margin": null,
            "max_height": null,
            "max_width": null,
            "min_height": null,
            "min_width": null,
            "object_fit": null,
            "object_position": null,
            "order": null,
            "overflow": null,
            "overflow_x": null,
            "overflow_y": null,
            "padding": null,
            "right": null,
            "top": null,
            "visibility": null,
            "width": null
          }
        },
        "d5061dbb2624436292958f7631521424": {
          "model_module": "@jupyter-widgets/controls",
          "model_name": "DescriptionStyleModel",
          "model_module_version": "1.5.0",
          "state": {
            "_model_module": "@jupyter-widgets/controls",
            "_model_module_version": "1.5.0",
            "_model_name": "DescriptionStyleModel",
            "_view_count": null,
            "_view_module": "@jupyter-widgets/base",
            "_view_module_version": "1.2.0",
            "_view_name": "StyleView",
            "description_width": ""
          }
        },
        "686c70359be74879b4f87558db749d02": {
          "model_module": "@jupyter-widgets/base",
          "model_name": "LayoutModel",
          "model_module_version": "1.2.0",
          "state": {
            "_model_module": "@jupyter-widgets/base",
            "_model_module_version": "1.2.0",
            "_model_name": "LayoutModel",
            "_view_count": null,
            "_view_module": "@jupyter-widgets/base",
            "_view_module_version": "1.2.0",
            "_view_name": "LayoutView",
            "align_content": null,
            "align_items": null,
            "align_self": null,
            "border": null,
            "bottom": null,
            "display": null,
            "flex": null,
            "flex_flow": null,
            "grid_area": null,
            "grid_auto_columns": null,
            "grid_auto_flow": null,
            "grid_auto_rows": null,
            "grid_column": null,
            "grid_gap": null,
            "grid_row": null,
            "grid_template_areas": null,
            "grid_template_columns": null,
            "grid_template_rows": null,
            "height": null,
            "justify_content": null,
            "justify_items": null,
            "left": null,
            "margin": null,
            "max_height": null,
            "max_width": null,
            "min_height": null,
            "min_width": null,
            "object_fit": null,
            "object_position": null,
            "order": null,
            "overflow": null,
            "overflow_x": null,
            "overflow_y": null,
            "padding": null,
            "right": null,
            "top": null,
            "visibility": null,
            "width": null
          }
        },
        "946acadd9e7c447c9e3a93de90048c0c": {
          "model_module": "@jupyter-widgets/controls",
          "model_name": "ProgressStyleModel",
          "model_module_version": "1.5.0",
          "state": {
            "_model_module": "@jupyter-widgets/controls",
            "_model_module_version": "1.5.0",
            "_model_name": "ProgressStyleModel",
            "_view_count": null,
            "_view_module": "@jupyter-widgets/base",
            "_view_module_version": "1.2.0",
            "_view_name": "StyleView",
            "bar_color": null,
            "description_width": ""
          }
        },
        "e2a0646ecacd4ac69c0e5554fbee9912": {
          "model_module": "@jupyter-widgets/base",
          "model_name": "LayoutModel",
          "model_module_version": "1.2.0",
          "state": {
            "_model_module": "@jupyter-widgets/base",
            "_model_module_version": "1.2.0",
            "_model_name": "LayoutModel",
            "_view_count": null,
            "_view_module": "@jupyter-widgets/base",
            "_view_module_version": "1.2.0",
            "_view_name": "LayoutView",
            "align_content": null,
            "align_items": null,
            "align_self": null,
            "border": null,
            "bottom": null,
            "display": null,
            "flex": null,
            "flex_flow": null,
            "grid_area": null,
            "grid_auto_columns": null,
            "grid_auto_flow": null,
            "grid_auto_rows": null,
            "grid_column": null,
            "grid_gap": null,
            "grid_row": null,
            "grid_template_areas": null,
            "grid_template_columns": null,
            "grid_template_rows": null,
            "height": null,
            "justify_content": null,
            "justify_items": null,
            "left": null,
            "margin": null,
            "max_height": null,
            "max_width": null,
            "min_height": null,
            "min_width": null,
            "object_fit": null,
            "object_position": null,
            "order": null,
            "overflow": null,
            "overflow_x": null,
            "overflow_y": null,
            "padding": null,
            "right": null,
            "top": null,
            "visibility": null,
            "width": null
          }
        },
        "51448f7d00494b76aae6a8d6d5e06d4a": {
          "model_module": "@jupyter-widgets/controls",
          "model_name": "DescriptionStyleModel",
          "model_module_version": "1.5.0",
          "state": {
            "_model_module": "@jupyter-widgets/controls",
            "_model_module_version": "1.5.0",
            "_model_name": "DescriptionStyleModel",
            "_view_count": null,
            "_view_module": "@jupyter-widgets/base",
            "_view_module_version": "1.2.0",
            "_view_name": "StyleView",
            "description_width": ""
          }
        },
        "a881e579963d49b082da88d47ef4e5ca": {
          "model_module": "@jupyter-widgets/controls",
          "model_name": "HBoxModel",
          "model_module_version": "1.5.0",
          "state": {
            "_dom_classes": [],
            "_model_module": "@jupyter-widgets/controls",
            "_model_module_version": "1.5.0",
            "_model_name": "HBoxModel",
            "_view_count": null,
            "_view_module": "@jupyter-widgets/controls",
            "_view_module_version": "1.5.0",
            "_view_name": "HBoxView",
            "box_style": "",
            "children": [
              "IPY_MODEL_dc0318ce6bd34ae9b49037f670cfa7f0",
              "IPY_MODEL_fe4c12f211c140919a13bbf10b23bc56",
              "IPY_MODEL_6baaadc05eb745b18836e3cc34d066bc"
            ],
            "layout": "IPY_MODEL_9effe406038a48bb8859405cae596208"
          }
        },
        "dc0318ce6bd34ae9b49037f670cfa7f0": {
          "model_module": "@jupyter-widgets/controls",
          "model_name": "HTMLModel",
          "model_module_version": "1.5.0",
          "state": {
            "_dom_classes": [],
            "_model_module": "@jupyter-widgets/controls",
            "_model_module_version": "1.5.0",
            "_model_name": "HTMLModel",
            "_view_count": null,
            "_view_module": "@jupyter-widgets/controls",
            "_view_module_version": "1.5.0",
            "_view_name": "HTMLView",
            "description": "",
            "description_tooltip": null,
            "layout": "IPY_MODEL_3647834840f942b18f702b448df3b714",
            "placeholder": "​",
            "style": "IPY_MODEL_0c18e20e6af546eda536fe5de68074cf",
            "value": "100%"
          }
        },
        "fe4c12f211c140919a13bbf10b23bc56": {
          "model_module": "@jupyter-widgets/controls",
          "model_name": "FloatProgressModel",
          "model_module_version": "1.5.0",
          "state": {
            "_dom_classes": [],
            "_model_module": "@jupyter-widgets/controls",
            "_model_module_version": "1.5.0",
            "_model_name": "FloatProgressModel",
            "_view_count": null,
            "_view_module": "@jupyter-widgets/controls",
            "_view_module_version": "1.5.0",
            "_view_name": "ProgressView",
            "bar_style": "success",
            "description": "",
            "description_tooltip": null,
            "layout": "IPY_MODEL_b7175ce885774e83b38d057aba0939cf",
            "max": 14,
            "min": 0,
            "orientation": "horizontal",
            "style": "IPY_MODEL_bca3ff09fd044e32a6f1de986e5371ac",
            "value": 14
          }
        },
        "6baaadc05eb745b18836e3cc34d066bc": {
          "model_module": "@jupyter-widgets/controls",
          "model_name": "HTMLModel",
          "model_module_version": "1.5.0",
          "state": {
            "_dom_classes": [],
            "_model_module": "@jupyter-widgets/controls",
            "_model_module_version": "1.5.0",
            "_model_name": "HTMLModel",
            "_view_count": null,
            "_view_module": "@jupyter-widgets/controls",
            "_view_module_version": "1.5.0",
            "_view_name": "HTMLView",
            "description": "",
            "description_tooltip": null,
            "layout": "IPY_MODEL_9395cba3d5ac4422bad62d898fe92f77",
            "placeholder": "​",
            "style": "IPY_MODEL_b90bddc30f0f4ca3acc2912244b7ccd0",
            "value": " 14/14 [00:01&lt;00:00,  9.38ba/s]"
          }
        },
        "9effe406038a48bb8859405cae596208": {
          "model_module": "@jupyter-widgets/base",
          "model_name": "LayoutModel",
          "model_module_version": "1.2.0",
          "state": {
            "_model_module": "@jupyter-widgets/base",
            "_model_module_version": "1.2.0",
            "_model_name": "LayoutModel",
            "_view_count": null,
            "_view_module": "@jupyter-widgets/base",
            "_view_module_version": "1.2.0",
            "_view_name": "LayoutView",
            "align_content": null,
            "align_items": null,
            "align_self": null,
            "border": null,
            "bottom": null,
            "display": null,
            "flex": null,
            "flex_flow": null,
            "grid_area": null,
            "grid_auto_columns": null,
            "grid_auto_flow": null,
            "grid_auto_rows": null,
            "grid_column": null,
            "grid_gap": null,
            "grid_row": null,
            "grid_template_areas": null,
            "grid_template_columns": null,
            "grid_template_rows": null,
            "height": null,
            "justify_content": null,
            "justify_items": null,
            "left": null,
            "margin": null,
            "max_height": null,
            "max_width": null,
            "min_height": null,
            "min_width": null,
            "object_fit": null,
            "object_position": null,
            "order": null,
            "overflow": null,
            "overflow_x": null,
            "overflow_y": null,
            "padding": null,
            "right": null,
            "top": null,
            "visibility": null,
            "width": null
          }
        },
        "3647834840f942b18f702b448df3b714": {
          "model_module": "@jupyter-widgets/base",
          "model_name": "LayoutModel",
          "model_module_version": "1.2.0",
          "state": {
            "_model_module": "@jupyter-widgets/base",
            "_model_module_version": "1.2.0",
            "_model_name": "LayoutModel",
            "_view_count": null,
            "_view_module": "@jupyter-widgets/base",
            "_view_module_version": "1.2.0",
            "_view_name": "LayoutView",
            "align_content": null,
            "align_items": null,
            "align_self": null,
            "border": null,
            "bottom": null,
            "display": null,
            "flex": null,
            "flex_flow": null,
            "grid_area": null,
            "grid_auto_columns": null,
            "grid_auto_flow": null,
            "grid_auto_rows": null,
            "grid_column": null,
            "grid_gap": null,
            "grid_row": null,
            "grid_template_areas": null,
            "grid_template_columns": null,
            "grid_template_rows": null,
            "height": null,
            "justify_content": null,
            "justify_items": null,
            "left": null,
            "margin": null,
            "max_height": null,
            "max_width": null,
            "min_height": null,
            "min_width": null,
            "object_fit": null,
            "object_position": null,
            "order": null,
            "overflow": null,
            "overflow_x": null,
            "overflow_y": null,
            "padding": null,
            "right": null,
            "top": null,
            "visibility": null,
            "width": null
          }
        },
        "0c18e20e6af546eda536fe5de68074cf": {
          "model_module": "@jupyter-widgets/controls",
          "model_name": "DescriptionStyleModel",
          "model_module_version": "1.5.0",
          "state": {
            "_model_module": "@jupyter-widgets/controls",
            "_model_module_version": "1.5.0",
            "_model_name": "DescriptionStyleModel",
            "_view_count": null,
            "_view_module": "@jupyter-widgets/base",
            "_view_module_version": "1.2.0",
            "_view_name": "StyleView",
            "description_width": ""
          }
        },
        "b7175ce885774e83b38d057aba0939cf": {
          "model_module": "@jupyter-widgets/base",
          "model_name": "LayoutModel",
          "model_module_version": "1.2.0",
          "state": {
            "_model_module": "@jupyter-widgets/base",
            "_model_module_version": "1.2.0",
            "_model_name": "LayoutModel",
            "_view_count": null,
            "_view_module": "@jupyter-widgets/base",
            "_view_module_version": "1.2.0",
            "_view_name": "LayoutView",
            "align_content": null,
            "align_items": null,
            "align_self": null,
            "border": null,
            "bottom": null,
            "display": null,
            "flex": null,
            "flex_flow": null,
            "grid_area": null,
            "grid_auto_columns": null,
            "grid_auto_flow": null,
            "grid_auto_rows": null,
            "grid_column": null,
            "grid_gap": null,
            "grid_row": null,
            "grid_template_areas": null,
            "grid_template_columns": null,
            "grid_template_rows": null,
            "height": null,
            "justify_content": null,
            "justify_items": null,
            "left": null,
            "margin": null,
            "max_height": null,
            "max_width": null,
            "min_height": null,
            "min_width": null,
            "object_fit": null,
            "object_position": null,
            "order": null,
            "overflow": null,
            "overflow_x": null,
            "overflow_y": null,
            "padding": null,
            "right": null,
            "top": null,
            "visibility": null,
            "width": null
          }
        },
        "bca3ff09fd044e32a6f1de986e5371ac": {
          "model_module": "@jupyter-widgets/controls",
          "model_name": "ProgressStyleModel",
          "model_module_version": "1.5.0",
          "state": {
            "_model_module": "@jupyter-widgets/controls",
            "_model_module_version": "1.5.0",
            "_model_name": "ProgressStyleModel",
            "_view_count": null,
            "_view_module": "@jupyter-widgets/base",
            "_view_module_version": "1.2.0",
            "_view_name": "StyleView",
            "bar_color": null,
            "description_width": ""
          }
        },
        "9395cba3d5ac4422bad62d898fe92f77": {
          "model_module": "@jupyter-widgets/base",
          "model_name": "LayoutModel",
          "model_module_version": "1.2.0",
          "state": {
            "_model_module": "@jupyter-widgets/base",
            "_model_module_version": "1.2.0",
            "_model_name": "LayoutModel",
            "_view_count": null,
            "_view_module": "@jupyter-widgets/base",
            "_view_module_version": "1.2.0",
            "_view_name": "LayoutView",
            "align_content": null,
            "align_items": null,
            "align_self": null,
            "border": null,
            "bottom": null,
            "display": null,
            "flex": null,
            "flex_flow": null,
            "grid_area": null,
            "grid_auto_columns": null,
            "grid_auto_flow": null,
            "grid_auto_rows": null,
            "grid_column": null,
            "grid_gap": null,
            "grid_row": null,
            "grid_template_areas": null,
            "grid_template_columns": null,
            "grid_template_rows": null,
            "height": null,
            "justify_content": null,
            "justify_items": null,
            "left": null,
            "margin": null,
            "max_height": null,
            "max_width": null,
            "min_height": null,
            "min_width": null,
            "object_fit": null,
            "object_position": null,
            "order": null,
            "overflow": null,
            "overflow_x": null,
            "overflow_y": null,
            "padding": null,
            "right": null,
            "top": null,
            "visibility": null,
            "width": null
          }
        },
        "b90bddc30f0f4ca3acc2912244b7ccd0": {
          "model_module": "@jupyter-widgets/controls",
          "model_name": "DescriptionStyleModel",
          "model_module_version": "1.5.0",
          "state": {
            "_model_module": "@jupyter-widgets/controls",
            "_model_module_version": "1.5.0",
            "_model_name": "DescriptionStyleModel",
            "_view_count": null,
            "_view_module": "@jupyter-widgets/base",
            "_view_module_version": "1.2.0",
            "_view_name": "StyleView",
            "description_width": ""
          }
        },
        "8ec2cc947c2448ed9d6a8c65172d38cd": {
          "model_module": "@jupyter-widgets/controls",
          "model_name": "HBoxModel",
          "model_module_version": "1.5.0",
          "state": {
            "_dom_classes": [],
            "_model_module": "@jupyter-widgets/controls",
            "_model_module_version": "1.5.0",
            "_model_name": "HBoxModel",
            "_view_count": null,
            "_view_module": "@jupyter-widgets/controls",
            "_view_module_version": "1.5.0",
            "_view_name": "HBoxView",
            "box_style": "",
            "children": [
              "IPY_MODEL_07030e2b35b9496cb5322920779be9d2",
              "IPY_MODEL_7fa9ec6dc94e42948affa4da0a9753d5",
              "IPY_MODEL_d792fe66da6d41aa96dd2e73c0ca82ab"
            ],
            "layout": "IPY_MODEL_17aacd8d206b489493f3e64473c75d19"
          }
        },
        "07030e2b35b9496cb5322920779be9d2": {
          "model_module": "@jupyter-widgets/controls",
          "model_name": "HTMLModel",
          "model_module_version": "1.5.0",
          "state": {
            "_dom_classes": [],
            "_model_module": "@jupyter-widgets/controls",
            "_model_module_version": "1.5.0",
            "_model_name": "HTMLModel",
            "_view_count": null,
            "_view_module": "@jupyter-widgets/controls",
            "_view_module_version": "1.5.0",
            "_view_name": "HTMLView",
            "description": "",
            "description_tooltip": null,
            "layout": "IPY_MODEL_82583b6049454917a24f1ecc4de8954d",
            "placeholder": "​",
            "style": "IPY_MODEL_93d1b1859e634455891b2ea33cbb263c",
            "value": "100%"
          }
        },
        "7fa9ec6dc94e42948affa4da0a9753d5": {
          "model_module": "@jupyter-widgets/controls",
          "model_name": "FloatProgressModel",
          "model_module_version": "1.5.0",
          "state": {
            "_dom_classes": [],
            "_model_module": "@jupyter-widgets/controls",
            "_model_module_version": "1.5.0",
            "_model_name": "FloatProgressModel",
            "_view_count": null,
            "_view_module": "@jupyter-widgets/controls",
            "_view_module_version": "1.5.0",
            "_view_name": "ProgressView",
            "bar_style": "success",
            "description": "",
            "description_tooltip": null,
            "layout": "IPY_MODEL_83f897c703a5496d8ea83b13e5590a68",
            "max": 14,
            "min": 0,
            "orientation": "horizontal",
            "style": "IPY_MODEL_a21d5ec0af364cc2a97af3976e4b4ca4",
            "value": 14
          }
        },
        "d792fe66da6d41aa96dd2e73c0ca82ab": {
          "model_module": "@jupyter-widgets/controls",
          "model_name": "HTMLModel",
          "model_module_version": "1.5.0",
          "state": {
            "_dom_classes": [],
            "_model_module": "@jupyter-widgets/controls",
            "_model_module_version": "1.5.0",
            "_model_name": "HTMLModel",
            "_view_count": null,
            "_view_module": "@jupyter-widgets/controls",
            "_view_module_version": "1.5.0",
            "_view_name": "HTMLView",
            "description": "",
            "description_tooltip": null,
            "layout": "IPY_MODEL_77b115b31d8e43828227d99425a0d5c6",
            "placeholder": "​",
            "style": "IPY_MODEL_d25047092f8f43509ba1e8d9bda472a1",
            "value": " 14/14 [00:01&lt;00:00, 11.29ba/s]"
          }
        },
        "17aacd8d206b489493f3e64473c75d19": {
          "model_module": "@jupyter-widgets/base",
          "model_name": "LayoutModel",
          "model_module_version": "1.2.0",
          "state": {
            "_model_module": "@jupyter-widgets/base",
            "_model_module_version": "1.2.0",
            "_model_name": "LayoutModel",
            "_view_count": null,
            "_view_module": "@jupyter-widgets/base",
            "_view_module_version": "1.2.0",
            "_view_name": "LayoutView",
            "align_content": null,
            "align_items": null,
            "align_self": null,
            "border": null,
            "bottom": null,
            "display": null,
            "flex": null,
            "flex_flow": null,
            "grid_area": null,
            "grid_auto_columns": null,
            "grid_auto_flow": null,
            "grid_auto_rows": null,
            "grid_column": null,
            "grid_gap": null,
            "grid_row": null,
            "grid_template_areas": null,
            "grid_template_columns": null,
            "grid_template_rows": null,
            "height": null,
            "justify_content": null,
            "justify_items": null,
            "left": null,
            "margin": null,
            "max_height": null,
            "max_width": null,
            "min_height": null,
            "min_width": null,
            "object_fit": null,
            "object_position": null,
            "order": null,
            "overflow": null,
            "overflow_x": null,
            "overflow_y": null,
            "padding": null,
            "right": null,
            "top": null,
            "visibility": null,
            "width": null
          }
        },
        "82583b6049454917a24f1ecc4de8954d": {
          "model_module": "@jupyter-widgets/base",
          "model_name": "LayoutModel",
          "model_module_version": "1.2.0",
          "state": {
            "_model_module": "@jupyter-widgets/base",
            "_model_module_version": "1.2.0",
            "_model_name": "LayoutModel",
            "_view_count": null,
            "_view_module": "@jupyter-widgets/base",
            "_view_module_version": "1.2.0",
            "_view_name": "LayoutView",
            "align_content": null,
            "align_items": null,
            "align_self": null,
            "border": null,
            "bottom": null,
            "display": null,
            "flex": null,
            "flex_flow": null,
            "grid_area": null,
            "grid_auto_columns": null,
            "grid_auto_flow": null,
            "grid_auto_rows": null,
            "grid_column": null,
            "grid_gap": null,
            "grid_row": null,
            "grid_template_areas": null,
            "grid_template_columns": null,
            "grid_template_rows": null,
            "height": null,
            "justify_content": null,
            "justify_items": null,
            "left": null,
            "margin": null,
            "max_height": null,
            "max_width": null,
            "min_height": null,
            "min_width": null,
            "object_fit": null,
            "object_position": null,
            "order": null,
            "overflow": null,
            "overflow_x": null,
            "overflow_y": null,
            "padding": null,
            "right": null,
            "top": null,
            "visibility": null,
            "width": null
          }
        },
        "93d1b1859e634455891b2ea33cbb263c": {
          "model_module": "@jupyter-widgets/controls",
          "model_name": "DescriptionStyleModel",
          "model_module_version": "1.5.0",
          "state": {
            "_model_module": "@jupyter-widgets/controls",
            "_model_module_version": "1.5.0",
            "_model_name": "DescriptionStyleModel",
            "_view_count": null,
            "_view_module": "@jupyter-widgets/base",
            "_view_module_version": "1.2.0",
            "_view_name": "StyleView",
            "description_width": ""
          }
        },
        "83f897c703a5496d8ea83b13e5590a68": {
          "model_module": "@jupyter-widgets/base",
          "model_name": "LayoutModel",
          "model_module_version": "1.2.0",
          "state": {
            "_model_module": "@jupyter-widgets/base",
            "_model_module_version": "1.2.0",
            "_model_name": "LayoutModel",
            "_view_count": null,
            "_view_module": "@jupyter-widgets/base",
            "_view_module_version": "1.2.0",
            "_view_name": "LayoutView",
            "align_content": null,
            "align_items": null,
            "align_self": null,
            "border": null,
            "bottom": null,
            "display": null,
            "flex": null,
            "flex_flow": null,
            "grid_area": null,
            "grid_auto_columns": null,
            "grid_auto_flow": null,
            "grid_auto_rows": null,
            "grid_column": null,
            "grid_gap": null,
            "grid_row": null,
            "grid_template_areas": null,
            "grid_template_columns": null,
            "grid_template_rows": null,
            "height": null,
            "justify_content": null,
            "justify_items": null,
            "left": null,
            "margin": null,
            "max_height": null,
            "max_width": null,
            "min_height": null,
            "min_width": null,
            "object_fit": null,
            "object_position": null,
            "order": null,
            "overflow": null,
            "overflow_x": null,
            "overflow_y": null,
            "padding": null,
            "right": null,
            "top": null,
            "visibility": null,
            "width": null
          }
        },
        "a21d5ec0af364cc2a97af3976e4b4ca4": {
          "model_module": "@jupyter-widgets/controls",
          "model_name": "ProgressStyleModel",
          "model_module_version": "1.5.0",
          "state": {
            "_model_module": "@jupyter-widgets/controls",
            "_model_module_version": "1.5.0",
            "_model_name": "ProgressStyleModel",
            "_view_count": null,
            "_view_module": "@jupyter-widgets/base",
            "_view_module_version": "1.2.0",
            "_view_name": "StyleView",
            "bar_color": null,
            "description_width": ""
          }
        },
        "77b115b31d8e43828227d99425a0d5c6": {
          "model_module": "@jupyter-widgets/base",
          "model_name": "LayoutModel",
          "model_module_version": "1.2.0",
          "state": {
            "_model_module": "@jupyter-widgets/base",
            "_model_module_version": "1.2.0",
            "_model_name": "LayoutModel",
            "_view_count": null,
            "_view_module": "@jupyter-widgets/base",
            "_view_module_version": "1.2.0",
            "_view_name": "LayoutView",
            "align_content": null,
            "align_items": null,
            "align_self": null,
            "border": null,
            "bottom": null,
            "display": null,
            "flex": null,
            "flex_flow": null,
            "grid_area": null,
            "grid_auto_columns": null,
            "grid_auto_flow": null,
            "grid_auto_rows": null,
            "grid_column": null,
            "grid_gap": null,
            "grid_row": null,
            "grid_template_areas": null,
            "grid_template_columns": null,
            "grid_template_rows": null,
            "height": null,
            "justify_content": null,
            "justify_items": null,
            "left": null,
            "margin": null,
            "max_height": null,
            "max_width": null,
            "min_height": null,
            "min_width": null,
            "object_fit": null,
            "object_position": null,
            "order": null,
            "overflow": null,
            "overflow_x": null,
            "overflow_y": null,
            "padding": null,
            "right": null,
            "top": null,
            "visibility": null,
            "width": null
          }
        },
        "d25047092f8f43509ba1e8d9bda472a1": {
          "model_module": "@jupyter-widgets/controls",
          "model_name": "DescriptionStyleModel",
          "model_module_version": "1.5.0",
          "state": {
            "_model_module": "@jupyter-widgets/controls",
            "_model_module_version": "1.5.0",
            "_model_name": "DescriptionStyleModel",
            "_view_count": null,
            "_view_module": "@jupyter-widgets/base",
            "_view_module_version": "1.2.0",
            "_view_name": "StyleView",
            "description_width": ""
          }
        },
        "6a5836587da44c6794be474e115e1449": {
          "model_module": "@jupyter-widgets/controls",
          "model_name": "HBoxModel",
          "model_module_version": "1.5.0",
          "state": {
            "_dom_classes": [],
            "_model_module": "@jupyter-widgets/controls",
            "_model_module_version": "1.5.0",
            "_model_name": "HBoxModel",
            "_view_count": null,
            "_view_module": "@jupyter-widgets/controls",
            "_view_module_version": "1.5.0",
            "_view_name": "HBoxView",
            "box_style": "",
            "children": [
              "IPY_MODEL_1bc50db9bbce419ebda5b49802546e4f",
              "IPY_MODEL_08c853f64a514efdb386091920386791",
              "IPY_MODEL_d4fe7de9a0bf4630bf61120beee46574"
            ],
            "layout": "IPY_MODEL_ee1cbab3dedf42daa8222ad46b64bd15"
          }
        },
        "1bc50db9bbce419ebda5b49802546e4f": {
          "model_module": "@jupyter-widgets/controls",
          "model_name": "HTMLModel",
          "model_module_version": "1.5.0",
          "state": {
            "_dom_classes": [],
            "_model_module": "@jupyter-widgets/controls",
            "_model_module_version": "1.5.0",
            "_model_name": "HTMLModel",
            "_view_count": null,
            "_view_module": "@jupyter-widgets/controls",
            "_view_module_version": "1.5.0",
            "_view_name": "HTMLView",
            "description": "",
            "description_tooltip": null,
            "layout": "IPY_MODEL_0da5eacb276342049c2a480f614fb85b",
            "placeholder": "​",
            "style": "IPY_MODEL_ca66672deab34897a54b67fb9fbd5672",
            "value": "100%"
          }
        },
        "08c853f64a514efdb386091920386791": {
          "model_module": "@jupyter-widgets/controls",
          "model_name": "FloatProgressModel",
          "model_module_version": "1.5.0",
          "state": {
            "_dom_classes": [],
            "_model_module": "@jupyter-widgets/controls",
            "_model_module_version": "1.5.0",
            "_model_name": "FloatProgressModel",
            "_view_count": null,
            "_view_module": "@jupyter-widgets/controls",
            "_view_module_version": "1.5.0",
            "_view_name": "ProgressView",
            "bar_style": "success",
            "description": "",
            "description_tooltip": null,
            "layout": "IPY_MODEL_a7bd711448b749efb11836660a8f1152",
            "max": 14,
            "min": 0,
            "orientation": "horizontal",
            "style": "IPY_MODEL_9108c1ccaa074587ba04f24f0b7cf0a1",
            "value": 14
          }
        },
        "d4fe7de9a0bf4630bf61120beee46574": {
          "model_module": "@jupyter-widgets/controls",
          "model_name": "HTMLModel",
          "model_module_version": "1.5.0",
          "state": {
            "_dom_classes": [],
            "_model_module": "@jupyter-widgets/controls",
            "_model_module_version": "1.5.0",
            "_model_name": "HTMLModel",
            "_view_count": null,
            "_view_module": "@jupyter-widgets/controls",
            "_view_module_version": "1.5.0",
            "_view_name": "HTMLView",
            "description": "",
            "description_tooltip": null,
            "layout": "IPY_MODEL_1c91f3fabb144ea2a7a22ea8cfe1b75d",
            "placeholder": "​",
            "style": "IPY_MODEL_3a296bba2deb49f49504ffba9db3a2ed",
            "value": " 14/14 [00:01&lt;00:00, 10.58ba/s]"
          }
        },
        "ee1cbab3dedf42daa8222ad46b64bd15": {
          "model_module": "@jupyter-widgets/base",
          "model_name": "LayoutModel",
          "model_module_version": "1.2.0",
          "state": {
            "_model_module": "@jupyter-widgets/base",
            "_model_module_version": "1.2.0",
            "_model_name": "LayoutModel",
            "_view_count": null,
            "_view_module": "@jupyter-widgets/base",
            "_view_module_version": "1.2.0",
            "_view_name": "LayoutView",
            "align_content": null,
            "align_items": null,
            "align_self": null,
            "border": null,
            "bottom": null,
            "display": null,
            "flex": null,
            "flex_flow": null,
            "grid_area": null,
            "grid_auto_columns": null,
            "grid_auto_flow": null,
            "grid_auto_rows": null,
            "grid_column": null,
            "grid_gap": null,
            "grid_row": null,
            "grid_template_areas": null,
            "grid_template_columns": null,
            "grid_template_rows": null,
            "height": null,
            "justify_content": null,
            "justify_items": null,
            "left": null,
            "margin": null,
            "max_height": null,
            "max_width": null,
            "min_height": null,
            "min_width": null,
            "object_fit": null,
            "object_position": null,
            "order": null,
            "overflow": null,
            "overflow_x": null,
            "overflow_y": null,
            "padding": null,
            "right": null,
            "top": null,
            "visibility": null,
            "width": null
          }
        },
        "0da5eacb276342049c2a480f614fb85b": {
          "model_module": "@jupyter-widgets/base",
          "model_name": "LayoutModel",
          "model_module_version": "1.2.0",
          "state": {
            "_model_module": "@jupyter-widgets/base",
            "_model_module_version": "1.2.0",
            "_model_name": "LayoutModel",
            "_view_count": null,
            "_view_module": "@jupyter-widgets/base",
            "_view_module_version": "1.2.0",
            "_view_name": "LayoutView",
            "align_content": null,
            "align_items": null,
            "align_self": null,
            "border": null,
            "bottom": null,
            "display": null,
            "flex": null,
            "flex_flow": null,
            "grid_area": null,
            "grid_auto_columns": null,
            "grid_auto_flow": null,
            "grid_auto_rows": null,
            "grid_column": null,
            "grid_gap": null,
            "grid_row": null,
            "grid_template_areas": null,
            "grid_template_columns": null,
            "grid_template_rows": null,
            "height": null,
            "justify_content": null,
            "justify_items": null,
            "left": null,
            "margin": null,
            "max_height": null,
            "max_width": null,
            "min_height": null,
            "min_width": null,
            "object_fit": null,
            "object_position": null,
            "order": null,
            "overflow": null,
            "overflow_x": null,
            "overflow_y": null,
            "padding": null,
            "right": null,
            "top": null,
            "visibility": null,
            "width": null
          }
        },
        "ca66672deab34897a54b67fb9fbd5672": {
          "model_module": "@jupyter-widgets/controls",
          "model_name": "DescriptionStyleModel",
          "model_module_version": "1.5.0",
          "state": {
            "_model_module": "@jupyter-widgets/controls",
            "_model_module_version": "1.5.0",
            "_model_name": "DescriptionStyleModel",
            "_view_count": null,
            "_view_module": "@jupyter-widgets/base",
            "_view_module_version": "1.2.0",
            "_view_name": "StyleView",
            "description_width": ""
          }
        },
        "a7bd711448b749efb11836660a8f1152": {
          "model_module": "@jupyter-widgets/base",
          "model_name": "LayoutModel",
          "model_module_version": "1.2.0",
          "state": {
            "_model_module": "@jupyter-widgets/base",
            "_model_module_version": "1.2.0",
            "_model_name": "LayoutModel",
            "_view_count": null,
            "_view_module": "@jupyter-widgets/base",
            "_view_module_version": "1.2.0",
            "_view_name": "LayoutView",
            "align_content": null,
            "align_items": null,
            "align_self": null,
            "border": null,
            "bottom": null,
            "display": null,
            "flex": null,
            "flex_flow": null,
            "grid_area": null,
            "grid_auto_columns": null,
            "grid_auto_flow": null,
            "grid_auto_rows": null,
            "grid_column": null,
            "grid_gap": null,
            "grid_row": null,
            "grid_template_areas": null,
            "grid_template_columns": null,
            "grid_template_rows": null,
            "height": null,
            "justify_content": null,
            "justify_items": null,
            "left": null,
            "margin": null,
            "max_height": null,
            "max_width": null,
            "min_height": null,
            "min_width": null,
            "object_fit": null,
            "object_position": null,
            "order": null,
            "overflow": null,
            "overflow_x": null,
            "overflow_y": null,
            "padding": null,
            "right": null,
            "top": null,
            "visibility": null,
            "width": null
          }
        },
        "9108c1ccaa074587ba04f24f0b7cf0a1": {
          "model_module": "@jupyter-widgets/controls",
          "model_name": "ProgressStyleModel",
          "model_module_version": "1.5.0",
          "state": {
            "_model_module": "@jupyter-widgets/controls",
            "_model_module_version": "1.5.0",
            "_model_name": "ProgressStyleModel",
            "_view_count": null,
            "_view_module": "@jupyter-widgets/base",
            "_view_module_version": "1.2.0",
            "_view_name": "StyleView",
            "bar_color": null,
            "description_width": ""
          }
        },
        "1c91f3fabb144ea2a7a22ea8cfe1b75d": {
          "model_module": "@jupyter-widgets/base",
          "model_name": "LayoutModel",
          "model_module_version": "1.2.0",
          "state": {
            "_model_module": "@jupyter-widgets/base",
            "_model_module_version": "1.2.0",
            "_model_name": "LayoutModel",
            "_view_count": null,
            "_view_module": "@jupyter-widgets/base",
            "_view_module_version": "1.2.0",
            "_view_name": "LayoutView",
            "align_content": null,
            "align_items": null,
            "align_self": null,
            "border": null,
            "bottom": null,
            "display": null,
            "flex": null,
            "flex_flow": null,
            "grid_area": null,
            "grid_auto_columns": null,
            "grid_auto_flow": null,
            "grid_auto_rows": null,
            "grid_column": null,
            "grid_gap": null,
            "grid_row": null,
            "grid_template_areas": null,
            "grid_template_columns": null,
            "grid_template_rows": null,
            "height": null,
            "justify_content": null,
            "justify_items": null,
            "left": null,
            "margin": null,
            "max_height": null,
            "max_width": null,
            "min_height": null,
            "min_width": null,
            "object_fit": null,
            "object_position": null,
            "order": null,
            "overflow": null,
            "overflow_x": null,
            "overflow_y": null,
            "padding": null,
            "right": null,
            "top": null,
            "visibility": null,
            "width": null
          }
        },
        "3a296bba2deb49f49504ffba9db3a2ed": {
          "model_module": "@jupyter-widgets/controls",
          "model_name": "DescriptionStyleModel",
          "model_module_version": "1.5.0",
          "state": {
            "_model_module": "@jupyter-widgets/controls",
            "_model_module_version": "1.5.0",
            "_model_name": "DescriptionStyleModel",
            "_view_count": null,
            "_view_module": "@jupyter-widgets/base",
            "_view_module_version": "1.2.0",
            "_view_name": "StyleView",
            "description_width": ""
          }
        },
        "261aff0d8d174d6386b1de46825a0bb0": {
          "model_module": "@jupyter-widgets/controls",
          "model_name": "HBoxModel",
          "model_module_version": "1.5.0",
          "state": {
            "_dom_classes": [],
            "_model_module": "@jupyter-widgets/controls",
            "_model_module_version": "1.5.0",
            "_model_name": "HBoxModel",
            "_view_count": null,
            "_view_module": "@jupyter-widgets/controls",
            "_view_module_version": "1.5.0",
            "_view_name": "HBoxView",
            "box_style": "",
            "children": [
              "IPY_MODEL_0f092a68dfa94eb2b30e4d1bf814c229",
              "IPY_MODEL_88c7dacb728d4f848708fc975f471bb7",
              "IPY_MODEL_d3426f704013472db09fa9c15baeaed5"
            ],
            "layout": "IPY_MODEL_9f3c4ac03ca5427995b867f4d250df78"
          }
        },
        "0f092a68dfa94eb2b30e4d1bf814c229": {
          "model_module": "@jupyter-widgets/controls",
          "model_name": "HTMLModel",
          "model_module_version": "1.5.0",
          "state": {
            "_dom_classes": [],
            "_model_module": "@jupyter-widgets/controls",
            "_model_module_version": "1.5.0",
            "_model_name": "HTMLModel",
            "_view_count": null,
            "_view_module": "@jupyter-widgets/controls",
            "_view_module_version": "1.5.0",
            "_view_name": "HTMLView",
            "description": "",
            "description_tooltip": null,
            "layout": "IPY_MODEL_4343e964cd444b83bff61128270b16ce",
            "placeholder": "​",
            "style": "IPY_MODEL_8d6961a62aec4e3aae1746718d53432b",
            "value": "100%"
          }
        },
        "88c7dacb728d4f848708fc975f471bb7": {
          "model_module": "@jupyter-widgets/controls",
          "model_name": "FloatProgressModel",
          "model_module_version": "1.5.0",
          "state": {
            "_dom_classes": [],
            "_model_module": "@jupyter-widgets/controls",
            "_model_module_version": "1.5.0",
            "_model_name": "FloatProgressModel",
            "_view_count": null,
            "_view_module": "@jupyter-widgets/controls",
            "_view_module_version": "1.5.0",
            "_view_name": "ProgressView",
            "bar_style": "success",
            "description": "",
            "description_tooltip": null,
            "layout": "IPY_MODEL_9369bd8090cb4f9e9f60705ca93069da",
            "max": 14,
            "min": 0,
            "orientation": "horizontal",
            "style": "IPY_MODEL_42be39d2e4cb493eb2448d1b46dcba12",
            "value": 14
          }
        },
        "d3426f704013472db09fa9c15baeaed5": {
          "model_module": "@jupyter-widgets/controls",
          "model_name": "HTMLModel",
          "model_module_version": "1.5.0",
          "state": {
            "_dom_classes": [],
            "_model_module": "@jupyter-widgets/controls",
            "_model_module_version": "1.5.0",
            "_model_name": "HTMLModel",
            "_view_count": null,
            "_view_module": "@jupyter-widgets/controls",
            "_view_module_version": "1.5.0",
            "_view_name": "HTMLView",
            "description": "",
            "description_tooltip": null,
            "layout": "IPY_MODEL_d415d220dcb64448bc59a9107b2f3a67",
            "placeholder": "​",
            "style": "IPY_MODEL_db58cbb5f11a4a51a57f68f9a4ea6b1a",
            "value": " 14/14 [00:01&lt;00:00, 11.33ba/s]"
          }
        },
        "9f3c4ac03ca5427995b867f4d250df78": {
          "model_module": "@jupyter-widgets/base",
          "model_name": "LayoutModel",
          "model_module_version": "1.2.0",
          "state": {
            "_model_module": "@jupyter-widgets/base",
            "_model_module_version": "1.2.0",
            "_model_name": "LayoutModel",
            "_view_count": null,
            "_view_module": "@jupyter-widgets/base",
            "_view_module_version": "1.2.0",
            "_view_name": "LayoutView",
            "align_content": null,
            "align_items": null,
            "align_self": null,
            "border": null,
            "bottom": null,
            "display": null,
            "flex": null,
            "flex_flow": null,
            "grid_area": null,
            "grid_auto_columns": null,
            "grid_auto_flow": null,
            "grid_auto_rows": null,
            "grid_column": null,
            "grid_gap": null,
            "grid_row": null,
            "grid_template_areas": null,
            "grid_template_columns": null,
            "grid_template_rows": null,
            "height": null,
            "justify_content": null,
            "justify_items": null,
            "left": null,
            "margin": null,
            "max_height": null,
            "max_width": null,
            "min_height": null,
            "min_width": null,
            "object_fit": null,
            "object_position": null,
            "order": null,
            "overflow": null,
            "overflow_x": null,
            "overflow_y": null,
            "padding": null,
            "right": null,
            "top": null,
            "visibility": null,
            "width": null
          }
        },
        "4343e964cd444b83bff61128270b16ce": {
          "model_module": "@jupyter-widgets/base",
          "model_name": "LayoutModel",
          "model_module_version": "1.2.0",
          "state": {
            "_model_module": "@jupyter-widgets/base",
            "_model_module_version": "1.2.0",
            "_model_name": "LayoutModel",
            "_view_count": null,
            "_view_module": "@jupyter-widgets/base",
            "_view_module_version": "1.2.0",
            "_view_name": "LayoutView",
            "align_content": null,
            "align_items": null,
            "align_self": null,
            "border": null,
            "bottom": null,
            "display": null,
            "flex": null,
            "flex_flow": null,
            "grid_area": null,
            "grid_auto_columns": null,
            "grid_auto_flow": null,
            "grid_auto_rows": null,
            "grid_column": null,
            "grid_gap": null,
            "grid_row": null,
            "grid_template_areas": null,
            "grid_template_columns": null,
            "grid_template_rows": null,
            "height": null,
            "justify_content": null,
            "justify_items": null,
            "left": null,
            "margin": null,
            "max_height": null,
            "max_width": null,
            "min_height": null,
            "min_width": null,
            "object_fit": null,
            "object_position": null,
            "order": null,
            "overflow": null,
            "overflow_x": null,
            "overflow_y": null,
            "padding": null,
            "right": null,
            "top": null,
            "visibility": null,
            "width": null
          }
        },
        "8d6961a62aec4e3aae1746718d53432b": {
          "model_module": "@jupyter-widgets/controls",
          "model_name": "DescriptionStyleModel",
          "model_module_version": "1.5.0",
          "state": {
            "_model_module": "@jupyter-widgets/controls",
            "_model_module_version": "1.5.0",
            "_model_name": "DescriptionStyleModel",
            "_view_count": null,
            "_view_module": "@jupyter-widgets/base",
            "_view_module_version": "1.2.0",
            "_view_name": "StyleView",
            "description_width": ""
          }
        },
        "9369bd8090cb4f9e9f60705ca93069da": {
          "model_module": "@jupyter-widgets/base",
          "model_name": "LayoutModel",
          "model_module_version": "1.2.0",
          "state": {
            "_model_module": "@jupyter-widgets/base",
            "_model_module_version": "1.2.0",
            "_model_name": "LayoutModel",
            "_view_count": null,
            "_view_module": "@jupyter-widgets/base",
            "_view_module_version": "1.2.0",
            "_view_name": "LayoutView",
            "align_content": null,
            "align_items": null,
            "align_self": null,
            "border": null,
            "bottom": null,
            "display": null,
            "flex": null,
            "flex_flow": null,
            "grid_area": null,
            "grid_auto_columns": null,
            "grid_auto_flow": null,
            "grid_auto_rows": null,
            "grid_column": null,
            "grid_gap": null,
            "grid_row": null,
            "grid_template_areas": null,
            "grid_template_columns": null,
            "grid_template_rows": null,
            "height": null,
            "justify_content": null,
            "justify_items": null,
            "left": null,
            "margin": null,
            "max_height": null,
            "max_width": null,
            "min_height": null,
            "min_width": null,
            "object_fit": null,
            "object_position": null,
            "order": null,
            "overflow": null,
            "overflow_x": null,
            "overflow_y": null,
            "padding": null,
            "right": null,
            "top": null,
            "visibility": null,
            "width": null
          }
        },
        "42be39d2e4cb493eb2448d1b46dcba12": {
          "model_module": "@jupyter-widgets/controls",
          "model_name": "ProgressStyleModel",
          "model_module_version": "1.5.0",
          "state": {
            "_model_module": "@jupyter-widgets/controls",
            "_model_module_version": "1.5.0",
            "_model_name": "ProgressStyleModel",
            "_view_count": null,
            "_view_module": "@jupyter-widgets/base",
            "_view_module_version": "1.2.0",
            "_view_name": "StyleView",
            "bar_color": null,
            "description_width": ""
          }
        },
        "d415d220dcb64448bc59a9107b2f3a67": {
          "model_module": "@jupyter-widgets/base",
          "model_name": "LayoutModel",
          "model_module_version": "1.2.0",
          "state": {
            "_model_module": "@jupyter-widgets/base",
            "_model_module_version": "1.2.0",
            "_model_name": "LayoutModel",
            "_view_count": null,
            "_view_module": "@jupyter-widgets/base",
            "_view_module_version": "1.2.0",
            "_view_name": "LayoutView",
            "align_content": null,
            "align_items": null,
            "align_self": null,
            "border": null,
            "bottom": null,
            "display": null,
            "flex": null,
            "flex_flow": null,
            "grid_area": null,
            "grid_auto_columns": null,
            "grid_auto_flow": null,
            "grid_auto_rows": null,
            "grid_column": null,
            "grid_gap": null,
            "grid_row": null,
            "grid_template_areas": null,
            "grid_template_columns": null,
            "grid_template_rows": null,
            "height": null,
            "justify_content": null,
            "justify_items": null,
            "left": null,
            "margin": null,
            "max_height": null,
            "max_width": null,
            "min_height": null,
            "min_width": null,
            "object_fit": null,
            "object_position": null,
            "order": null,
            "overflow": null,
            "overflow_x": null,
            "overflow_y": null,
            "padding": null,
            "right": null,
            "top": null,
            "visibility": null,
            "width": null
          }
        },
        "db58cbb5f11a4a51a57f68f9a4ea6b1a": {
          "model_module": "@jupyter-widgets/controls",
          "model_name": "DescriptionStyleModel",
          "model_module_version": "1.5.0",
          "state": {
            "_model_module": "@jupyter-widgets/controls",
            "_model_module_version": "1.5.0",
            "_model_name": "DescriptionStyleModel",
            "_view_count": null,
            "_view_module": "@jupyter-widgets/base",
            "_view_module_version": "1.2.0",
            "_view_name": "StyleView",
            "description_width": ""
          }
        },
        "abd3a516e4b543ff8de7f31eef219b8e": {
          "model_module": "@jupyter-widgets/controls",
          "model_name": "HBoxModel",
          "model_module_version": "1.5.0",
          "state": {
            "_dom_classes": [],
            "_model_module": "@jupyter-widgets/controls",
            "_model_module_version": "1.5.0",
            "_model_name": "HBoxModel",
            "_view_count": null,
            "_view_module": "@jupyter-widgets/controls",
            "_view_module_version": "1.5.0",
            "_view_name": "HBoxView",
            "box_style": "",
            "children": [
              "IPY_MODEL_e7b2d6cd39a14d0aa8371e017054e48c",
              "IPY_MODEL_28c4b8b3b0d342c2b983a3671c124d43",
              "IPY_MODEL_3021d43d5af645d888db73def7ef2728"
            ],
            "layout": "IPY_MODEL_e597770645714393af54760c615a1448"
          }
        },
        "e7b2d6cd39a14d0aa8371e017054e48c": {
          "model_module": "@jupyter-widgets/controls",
          "model_name": "HTMLModel",
          "model_module_version": "1.5.0",
          "state": {
            "_dom_classes": [],
            "_model_module": "@jupyter-widgets/controls",
            "_model_module_version": "1.5.0",
            "_model_name": "HTMLModel",
            "_view_count": null,
            "_view_module": "@jupyter-widgets/controls",
            "_view_module_version": "1.5.0",
            "_view_name": "HTMLView",
            "description": "",
            "description_tooltip": null,
            "layout": "IPY_MODEL_b47e6582448f43bf984588bcf24f3ee5",
            "placeholder": "​",
            "style": "IPY_MODEL_412e0e4effa042959602c788c7dcea9b",
            "value": "100%"
          }
        },
        "28c4b8b3b0d342c2b983a3671c124d43": {
          "model_module": "@jupyter-widgets/controls",
          "model_name": "FloatProgressModel",
          "model_module_version": "1.5.0",
          "state": {
            "_dom_classes": [],
            "_model_module": "@jupyter-widgets/controls",
            "_model_module_version": "1.5.0",
            "_model_name": "FloatProgressModel",
            "_view_count": null,
            "_view_module": "@jupyter-widgets/controls",
            "_view_module_version": "1.5.0",
            "_view_name": "ProgressView",
            "bar_style": "success",
            "description": "",
            "description_tooltip": null,
            "layout": "IPY_MODEL_a9f98f2e4f4f45d2892f9d0601396fcd",
            "max": 14,
            "min": 0,
            "orientation": "horizontal",
            "style": "IPY_MODEL_921a8fc52e0f4d1692e918bcab44ea19",
            "value": 14
          }
        },
        "3021d43d5af645d888db73def7ef2728": {
          "model_module": "@jupyter-widgets/controls",
          "model_name": "HTMLModel",
          "model_module_version": "1.5.0",
          "state": {
            "_dom_classes": [],
            "_model_module": "@jupyter-widgets/controls",
            "_model_module_version": "1.5.0",
            "_model_name": "HTMLModel",
            "_view_count": null,
            "_view_module": "@jupyter-widgets/controls",
            "_view_module_version": "1.5.0",
            "_view_name": "HTMLView",
            "description": "",
            "description_tooltip": null,
            "layout": "IPY_MODEL_1ff8c1af62754911a940199980f5196f",
            "placeholder": "​",
            "style": "IPY_MODEL_cfdecdd7320d4f07a3abfd01ffdee382",
            "value": " 14/14 [00:01&lt;00:00,  8.88ba/s]"
          }
        },
        "e597770645714393af54760c615a1448": {
          "model_module": "@jupyter-widgets/base",
          "model_name": "LayoutModel",
          "model_module_version": "1.2.0",
          "state": {
            "_model_module": "@jupyter-widgets/base",
            "_model_module_version": "1.2.0",
            "_model_name": "LayoutModel",
            "_view_count": null,
            "_view_module": "@jupyter-widgets/base",
            "_view_module_version": "1.2.0",
            "_view_name": "LayoutView",
            "align_content": null,
            "align_items": null,
            "align_self": null,
            "border": null,
            "bottom": null,
            "display": null,
            "flex": null,
            "flex_flow": null,
            "grid_area": null,
            "grid_auto_columns": null,
            "grid_auto_flow": null,
            "grid_auto_rows": null,
            "grid_column": null,
            "grid_gap": null,
            "grid_row": null,
            "grid_template_areas": null,
            "grid_template_columns": null,
            "grid_template_rows": null,
            "height": null,
            "justify_content": null,
            "justify_items": null,
            "left": null,
            "margin": null,
            "max_height": null,
            "max_width": null,
            "min_height": null,
            "min_width": null,
            "object_fit": null,
            "object_position": null,
            "order": null,
            "overflow": null,
            "overflow_x": null,
            "overflow_y": null,
            "padding": null,
            "right": null,
            "top": null,
            "visibility": null,
            "width": null
          }
        },
        "b47e6582448f43bf984588bcf24f3ee5": {
          "model_module": "@jupyter-widgets/base",
          "model_name": "LayoutModel",
          "model_module_version": "1.2.0",
          "state": {
            "_model_module": "@jupyter-widgets/base",
            "_model_module_version": "1.2.0",
            "_model_name": "LayoutModel",
            "_view_count": null,
            "_view_module": "@jupyter-widgets/base",
            "_view_module_version": "1.2.0",
            "_view_name": "LayoutView",
            "align_content": null,
            "align_items": null,
            "align_self": null,
            "border": null,
            "bottom": null,
            "display": null,
            "flex": null,
            "flex_flow": null,
            "grid_area": null,
            "grid_auto_columns": null,
            "grid_auto_flow": null,
            "grid_auto_rows": null,
            "grid_column": null,
            "grid_gap": null,
            "grid_row": null,
            "grid_template_areas": null,
            "grid_template_columns": null,
            "grid_template_rows": null,
            "height": null,
            "justify_content": null,
            "justify_items": null,
            "left": null,
            "margin": null,
            "max_height": null,
            "max_width": null,
            "min_height": null,
            "min_width": null,
            "object_fit": null,
            "object_position": null,
            "order": null,
            "overflow": null,
            "overflow_x": null,
            "overflow_y": null,
            "padding": null,
            "right": null,
            "top": null,
            "visibility": null,
            "width": null
          }
        },
        "412e0e4effa042959602c788c7dcea9b": {
          "model_module": "@jupyter-widgets/controls",
          "model_name": "DescriptionStyleModel",
          "model_module_version": "1.5.0",
          "state": {
            "_model_module": "@jupyter-widgets/controls",
            "_model_module_version": "1.5.0",
            "_model_name": "DescriptionStyleModel",
            "_view_count": null,
            "_view_module": "@jupyter-widgets/base",
            "_view_module_version": "1.2.0",
            "_view_name": "StyleView",
            "description_width": ""
          }
        },
        "a9f98f2e4f4f45d2892f9d0601396fcd": {
          "model_module": "@jupyter-widgets/base",
          "model_name": "LayoutModel",
          "model_module_version": "1.2.0",
          "state": {
            "_model_module": "@jupyter-widgets/base",
            "_model_module_version": "1.2.0",
            "_model_name": "LayoutModel",
            "_view_count": null,
            "_view_module": "@jupyter-widgets/base",
            "_view_module_version": "1.2.0",
            "_view_name": "LayoutView",
            "align_content": null,
            "align_items": null,
            "align_self": null,
            "border": null,
            "bottom": null,
            "display": null,
            "flex": null,
            "flex_flow": null,
            "grid_area": null,
            "grid_auto_columns": null,
            "grid_auto_flow": null,
            "grid_auto_rows": null,
            "grid_column": null,
            "grid_gap": null,
            "grid_row": null,
            "grid_template_areas": null,
            "grid_template_columns": null,
            "grid_template_rows": null,
            "height": null,
            "justify_content": null,
            "justify_items": null,
            "left": null,
            "margin": null,
            "max_height": null,
            "max_width": null,
            "min_height": null,
            "min_width": null,
            "object_fit": null,
            "object_position": null,
            "order": null,
            "overflow": null,
            "overflow_x": null,
            "overflow_y": null,
            "padding": null,
            "right": null,
            "top": null,
            "visibility": null,
            "width": null
          }
        },
        "921a8fc52e0f4d1692e918bcab44ea19": {
          "model_module": "@jupyter-widgets/controls",
          "model_name": "ProgressStyleModel",
          "model_module_version": "1.5.0",
          "state": {
            "_model_module": "@jupyter-widgets/controls",
            "_model_module_version": "1.5.0",
            "_model_name": "ProgressStyleModel",
            "_view_count": null,
            "_view_module": "@jupyter-widgets/base",
            "_view_module_version": "1.2.0",
            "_view_name": "StyleView",
            "bar_color": null,
            "description_width": ""
          }
        },
        "1ff8c1af62754911a940199980f5196f": {
          "model_module": "@jupyter-widgets/base",
          "model_name": "LayoutModel",
          "model_module_version": "1.2.0",
          "state": {
            "_model_module": "@jupyter-widgets/base",
            "_model_module_version": "1.2.0",
            "_model_name": "LayoutModel",
            "_view_count": null,
            "_view_module": "@jupyter-widgets/base",
            "_view_module_version": "1.2.0",
            "_view_name": "LayoutView",
            "align_content": null,
            "align_items": null,
            "align_self": null,
            "border": null,
            "bottom": null,
            "display": null,
            "flex": null,
            "flex_flow": null,
            "grid_area": null,
            "grid_auto_columns": null,
            "grid_auto_flow": null,
            "grid_auto_rows": null,
            "grid_column": null,
            "grid_gap": null,
            "grid_row": null,
            "grid_template_areas": null,
            "grid_template_columns": null,
            "grid_template_rows": null,
            "height": null,
            "justify_content": null,
            "justify_items": null,
            "left": null,
            "margin": null,
            "max_height": null,
            "max_width": null,
            "min_height": null,
            "min_width": null,
            "object_fit": null,
            "object_position": null,
            "order": null,
            "overflow": null,
            "overflow_x": null,
            "overflow_y": null,
            "padding": null,
            "right": null,
            "top": null,
            "visibility": null,
            "width": null
          }
        },
        "cfdecdd7320d4f07a3abfd01ffdee382": {
          "model_module": "@jupyter-widgets/controls",
          "model_name": "DescriptionStyleModel",
          "model_module_version": "1.5.0",
          "state": {
            "_model_module": "@jupyter-widgets/controls",
            "_model_module_version": "1.5.0",
            "_model_name": "DescriptionStyleModel",
            "_view_count": null,
            "_view_module": "@jupyter-widgets/base",
            "_view_module_version": "1.2.0",
            "_view_name": "StyleView",
            "description_width": ""
          }
        }
      }
    },
    "accelerator": "GPU"
  },
  "nbformat": 4,
  "nbformat_minor": 0
}