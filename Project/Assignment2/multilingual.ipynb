{
  "cells": [
    {
      "cell_type": "code",
      "source": [
        "!pip install pandas\n",
        "!pip install datasets\n",
        "!pip install transformers\n",
        "!pip install torch torchvision torchaudio --extra-index-url https://download.pytorch.org/whl/cu113"
      ],
      "metadata": {
        "id": "DqvXISYRVQ6p"
      },
      "execution_count": null,
      "outputs": []
    },
    {
      "cell_type": "markdown",
      "metadata": {
        "id": "W6yUirr1T4D5"
      },
      "source": [
        "## Preparing our Data"
      ]
    },
    {
      "cell_type": "markdown",
      "source": [
        "### Loading dataset"
      ],
      "metadata": {
        "id": "rVlZFvo2ExgO"
      }
    },
    {
      "cell_type": "code",
      "source": [
        "from google.colab import drive\n",
        "drive.mount('/content/drive')"
      ],
      "metadata": {
        "id": "rkVfoo4bnCiR",
        "colab": {
          "base_uri": "https://localhost:8080/"
        },
        "outputId": "b8e9c3e8-573e-48c9-f112-64cea6e4cab2"
      },
      "execution_count": 2,
      "outputs": [
        {
          "output_type": "stream",
          "name": "stdout",
          "text": [
            "Mounted at /content/drive\n"
          ]
        }
      ]
    },
    {
      "cell_type": "markdown",
      "source": [
        "Load previously split dataset"
      ],
      "metadata": {
        "id": "HwHldBkJZJUK"
      }
    },
    {
      "cell_type": "code",
      "source": [
        "import pandas as pd\n",
        "\n",
        "def load_process_data(filename):\n",
        "  dataset = pd.read_excel(filename)\n",
        "  dataset = dataset.drop(columns=['article_id', 'annotator', 'node','ranges'])\n",
        "  dataset.replace(['Value', 'Value(+)', 'Value(-)', 'Fact', 'Policy'],[0,1,2,3,4], inplace=True)\n",
        "\n",
        "  return dataset"
      ],
      "metadata": {
        "id": "vVpCpzK5ZQT8"
      },
      "execution_count": 3,
      "outputs": []
    },
    {
      "cell_type": "code",
      "execution_count": 4,
      "metadata": {
        "id": "EwL0UYu3T4D6",
        "colab": {
          "base_uri": "https://localhost:8080/"
        },
        "outputId": "50464782-5385-4f0f-fd72-4fc71f88cd2b"
      },
      "outputs": [
        {
          "output_type": "stream",
          "name": "stdout",
          "text": [
            "<class 'pandas.core.frame.DataFrame'>\n",
            "RangeIndex: 13394 entries, 0 to 13393\n",
            "Data columns (total 2 columns):\n",
            " #   Column  Non-Null Count  Dtype \n",
            "---  ------  --------------  ----- \n",
            " 0   tokens  13394 non-null  object\n",
            " 1   label   13394 non-null  int64 \n",
            "dtypes: int64(1), object(1)\n",
            "memory usage: 209.4+ KB\n",
            "None\n",
            "<class 'pandas.core.frame.DataFrame'>\n",
            "RangeIndex: 3349 entries, 0 to 3348\n",
            "Data columns (total 2 columns):\n",
            " #   Column  Non-Null Count  Dtype \n",
            "---  ------  --------------  ----- \n",
            " 0   tokens  3349 non-null   object\n",
            " 1   label   3349 non-null   int64 \n",
            "dtypes: int64(1), object(1)\n",
            "memory usage: 52.5+ KB\n",
            "None\n"
          ]
        }
      ],
      "source": [
        "# 80% train\n",
        "train_set = load_process_data('/content/drive/Shareddrives/PLN/Assignment 2/data/OpArticles_ADUs_train.xlsx')\n",
        "\n",
        "# 20% test\n",
        "test_set = load_process_data('/content/drive/Shareddrives/PLN/Assignment 2/data/OpArticles_ADUs_test.xlsx')\n",
        "\n",
        "print(train_set.info())\n",
        "print(test_set.info())"
      ]
    },
    {
      "cell_type": "markdown",
      "source": [
        "Load translated train sets"
      ],
      "metadata": {
        "id": "ANSCukLbZzXs"
      }
    },
    {
      "cell_type": "code",
      "source": [
        "train_en = load_process_data('/content/drive/Shareddrives/PLN/Assignment 2/data/multilingual/OpArticles_ADUs_train_en.xlsx')\n",
        "train_es = load_process_data('/content/drive/Shareddrives/PLN/Assignment 2/data/multilingual/OpArticles_ADUs_train_es.xlsx')\n",
        "train_ga = load_process_data('/content/drive/Shareddrives/PLN/Assignment 2/data/multilingual/OpArticles_ADUs_train_ga.xlsx')\n",
        "train_fr = load_process_data('/content/drive/Shareddrives/PLN/Assignment 2/data/multilingual/OpArticles_ADUs_train_fr.xlsx')\n",
        "train_it = load_process_data('/content/drive/Shareddrives/PLN/Assignment 2/data/multilingual/OpArticles_ADUs_train_it.xlsx')\n",
        "train_ro = load_process_data('/content/drive/Shareddrives/PLN/Assignment 2/data/multilingual/OpArticles_ADUs_train_ro.xlsx')\n",
        "\n",
        "train_en.info()"
      ],
      "metadata": {
        "colab": {
          "base_uri": "https://localhost:8080/"
        },
        "id": "0IDxc99zZzAP",
        "outputId": "1233e475-aead-4057-a844-7574b70e667f"
      },
      "execution_count": 5,
      "outputs": [
        {
          "output_type": "stream",
          "name": "stdout",
          "text": [
            "<class 'pandas.core.frame.DataFrame'>\n",
            "RangeIndex: 13394 entries, 0 to 13393\n",
            "Data columns (total 2 columns):\n",
            " #   Column  Non-Null Count  Dtype \n",
            "---  ------  --------------  ----- \n",
            " 0   tokens  13394 non-null  object\n",
            " 1   label   13394 non-null  int64 \n",
            "dtypes: int64(1), object(1)\n",
            "memory usage: 209.4+ KB\n"
          ]
        }
      ]
    },
    {
      "cell_type": "markdown",
      "metadata": {
        "id": "UX0JQf3zT4D7"
      },
      "source": [
        "For ease of usage with Transformer models, we convert the dataset into a Hugging Face dataset and split it into train, validation and test sets."
      ]
    },
    {
      "cell_type": "code",
      "execution_count": 25,
      "metadata": {
        "id": "SBuO31lRT4D8",
        "colab": {
          "base_uri": "https://localhost:8080/"
        },
        "outputId": "ff9d139c-9f72-4dc8-84f0-29b25bca2f94"
      },
      "outputs": [
        {
          "output_type": "execute_result",
          "data": {
            "text/plain": [
              "DatasetDict({\n",
              "    train_pt: Dataset({\n",
              "        features: ['tokens', 'label'],\n",
              "        num_rows: 13394\n",
              "    })\n",
              "    validation: Dataset({\n",
              "        features: ['tokens', 'label'],\n",
              "        num_rows: 1674\n",
              "    })\n",
              "    test: Dataset({\n",
              "        features: ['tokens', 'label'],\n",
              "        num_rows: 1675\n",
              "    })\n",
              "    train_en: Dataset({\n",
              "        features: ['tokens', 'label'],\n",
              "        num_rows: 13394\n",
              "    })\n",
              "    train_es: Dataset({\n",
              "        features: ['tokens', 'label'],\n",
              "        num_rows: 13394\n",
              "    })\n",
              "    train_ga: Dataset({\n",
              "        features: ['tokens', 'label'],\n",
              "        num_rows: 13394\n",
              "    })\n",
              "    train_fr: Dataset({\n",
              "        features: ['tokens', 'label'],\n",
              "        num_rows: 13394\n",
              "    })\n",
              "    train_it: Dataset({\n",
              "        features: ['tokens', 'label'],\n",
              "        num_rows: 13394\n",
              "    })\n",
              "    train_ro: Dataset({\n",
              "        features: ['tokens', 'label'],\n",
              "        num_rows: 13394\n",
              "    })\n",
              "})"
            ]
          },
          "metadata": {},
          "execution_count": 25
        }
      ],
      "source": [
        "from datasets import Dataset\n",
        "from datasets import DatasetDict\n",
        "\n",
        "train_hf = Dataset.from_pandas(train_set)\n",
        "test_hf = Dataset.from_pandas(test_set)\n",
        "\n",
        "train_en_hf = Dataset.from_pandas(train_en)\n",
        "train_es_hf = Dataset.from_pandas(train_es)\n",
        "train_ga_hf = Dataset.from_pandas(train_ga)\n",
        "train_fr_hf = Dataset.from_pandas(train_fr)\n",
        "train_it_hf = Dataset.from_pandas(train_it)\n",
        "train_ro_hf = Dataset.from_pandas(train_ro)\n",
        "\n",
        "# Split 10% valid / 10% test\n",
        "valid_test = test_hf.train_test_split(test_size=0.5, shuffle=True, seed=42)\n",
        "\n",
        "train_valid_test_dataset = DatasetDict({\n",
        "    'train_pt': train_hf,\n",
        "    'validation': valid_test['train'],\n",
        "    'test': valid_test['test'],\n",
        "    'train_en': train_en_hf,\n",
        "    'train_es': train_es_hf,\n",
        "    'train_ga': train_ga_hf,\n",
        "    'train_fr': train_fr_hf,\n",
        "    'train_it': train_it_hf,\n",
        "    'train_ro': train_ro_hf\n",
        "})\n",
        "\n",
        "train_valid_test_dataset"
      ]
    },
    {
      "cell_type": "markdown",
      "metadata": {
        "id": "zyUwAwWaT4D-"
      },
      "source": [
        "## Fine-tuning a pretrained model"
      ]
    },
    {
      "cell_type": "markdown",
      "metadata": {
        "id": "zA2HzqzVT4EB"
      },
      "source": [
        "### Tokenizer\n",
        "\n",
        "We first load the tokenizer for our model:"
      ]
    },
    {
      "cell_type": "code",
      "execution_count": 7,
      "metadata": {
        "scrolled": true,
        "id": "4KTZJol_T4EB"
      },
      "outputs": [],
      "source": [
        "from transformers import AutoTokenizer\n",
        "\n",
        "def get_tokenizer(name):\n",
        "    return AutoTokenizer.from_pretrained(name)"
      ]
    },
    {
      "cell_type": "markdown",
      "metadata": {
        "id": "KwU7Axm2T4EC"
      },
      "source": [
        "Now we need to [preprocess](https://huggingface.co/docs/transformers/preprocessing) our data."
      ]
    },
    {
      "cell_type": "markdown",
      "source": [
        "Obtaining the length of the longest sequences in our data splits"
      ],
      "metadata": {
        "id": "suYlKXcDKr_N"
      }
    },
    {
      "cell_type": "code",
      "source": [
        "def find_max_length(dataset):\n",
        "    return len(max(dataset, key=lambda x: len(x.split())).split())\n",
        "\n",
        "find_max_length(train_en_hf[\"tokens\"])"
      ],
      "metadata": {
        "id": "TfK7ITi9K5S-",
        "colab": {
          "base_uri": "https://localhost:8080/"
        },
        "outputId": "51484d41-ecff-4796-9858-aedd679eea13"
      },
      "execution_count": 8,
      "outputs": [
        {
          "output_type": "execute_result",
          "data": {
            "text/plain": [
              "86"
            ]
          },
          "metadata": {},
          "execution_count": 8
        }
      ]
    },
    {
      "cell_type": "markdown",
      "source": [
        "Tokenize entire dataset"
      ],
      "metadata": {
        "id": "30L93IpONTNS"
      }
    },
    {
      "cell_type": "code",
      "execution_count": 9,
      "metadata": {
        "id": "dbtKsaV8T4ED"
      },
      "outputs": [],
      "source": [
        "# Define tokenizer later\n",
        "tokenizer = None\n",
        "\n",
        "def tokenize_dataset(sample):\n",
        "    return tokenizer(sample[\"tokens\"], truncation=True, max_length=86, padding=\"max_length\")\n",
        "\n",
        "def get_tokenized_data(dataset):\n",
        "    return dataset.map(tokenize_dataset, batched=True)"
      ]
    },
    {
      "cell_type": "markdown",
      "metadata": {
        "id": "wVhiKvsET4EG"
      },
      "source": [
        "### Loading the model"
      ]
    },
    {
      "cell_type": "markdown",
      "metadata": {
        "id": "SptaytWjT4EG"
      },
      "source": [
        "Since we want to use the model for classification, we should load it with an appropriate classification head:"
      ]
    },
    {
      "cell_type": "code",
      "execution_count": 10,
      "metadata": {
        "id": "aTRvqR7TT4EH"
      },
      "outputs": [],
      "source": [
        "from transformers import AutoModelForSequenceClassification\n",
        "import torch\n",
        "\n",
        "def get_model(name):\n",
        "    model = AutoModelForSequenceClassification.from_pretrained(name, num_labels=5)\n",
        "    model.cuda() # Use GPU\n",
        "\n",
        "    return model"
      ]
    },
    {
      "cell_type": "markdown",
      "metadata": {
        "id": "KG5h2J_FT4EI"
      },
      "source": [
        "### Fine-tuning\n",
        "\n",
        "The next step is to [fine-tune](https://huggingface.co/docs/transformers/training) the model with our train data. To do so, we can make use of a [Trainer](https://huggingface.co/docs/transformers/main_classes/trainer).\n",
        "There are several aspects of training that you can specify via [TrainingArguments](https://huggingface.co/docs/transformers/main_classes/trainer#transformers.TrainingArguments)."
      ]
    },
    {
      "cell_type": "code",
      "execution_count": 11,
      "metadata": {
        "id": "JKPJ6Jr2T4EI"
      },
      "outputs": [],
      "source": [
        "from transformers import TrainingArguments, Trainer\n",
        "from sklearn.metrics import precision_recall_fscore_support, accuracy_score\n",
        "import numpy as np\n",
        "\n",
        "def compute_metrics(pred):\n",
        "    labels = pred.label_ids\n",
        "    preds = pred.predictions.argmax(-1)\n",
        "    precision, recall, f1, _ = precision_recall_fscore_support(labels, preds, average='macro')\n",
        "    acc = accuracy_score(labels, preds)\n",
        "    return {\n",
        "        'accuracy': acc,\n",
        "        'f1': f1,\n",
        "        'precision': precision,\n",
        "        'recall': recall\n",
        "    }\n",
        "\n",
        "def get_trainingArgs():\n",
        "    return TrainingArguments(\n",
        "        output_dir=\"./results\",\n",
        "        learning_rate=2e-5,\n",
        "        per_device_train_batch_size=16,\n",
        "        per_device_eval_batch_size=16,\n",
        "        num_train_epochs=3  ,\n",
        "        weight_decay=0.01,\n",
        "        data_seed=42,\n",
        "        evaluation_strategy=\"epoch\",\n",
        "        save_strategy=\"epoch\",\n",
        "        load_best_model_at_end=True,\n",
        "        metric_for_best_model=\"f1\"\n",
        "    )\n",
        "\n",
        "def get_trainer(model_, args_, train_dataset_, eval_dataset_, tokenizer_, data_collator_, compute_metrics_):\n",
        "    return Trainer(\n",
        "        model=model_,\n",
        "        args=args_,\n",
        "        train_dataset=train_dataset_,\n",
        "        eval_dataset=eval_dataset_,\n",
        "        tokenizer=tokenizer_,\n",
        "        data_collator=data_collator_,\n",
        "        compute_metrics=compute_metrics_\n",
        "    )"
      ]
    },
    {
      "cell_type": "markdown",
      "source": [
        "### Train, evaluate, predict, save with Zero-shot"
      ],
      "metadata": {
        "id": "kRKdbaeKPBmH"
      }
    },
    {
      "cell_type": "code",
      "source": [
        "from transformers import DataCollatorWithPadding\n",
        "from IPython.display import display\n",
        "\n",
        "model_name = \"bert-base-multilingual-cased\"\n",
        "\n",
        "tokenizer = get_tokenizer(model_name)\n",
        "tokenized_dataset = get_tokenized_data(train_valid_test_dataset)\n",
        "model = get_model(model_name)\n",
        "\n",
        "def zero_shot(lang):\n",
        "  trainer = get_trainer(\n",
        "    model,\n",
        "    get_trainingArgs(),\n",
        "    tokenized_dataset['train_'+lang],\n",
        "    tokenized_dataset['validation'],\n",
        "    tokenizer,\n",
        "    DataCollatorWithPadding(tokenizer=tokenizer),\n",
        "    compute_metrics\n",
        "    )\n",
        "  \n",
        "  # Train Model\n",
        "  display(trainer.train())\n",
        "\n",
        "  # Check performance in validation set\n",
        "  display(trainer.evaluate())\n",
        "\n",
        "  # Check how the model fares in our test set.\n",
        "  display(trainer.predict(test_dataset=tokenized_dataset[\"test\"]))\n",
        "\n",
        "  # Save model for future use\n",
        "  trainer.save_model('/content/drive/Shareddrives/PLN/Assignment 2/models/' + lang + '/' + model_name)"
      ],
      "metadata": {
        "id": "UTY8gCm4O3de",
        "colab": {
          "base_uri": "https://localhost:8080/",
          "height": 1000,
          "referenced_widgets": [
            "8a9d0812f0e34859ab1ba04a1ef2b0c5",
            "c9f43d8cd36147d49b2e9f16ee545266",
            "1216cc552a2b40a7a8dc6171d9c4121a",
            "cbf13835e6414bbe85924de5990a7383",
            "ef8aa2e8d0ff42c1bd3ca7dfafee913c",
            "58fc6329ea6d4900a4585cd3549d8432",
            "2e373de67f794171ba658dfbea33ca6a",
            "d6c3230482c94ce0815c0a3c9d1d4d43",
            "e55b8a8a14e8443b9f1a42351beb7d78",
            "b4f7579d6055432895c2a75a739f1f3c",
            "384f0fefb5cf461b934b178aa3b7a9ef",
            "20f2f3f448e646709ce5dd71ce9ccccf",
            "3f147f9318c34006ad52d9d792c36d21",
            "6b351b2a267d41c8b30359cbde195c1b",
            "99dedf17b1a84e898f4ef29adf3af241",
            "4e8fe29a8c254d5fa03a2640b40a7827",
            "0d20b115a5df4d80b911cea06c8f20b2",
            "c01e8e9aaa94451f9a1fb6b29c047a3a",
            "155077eac7924378805bdba4bb3e7b52",
            "fc6162fdf31243e2882d5cfede6ddcee",
            "d1124b02d21c4dc6b7954d9f596ed52c",
            "5ab1e47660a64c25a4c6a56265c496fe",
            "c5029df55e364c009f8854ee51a49301",
            "1d74ee15feab49cebd070a8b8164e078",
            "10efb35fb985489d85691f54f7f4915e",
            "42603d4faa0943e3819f521efc85ec59",
            "e252e81bfe2243f598fb2695c85a56b8",
            "0e83e82739554e228e41834d48378547",
            "21770be06cb74b34b9fc05f52e1d303e",
            "0f5009117dd444aa9847bf702f6bd522",
            "c5c70b402e4a42949620a5e3fef042db",
            "251a60fe838d44908b5d795ffc957ef7",
            "2efc41afc9a4483b9dbe8b8ad3466323",
            "7b074a5c42d04237800d1e00f41e7bef",
            "20c6770136f242ffbf35b567ee27ff89",
            "9bb2c87af6b644e9903d1b78a178239a",
            "af16249943774ccbbb0e0403ccafb387",
            "1b1cbc318c9445b79f805c53f614306a",
            "c0870f0235c9424e93c3548a1e369792",
            "5a9aa88c43054b8aacc55c3c47171ca0",
            "8057e92e83ad4951a674450c81c63bd6",
            "da59960e3d32406bada6112d6196bd18",
            "257b5544ddb2458e9d6a8c807f3aa74f",
            "8acb78dbe5d0474b831fe7ae6975e605",
            "149133418f7a43b9a83756320f95ab7c",
            "b4efe7a111b041878da78f045589a448",
            "a2d8496d700f41de9ac63866c6aa939c",
            "d1a6f5c25cc24fc3bb9b9fb2005d3070",
            "2b4551335b054c43912e7d490c4a88e0",
            "31f44f996a10441da9bf40f033e20c9a",
            "77ebbdfcf7834a648150171312d73650",
            "f306a03592384cae9c749abe976bef21",
            "ee418776b99f46fab65925208141a464",
            "e4305b64e9534631abc9b487f556fc83",
            "13cfe780da254cff8d5245b0b7d2fc3c",
            "d645bc60eab1409093b0fdd1c264e4a2",
            "e0e260bdda6a48be9103bfa256b911cf",
            "25c1e8fd123143d4b6f773a5b7953816",
            "be762f6be0e94e3f90b79c809cb35824",
            "2f68d01153bd43c1bc21a50c0c58258b",
            "03806430162e450fb0b649e056bbc543",
            "191ad3b73c0a44d89a66b4c7a2719747",
            "8eddfcbdbe394826841d4b0e19d666ce",
            "30fc4a96e0e040b7a71b5307963bd318",
            "17c62d9bcb9c44abbc7b77e56bc7c66d",
            "3b90eb30e2564366b9bf64e37b44331a",
            "fa40f621d992475897b2cc11b9509030",
            "1f65e967f1a743be91c11efef3bf7489",
            "993f88bf3c3645eda9a73cf520303492",
            "40268a223a604ee4af099610691e4eb9",
            "1fb4fdde69a34f62acf6bedecfda1153",
            "221e933c391043b1abc2d59c4b12d62b",
            "8d04c7478def460abeab79ac307d0b92",
            "19600629235f45d7afe18d568b627fa3",
            "64091400b0d04769a413984528124228",
            "3fcb4cc237e24d9e86e2d35b2109a9b0",
            "7a4b7d762944400b95147062b72bfad0",
            "389473b6f18c4eea83ab6a4879061354",
            "b53447e6f62949f9bb88d2d4da5b4dc5",
            "e13b50ac4cc042abb9b948e1882e0b64",
            "4a2e5d82f28f4a01abbcf3d6d9d10955",
            "b21a8a86bce04f6fb418e3685c12a632",
            "af8252316cea41faaf6923aba4009eb6",
            "04b32f1c04494cd1a12bbbb7252fb89d",
            "8b18ac027f53420fb308b353d0d6bb87",
            "912842f9992841f3bbf3d55a88d1d6bb",
            "2e2f539ccd1849ec9c5cf05a7d862397",
            "8e35cc00fad94df6b3e2400a16ac2603",
            "e1979f628483440b93a44ee4eaa7ebf9",
            "417c4f914bb64034a9b39a9e8e31d53d",
            "1a3bcdcc08054af3b703206bfb313989",
            "d7c6dbe4feed47d39d2845c18c3dc785",
            "744a82c8c05944eb99c1f9c67c9fcc5a",
            "13fadc0de9954056869525b9e77f8d48",
            "7c0450719cf84d9b8e9991e5aa3236b2",
            "d3587f1dd6ea4c52be86235b1aff2897",
            "0a9cc8639a1447d6b2c7433ee5b01f38",
            "7dac358d9016499a9b1f8ec10bd2efa9",
            "a7389b3d472244de97ab3384d0ebaf8f"
          ]
        },
        "outputId": "86b96b49-42d2-4a54-a8bc-60fca339ee01"
      },
      "execution_count": 26,
      "outputs": [
        {
          "output_type": "stream",
          "name": "stderr",
          "text": [
            "loading configuration file https://huggingface.co/bert-base-multilingual-cased/resolve/main/config.json from cache at /root/.cache/huggingface/transformers/6c4a5d81a58c9791cdf76a09bce1b5abfb9cf958aebada51200f4515403e5d08.0fe59f3f4f1335dadeb4bce8b8146199d9083512b50d07323c1c319f96df450c\n",
            "Model config BertConfig {\n",
            "  \"_name_or_path\": \"bert-base-multilingual-cased\",\n",
            "  \"architectures\": [\n",
            "    \"BertForMaskedLM\"\n",
            "  ],\n",
            "  \"attention_probs_dropout_prob\": 0.1,\n",
            "  \"classifier_dropout\": null,\n",
            "  \"directionality\": \"bidi\",\n",
            "  \"hidden_act\": \"gelu\",\n",
            "  \"hidden_dropout_prob\": 0.1,\n",
            "  \"hidden_size\": 768,\n",
            "  \"initializer_range\": 0.02,\n",
            "  \"intermediate_size\": 3072,\n",
            "  \"layer_norm_eps\": 1e-12,\n",
            "  \"max_position_embeddings\": 512,\n",
            "  \"model_type\": \"bert\",\n",
            "  \"num_attention_heads\": 12,\n",
            "  \"num_hidden_layers\": 12,\n",
            "  \"pad_token_id\": 0,\n",
            "  \"pooler_fc_size\": 768,\n",
            "  \"pooler_num_attention_heads\": 12,\n",
            "  \"pooler_num_fc_layers\": 3,\n",
            "  \"pooler_size_per_head\": 128,\n",
            "  \"pooler_type\": \"first_token_transform\",\n",
            "  \"position_embedding_type\": \"absolute\",\n",
            "  \"transformers_version\": \"4.19.2\",\n",
            "  \"type_vocab_size\": 2,\n",
            "  \"use_cache\": true,\n",
            "  \"vocab_size\": 119547\n",
            "}\n",
            "\n",
            "loading file https://huggingface.co/bert-base-multilingual-cased/resolve/main/vocab.txt from cache at /root/.cache/huggingface/transformers/eff018e45de5364a8368df1f2df3461d506e2a111e9dd50af1fae061cd460ead.6c5b6600e968f4b5e08c86d8891ea99e51537fc2bf251435fb46922e8f7a7b29\n",
            "loading file https://huggingface.co/bert-base-multilingual-cased/resolve/main/tokenizer.json from cache at /root/.cache/huggingface/transformers/46880f3b0081fda494a4e15b05787692aa4c1e21e0ff2428ba8b14d4eda0784d.b33e51591f94f17c238ee9b1fac75b96ff2678cbaed6e108feadb3449d18dc24\n",
            "loading file https://huggingface.co/bert-base-multilingual-cased/resolve/main/added_tokens.json from cache at None\n",
            "loading file https://huggingface.co/bert-base-multilingual-cased/resolve/main/special_tokens_map.json from cache at None\n",
            "loading file https://huggingface.co/bert-base-multilingual-cased/resolve/main/tokenizer_config.json from cache at /root/.cache/huggingface/transformers/f55e7a2ad4f8d0fff2733b3f79777e1e99247f2e4583703e92ce74453af8c235.ec5c189f89475aac7d8cbd243960a0655cfadc3d0474da8ff2ed0bf1699c2a5f\n",
            "loading configuration file https://huggingface.co/bert-base-multilingual-cased/resolve/main/config.json from cache at /root/.cache/huggingface/transformers/6c4a5d81a58c9791cdf76a09bce1b5abfb9cf958aebada51200f4515403e5d08.0fe59f3f4f1335dadeb4bce8b8146199d9083512b50d07323c1c319f96df450c\n",
            "Model config BertConfig {\n",
            "  \"_name_or_path\": \"bert-base-multilingual-cased\",\n",
            "  \"architectures\": [\n",
            "    \"BertForMaskedLM\"\n",
            "  ],\n",
            "  \"attention_probs_dropout_prob\": 0.1,\n",
            "  \"classifier_dropout\": null,\n",
            "  \"directionality\": \"bidi\",\n",
            "  \"hidden_act\": \"gelu\",\n",
            "  \"hidden_dropout_prob\": 0.1,\n",
            "  \"hidden_size\": 768,\n",
            "  \"initializer_range\": 0.02,\n",
            "  \"intermediate_size\": 3072,\n",
            "  \"layer_norm_eps\": 1e-12,\n",
            "  \"max_position_embeddings\": 512,\n",
            "  \"model_type\": \"bert\",\n",
            "  \"num_attention_heads\": 12,\n",
            "  \"num_hidden_layers\": 12,\n",
            "  \"pad_token_id\": 0,\n",
            "  \"pooler_fc_size\": 768,\n",
            "  \"pooler_num_attention_heads\": 12,\n",
            "  \"pooler_num_fc_layers\": 3,\n",
            "  \"pooler_size_per_head\": 128,\n",
            "  \"pooler_type\": \"first_token_transform\",\n",
            "  \"position_embedding_type\": \"absolute\",\n",
            "  \"transformers_version\": \"4.19.2\",\n",
            "  \"type_vocab_size\": 2,\n",
            "  \"use_cache\": true,\n",
            "  \"vocab_size\": 119547\n",
            "}\n",
            "\n"
          ]
        },
        {
          "output_type": "display_data",
          "data": {
            "text/plain": [
              "  0%|          | 0/14 [00:00<?, ?ba/s]"
            ],
            "application/vnd.jupyter.widget-view+json": {
              "version_major": 2,
              "version_minor": 0,
              "model_id": "8a9d0812f0e34859ab1ba04a1ef2b0c5"
            }
          },
          "metadata": {}
        },
        {
          "output_type": "display_data",
          "data": {
            "text/plain": [
              "  0%|          | 0/2 [00:00<?, ?ba/s]"
            ],
            "application/vnd.jupyter.widget-view+json": {
              "version_major": 2,
              "version_minor": 0,
              "model_id": "20f2f3f448e646709ce5dd71ce9ccccf"
            }
          },
          "metadata": {}
        },
        {
          "output_type": "display_data",
          "data": {
            "text/plain": [
              "  0%|          | 0/2 [00:00<?, ?ba/s]"
            ],
            "application/vnd.jupyter.widget-view+json": {
              "version_major": 2,
              "version_minor": 0,
              "model_id": "c5029df55e364c009f8854ee51a49301"
            }
          },
          "metadata": {}
        },
        {
          "output_type": "display_data",
          "data": {
            "text/plain": [
              "  0%|          | 0/14 [00:00<?, ?ba/s]"
            ],
            "application/vnd.jupyter.widget-view+json": {
              "version_major": 2,
              "version_minor": 0,
              "model_id": "7b074a5c42d04237800d1e00f41e7bef"
            }
          },
          "metadata": {}
        },
        {
          "output_type": "display_data",
          "data": {
            "text/plain": [
              "  0%|          | 0/14 [00:00<?, ?ba/s]"
            ],
            "application/vnd.jupyter.widget-view+json": {
              "version_major": 2,
              "version_minor": 0,
              "model_id": "149133418f7a43b9a83756320f95ab7c"
            }
          },
          "metadata": {}
        },
        {
          "output_type": "display_data",
          "data": {
            "text/plain": [
              "  0%|          | 0/14 [00:00<?, ?ba/s]"
            ],
            "application/vnd.jupyter.widget-view+json": {
              "version_major": 2,
              "version_minor": 0,
              "model_id": "d645bc60eab1409093b0fdd1c264e4a2"
            }
          },
          "metadata": {}
        },
        {
          "output_type": "display_data",
          "data": {
            "text/plain": [
              "  0%|          | 0/14 [00:00<?, ?ba/s]"
            ],
            "application/vnd.jupyter.widget-view+json": {
              "version_major": 2,
              "version_minor": 0,
              "model_id": "fa40f621d992475897b2cc11b9509030"
            }
          },
          "metadata": {}
        },
        {
          "output_type": "display_data",
          "data": {
            "text/plain": [
              "  0%|          | 0/14 [00:00<?, ?ba/s]"
            ],
            "application/vnd.jupyter.widget-view+json": {
              "version_major": 2,
              "version_minor": 0,
              "model_id": "389473b6f18c4eea83ab6a4879061354"
            }
          },
          "metadata": {}
        },
        {
          "output_type": "display_data",
          "data": {
            "text/plain": [
              "  0%|          | 0/14 [00:00<?, ?ba/s]"
            ],
            "application/vnd.jupyter.widget-view+json": {
              "version_major": 2,
              "version_minor": 0,
              "model_id": "e1979f628483440b93a44ee4eaa7ebf9"
            }
          },
          "metadata": {}
        },
        {
          "output_type": "stream",
          "name": "stderr",
          "text": [
            "loading configuration file https://huggingface.co/bert-base-multilingual-cased/resolve/main/config.json from cache at /root/.cache/huggingface/transformers/6c4a5d81a58c9791cdf76a09bce1b5abfb9cf958aebada51200f4515403e5d08.0fe59f3f4f1335dadeb4bce8b8146199d9083512b50d07323c1c319f96df450c\n",
            "Model config BertConfig {\n",
            "  \"_name_or_path\": \"bert-base-multilingual-cased\",\n",
            "  \"architectures\": [\n",
            "    \"BertForMaskedLM\"\n",
            "  ],\n",
            "  \"attention_probs_dropout_prob\": 0.1,\n",
            "  \"classifier_dropout\": null,\n",
            "  \"directionality\": \"bidi\",\n",
            "  \"hidden_act\": \"gelu\",\n",
            "  \"hidden_dropout_prob\": 0.1,\n",
            "  \"hidden_size\": 768,\n",
            "  \"id2label\": {\n",
            "    \"0\": \"LABEL_0\",\n",
            "    \"1\": \"LABEL_1\",\n",
            "    \"2\": \"LABEL_2\",\n",
            "    \"3\": \"LABEL_3\",\n",
            "    \"4\": \"LABEL_4\"\n",
            "  },\n",
            "  \"initializer_range\": 0.02,\n",
            "  \"intermediate_size\": 3072,\n",
            "  \"label2id\": {\n",
            "    \"LABEL_0\": 0,\n",
            "    \"LABEL_1\": 1,\n",
            "    \"LABEL_2\": 2,\n",
            "    \"LABEL_3\": 3,\n",
            "    \"LABEL_4\": 4\n",
            "  },\n",
            "  \"layer_norm_eps\": 1e-12,\n",
            "  \"max_position_embeddings\": 512,\n",
            "  \"model_type\": \"bert\",\n",
            "  \"num_attention_heads\": 12,\n",
            "  \"num_hidden_layers\": 12,\n",
            "  \"pad_token_id\": 0,\n",
            "  \"pooler_fc_size\": 768,\n",
            "  \"pooler_num_attention_heads\": 12,\n",
            "  \"pooler_num_fc_layers\": 3,\n",
            "  \"pooler_size_per_head\": 128,\n",
            "  \"pooler_type\": \"first_token_transform\",\n",
            "  \"position_embedding_type\": \"absolute\",\n",
            "  \"transformers_version\": \"4.19.2\",\n",
            "  \"type_vocab_size\": 2,\n",
            "  \"use_cache\": true,\n",
            "  \"vocab_size\": 119547\n",
            "}\n",
            "\n",
            "loading weights file https://huggingface.co/bert-base-multilingual-cased/resolve/main/pytorch_model.bin from cache at /root/.cache/huggingface/transformers/0a3fd51713dcbb4def175c7f85bddc995d5976ce1dde327f99104e4d33069f17.aa7be4c79d76f4066d9b354496ea477c9ee39c5d889156dd1efb680643c2b052\n",
            "Some weights of the model checkpoint at bert-base-multilingual-cased were not used when initializing BertForSequenceClassification: ['cls.predictions.bias', 'cls.predictions.transform.dense.bias', 'cls.predictions.transform.LayerNorm.bias', 'cls.predictions.transform.dense.weight', 'cls.predictions.decoder.weight', 'cls.seq_relationship.bias', 'cls.predictions.transform.LayerNorm.weight', 'cls.seq_relationship.weight']\n",
            "- This IS expected if you are initializing BertForSequenceClassification from the checkpoint of a model trained on another task or with another architecture (e.g. initializing a BertForSequenceClassification model from a BertForPreTraining model).\n",
            "- This IS NOT expected if you are initializing BertForSequenceClassification from the checkpoint of a model that you expect to be exactly identical (initializing a BertForSequenceClassification model from a BertForSequenceClassification model).\n",
            "Some weights of BertForSequenceClassification were not initialized from the model checkpoint at bert-base-multilingual-cased and are newly initialized: ['classifier.weight', 'classifier.bias']\n",
            "You should probably TRAIN this model on a down-stream task to be able to use it for predictions and inference.\n"
          ]
        }
      ]
    },
    {
      "cell_type": "markdown",
      "source": [
        "### Zero-shot several languages"
      ],
      "metadata": {
        "id": "HNhoFkAcNhoB"
      }
    },
    {
      "cell_type": "markdown",
      "source": [
        "#### Portuguese"
      ],
      "metadata": {
        "id": "UWhL6b0KAsc1"
      }
    },
    {
      "cell_type": "code",
      "source": [
        "zero_shot(\"pt\")"
      ],
      "metadata": {
        "colab": {
          "base_uri": "https://localhost:8080/",
          "height": 1000
        },
        "id": "SXbLFebNAt1d",
        "outputId": "6c14b5c7-2f1d-4e18-fe35-da9731bea756"
      },
      "execution_count": 27,
      "outputs": [
        {
          "output_type": "stream",
          "name": "stderr",
          "text": [
            "PyTorch: setting up devices\n",
            "The default value for the training argument `--report_to` will change in v5 (from all installed integrations to none). In v5, you will need to use `--report_to all` to get the same behavior as now. You should start updating your code and make this info disappear :-).\n",
            "The following columns in the training set don't have a corresponding argument in `BertForSequenceClassification.forward` and have been ignored: tokens. If tokens are not expected by `BertForSequenceClassification.forward`,  you can safely ignore this message.\n",
            "/usr/local/lib/python3.7/dist-packages/transformers/optimization.py:309: FutureWarning: This implementation of AdamW is deprecated and will be removed in a future version. Use the PyTorch implementation torch.optim.AdamW instead, or set `no_deprecation_warning=True` to disable this warning\n",
            "  FutureWarning,\n",
            "***** Running training *****\n",
            "  Num examples = 13394\n",
            "  Num Epochs = 3\n",
            "  Instantaneous batch size per device = 16\n",
            "  Total train batch size (w. parallel, distributed & accumulation) = 16\n",
            "  Gradient Accumulation steps = 1\n",
            "  Total optimization steps = 2514\n"
          ]
        },
        {
          "output_type": "display_data",
          "data": {
            "text/plain": [
              "<IPython.core.display.HTML object>"
            ],
            "text/html": [
              "\n",
              "    <div>\n",
              "      \n",
              "      <progress value='2514' max='2514' style='width:300px; height:20px; vertical-align: middle;'></progress>\n",
              "      [2514/2514 13:31, Epoch 3/3]\n",
              "    </div>\n",
              "    <table border=\"1\" class=\"dataframe\">\n",
              "  <thead>\n",
              " <tr style=\"text-align: left;\">\n",
              "      <th>Epoch</th>\n",
              "      <th>Training Loss</th>\n",
              "      <th>Validation Loss</th>\n",
              "      <th>Accuracy</th>\n",
              "      <th>F1</th>\n",
              "      <th>Precision</th>\n",
              "      <th>Recall</th>\n",
              "    </tr>\n",
              "  </thead>\n",
              "  <tbody>\n",
              "    <tr>\n",
              "      <td>1</td>\n",
              "      <td>1.182300</td>\n",
              "      <td>1.009982</td>\n",
              "      <td>0.580048</td>\n",
              "      <td>0.505474</td>\n",
              "      <td>0.599145</td>\n",
              "      <td>0.467789</td>\n",
              "    </tr>\n",
              "    <tr>\n",
              "      <td>2</td>\n",
              "      <td>0.909700</td>\n",
              "      <td>1.016058</td>\n",
              "      <td>0.586619</td>\n",
              "      <td>0.554393</td>\n",
              "      <td>0.587447</td>\n",
              "      <td>0.546993</td>\n",
              "    </tr>\n",
              "    <tr>\n",
              "      <td>3</td>\n",
              "      <td>0.753000</td>\n",
              "      <td>1.070261</td>\n",
              "      <td>0.594385</td>\n",
              "      <td>0.563842</td>\n",
              "      <td>0.574537</td>\n",
              "      <td>0.557672</td>\n",
              "    </tr>\n",
              "  </tbody>\n",
              "</table><p>"
            ]
          },
          "metadata": {}
        },
        {
          "output_type": "stream",
          "name": "stderr",
          "text": [
            "The following columns in the evaluation set don't have a corresponding argument in `BertForSequenceClassification.forward` and have been ignored: tokens. If tokens are not expected by `BertForSequenceClassification.forward`,  you can safely ignore this message.\n",
            "***** Running Evaluation *****\n",
            "  Num examples = 1674\n",
            "  Batch size = 16\n",
            "Saving model checkpoint to ./results/checkpoint-838\n",
            "Configuration saved in ./results/checkpoint-838/config.json\n",
            "Model weights saved in ./results/checkpoint-838/pytorch_model.bin\n",
            "tokenizer config file saved in ./results/checkpoint-838/tokenizer_config.json\n",
            "Special tokens file saved in ./results/checkpoint-838/special_tokens_map.json\n",
            "The following columns in the evaluation set don't have a corresponding argument in `BertForSequenceClassification.forward` and have been ignored: tokens. If tokens are not expected by `BertForSequenceClassification.forward`,  you can safely ignore this message.\n",
            "***** Running Evaluation *****\n",
            "  Num examples = 1674\n",
            "  Batch size = 16\n",
            "Saving model checkpoint to ./results/checkpoint-1676\n",
            "Configuration saved in ./results/checkpoint-1676/config.json\n",
            "Model weights saved in ./results/checkpoint-1676/pytorch_model.bin\n",
            "tokenizer config file saved in ./results/checkpoint-1676/tokenizer_config.json\n",
            "Special tokens file saved in ./results/checkpoint-1676/special_tokens_map.json\n",
            "The following columns in the evaluation set don't have a corresponding argument in `BertForSequenceClassification.forward` and have been ignored: tokens. If tokens are not expected by `BertForSequenceClassification.forward`,  you can safely ignore this message.\n",
            "***** Running Evaluation *****\n",
            "  Num examples = 1674\n",
            "  Batch size = 16\n",
            "Saving model checkpoint to ./results/checkpoint-2514\n",
            "Configuration saved in ./results/checkpoint-2514/config.json\n",
            "Model weights saved in ./results/checkpoint-2514/pytorch_model.bin\n",
            "tokenizer config file saved in ./results/checkpoint-2514/tokenizer_config.json\n",
            "Special tokens file saved in ./results/checkpoint-2514/special_tokens_map.json\n",
            "\n",
            "\n",
            "Training completed. Do not forget to share your model on huggingface.co/models =)\n",
            "\n",
            "\n",
            "Loading best model from ./results/checkpoint-2514 (score: 0.5638418745897852).\n"
          ]
        },
        {
          "output_type": "display_data",
          "data": {
            "text/plain": [
              "TrainOutput(global_step=2514, training_loss=0.9336443349493811, metrics={'train_runtime': 811.4625, 'train_samples_per_second': 49.518, 'train_steps_per_second': 3.098, 'total_flos': 1775868623519544.0, 'train_loss': 0.9336443349493811, 'epoch': 3.0})"
            ]
          },
          "metadata": {}
        },
        {
          "output_type": "stream",
          "name": "stderr",
          "text": [
            "The following columns in the evaluation set don't have a corresponding argument in `BertForSequenceClassification.forward` and have been ignored: tokens. If tokens are not expected by `BertForSequenceClassification.forward`,  you can safely ignore this message.\n",
            "***** Running Evaluation *****\n",
            "  Num examples = 1674\n",
            "  Batch size = 16\n"
          ]
        },
        {
          "output_type": "display_data",
          "data": {
            "text/plain": [
              "<IPython.core.display.HTML object>"
            ],
            "text/html": [
              "\n",
              "    <div>\n",
              "      \n",
              "      <progress value='210' max='105' style='width:300px; height:20px; vertical-align: middle;'></progress>\n",
              "      [105/105 00:18]\n",
              "    </div>\n",
              "    "
            ]
          },
          "metadata": {}
        },
        {
          "output_type": "display_data",
          "data": {
            "text/plain": [
              "{'epoch': 3.0,\n",
              " 'eval_accuracy': 0.5943847072879331,\n",
              " 'eval_f1': 0.5638418745897852,\n",
              " 'eval_loss': 1.0702614784240723,\n",
              " 'eval_precision': 0.5745369583803732,\n",
              " 'eval_recall': 0.5576719670851249,\n",
              " 'eval_runtime': 9.2474,\n",
              " 'eval_samples_per_second': 181.024,\n",
              " 'eval_steps_per_second': 11.355}"
            ]
          },
          "metadata": {}
        },
        {
          "output_type": "stream",
          "name": "stderr",
          "text": [
            "The following columns in the test set don't have a corresponding argument in `BertForSequenceClassification.forward` and have been ignored: tokens. If tokens are not expected by `BertForSequenceClassification.forward`,  you can safely ignore this message.\n",
            "***** Running Prediction *****\n",
            "  Num examples = 1675\n",
            "  Batch size = 16\n"
          ]
        },
        {
          "output_type": "display_data",
          "data": {
            "text/plain": [
              "PredictionOutput(predictions=array([[ 2.3569963 , -0.5056619 , -1.5216085 ,  1.9893084 , -2.7937179 ],\n",
              "       [ 2.4618914 , -1.4521484 ,  1.1548529 ,  0.32186386, -2.621744  ],\n",
              "       [ 0.82349795, -2.5367563 ,  2.99239   ,  0.5507926 , -1.5780839 ],\n",
              "       ...,\n",
              "       [ 1.4572164 ,  1.5743827 , -2.5829337 ,  1.389753  , -2.364238  ],\n",
              "       [ 1.2282764 , -1.9081117 ,  3.0067067 , -0.09163611, -2.1226697 ],\n",
              "       [ 1.3913858 ,  1.5657791 , -2.886854  , -1.8013538 ,  1.7046494 ]],\n",
              "      dtype=float32), label_ids=array([0, 3, 2, ..., 1, 2, 4]), metrics={'test_loss': 1.0826913118362427, 'test_accuracy': 0.5934328358208956, 'test_f1': 0.5515175106837085, 'test_precision': 0.5636671987230646, 'test_recall': 0.5443049293049294, 'test_runtime': 9.4376, 'test_samples_per_second': 177.482, 'test_steps_per_second': 11.126})"
            ]
          },
          "metadata": {}
        },
        {
          "output_type": "stream",
          "name": "stderr",
          "text": [
            "Saving model checkpoint to /content/drive/Shareddrives/PLN/Assignment 2/models/pt/bert-base-multilingual-cased\n",
            "Configuration saved in /content/drive/Shareddrives/PLN/Assignment 2/models/pt/bert-base-multilingual-cased/config.json\n",
            "Model weights saved in /content/drive/Shareddrives/PLN/Assignment 2/models/pt/bert-base-multilingual-cased/pytorch_model.bin\n",
            "tokenizer config file saved in /content/drive/Shareddrives/PLN/Assignment 2/models/pt/bert-base-multilingual-cased/tokenizer_config.json\n",
            "Special tokens file saved in /content/drive/Shareddrives/PLN/Assignment 2/models/pt/bert-base-multilingual-cased/special_tokens_map.json\n"
          ]
        }
      ]
    },
    {
      "cell_type": "code",
      "source": [
        "!rm -rf ./results/"
      ],
      "metadata": {
        "id": "HqIykAfoAvEf"
      },
      "execution_count": 28,
      "outputs": []
    },
    {
      "cell_type": "markdown",
      "source": [
        "#### English"
      ],
      "metadata": {
        "id": "uB1eejcf_edu"
      }
    },
    {
      "cell_type": "code",
      "source": [
        "zero_shot(\"en\")"
      ],
      "metadata": {
        "colab": {
          "base_uri": "https://localhost:8080/",
          "height": 1000
        },
        "id": "pf9vXIRigrKu",
        "outputId": "3d9859f5-a713-4b6b-a563-e371ad5d2798"
      },
      "execution_count": 13,
      "outputs": [
        {
          "output_type": "stream",
          "name": "stderr",
          "text": [
            "The following columns in the training set don't have a corresponding argument in `BertForSequenceClassification.forward` and have been ignored: tokens. If tokens are not expected by `BertForSequenceClassification.forward`,  you can safely ignore this message.\n",
            "/usr/local/lib/python3.7/dist-packages/transformers/optimization.py:309: FutureWarning: This implementation of AdamW is deprecated and will be removed in a future version. Use the PyTorch implementation torch.optim.AdamW instead, or set `no_deprecation_warning=True` to disable this warning\n",
            "  FutureWarning,\n",
            "***** Running training *****\n",
            "  Num examples = 13394\n",
            "  Num Epochs = 3\n",
            "  Instantaneous batch size per device = 16\n",
            "  Total train batch size (w. parallel, distributed & accumulation) = 16\n",
            "  Gradient Accumulation steps = 1\n",
            "  Total optimization steps = 2514\n"
          ]
        },
        {
          "output_type": "display_data",
          "data": {
            "text/plain": [
              "<IPython.core.display.HTML object>"
            ],
            "text/html": [
              "\n",
              "    <div>\n",
              "      \n",
              "      <progress value='2514' max='2514' style='width:300px; height:20px; vertical-align: middle;'></progress>\n",
              "      [2514/2514 13:26, Epoch 3/3]\n",
              "    </div>\n",
              "    <table border=\"1\" class=\"dataframe\">\n",
              "  <thead>\n",
              " <tr style=\"text-align: left;\">\n",
              "      <th>Epoch</th>\n",
              "      <th>Training Loss</th>\n",
              "      <th>Validation Loss</th>\n",
              "      <th>Accuracy</th>\n",
              "      <th>F1</th>\n",
              "      <th>Precision</th>\n",
              "      <th>Recall</th>\n",
              "    </tr>\n",
              "  </thead>\n",
              "  <tbody>\n",
              "    <tr>\n",
              "      <td>1</td>\n",
              "      <td>1.163100</td>\n",
              "      <td>1.087873</td>\n",
              "      <td>0.560335</td>\n",
              "      <td>0.394698</td>\n",
              "      <td>0.625832</td>\n",
              "      <td>0.362509</td>\n",
              "    </tr>\n",
              "    <tr>\n",
              "      <td>2</td>\n",
              "      <td>0.886900</td>\n",
              "      <td>1.076017</td>\n",
              "      <td>0.555556</td>\n",
              "      <td>0.462441</td>\n",
              "      <td>0.568675</td>\n",
              "      <td>0.429809</td>\n",
              "    </tr>\n",
              "    <tr>\n",
              "      <td>3</td>\n",
              "      <td>0.735000</td>\n",
              "      <td>1.115303</td>\n",
              "      <td>0.554361</td>\n",
              "      <td>0.469818</td>\n",
              "      <td>0.538859</td>\n",
              "      <td>0.437176</td>\n",
              "    </tr>\n",
              "  </tbody>\n",
              "</table><p>"
            ]
          },
          "metadata": {}
        },
        {
          "output_type": "stream",
          "name": "stderr",
          "text": [
            "The following columns in the evaluation set don't have a corresponding argument in `BertForSequenceClassification.forward` and have been ignored: tokens. If tokens are not expected by `BertForSequenceClassification.forward`,  you can safely ignore this message.\n",
            "***** Running Evaluation *****\n",
            "  Num examples = 1674\n",
            "  Batch size = 16\n",
            "Saving model checkpoint to ./results/checkpoint-838\n",
            "Configuration saved in ./results/checkpoint-838/config.json\n",
            "Model weights saved in ./results/checkpoint-838/pytorch_model.bin\n",
            "tokenizer config file saved in ./results/checkpoint-838/tokenizer_config.json\n",
            "Special tokens file saved in ./results/checkpoint-838/special_tokens_map.json\n",
            "The following columns in the evaluation set don't have a corresponding argument in `BertForSequenceClassification.forward` and have been ignored: tokens. If tokens are not expected by `BertForSequenceClassification.forward`,  you can safely ignore this message.\n",
            "***** Running Evaluation *****\n",
            "  Num examples = 1674\n",
            "  Batch size = 16\n",
            "Saving model checkpoint to ./results/checkpoint-1676\n",
            "Configuration saved in ./results/checkpoint-1676/config.json\n",
            "Model weights saved in ./results/checkpoint-1676/pytorch_model.bin\n",
            "tokenizer config file saved in ./results/checkpoint-1676/tokenizer_config.json\n",
            "Special tokens file saved in ./results/checkpoint-1676/special_tokens_map.json\n",
            "The following columns in the evaluation set don't have a corresponding argument in `BertForSequenceClassification.forward` and have been ignored: tokens. If tokens are not expected by `BertForSequenceClassification.forward`,  you can safely ignore this message.\n",
            "***** Running Evaluation *****\n",
            "  Num examples = 1674\n",
            "  Batch size = 16\n",
            "Saving model checkpoint to ./results/checkpoint-2514\n",
            "Configuration saved in ./results/checkpoint-2514/config.json\n",
            "Model weights saved in ./results/checkpoint-2514/pytorch_model.bin\n",
            "tokenizer config file saved in ./results/checkpoint-2514/tokenizer_config.json\n",
            "Special tokens file saved in ./results/checkpoint-2514/special_tokens_map.json\n",
            "\n",
            "\n",
            "Training completed. Do not forget to share your model on huggingface.co/models =)\n",
            "\n",
            "\n",
            "Loading best model from ./results/checkpoint-2514 (score: 0.46981812596609734).\n"
          ]
        },
        {
          "output_type": "display_data",
          "data": {
            "text/plain": [
              "TrainOutput(global_step=2514, training_loss=0.9153515110911125, metrics={'train_runtime': 806.8399, 'train_samples_per_second': 49.802, 'train_steps_per_second': 3.116, 'total_flos': 1775868623519544.0, 'train_loss': 0.9153515110911125, 'epoch': 3.0})"
            ]
          },
          "metadata": {}
        },
        {
          "output_type": "stream",
          "name": "stderr",
          "text": [
            "The following columns in the evaluation set don't have a corresponding argument in `BertForSequenceClassification.forward` and have been ignored: tokens. If tokens are not expected by `BertForSequenceClassification.forward`,  you can safely ignore this message.\n",
            "***** Running Evaluation *****\n",
            "  Num examples = 1674\n",
            "  Batch size = 16\n"
          ]
        },
        {
          "output_type": "display_data",
          "data": {
            "text/plain": [
              "<IPython.core.display.HTML object>"
            ],
            "text/html": [
              "\n",
              "    <div>\n",
              "      \n",
              "      <progress value='210' max='105' style='width:300px; height:20px; vertical-align: middle;'></progress>\n",
              "      [105/105 00:18]\n",
              "    </div>\n",
              "    "
            ]
          },
          "metadata": {}
        },
        {
          "output_type": "display_data",
          "data": {
            "text/plain": [
              "{'epoch': 3.0,\n",
              " 'eval_accuracy': 0.5543608124253285,\n",
              " 'eval_f1': 0.46981812596609734,\n",
              " 'eval_loss': 1.1153031587600708,\n",
              " 'eval_precision': 0.5388590673673541,\n",
              " 'eval_recall': 0.4371758333048151,\n",
              " 'eval_runtime': 9.2489,\n",
              " 'eval_samples_per_second': 180.995,\n",
              " 'eval_steps_per_second': 11.353}"
            ]
          },
          "metadata": {}
        },
        {
          "output_type": "stream",
          "name": "stderr",
          "text": [
            "The following columns in the test set don't have a corresponding argument in `BertForSequenceClassification.forward` and have been ignored: tokens. If tokens are not expected by `BertForSequenceClassification.forward`,  you can safely ignore this message.\n",
            "***** Running Prediction *****\n",
            "  Num examples = 1675\n",
            "  Batch size = 16\n"
          ]
        },
        {
          "output_type": "display_data",
          "data": {
            "text/plain": [
              "PredictionOutput(predictions=array([[ 2.2730577 , -0.38209984, -1.485879  ,  2.0117543 , -2.7955055 ],\n",
              "       [ 2.3029656 , -1.8601569 ,  1.2731074 ,  0.7600737 , -2.9897532 ],\n",
              "       [ 0.5340132 , -2.0112958 ,  3.2515519 , -0.24893504, -1.7813315 ],\n",
              "       ...,\n",
              "       [ 1.515837  ,  2.273377  , -2.0447404 ,  0.9392453 , -2.4451215 ],\n",
              "       [ 0.5097926 , -1.7330992 ,  1.5644592 , -0.17139944, -0.7610098 ],\n",
              "       [ 1.7860159 ,  0.7420413 , -2.09492   , -1.8021395 ,  1.4617672 ]],\n",
              "      dtype=float32), label_ids=array([0, 3, 2, ..., 1, 2, 4]), metrics={'test_loss': 1.0893518924713135, 'test_accuracy': 0.5749253731343283, 'test_f1': 0.47280775750415244, 'test_precision': 0.5577648102842093, 'test_recall': 0.4400215165669711, 'test_runtime': 9.4491, 'test_samples_per_second': 177.266, 'test_steps_per_second': 11.112})"
            ]
          },
          "metadata": {}
        },
        {
          "output_type": "stream",
          "name": "stderr",
          "text": [
            "Saving model checkpoint to /content/drive/Shareddrives/PLN/Assignment 2/models/en/bert-base-multilingual-cased\n",
            "Configuration saved in /content/drive/Shareddrives/PLN/Assignment 2/models/en/bert-base-multilingual-cased/config.json\n",
            "Model weights saved in /content/drive/Shareddrives/PLN/Assignment 2/models/en/bert-base-multilingual-cased/pytorch_model.bin\n",
            "tokenizer config file saved in /content/drive/Shareddrives/PLN/Assignment 2/models/en/bert-base-multilingual-cased/tokenizer_config.json\n",
            "Special tokens file saved in /content/drive/Shareddrives/PLN/Assignment 2/models/en/bert-base-multilingual-cased/special_tokens_map.json\n"
          ]
        }
      ]
    },
    {
      "cell_type": "code",
      "source": [
        "!rm -rf ./results/"
      ],
      "metadata": {
        "id": "rl1tklfCYxp-"
      },
      "execution_count": 14,
      "outputs": []
    },
    {
      "cell_type": "markdown",
      "source": [
        "#### Spanish"
      ],
      "metadata": {
        "id": "oG5ATc15_gpI"
      }
    },
    {
      "cell_type": "code",
      "source": [
        "zero_shot(\"es\")"
      ],
      "metadata": {
        "colab": {
          "base_uri": "https://localhost:8080/",
          "height": 1000
        },
        "id": "Z8chX0dyioYg",
        "outputId": "0c924dbc-0b39-4597-d49d-f2505a97d282"
      },
      "execution_count": 15,
      "outputs": [
        {
          "output_type": "stream",
          "name": "stderr",
          "text": [
            "PyTorch: setting up devices\n",
            "The default value for the training argument `--report_to` will change in v5 (from all installed integrations to none). In v5, you will need to use `--report_to all` to get the same behavior as now. You should start updating your code and make this info disappear :-).\n",
            "The following columns in the training set don't have a corresponding argument in `BertForSequenceClassification.forward` and have been ignored: tokens. If tokens are not expected by `BertForSequenceClassification.forward`,  you can safely ignore this message.\n",
            "/usr/local/lib/python3.7/dist-packages/transformers/optimization.py:309: FutureWarning: This implementation of AdamW is deprecated and will be removed in a future version. Use the PyTorch implementation torch.optim.AdamW instead, or set `no_deprecation_warning=True` to disable this warning\n",
            "  FutureWarning,\n",
            "***** Running training *****\n",
            "  Num examples = 13394\n",
            "  Num Epochs = 3\n",
            "  Instantaneous batch size per device = 16\n",
            "  Total train batch size (w. parallel, distributed & accumulation) = 16\n",
            "  Gradient Accumulation steps = 1\n",
            "  Total optimization steps = 2514\n"
          ]
        },
        {
          "output_type": "display_data",
          "data": {
            "text/plain": [
              "<IPython.core.display.HTML object>"
            ],
            "text/html": [
              "\n",
              "    <div>\n",
              "      \n",
              "      <progress value='2514' max='2514' style='width:300px; height:20px; vertical-align: middle;'></progress>\n",
              "      [2514/2514 13:30, Epoch 3/3]\n",
              "    </div>\n",
              "    <table border=\"1\" class=\"dataframe\">\n",
              "  <thead>\n",
              " <tr style=\"text-align: left;\">\n",
              "      <th>Epoch</th>\n",
              "      <th>Training Loss</th>\n",
              "      <th>Validation Loss</th>\n",
              "      <th>Accuracy</th>\n",
              "      <th>F1</th>\n",
              "      <th>Precision</th>\n",
              "      <th>Recall</th>\n",
              "    </tr>\n",
              "  </thead>\n",
              "  <tbody>\n",
              "    <tr>\n",
              "      <td>1</td>\n",
              "      <td>0.984500</td>\n",
              "      <td>1.024782</td>\n",
              "      <td>0.580645</td>\n",
              "      <td>0.482984</td>\n",
              "      <td>0.594924</td>\n",
              "      <td>0.443693</td>\n",
              "    </tr>\n",
              "    <tr>\n",
              "      <td>2</td>\n",
              "      <td>0.758000</td>\n",
              "      <td>1.097132</td>\n",
              "      <td>0.563321</td>\n",
              "      <td>0.510496</td>\n",
              "      <td>0.576393</td>\n",
              "      <td>0.490694</td>\n",
              "    </tr>\n",
              "    <tr>\n",
              "      <td>3</td>\n",
              "      <td>0.623500</td>\n",
              "      <td>1.183407</td>\n",
              "      <td>0.549582</td>\n",
              "      <td>0.515523</td>\n",
              "      <td>0.535688</td>\n",
              "      <td>0.504253</td>\n",
              "    </tr>\n",
              "  </tbody>\n",
              "</table><p>"
            ]
          },
          "metadata": {}
        },
        {
          "output_type": "stream",
          "name": "stderr",
          "text": [
            "The following columns in the evaluation set don't have a corresponding argument in `BertForSequenceClassification.forward` and have been ignored: tokens. If tokens are not expected by `BertForSequenceClassification.forward`,  you can safely ignore this message.\n",
            "***** Running Evaluation *****\n",
            "  Num examples = 1674\n",
            "  Batch size = 16\n",
            "Saving model checkpoint to ./results/checkpoint-838\n",
            "Configuration saved in ./results/checkpoint-838/config.json\n",
            "Model weights saved in ./results/checkpoint-838/pytorch_model.bin\n",
            "tokenizer config file saved in ./results/checkpoint-838/tokenizer_config.json\n",
            "Special tokens file saved in ./results/checkpoint-838/special_tokens_map.json\n",
            "The following columns in the evaluation set don't have a corresponding argument in `BertForSequenceClassification.forward` and have been ignored: tokens. If tokens are not expected by `BertForSequenceClassification.forward`,  you can safely ignore this message.\n",
            "***** Running Evaluation *****\n",
            "  Num examples = 1674\n",
            "  Batch size = 16\n",
            "Saving model checkpoint to ./results/checkpoint-1676\n",
            "Configuration saved in ./results/checkpoint-1676/config.json\n",
            "Model weights saved in ./results/checkpoint-1676/pytorch_model.bin\n",
            "tokenizer config file saved in ./results/checkpoint-1676/tokenizer_config.json\n",
            "Special tokens file saved in ./results/checkpoint-1676/special_tokens_map.json\n",
            "The following columns in the evaluation set don't have a corresponding argument in `BertForSequenceClassification.forward` and have been ignored: tokens. If tokens are not expected by `BertForSequenceClassification.forward`,  you can safely ignore this message.\n",
            "***** Running Evaluation *****\n",
            "  Num examples = 1674\n",
            "  Batch size = 16\n",
            "Saving model checkpoint to ./results/checkpoint-2514\n",
            "Configuration saved in ./results/checkpoint-2514/config.json\n",
            "Model weights saved in ./results/checkpoint-2514/pytorch_model.bin\n",
            "tokenizer config file saved in ./results/checkpoint-2514/tokenizer_config.json\n",
            "Special tokens file saved in ./results/checkpoint-2514/special_tokens_map.json\n",
            "\n",
            "\n",
            "Training completed. Do not forget to share your model on huggingface.co/models =)\n",
            "\n",
            "\n",
            "Loading best model from ./results/checkpoint-2514 (score: 0.515523230907694).\n"
          ]
        },
        {
          "output_type": "display_data",
          "data": {
            "text/plain": [
              "TrainOutput(global_step=2514, training_loss=0.7853347490776506, metrics={'train_runtime': 811.3131, 'train_samples_per_second': 49.527, 'train_steps_per_second': 3.099, 'total_flos': 1775868623519544.0, 'train_loss': 0.7853347490776506, 'epoch': 3.0})"
            ]
          },
          "metadata": {}
        },
        {
          "output_type": "stream",
          "name": "stderr",
          "text": [
            "The following columns in the evaluation set don't have a corresponding argument in `BertForSequenceClassification.forward` and have been ignored: tokens. If tokens are not expected by `BertForSequenceClassification.forward`,  you can safely ignore this message.\n",
            "***** Running Evaluation *****\n",
            "  Num examples = 1674\n",
            "  Batch size = 16\n"
          ]
        },
        {
          "output_type": "display_data",
          "data": {
            "text/plain": [
              "<IPython.core.display.HTML object>"
            ],
            "text/html": [
              "\n",
              "    <div>\n",
              "      \n",
              "      <progress value='210' max='105' style='width:300px; height:20px; vertical-align: middle;'></progress>\n",
              "      [105/105 00:18]\n",
              "    </div>\n",
              "    "
            ]
          },
          "metadata": {}
        },
        {
          "output_type": "display_data",
          "data": {
            "text/plain": [
              "{'epoch': 3.0,\n",
              " 'eval_accuracy': 0.5495818399044206,\n",
              " 'eval_f1': 0.515523230907694,\n",
              " 'eval_loss': 1.1834070682525635,\n",
              " 'eval_precision': 0.5356880009031807,\n",
              " 'eval_recall': 0.5042531374513051,\n",
              " 'eval_runtime': 9.2882,\n",
              " 'eval_samples_per_second': 180.23,\n",
              " 'eval_steps_per_second': 11.305}"
            ]
          },
          "metadata": {}
        },
        {
          "output_type": "stream",
          "name": "stderr",
          "text": [
            "The following columns in the test set don't have a corresponding argument in `BertForSequenceClassification.forward` and have been ignored: tokens. If tokens are not expected by `BertForSequenceClassification.forward`,  you can safely ignore this message.\n",
            "***** Running Prediction *****\n",
            "  Num examples = 1675\n",
            "  Batch size = 16\n"
          ]
        },
        {
          "output_type": "display_data",
          "data": {
            "text/plain": [
              "PredictionOutput(predictions=array([[ 3.2260716 , -0.74787545, -2.0615969 ,  1.8557225 , -2.879161  ],\n",
              "       [ 2.3072426 , -1.9754125 ,  2.298366  ,  0.3516692 , -3.4420042 ],\n",
              "       [ 0.93096703, -2.6186986 ,  3.1016548 ,  0.5749084 , -2.4945393 ],\n",
              "       ...,\n",
              "       [ 1.7521371 ,  2.3677483 , -2.6919951 ,  1.5470537 , -2.913363  ],\n",
              "       [ 0.5957954 , -2.3890164 ,  4.053494  , -0.31822258, -2.3912656 ],\n",
              "       [ 1.4082956 ,  0.58619773, -2.455303  , -2.524176  ,  3.1378322 ]],\n",
              "      dtype=float32), label_ids=array([0, 3, 2, ..., 1, 2, 4]), metrics={'test_loss': 1.1516385078430176, 'test_accuracy': 0.5647761194029851, 'test_f1': 0.5236365310584083, 'test_precision': 0.5428681807360272, 'test_recall': 0.5099955515410062, 'test_runtime': 9.5355, 'test_samples_per_second': 175.659, 'test_steps_per_second': 11.011})"
            ]
          },
          "metadata": {}
        },
        {
          "output_type": "stream",
          "name": "stderr",
          "text": [
            "Saving model checkpoint to /content/drive/Shareddrives/PLN/Assignment 2/models/es/bert-base-multilingual-cased\n",
            "Configuration saved in /content/drive/Shareddrives/PLN/Assignment 2/models/es/bert-base-multilingual-cased/config.json\n",
            "Model weights saved in /content/drive/Shareddrives/PLN/Assignment 2/models/es/bert-base-multilingual-cased/pytorch_model.bin\n",
            "tokenizer config file saved in /content/drive/Shareddrives/PLN/Assignment 2/models/es/bert-base-multilingual-cased/tokenizer_config.json\n",
            "Special tokens file saved in /content/drive/Shareddrives/PLN/Assignment 2/models/es/bert-base-multilingual-cased/special_tokens_map.json\n"
          ]
        }
      ]
    },
    {
      "cell_type": "code",
      "source": [
        "!rm -rf ./results/"
      ],
      "metadata": {
        "id": "mP3MUlGqiqG5"
      },
      "execution_count": 16,
      "outputs": []
    },
    {
      "cell_type": "markdown",
      "source": [
        "#### Galician"
      ],
      "metadata": {
        "id": "gLpwm6KP_nx8"
      }
    },
    {
      "cell_type": "code",
      "source": [
        "zero_shot(\"ga\")"
      ],
      "metadata": {
        "colab": {
          "base_uri": "https://localhost:8080/",
          "height": 1000
        },
        "id": "d6XxhOiSp_XL",
        "outputId": "8e8bfdad-fbb2-44a7-f546-e52b46197056"
      },
      "execution_count": 17,
      "outputs": [
        {
          "output_type": "stream",
          "name": "stderr",
          "text": [
            "PyTorch: setting up devices\n",
            "The default value for the training argument `--report_to` will change in v5 (from all installed integrations to none). In v5, you will need to use `--report_to all` to get the same behavior as now. You should start updating your code and make this info disappear :-).\n",
            "The following columns in the training set don't have a corresponding argument in `BertForSequenceClassification.forward` and have been ignored: tokens. If tokens are not expected by `BertForSequenceClassification.forward`,  you can safely ignore this message.\n",
            "/usr/local/lib/python3.7/dist-packages/transformers/optimization.py:309: FutureWarning: This implementation of AdamW is deprecated and will be removed in a future version. Use the PyTorch implementation torch.optim.AdamW instead, or set `no_deprecation_warning=True` to disable this warning\n",
            "  FutureWarning,\n",
            "***** Running training *****\n",
            "  Num examples = 13394\n",
            "  Num Epochs = 3\n",
            "  Instantaneous batch size per device = 16\n",
            "  Total train batch size (w. parallel, distributed & accumulation) = 16\n",
            "  Gradient Accumulation steps = 1\n",
            "  Total optimization steps = 2514\n"
          ]
        },
        {
          "output_type": "display_data",
          "data": {
            "text/plain": [
              "<IPython.core.display.HTML object>"
            ],
            "text/html": [
              "\n",
              "    <div>\n",
              "      \n",
              "      <progress value='2514' max='2514' style='width:300px; height:20px; vertical-align: middle;'></progress>\n",
              "      [2514/2514 13:36, Epoch 3/3]\n",
              "    </div>\n",
              "    <table border=\"1\" class=\"dataframe\">\n",
              "  <thead>\n",
              " <tr style=\"text-align: left;\">\n",
              "      <th>Epoch</th>\n",
              "      <th>Training Loss</th>\n",
              "      <th>Validation Loss</th>\n",
              "      <th>Accuracy</th>\n",
              "      <th>F1</th>\n",
              "      <th>Precision</th>\n",
              "      <th>Recall</th>\n",
              "    </tr>\n",
              "  </thead>\n",
              "  <tbody>\n",
              "    <tr>\n",
              "      <td>1</td>\n",
              "      <td>0.744400</td>\n",
              "      <td>1.164826</td>\n",
              "      <td>0.559737</td>\n",
              "      <td>0.483457</td>\n",
              "      <td>0.538671</td>\n",
              "      <td>0.454764</td>\n",
              "    </tr>\n",
              "    <tr>\n",
              "      <td>2</td>\n",
              "      <td>0.590900</td>\n",
              "      <td>1.226598</td>\n",
              "      <td>0.556750</td>\n",
              "      <td>0.528548</td>\n",
              "      <td>0.542557</td>\n",
              "      <td>0.523747</td>\n",
              "    </tr>\n",
              "    <tr>\n",
              "      <td>3</td>\n",
              "      <td>0.504600</td>\n",
              "      <td>1.361347</td>\n",
              "      <td>0.539427</td>\n",
              "      <td>0.513961</td>\n",
              "      <td>0.522782</td>\n",
              "      <td>0.506512</td>\n",
              "    </tr>\n",
              "  </tbody>\n",
              "</table><p>"
            ]
          },
          "metadata": {}
        },
        {
          "output_type": "stream",
          "name": "stderr",
          "text": [
            "The following columns in the evaluation set don't have a corresponding argument in `BertForSequenceClassification.forward` and have been ignored: tokens. If tokens are not expected by `BertForSequenceClassification.forward`,  you can safely ignore this message.\n",
            "***** Running Evaluation *****\n",
            "  Num examples = 1674\n",
            "  Batch size = 16\n",
            "Saving model checkpoint to ./results/checkpoint-838\n",
            "Configuration saved in ./results/checkpoint-838/config.json\n",
            "Model weights saved in ./results/checkpoint-838/pytorch_model.bin\n",
            "tokenizer config file saved in ./results/checkpoint-838/tokenizer_config.json\n",
            "Special tokens file saved in ./results/checkpoint-838/special_tokens_map.json\n",
            "The following columns in the evaluation set don't have a corresponding argument in `BertForSequenceClassification.forward` and have been ignored: tokens. If tokens are not expected by `BertForSequenceClassification.forward`,  you can safely ignore this message.\n",
            "***** Running Evaluation *****\n",
            "  Num examples = 1674\n",
            "  Batch size = 16\n",
            "Saving model checkpoint to ./results/checkpoint-1676\n",
            "Configuration saved in ./results/checkpoint-1676/config.json\n",
            "Model weights saved in ./results/checkpoint-1676/pytorch_model.bin\n",
            "tokenizer config file saved in ./results/checkpoint-1676/tokenizer_config.json\n",
            "Special tokens file saved in ./results/checkpoint-1676/special_tokens_map.json\n",
            "The following columns in the evaluation set don't have a corresponding argument in `BertForSequenceClassification.forward` and have been ignored: tokens. If tokens are not expected by `BertForSequenceClassification.forward`,  you can safely ignore this message.\n",
            "***** Running Evaluation *****\n",
            "  Num examples = 1674\n",
            "  Batch size = 16\n",
            "Saving model checkpoint to ./results/checkpoint-2514\n",
            "Configuration saved in ./results/checkpoint-2514/config.json\n",
            "Model weights saved in ./results/checkpoint-2514/pytorch_model.bin\n",
            "tokenizer config file saved in ./results/checkpoint-2514/tokenizer_config.json\n",
            "Special tokens file saved in ./results/checkpoint-2514/special_tokens_map.json\n",
            "\n",
            "\n",
            "Training completed. Do not forget to share your model on huggingface.co/models =)\n",
            "\n",
            "\n",
            "Loading best model from ./results/checkpoint-1676 (score: 0.5285476726535665).\n"
          ]
        },
        {
          "output_type": "display_data",
          "data": {
            "text/plain": [
              "TrainOutput(global_step=2514, training_loss=0.6061285202144723, metrics={'train_runtime': 816.7086, 'train_samples_per_second': 49.2, 'train_steps_per_second': 3.078, 'total_flos': 1775868623519544.0, 'train_loss': 0.6061285202144723, 'epoch': 3.0})"
            ]
          },
          "metadata": {}
        },
        {
          "output_type": "stream",
          "name": "stderr",
          "text": [
            "The following columns in the evaluation set don't have a corresponding argument in `BertForSequenceClassification.forward` and have been ignored: tokens. If tokens are not expected by `BertForSequenceClassification.forward`,  you can safely ignore this message.\n",
            "***** Running Evaluation *****\n",
            "  Num examples = 1674\n",
            "  Batch size = 16\n"
          ]
        },
        {
          "output_type": "display_data",
          "data": {
            "text/plain": [
              "<IPython.core.display.HTML object>"
            ],
            "text/html": [
              "\n",
              "    <div>\n",
              "      \n",
              "      <progress value='210' max='105' style='width:300px; height:20px; vertical-align: middle;'></progress>\n",
              "      [105/105 00:18]\n",
              "    </div>\n",
              "    "
            ]
          },
          "metadata": {}
        },
        {
          "output_type": "display_data",
          "data": {
            "text/plain": [
              "{'epoch': 3.0,\n",
              " 'eval_accuracy': 0.5567502986857825,\n",
              " 'eval_f1': 0.5285476726535665,\n",
              " 'eval_loss': 1.2265983819961548,\n",
              " 'eval_precision': 0.5425565714851429,\n",
              " 'eval_recall': 0.52374654088472,\n",
              " 'eval_runtime': 9.2198,\n",
              " 'eval_samples_per_second': 181.566,\n",
              " 'eval_steps_per_second': 11.389}"
            ]
          },
          "metadata": {}
        },
        {
          "output_type": "stream",
          "name": "stderr",
          "text": [
            "The following columns in the test set don't have a corresponding argument in `BertForSequenceClassification.forward` and have been ignored: tokens. If tokens are not expected by `BertForSequenceClassification.forward`,  you can safely ignore this message.\n",
            "***** Running Prediction *****\n",
            "  Num examples = 1675\n",
            "  Batch size = 16\n"
          ]
        },
        {
          "output_type": "display_data",
          "data": {
            "text/plain": [
              "PredictionOutput(predictions=array([[ 2.979091  , -1.6636992 , -1.5398701 ,  2.212641  , -2.9077034 ],\n",
              "       [ 2.336499  , -2.0212781 ,  1.7375876 ,  1.0090541 , -3.6609035 ],\n",
              "       [ 1.2810286 , -3.0915082 ,  2.955997  ,  0.78869104, -2.680071  ],\n",
              "       ...,\n",
              "       [ 1.4296207 ,  3.4225059 , -3.0995514 ,  0.9431521 , -2.6815386 ],\n",
              "       [ 0.9804    , -3.0449114 ,  4.3757415 , -0.06949195, -2.7023401 ],\n",
              "       [ 1.1725712 , -0.05328814, -2.0808673 , -2.8646948 ,  3.789807  ]],\n",
              "      dtype=float32), label_ids=array([0, 3, 2, ..., 1, 2, 4]), metrics={'test_loss': 1.2057018280029297, 'test_accuracy': 0.5582089552238806, 'test_f1': 0.5175554917980448, 'test_precision': 0.5426340409432638, 'test_recall': 0.5034765782947601, 'test_runtime': 9.4604, 'test_samples_per_second': 177.055, 'test_steps_per_second': 11.099})"
            ]
          },
          "metadata": {}
        },
        {
          "output_type": "stream",
          "name": "stderr",
          "text": [
            "Saving model checkpoint to /content/drive/Shareddrives/PLN/Assignment 2/models/ga/bert-base-multilingual-cased\n",
            "Configuration saved in /content/drive/Shareddrives/PLN/Assignment 2/models/ga/bert-base-multilingual-cased/config.json\n",
            "Model weights saved in /content/drive/Shareddrives/PLN/Assignment 2/models/ga/bert-base-multilingual-cased/pytorch_model.bin\n",
            "tokenizer config file saved in /content/drive/Shareddrives/PLN/Assignment 2/models/ga/bert-base-multilingual-cased/tokenizer_config.json\n",
            "Special tokens file saved in /content/drive/Shareddrives/PLN/Assignment 2/models/ga/bert-base-multilingual-cased/special_tokens_map.json\n"
          ]
        }
      ]
    },
    {
      "cell_type": "code",
      "source": [
        "!rm -rf ./results/"
      ],
      "metadata": {
        "id": "mVDRS799qQA8"
      },
      "execution_count": 18,
      "outputs": []
    },
    {
      "cell_type": "markdown",
      "source": [
        "#### French"
      ],
      "metadata": {
        "id": "IUCt4xqj_pLs"
      }
    },
    {
      "cell_type": "code",
      "source": [
        "zero_shot(\"fr\")"
      ],
      "metadata": {
        "colab": {
          "base_uri": "https://localhost:8080/",
          "height": 1000
        },
        "id": "8wTvsSn6u_NH",
        "outputId": "b6efe419-ffbc-4180-951b-6ab7670e34ad"
      },
      "execution_count": 19,
      "outputs": [
        {
          "output_type": "stream",
          "name": "stderr",
          "text": [
            "PyTorch: setting up devices\n",
            "The default value for the training argument `--report_to` will change in v5 (from all installed integrations to none). In v5, you will need to use `--report_to all` to get the same behavior as now. You should start updating your code and make this info disappear :-).\n",
            "The following columns in the training set don't have a corresponding argument in `BertForSequenceClassification.forward` and have been ignored: tokens. If tokens are not expected by `BertForSequenceClassification.forward`,  you can safely ignore this message.\n",
            "/usr/local/lib/python3.7/dist-packages/transformers/optimization.py:309: FutureWarning: This implementation of AdamW is deprecated and will be removed in a future version. Use the PyTorch implementation torch.optim.AdamW instead, or set `no_deprecation_warning=True` to disable this warning\n",
            "  FutureWarning,\n",
            "***** Running training *****\n",
            "  Num examples = 13394\n",
            "  Num Epochs = 3\n",
            "  Instantaneous batch size per device = 16\n",
            "  Total train batch size (w. parallel, distributed & accumulation) = 16\n",
            "  Gradient Accumulation steps = 1\n",
            "  Total optimization steps = 2514\n"
          ]
        },
        {
          "output_type": "display_data",
          "data": {
            "text/plain": [
              "<IPython.core.display.HTML object>"
            ],
            "text/html": [
              "\n",
              "    <div>\n",
              "      \n",
              "      <progress value='2514' max='2514' style='width:300px; height:20px; vertical-align: middle;'></progress>\n",
              "      [2514/2514 13:36, Epoch 3/3]\n",
              "    </div>\n",
              "    <table border=\"1\" class=\"dataframe\">\n",
              "  <thead>\n",
              " <tr style=\"text-align: left;\">\n",
              "      <th>Epoch</th>\n",
              "      <th>Training Loss</th>\n",
              "      <th>Validation Loss</th>\n",
              "      <th>Accuracy</th>\n",
              "      <th>F1</th>\n",
              "      <th>Precision</th>\n",
              "      <th>Recall</th>\n",
              "    </tr>\n",
              "  </thead>\n",
              "  <tbody>\n",
              "    <tr>\n",
              "      <td>1</td>\n",
              "      <td>0.804400</td>\n",
              "      <td>1.102363</td>\n",
              "      <td>0.555556</td>\n",
              "      <td>0.525114</td>\n",
              "      <td>0.518421</td>\n",
              "      <td>0.543867</td>\n",
              "    </tr>\n",
              "    <tr>\n",
              "      <td>2</td>\n",
              "      <td>0.595400</td>\n",
              "      <td>1.213794</td>\n",
              "      <td>0.556750</td>\n",
              "      <td>0.526468</td>\n",
              "      <td>0.532517</td>\n",
              "      <td>0.538058</td>\n",
              "    </tr>\n",
              "    <tr>\n",
              "      <td>3</td>\n",
              "      <td>0.507500</td>\n",
              "      <td>1.361052</td>\n",
              "      <td>0.534050</td>\n",
              "      <td>0.507577</td>\n",
              "      <td>0.499313</td>\n",
              "      <td>0.518719</td>\n",
              "    </tr>\n",
              "  </tbody>\n",
              "</table><p>"
            ]
          },
          "metadata": {}
        },
        {
          "output_type": "stream",
          "name": "stderr",
          "text": [
            "The following columns in the evaluation set don't have a corresponding argument in `BertForSequenceClassification.forward` and have been ignored: tokens. If tokens are not expected by `BertForSequenceClassification.forward`,  you can safely ignore this message.\n",
            "***** Running Evaluation *****\n",
            "  Num examples = 1674\n",
            "  Batch size = 16\n",
            "Saving model checkpoint to ./results/checkpoint-838\n",
            "Configuration saved in ./results/checkpoint-838/config.json\n",
            "Model weights saved in ./results/checkpoint-838/pytorch_model.bin\n",
            "tokenizer config file saved in ./results/checkpoint-838/tokenizer_config.json\n",
            "Special tokens file saved in ./results/checkpoint-838/special_tokens_map.json\n",
            "The following columns in the evaluation set don't have a corresponding argument in `BertForSequenceClassification.forward` and have been ignored: tokens. If tokens are not expected by `BertForSequenceClassification.forward`,  you can safely ignore this message.\n",
            "***** Running Evaluation *****\n",
            "  Num examples = 1674\n",
            "  Batch size = 16\n",
            "Saving model checkpoint to ./results/checkpoint-1676\n",
            "Configuration saved in ./results/checkpoint-1676/config.json\n",
            "Model weights saved in ./results/checkpoint-1676/pytorch_model.bin\n",
            "tokenizer config file saved in ./results/checkpoint-1676/tokenizer_config.json\n",
            "Special tokens file saved in ./results/checkpoint-1676/special_tokens_map.json\n",
            "The following columns in the evaluation set don't have a corresponding argument in `BertForSequenceClassification.forward` and have been ignored: tokens. If tokens are not expected by `BertForSequenceClassification.forward`,  you can safely ignore this message.\n",
            "***** Running Evaluation *****\n",
            "  Num examples = 1674\n",
            "  Batch size = 16\n",
            "Saving model checkpoint to ./results/checkpoint-2514\n",
            "Configuration saved in ./results/checkpoint-2514/config.json\n",
            "Model weights saved in ./results/checkpoint-2514/pytorch_model.bin\n",
            "tokenizer config file saved in ./results/checkpoint-2514/tokenizer_config.json\n",
            "Special tokens file saved in ./results/checkpoint-2514/special_tokens_map.json\n",
            "\n",
            "\n",
            "Training completed. Do not forget to share your model on huggingface.co/models =)\n",
            "\n",
            "\n",
            "Loading best model from ./results/checkpoint-1676 (score: 0.526468372770523).\n"
          ]
        },
        {
          "output_type": "display_data",
          "data": {
            "text/plain": [
              "TrainOutput(global_step=2514, training_loss=0.6337519886954588, metrics={'train_runtime': 816.5466, 'train_samples_per_second': 49.21, 'train_steps_per_second': 3.079, 'total_flos': 1775868623519544.0, 'train_loss': 0.6337519886954588, 'epoch': 3.0})"
            ]
          },
          "metadata": {}
        },
        {
          "output_type": "stream",
          "name": "stderr",
          "text": [
            "The following columns in the evaluation set don't have a corresponding argument in `BertForSequenceClassification.forward` and have been ignored: tokens. If tokens are not expected by `BertForSequenceClassification.forward`,  you can safely ignore this message.\n",
            "***** Running Evaluation *****\n",
            "  Num examples = 1674\n",
            "  Batch size = 16\n"
          ]
        },
        {
          "output_type": "display_data",
          "data": {
            "text/plain": [
              "<IPython.core.display.HTML object>"
            ],
            "text/html": [
              "\n",
              "    <div>\n",
              "      \n",
              "      <progress value='210' max='105' style='width:300px; height:20px; vertical-align: middle;'></progress>\n",
              "      [105/105 00:18]\n",
              "    </div>\n",
              "    "
            ]
          },
          "metadata": {}
        },
        {
          "output_type": "display_data",
          "data": {
            "text/plain": [
              "{'epoch': 3.0,\n",
              " 'eval_accuracy': 0.5567502986857825,\n",
              " 'eval_f1': 0.526468372770523,\n",
              " 'eval_loss': 1.2137943506240845,\n",
              " 'eval_precision': 0.5325168420360612,\n",
              " 'eval_recall': 0.5380581959720734,\n",
              " 'eval_runtime': 9.2053,\n",
              " 'eval_samples_per_second': 181.852,\n",
              " 'eval_steps_per_second': 11.406}"
            ]
          },
          "metadata": {}
        },
        {
          "output_type": "stream",
          "name": "stderr",
          "text": [
            "The following columns in the test set don't have a corresponding argument in `BertForSequenceClassification.forward` and have been ignored: tokens. If tokens are not expected by `BertForSequenceClassification.forward`,  you can safely ignore this message.\n",
            "***** Running Prediction *****\n",
            "  Num examples = 1675\n",
            "  Batch size = 16\n"
          ]
        },
        {
          "output_type": "display_data",
          "data": {
            "text/plain": [
              "PredictionOutput(predictions=array([[ 2.7789636 , -1.8320004 , -1.3612224 ,  2.4146144 , -2.9325416 ],\n",
              "       [ 1.7230608 , -1.9590844 ,  2.178066  ,  1.0589224 , -3.982875  ],\n",
              "       [ 1.370651  , -3.4718704 ,  3.4706452 ,  0.75558776, -2.8990152 ],\n",
              "       ...,\n",
              "       [ 2.3340838 ,  2.5653589 , -2.4022202 ,  0.3235347 , -3.1236992 ],\n",
              "       [ 1.0710703 , -3.016546  ,  4.45786   , -0.10570648, -2.9112284 ],\n",
              "       [ 1.4195867 , -1.3453461 , -1.5903379 , -2.4765651 ,  4.0151343 ]],\n",
              "      dtype=float32), label_ids=array([0, 3, 2, ..., 1, 2, 4]), metrics={'test_loss': 1.2258025407791138, 'test_accuracy': 0.5408955223880597, 'test_f1': 0.5053307095536879, 'test_precision': 0.5130058664671668, 'test_recall': 0.5128002652548107, 'test_runtime': 9.4301, 'test_samples_per_second': 177.623, 'test_steps_per_second': 11.135})"
            ]
          },
          "metadata": {}
        },
        {
          "output_type": "stream",
          "name": "stderr",
          "text": [
            "Saving model checkpoint to /content/drive/Shareddrives/PLN/Assignment 2/models/fr/bert-base-multilingual-cased\n",
            "Configuration saved in /content/drive/Shareddrives/PLN/Assignment 2/models/fr/bert-base-multilingual-cased/config.json\n",
            "Model weights saved in /content/drive/Shareddrives/PLN/Assignment 2/models/fr/bert-base-multilingual-cased/pytorch_model.bin\n",
            "tokenizer config file saved in /content/drive/Shareddrives/PLN/Assignment 2/models/fr/bert-base-multilingual-cased/tokenizer_config.json\n",
            "Special tokens file saved in /content/drive/Shareddrives/PLN/Assignment 2/models/fr/bert-base-multilingual-cased/special_tokens_map.json\n"
          ]
        }
      ]
    },
    {
      "cell_type": "code",
      "source": [
        "!rm -rf ./results/"
      ],
      "metadata": {
        "id": "JgO9zyt2vCju"
      },
      "execution_count": 20,
      "outputs": []
    },
    {
      "cell_type": "markdown",
      "source": [
        "#### Italian"
      ],
      "metadata": {
        "id": "iwEJUxTR_quy"
      }
    },
    {
      "cell_type": "code",
      "source": [
        "zero_shot(\"it\")"
      ],
      "metadata": {
        "colab": {
          "base_uri": "https://localhost:8080/",
          "height": 1000
        },
        "id": "4IBaLWGM2q02",
        "outputId": "a1451527-76c7-495b-98b9-df9e6b85675b"
      },
      "execution_count": 21,
      "outputs": [
        {
          "output_type": "stream",
          "name": "stderr",
          "text": [
            "PyTorch: setting up devices\n",
            "The default value for the training argument `--report_to` will change in v5 (from all installed integrations to none). In v5, you will need to use `--report_to all` to get the same behavior as now. You should start updating your code and make this info disappear :-).\n",
            "The following columns in the training set don't have a corresponding argument in `BertForSequenceClassification.forward` and have been ignored: tokens. If tokens are not expected by `BertForSequenceClassification.forward`,  you can safely ignore this message.\n",
            "/usr/local/lib/python3.7/dist-packages/transformers/optimization.py:309: FutureWarning: This implementation of AdamW is deprecated and will be removed in a future version. Use the PyTorch implementation torch.optim.AdamW instead, or set `no_deprecation_warning=True` to disable this warning\n",
            "  FutureWarning,\n",
            "***** Running training *****\n",
            "  Num examples = 13394\n",
            "  Num Epochs = 3\n",
            "  Instantaneous batch size per device = 16\n",
            "  Total train batch size (w. parallel, distributed & accumulation) = 16\n",
            "  Gradient Accumulation steps = 1\n",
            "  Total optimization steps = 2514\n"
          ]
        },
        {
          "output_type": "display_data",
          "data": {
            "text/plain": [
              "<IPython.core.display.HTML object>"
            ],
            "text/html": [
              "\n",
              "    <div>\n",
              "      \n",
              "      <progress value='2514' max='2514' style='width:300px; height:20px; vertical-align: middle;'></progress>\n",
              "      [2514/2514 13:30, Epoch 3/3]\n",
              "    </div>\n",
              "    <table border=\"1\" class=\"dataframe\">\n",
              "  <thead>\n",
              " <tr style=\"text-align: left;\">\n",
              "      <th>Epoch</th>\n",
              "      <th>Training Loss</th>\n",
              "      <th>Validation Loss</th>\n",
              "      <th>Accuracy</th>\n",
              "      <th>F1</th>\n",
              "      <th>Precision</th>\n",
              "      <th>Recall</th>\n",
              "    </tr>\n",
              "  </thead>\n",
              "  <tbody>\n",
              "    <tr>\n",
              "      <td>1</td>\n",
              "      <td>0.672200</td>\n",
              "      <td>1.229860</td>\n",
              "      <td>0.556153</td>\n",
              "      <td>0.502326</td>\n",
              "      <td>0.539126</td>\n",
              "      <td>0.479781</td>\n",
              "    </tr>\n",
              "    <tr>\n",
              "      <td>2</td>\n",
              "      <td>0.518800</td>\n",
              "      <td>1.332829</td>\n",
              "      <td>0.531661</td>\n",
              "      <td>0.505466</td>\n",
              "      <td>0.506375</td>\n",
              "      <td>0.510227</td>\n",
              "    </tr>\n",
              "    <tr>\n",
              "      <td>3</td>\n",
              "      <td>0.474900</td>\n",
              "      <td>1.454119</td>\n",
              "      <td>0.532258</td>\n",
              "      <td>0.511354</td>\n",
              "      <td>0.507593</td>\n",
              "      <td>0.519838</td>\n",
              "    </tr>\n",
              "  </tbody>\n",
              "</table><p>"
            ]
          },
          "metadata": {}
        },
        {
          "output_type": "stream",
          "name": "stderr",
          "text": [
            "The following columns in the evaluation set don't have a corresponding argument in `BertForSequenceClassification.forward` and have been ignored: tokens. If tokens are not expected by `BertForSequenceClassification.forward`,  you can safely ignore this message.\n",
            "***** Running Evaluation *****\n",
            "  Num examples = 1674\n",
            "  Batch size = 16\n",
            "Saving model checkpoint to ./results/checkpoint-838\n",
            "Configuration saved in ./results/checkpoint-838/config.json\n",
            "Model weights saved in ./results/checkpoint-838/pytorch_model.bin\n",
            "tokenizer config file saved in ./results/checkpoint-838/tokenizer_config.json\n",
            "Special tokens file saved in ./results/checkpoint-838/special_tokens_map.json\n",
            "The following columns in the evaluation set don't have a corresponding argument in `BertForSequenceClassification.forward` and have been ignored: tokens. If tokens are not expected by `BertForSequenceClassification.forward`,  you can safely ignore this message.\n",
            "***** Running Evaluation *****\n",
            "  Num examples = 1674\n",
            "  Batch size = 16\n",
            "Saving model checkpoint to ./results/checkpoint-1676\n",
            "Configuration saved in ./results/checkpoint-1676/config.json\n",
            "Model weights saved in ./results/checkpoint-1676/pytorch_model.bin\n",
            "tokenizer config file saved in ./results/checkpoint-1676/tokenizer_config.json\n",
            "Special tokens file saved in ./results/checkpoint-1676/special_tokens_map.json\n",
            "The following columns in the evaluation set don't have a corresponding argument in `BertForSequenceClassification.forward` and have been ignored: tokens. If tokens are not expected by `BertForSequenceClassification.forward`,  you can safely ignore this message.\n",
            "***** Running Evaluation *****\n",
            "  Num examples = 1674\n",
            "  Batch size = 16\n",
            "Saving model checkpoint to ./results/checkpoint-2514\n",
            "Configuration saved in ./results/checkpoint-2514/config.json\n",
            "Model weights saved in ./results/checkpoint-2514/pytorch_model.bin\n",
            "tokenizer config file saved in ./results/checkpoint-2514/tokenizer_config.json\n",
            "Special tokens file saved in ./results/checkpoint-2514/special_tokens_map.json\n",
            "\n",
            "\n",
            "Training completed. Do not forget to share your model on huggingface.co/models =)\n",
            "\n",
            "\n",
            "Loading best model from ./results/checkpoint-2514 (score: 0.5113536969913994).\n"
          ]
        },
        {
          "output_type": "display_data",
          "data": {
            "text/plain": [
              "TrainOutput(global_step=2514, training_loss=0.5504074250314571, metrics={'train_runtime': 811.2669, 'train_samples_per_second': 49.53, 'train_steps_per_second': 3.099, 'total_flos': 1775868623519544.0, 'train_loss': 0.5504074250314571, 'epoch': 3.0})"
            ]
          },
          "metadata": {}
        },
        {
          "output_type": "stream",
          "name": "stderr",
          "text": [
            "The following columns in the evaluation set don't have a corresponding argument in `BertForSequenceClassification.forward` and have been ignored: tokens. If tokens are not expected by `BertForSequenceClassification.forward`,  you can safely ignore this message.\n",
            "***** Running Evaluation *****\n",
            "  Num examples = 1674\n",
            "  Batch size = 16\n"
          ]
        },
        {
          "output_type": "display_data",
          "data": {
            "text/plain": [
              "<IPython.core.display.HTML object>"
            ],
            "text/html": [
              "\n",
              "    <div>\n",
              "      \n",
              "      <progress value='210' max='105' style='width:300px; height:20px; vertical-align: middle;'></progress>\n",
              "      [105/105 00:18]\n",
              "    </div>\n",
              "    "
            ]
          },
          "metadata": {}
        },
        {
          "output_type": "display_data",
          "data": {
            "text/plain": [
              "{'epoch': 3.0,\n",
              " 'eval_accuracy': 0.532258064516129,\n",
              " 'eval_f1': 0.5113536969913994,\n",
              " 'eval_loss': 1.454119086265564,\n",
              " 'eval_precision': 0.5075932687956994,\n",
              " 'eval_recall': 0.5198380024085583,\n",
              " 'eval_runtime': 9.3285,\n",
              " 'eval_samples_per_second': 179.45,\n",
              " 'eval_steps_per_second': 11.256}"
            ]
          },
          "metadata": {}
        },
        {
          "output_type": "stream",
          "name": "stderr",
          "text": [
            "The following columns in the test set don't have a corresponding argument in `BertForSequenceClassification.forward` and have been ignored: tokens. If tokens are not expected by `BertForSequenceClassification.forward`,  you can safely ignore this message.\n",
            "***** Running Prediction *****\n",
            "  Num examples = 1675\n",
            "  Batch size = 16\n"
          ]
        },
        {
          "output_type": "display_data",
          "data": {
            "text/plain": [
              "PredictionOutput(predictions=array([[ 4.390415  , -2.5091972 , -1.5952117 ,  1.3535274 , -3.4117403 ],\n",
              "       [ 2.0807445 , -2.2641907 ,  2.285258  ,  0.63960934, -3.8179755 ],\n",
              "       [ 0.9006915 , -3.0546267 ,  4.2198734 ,  0.13133536, -2.7574365 ],\n",
              "       ...,\n",
              "       [ 2.2087047 ,  4.016245  , -3.214292  , -0.44390032, -2.763296  ],\n",
              "       [ 0.47694308, -2.6573312 ,  4.9704366 ,  0.05897301, -3.2288368 ],\n",
              "       [ 1.3633063 , -1.3371292 , -1.7399693 , -2.5681915 ,  4.232589  ]],\n",
              "      dtype=float32), label_ids=array([0, 3, 2, ..., 1, 2, 4]), metrics={'test_loss': 1.4337358474731445, 'test_accuracy': 0.5605970149253732, 'test_f1': 0.5268435390284084, 'test_precision': 0.5303695094067737, 'test_recall': 0.5268314871042143, 'test_runtime': 9.5289, 'test_samples_per_second': 175.781, 'test_steps_per_second': 11.019})"
            ]
          },
          "metadata": {}
        },
        {
          "output_type": "stream",
          "name": "stderr",
          "text": [
            "Saving model checkpoint to /content/drive/Shareddrives/PLN/Assignment 2/models/it/bert-base-multilingual-cased\n",
            "Configuration saved in /content/drive/Shareddrives/PLN/Assignment 2/models/it/bert-base-multilingual-cased/config.json\n",
            "Model weights saved in /content/drive/Shareddrives/PLN/Assignment 2/models/it/bert-base-multilingual-cased/pytorch_model.bin\n",
            "tokenizer config file saved in /content/drive/Shareddrives/PLN/Assignment 2/models/it/bert-base-multilingual-cased/tokenizer_config.json\n",
            "Special tokens file saved in /content/drive/Shareddrives/PLN/Assignment 2/models/it/bert-base-multilingual-cased/special_tokens_map.json\n"
          ]
        }
      ]
    },
    {
      "cell_type": "code",
      "source": [
        "!rm -rf ./results/"
      ],
      "metadata": {
        "id": "Sywb8p5j2uPe"
      },
      "execution_count": 22,
      "outputs": []
    },
    {
      "cell_type": "markdown",
      "source": [
        "#### Romanian"
      ],
      "metadata": {
        "id": "u2J-hM-N_sLH"
      }
    },
    {
      "cell_type": "code",
      "source": [
        "zero_shot(\"ro\")"
      ],
      "metadata": {
        "colab": {
          "base_uri": "https://localhost:8080/",
          "height": 1000
        },
        "id": "-gixepLM2vMC",
        "outputId": "ee4eb241-812b-42e0-bbd4-e637c9dd6ab0"
      },
      "execution_count": 23,
      "outputs": [
        {
          "output_type": "stream",
          "name": "stderr",
          "text": [
            "PyTorch: setting up devices\n",
            "The default value for the training argument `--report_to` will change in v5 (from all installed integrations to none). In v5, you will need to use `--report_to all` to get the same behavior as now. You should start updating your code and make this info disappear :-).\n",
            "The following columns in the training set don't have a corresponding argument in `BertForSequenceClassification.forward` and have been ignored: tokens. If tokens are not expected by `BertForSequenceClassification.forward`,  you can safely ignore this message.\n",
            "/usr/local/lib/python3.7/dist-packages/transformers/optimization.py:309: FutureWarning: This implementation of AdamW is deprecated and will be removed in a future version. Use the PyTorch implementation torch.optim.AdamW instead, or set `no_deprecation_warning=True` to disable this warning\n",
            "  FutureWarning,\n",
            "***** Running training *****\n",
            "  Num examples = 13394\n",
            "  Num Epochs = 3\n",
            "  Instantaneous batch size per device = 16\n",
            "  Total train batch size (w. parallel, distributed & accumulation) = 16\n",
            "  Gradient Accumulation steps = 1\n",
            "  Total optimization steps = 2514\n"
          ]
        },
        {
          "output_type": "display_data",
          "data": {
            "text/plain": [
              "<IPython.core.display.HTML object>"
            ],
            "text/html": [
              "\n",
              "    <div>\n",
              "      \n",
              "      <progress value='2514' max='2514' style='width:300px; height:20px; vertical-align: middle;'></progress>\n",
              "      [2514/2514 13:35, Epoch 3/3]\n",
              "    </div>\n",
              "    <table border=\"1\" class=\"dataframe\">\n",
              "  <thead>\n",
              " <tr style=\"text-align: left;\">\n",
              "      <th>Epoch</th>\n",
              "      <th>Training Loss</th>\n",
              "      <th>Validation Loss</th>\n",
              "      <th>Accuracy</th>\n",
              "      <th>F1</th>\n",
              "      <th>Precision</th>\n",
              "      <th>Recall</th>\n",
              "    </tr>\n",
              "  </thead>\n",
              "  <tbody>\n",
              "    <tr>\n",
              "      <td>1</td>\n",
              "      <td>0.773400</td>\n",
              "      <td>1.236294</td>\n",
              "      <td>0.544803</td>\n",
              "      <td>0.494346</td>\n",
              "      <td>0.536383</td>\n",
              "      <td>0.470115</td>\n",
              "    </tr>\n",
              "    <tr>\n",
              "      <td>2</td>\n",
              "      <td>0.578900</td>\n",
              "      <td>1.358112</td>\n",
              "      <td>0.541816</td>\n",
              "      <td>0.508635</td>\n",
              "      <td>0.522934</td>\n",
              "      <td>0.499847</td>\n",
              "    </tr>\n",
              "    <tr>\n",
              "      <td>3</td>\n",
              "      <td>0.499100</td>\n",
              "      <td>1.503880</td>\n",
              "      <td>0.523895</td>\n",
              "      <td>0.495132</td>\n",
              "      <td>0.504056</td>\n",
              "      <td>0.487778</td>\n",
              "    </tr>\n",
              "  </tbody>\n",
              "</table><p>"
            ]
          },
          "metadata": {}
        },
        {
          "output_type": "stream",
          "name": "stderr",
          "text": [
            "The following columns in the evaluation set don't have a corresponding argument in `BertForSequenceClassification.forward` and have been ignored: tokens. If tokens are not expected by `BertForSequenceClassification.forward`,  you can safely ignore this message.\n",
            "***** Running Evaluation *****\n",
            "  Num examples = 1674\n",
            "  Batch size = 16\n",
            "Saving model checkpoint to ./results/checkpoint-838\n",
            "Configuration saved in ./results/checkpoint-838/config.json\n",
            "Model weights saved in ./results/checkpoint-838/pytorch_model.bin\n",
            "tokenizer config file saved in ./results/checkpoint-838/tokenizer_config.json\n",
            "Special tokens file saved in ./results/checkpoint-838/special_tokens_map.json\n",
            "The following columns in the evaluation set don't have a corresponding argument in `BertForSequenceClassification.forward` and have been ignored: tokens. If tokens are not expected by `BertForSequenceClassification.forward`,  you can safely ignore this message.\n",
            "***** Running Evaluation *****\n",
            "  Num examples = 1674\n",
            "  Batch size = 16\n",
            "Saving model checkpoint to ./results/checkpoint-1676\n",
            "Configuration saved in ./results/checkpoint-1676/config.json\n",
            "Model weights saved in ./results/checkpoint-1676/pytorch_model.bin\n",
            "tokenizer config file saved in ./results/checkpoint-1676/tokenizer_config.json\n",
            "Special tokens file saved in ./results/checkpoint-1676/special_tokens_map.json\n",
            "The following columns in the evaluation set don't have a corresponding argument in `BertForSequenceClassification.forward` and have been ignored: tokens. If tokens are not expected by `BertForSequenceClassification.forward`,  you can safely ignore this message.\n",
            "***** Running Evaluation *****\n",
            "  Num examples = 1674\n",
            "  Batch size = 16\n",
            "Saving model checkpoint to ./results/checkpoint-2514\n",
            "Configuration saved in ./results/checkpoint-2514/config.json\n",
            "Model weights saved in ./results/checkpoint-2514/pytorch_model.bin\n",
            "tokenizer config file saved in ./results/checkpoint-2514/tokenizer_config.json\n",
            "Special tokens file saved in ./results/checkpoint-2514/special_tokens_map.json\n",
            "\n",
            "\n",
            "Training completed. Do not forget to share your model on huggingface.co/models =)\n",
            "\n",
            "\n",
            "Loading best model from ./results/checkpoint-1676 (score: 0.5086353968463568).\n"
          ]
        },
        {
          "output_type": "display_data",
          "data": {
            "text/plain": [
              "TrainOutput(global_step=2514, training_loss=0.6147597896360459, metrics={'train_runtime': 815.5705, 'train_samples_per_second': 49.269, 'train_steps_per_second': 3.083, 'total_flos': 1775868623519544.0, 'train_loss': 0.6147597896360459, 'epoch': 3.0})"
            ]
          },
          "metadata": {}
        },
        {
          "output_type": "stream",
          "name": "stderr",
          "text": [
            "The following columns in the evaluation set don't have a corresponding argument in `BertForSequenceClassification.forward` and have been ignored: tokens. If tokens are not expected by `BertForSequenceClassification.forward`,  you can safely ignore this message.\n",
            "***** Running Evaluation *****\n",
            "  Num examples = 1674\n",
            "  Batch size = 16\n"
          ]
        },
        {
          "output_type": "display_data",
          "data": {
            "text/plain": [
              "<IPython.core.display.HTML object>"
            ],
            "text/html": [
              "\n",
              "    <div>\n",
              "      \n",
              "      <progress value='210' max='105' style='width:300px; height:20px; vertical-align: middle;'></progress>\n",
              "      [105/105 00:18]\n",
              "    </div>\n",
              "    "
            ]
          },
          "metadata": {}
        },
        {
          "output_type": "display_data",
          "data": {
            "text/plain": [
              "{'epoch': 3.0,\n",
              " 'eval_accuracy': 0.5418160095579451,\n",
              " 'eval_f1': 0.5086353968463568,\n",
              " 'eval_loss': 1.358112096786499,\n",
              " 'eval_precision': 0.5229340440404717,\n",
              " 'eval_recall': 0.4998471452559022,\n",
              " 'eval_runtime': 9.2551,\n",
              " 'eval_samples_per_second': 180.874,\n",
              " 'eval_steps_per_second': 11.345}"
            ]
          },
          "metadata": {}
        },
        {
          "output_type": "stream",
          "name": "stderr",
          "text": [
            "The following columns in the test set don't have a corresponding argument in `BertForSequenceClassification.forward` and have been ignored: tokens. If tokens are not expected by `BertForSequenceClassification.forward`,  you can safely ignore this message.\n",
            "***** Running Prediction *****\n",
            "  Num examples = 1675\n",
            "  Batch size = 16\n"
          ]
        },
        {
          "output_type": "display_data",
          "data": {
            "text/plain": [
              "PredictionOutput(predictions=array([[ 3.3729086 , -2.2987332 , -1.5236608 ,  2.9040341 , -3.8212361 ],\n",
              "       [ 2.40844   , -1.2382742 ,  1.4599144 ,  0.2062933 , -3.8143141 ],\n",
              "       [ 1.1286784 , -3.6143486 ,  3.5224068 ,  1.2309724 , -3.0709188 ],\n",
              "       ...,\n",
              "       [ 2.9815881 ,  1.259246  , -2.6544123 ,  1.2848495 , -3.848719  ],\n",
              "       [ 0.6710588 , -3.4833012 ,  4.8904886 ,  0.13078153, -2.9407892 ],\n",
              "       [ 1.1168277 , -1.2139498 , -1.9687793 , -2.0621443 ,  4.127039  ]],\n",
              "      dtype=float32), label_ids=array([0, 3, 2, ..., 1, 2, 4]), metrics={'test_loss': 1.3584296703338623, 'test_accuracy': 0.5450746268656717, 'test_f1': 0.49632022587788516, 'test_precision': 0.5214839662853626, 'test_recall': 0.4797219889038071, 'test_runtime': 9.5083, 'test_samples_per_second': 176.161, 'test_steps_per_second': 11.043})"
            ]
          },
          "metadata": {}
        },
        {
          "output_type": "stream",
          "name": "stderr",
          "text": [
            "Saving model checkpoint to /content/drive/Shareddrives/PLN/Assignment 2/models/ro/bert-base-multilingual-cased\n",
            "Configuration saved in /content/drive/Shareddrives/PLN/Assignment 2/models/ro/bert-base-multilingual-cased/config.json\n",
            "Model weights saved in /content/drive/Shareddrives/PLN/Assignment 2/models/ro/bert-base-multilingual-cased/pytorch_model.bin\n",
            "tokenizer config file saved in /content/drive/Shareddrives/PLN/Assignment 2/models/ro/bert-base-multilingual-cased/tokenizer_config.json\n",
            "Special tokens file saved in /content/drive/Shareddrives/PLN/Assignment 2/models/ro/bert-base-multilingual-cased/special_tokens_map.json\n"
          ]
        }
      ]
    },
    {
      "cell_type": "code",
      "source": [
        "!rm -rf ./results/"
      ],
      "metadata": {
        "id": "g9SildC62vMD"
      },
      "execution_count": 24,
      "outputs": []
    },
    {
      "cell_type": "code",
      "source": [
        "tokenized_dataset"
      ],
      "metadata": {
        "colab": {
          "base_uri": "https://localhost:8080/"
        },
        "id": "GAJH8IQQ_Vzs",
        "outputId": "7d28474e-0fec-4b40-f4e7-daa74dcb9c56"
      },
      "execution_count": 29,
      "outputs": [
        {
          "output_type": "execute_result",
          "data": {
            "text/plain": [
              "DatasetDict({\n",
              "    train_pt: Dataset({\n",
              "        features: ['tokens', 'label', 'input_ids', 'token_type_ids', 'attention_mask'],\n",
              "        num_rows: 13394\n",
              "    })\n",
              "    validation: Dataset({\n",
              "        features: ['tokens', 'label', 'input_ids', 'token_type_ids', 'attention_mask'],\n",
              "        num_rows: 1674\n",
              "    })\n",
              "    test: Dataset({\n",
              "        features: ['tokens', 'label', 'input_ids', 'token_type_ids', 'attention_mask'],\n",
              "        num_rows: 1675\n",
              "    })\n",
              "    train_en: Dataset({\n",
              "        features: ['tokens', 'label', 'input_ids', 'token_type_ids', 'attention_mask'],\n",
              "        num_rows: 13394\n",
              "    })\n",
              "    train_es: Dataset({\n",
              "        features: ['tokens', 'label', 'input_ids', 'token_type_ids', 'attention_mask'],\n",
              "        num_rows: 13394\n",
              "    })\n",
              "    train_ga: Dataset({\n",
              "        features: ['tokens', 'label', 'input_ids', 'token_type_ids', 'attention_mask'],\n",
              "        num_rows: 13394\n",
              "    })\n",
              "    train_fr: Dataset({\n",
              "        features: ['tokens', 'label', 'input_ids', 'token_type_ids', 'attention_mask'],\n",
              "        num_rows: 13394\n",
              "    })\n",
              "    train_it: Dataset({\n",
              "        features: ['tokens', 'label', 'input_ids', 'token_type_ids', 'attention_mask'],\n",
              "        num_rows: 13394\n",
              "    })\n",
              "    train_ro: Dataset({\n",
              "        features: ['tokens', 'label', 'input_ids', 'token_type_ids', 'attention_mask'],\n",
              "        num_rows: 13394\n",
              "    })\n",
              "})"
            ]
          },
          "metadata": {},
          "execution_count": 29
        }
      ]
    }
  ],
  "metadata": {
    "colab": {
      "name": "multilingual.ipynb",
      "provenance": [],
      "collapsed_sections": [],
      "toc_visible": true
    },
    "kernelspec": {
      "display_name": "Python 3 (ipykernel)",
      "language": "python",
      "name": "python3"
    },
    "language_info": {
      "codemirror_mode": {
        "name": "ipython",
        "version": 3
      },
      "file_extension": ".py",
      "mimetype": "text/x-python",
      "name": "python",
      "nbconvert_exporter": "python",
      "pygments_lexer": "ipython3",
      "version": "3.8.13"
    },
    "widgets": {
      "application/vnd.jupyter.widget-state+json": {
        "8a9d0812f0e34859ab1ba04a1ef2b0c5": {
          "model_module": "@jupyter-widgets/controls",
          "model_name": "HBoxModel",
          "model_module_version": "1.5.0",
          "state": {
            "_dom_classes": [],
            "_model_module": "@jupyter-widgets/controls",
            "_model_module_version": "1.5.0",
            "_model_name": "HBoxModel",
            "_view_count": null,
            "_view_module": "@jupyter-widgets/controls",
            "_view_module_version": "1.5.0",
            "_view_name": "HBoxView",
            "box_style": "",
            "children": [
              "IPY_MODEL_c9f43d8cd36147d49b2e9f16ee545266",
              "IPY_MODEL_1216cc552a2b40a7a8dc6171d9c4121a",
              "IPY_MODEL_cbf13835e6414bbe85924de5990a7383"
            ],
            "layout": "IPY_MODEL_ef8aa2e8d0ff42c1bd3ca7dfafee913c"
          }
        },
        "c9f43d8cd36147d49b2e9f16ee545266": {
          "model_module": "@jupyter-widgets/controls",
          "model_name": "HTMLModel",
          "model_module_version": "1.5.0",
          "state": {
            "_dom_classes": [],
            "_model_module": "@jupyter-widgets/controls",
            "_model_module_version": "1.5.0",
            "_model_name": "HTMLModel",
            "_view_count": null,
            "_view_module": "@jupyter-widgets/controls",
            "_view_module_version": "1.5.0",
            "_view_name": "HTMLView",
            "description": "",
            "description_tooltip": null,
            "layout": "IPY_MODEL_58fc6329ea6d4900a4585cd3549d8432",
            "placeholder": "​",
            "style": "IPY_MODEL_2e373de67f794171ba658dfbea33ca6a",
            "value": "100%"
          }
        },
        "1216cc552a2b40a7a8dc6171d9c4121a": {
          "model_module": "@jupyter-widgets/controls",
          "model_name": "FloatProgressModel",
          "model_module_version": "1.5.0",
          "state": {
            "_dom_classes": [],
            "_model_module": "@jupyter-widgets/controls",
            "_model_module_version": "1.5.0",
            "_model_name": "FloatProgressModel",
            "_view_count": null,
            "_view_module": "@jupyter-widgets/controls",
            "_view_module_version": "1.5.0",
            "_view_name": "ProgressView",
            "bar_style": "success",
            "description": "",
            "description_tooltip": null,
            "layout": "IPY_MODEL_d6c3230482c94ce0815c0a3c9d1d4d43",
            "max": 14,
            "min": 0,
            "orientation": "horizontal",
            "style": "IPY_MODEL_e55b8a8a14e8443b9f1a42351beb7d78",
            "value": 14
          }
        },
        "cbf13835e6414bbe85924de5990a7383": {
          "model_module": "@jupyter-widgets/controls",
          "model_name": "HTMLModel",
          "model_module_version": "1.5.0",
          "state": {
            "_dom_classes": [],
            "_model_module": "@jupyter-widgets/controls",
            "_model_module_version": "1.5.0",
            "_model_name": "HTMLModel",
            "_view_count": null,
            "_view_module": "@jupyter-widgets/controls",
            "_view_module_version": "1.5.0",
            "_view_name": "HTMLView",
            "description": "",
            "description_tooltip": null,
            "layout": "IPY_MODEL_b4f7579d6055432895c2a75a739f1f3c",
            "placeholder": "​",
            "style": "IPY_MODEL_384f0fefb5cf461b934b178aa3b7a9ef",
            "value": " 14/14 [00:01&lt;00:00,  7.25ba/s]"
          }
        },
        "ef8aa2e8d0ff42c1bd3ca7dfafee913c": {
          "model_module": "@jupyter-widgets/base",
          "model_name": "LayoutModel",
          "model_module_version": "1.2.0",
          "state": {
            "_model_module": "@jupyter-widgets/base",
            "_model_module_version": "1.2.0",
            "_model_name": "LayoutModel",
            "_view_count": null,
            "_view_module": "@jupyter-widgets/base",
            "_view_module_version": "1.2.0",
            "_view_name": "LayoutView",
            "align_content": null,
            "align_items": null,
            "align_self": null,
            "border": null,
            "bottom": null,
            "display": null,
            "flex": null,
            "flex_flow": null,
            "grid_area": null,
            "grid_auto_columns": null,
            "grid_auto_flow": null,
            "grid_auto_rows": null,
            "grid_column": null,
            "grid_gap": null,
            "grid_row": null,
            "grid_template_areas": null,
            "grid_template_columns": null,
            "grid_template_rows": null,
            "height": null,
            "justify_content": null,
            "justify_items": null,
            "left": null,
            "margin": null,
            "max_height": null,
            "max_width": null,
            "min_height": null,
            "min_width": null,
            "object_fit": null,
            "object_position": null,
            "order": null,
            "overflow": null,
            "overflow_x": null,
            "overflow_y": null,
            "padding": null,
            "right": null,
            "top": null,
            "visibility": null,
            "width": null
          }
        },
        "58fc6329ea6d4900a4585cd3549d8432": {
          "model_module": "@jupyter-widgets/base",
          "model_name": "LayoutModel",
          "model_module_version": "1.2.0",
          "state": {
            "_model_module": "@jupyter-widgets/base",
            "_model_module_version": "1.2.0",
            "_model_name": "LayoutModel",
            "_view_count": null,
            "_view_module": "@jupyter-widgets/base",
            "_view_module_version": "1.2.0",
            "_view_name": "LayoutView",
            "align_content": null,
            "align_items": null,
            "align_self": null,
            "border": null,
            "bottom": null,
            "display": null,
            "flex": null,
            "flex_flow": null,
            "grid_area": null,
            "grid_auto_columns": null,
            "grid_auto_flow": null,
            "grid_auto_rows": null,
            "grid_column": null,
            "grid_gap": null,
            "grid_row": null,
            "grid_template_areas": null,
            "grid_template_columns": null,
            "grid_template_rows": null,
            "height": null,
            "justify_content": null,
            "justify_items": null,
            "left": null,
            "margin": null,
            "max_height": null,
            "max_width": null,
            "min_height": null,
            "min_width": null,
            "object_fit": null,
            "object_position": null,
            "order": null,
            "overflow": null,
            "overflow_x": null,
            "overflow_y": null,
            "padding": null,
            "right": null,
            "top": null,
            "visibility": null,
            "width": null
          }
        },
        "2e373de67f794171ba658dfbea33ca6a": {
          "model_module": "@jupyter-widgets/controls",
          "model_name": "DescriptionStyleModel",
          "model_module_version": "1.5.0",
          "state": {
            "_model_module": "@jupyter-widgets/controls",
            "_model_module_version": "1.5.0",
            "_model_name": "DescriptionStyleModel",
            "_view_count": null,
            "_view_module": "@jupyter-widgets/base",
            "_view_module_version": "1.2.0",
            "_view_name": "StyleView",
            "description_width": ""
          }
        },
        "d6c3230482c94ce0815c0a3c9d1d4d43": {
          "model_module": "@jupyter-widgets/base",
          "model_name": "LayoutModel",
          "model_module_version": "1.2.0",
          "state": {
            "_model_module": "@jupyter-widgets/base",
            "_model_module_version": "1.2.0",
            "_model_name": "LayoutModel",
            "_view_count": null,
            "_view_module": "@jupyter-widgets/base",
            "_view_module_version": "1.2.0",
            "_view_name": "LayoutView",
            "align_content": null,
            "align_items": null,
            "align_self": null,
            "border": null,
            "bottom": null,
            "display": null,
            "flex": null,
            "flex_flow": null,
            "grid_area": null,
            "grid_auto_columns": null,
            "grid_auto_flow": null,
            "grid_auto_rows": null,
            "grid_column": null,
            "grid_gap": null,
            "grid_row": null,
            "grid_template_areas": null,
            "grid_template_columns": null,
            "grid_template_rows": null,
            "height": null,
            "justify_content": null,
            "justify_items": null,
            "left": null,
            "margin": null,
            "max_height": null,
            "max_width": null,
            "min_height": null,
            "min_width": null,
            "object_fit": null,
            "object_position": null,
            "order": null,
            "overflow": null,
            "overflow_x": null,
            "overflow_y": null,
            "padding": null,
            "right": null,
            "top": null,
            "visibility": null,
            "width": null
          }
        },
        "e55b8a8a14e8443b9f1a42351beb7d78": {
          "model_module": "@jupyter-widgets/controls",
          "model_name": "ProgressStyleModel",
          "model_module_version": "1.5.0",
          "state": {
            "_model_module": "@jupyter-widgets/controls",
            "_model_module_version": "1.5.0",
            "_model_name": "ProgressStyleModel",
            "_view_count": null,
            "_view_module": "@jupyter-widgets/base",
            "_view_module_version": "1.2.0",
            "_view_name": "StyleView",
            "bar_color": null,
            "description_width": ""
          }
        },
        "b4f7579d6055432895c2a75a739f1f3c": {
          "model_module": "@jupyter-widgets/base",
          "model_name": "LayoutModel",
          "model_module_version": "1.2.0",
          "state": {
            "_model_module": "@jupyter-widgets/base",
            "_model_module_version": "1.2.0",
            "_model_name": "LayoutModel",
            "_view_count": null,
            "_view_module": "@jupyter-widgets/base",
            "_view_module_version": "1.2.0",
            "_view_name": "LayoutView",
            "align_content": null,
            "align_items": null,
            "align_self": null,
            "border": null,
            "bottom": null,
            "display": null,
            "flex": null,
            "flex_flow": null,
            "grid_area": null,
            "grid_auto_columns": null,
            "grid_auto_flow": null,
            "grid_auto_rows": null,
            "grid_column": null,
            "grid_gap": null,
            "grid_row": null,
            "grid_template_areas": null,
            "grid_template_columns": null,
            "grid_template_rows": null,
            "height": null,
            "justify_content": null,
            "justify_items": null,
            "left": null,
            "margin": null,
            "max_height": null,
            "max_width": null,
            "min_height": null,
            "min_width": null,
            "object_fit": null,
            "object_position": null,
            "order": null,
            "overflow": null,
            "overflow_x": null,
            "overflow_y": null,
            "padding": null,
            "right": null,
            "top": null,
            "visibility": null,
            "width": null
          }
        },
        "384f0fefb5cf461b934b178aa3b7a9ef": {
          "model_module": "@jupyter-widgets/controls",
          "model_name": "DescriptionStyleModel",
          "model_module_version": "1.5.0",
          "state": {
            "_model_module": "@jupyter-widgets/controls",
            "_model_module_version": "1.5.0",
            "_model_name": "DescriptionStyleModel",
            "_view_count": null,
            "_view_module": "@jupyter-widgets/base",
            "_view_module_version": "1.2.0",
            "_view_name": "StyleView",
            "description_width": ""
          }
        },
        "20f2f3f448e646709ce5dd71ce9ccccf": {
          "model_module": "@jupyter-widgets/controls",
          "model_name": "HBoxModel",
          "model_module_version": "1.5.0",
          "state": {
            "_dom_classes": [],
            "_model_module": "@jupyter-widgets/controls",
            "_model_module_version": "1.5.0",
            "_model_name": "HBoxModel",
            "_view_count": null,
            "_view_module": "@jupyter-widgets/controls",
            "_view_module_version": "1.5.0",
            "_view_name": "HBoxView",
            "box_style": "",
            "children": [
              "IPY_MODEL_3f147f9318c34006ad52d9d792c36d21",
              "IPY_MODEL_6b351b2a267d41c8b30359cbde195c1b",
              "IPY_MODEL_99dedf17b1a84e898f4ef29adf3af241"
            ],
            "layout": "IPY_MODEL_4e8fe29a8c254d5fa03a2640b40a7827"
          }
        },
        "3f147f9318c34006ad52d9d792c36d21": {
          "model_module": "@jupyter-widgets/controls",
          "model_name": "HTMLModel",
          "model_module_version": "1.5.0",
          "state": {
            "_dom_classes": [],
            "_model_module": "@jupyter-widgets/controls",
            "_model_module_version": "1.5.0",
            "_model_name": "HTMLModel",
            "_view_count": null,
            "_view_module": "@jupyter-widgets/controls",
            "_view_module_version": "1.5.0",
            "_view_name": "HTMLView",
            "description": "",
            "description_tooltip": null,
            "layout": "IPY_MODEL_0d20b115a5df4d80b911cea06c8f20b2",
            "placeholder": "​",
            "style": "IPY_MODEL_c01e8e9aaa94451f9a1fb6b29c047a3a",
            "value": "100%"
          }
        },
        "6b351b2a267d41c8b30359cbde195c1b": {
          "model_module": "@jupyter-widgets/controls",
          "model_name": "FloatProgressModel",
          "model_module_version": "1.5.0",
          "state": {
            "_dom_classes": [],
            "_model_module": "@jupyter-widgets/controls",
            "_model_module_version": "1.5.0",
            "_model_name": "FloatProgressModel",
            "_view_count": null,
            "_view_module": "@jupyter-widgets/controls",
            "_view_module_version": "1.5.0",
            "_view_name": "ProgressView",
            "bar_style": "success",
            "description": "",
            "description_tooltip": null,
            "layout": "IPY_MODEL_155077eac7924378805bdba4bb3e7b52",
            "max": 2,
            "min": 0,
            "orientation": "horizontal",
            "style": "IPY_MODEL_fc6162fdf31243e2882d5cfede6ddcee",
            "value": 2
          }
        },
        "99dedf17b1a84e898f4ef29adf3af241": {
          "model_module": "@jupyter-widgets/controls",
          "model_name": "HTMLModel",
          "model_module_version": "1.5.0",
          "state": {
            "_dom_classes": [],
            "_model_module": "@jupyter-widgets/controls",
            "_model_module_version": "1.5.0",
            "_model_name": "HTMLModel",
            "_view_count": null,
            "_view_module": "@jupyter-widgets/controls",
            "_view_module_version": "1.5.0",
            "_view_name": "HTMLView",
            "description": "",
            "description_tooltip": null,
            "layout": "IPY_MODEL_d1124b02d21c4dc6b7954d9f596ed52c",
            "placeholder": "​",
            "style": "IPY_MODEL_5ab1e47660a64c25a4c6a56265c496fe",
            "value": " 2/2 [00:00&lt;00:00,  7.43ba/s]"
          }
        },
        "4e8fe29a8c254d5fa03a2640b40a7827": {
          "model_module": "@jupyter-widgets/base",
          "model_name": "LayoutModel",
          "model_module_version": "1.2.0",
          "state": {
            "_model_module": "@jupyter-widgets/base",
            "_model_module_version": "1.2.0",
            "_model_name": "LayoutModel",
            "_view_count": null,
            "_view_module": "@jupyter-widgets/base",
            "_view_module_version": "1.2.0",
            "_view_name": "LayoutView",
            "align_content": null,
            "align_items": null,
            "align_self": null,
            "border": null,
            "bottom": null,
            "display": null,
            "flex": null,
            "flex_flow": null,
            "grid_area": null,
            "grid_auto_columns": null,
            "grid_auto_flow": null,
            "grid_auto_rows": null,
            "grid_column": null,
            "grid_gap": null,
            "grid_row": null,
            "grid_template_areas": null,
            "grid_template_columns": null,
            "grid_template_rows": null,
            "height": null,
            "justify_content": null,
            "justify_items": null,
            "left": null,
            "margin": null,
            "max_height": null,
            "max_width": null,
            "min_height": null,
            "min_width": null,
            "object_fit": null,
            "object_position": null,
            "order": null,
            "overflow": null,
            "overflow_x": null,
            "overflow_y": null,
            "padding": null,
            "right": null,
            "top": null,
            "visibility": null,
            "width": null
          }
        },
        "0d20b115a5df4d80b911cea06c8f20b2": {
          "model_module": "@jupyter-widgets/base",
          "model_name": "LayoutModel",
          "model_module_version": "1.2.0",
          "state": {
            "_model_module": "@jupyter-widgets/base",
            "_model_module_version": "1.2.0",
            "_model_name": "LayoutModel",
            "_view_count": null,
            "_view_module": "@jupyter-widgets/base",
            "_view_module_version": "1.2.0",
            "_view_name": "LayoutView",
            "align_content": null,
            "align_items": null,
            "align_self": null,
            "border": null,
            "bottom": null,
            "display": null,
            "flex": null,
            "flex_flow": null,
            "grid_area": null,
            "grid_auto_columns": null,
            "grid_auto_flow": null,
            "grid_auto_rows": null,
            "grid_column": null,
            "grid_gap": null,
            "grid_row": null,
            "grid_template_areas": null,
            "grid_template_columns": null,
            "grid_template_rows": null,
            "height": null,
            "justify_content": null,
            "justify_items": null,
            "left": null,
            "margin": null,
            "max_height": null,
            "max_width": null,
            "min_height": null,
            "min_width": null,
            "object_fit": null,
            "object_position": null,
            "order": null,
            "overflow": null,
            "overflow_x": null,
            "overflow_y": null,
            "padding": null,
            "right": null,
            "top": null,
            "visibility": null,
            "width": null
          }
        },
        "c01e8e9aaa94451f9a1fb6b29c047a3a": {
          "model_module": "@jupyter-widgets/controls",
          "model_name": "DescriptionStyleModel",
          "model_module_version": "1.5.0",
          "state": {
            "_model_module": "@jupyter-widgets/controls",
            "_model_module_version": "1.5.0",
            "_model_name": "DescriptionStyleModel",
            "_view_count": null,
            "_view_module": "@jupyter-widgets/base",
            "_view_module_version": "1.2.0",
            "_view_name": "StyleView",
            "description_width": ""
          }
        },
        "155077eac7924378805bdba4bb3e7b52": {
          "model_module": "@jupyter-widgets/base",
          "model_name": "LayoutModel",
          "model_module_version": "1.2.0",
          "state": {
            "_model_module": "@jupyter-widgets/base",
            "_model_module_version": "1.2.0",
            "_model_name": "LayoutModel",
            "_view_count": null,
            "_view_module": "@jupyter-widgets/base",
            "_view_module_version": "1.2.0",
            "_view_name": "LayoutView",
            "align_content": null,
            "align_items": null,
            "align_self": null,
            "border": null,
            "bottom": null,
            "display": null,
            "flex": null,
            "flex_flow": null,
            "grid_area": null,
            "grid_auto_columns": null,
            "grid_auto_flow": null,
            "grid_auto_rows": null,
            "grid_column": null,
            "grid_gap": null,
            "grid_row": null,
            "grid_template_areas": null,
            "grid_template_columns": null,
            "grid_template_rows": null,
            "height": null,
            "justify_content": null,
            "justify_items": null,
            "left": null,
            "margin": null,
            "max_height": null,
            "max_width": null,
            "min_height": null,
            "min_width": null,
            "object_fit": null,
            "object_position": null,
            "order": null,
            "overflow": null,
            "overflow_x": null,
            "overflow_y": null,
            "padding": null,
            "right": null,
            "top": null,
            "visibility": null,
            "width": null
          }
        },
        "fc6162fdf31243e2882d5cfede6ddcee": {
          "model_module": "@jupyter-widgets/controls",
          "model_name": "ProgressStyleModel",
          "model_module_version": "1.5.0",
          "state": {
            "_model_module": "@jupyter-widgets/controls",
            "_model_module_version": "1.5.0",
            "_model_name": "ProgressStyleModel",
            "_view_count": null,
            "_view_module": "@jupyter-widgets/base",
            "_view_module_version": "1.2.0",
            "_view_name": "StyleView",
            "bar_color": null,
            "description_width": ""
          }
        },
        "d1124b02d21c4dc6b7954d9f596ed52c": {
          "model_module": "@jupyter-widgets/base",
          "model_name": "LayoutModel",
          "model_module_version": "1.2.0",
          "state": {
            "_model_module": "@jupyter-widgets/base",
            "_model_module_version": "1.2.0",
            "_model_name": "LayoutModel",
            "_view_count": null,
            "_view_module": "@jupyter-widgets/base",
            "_view_module_version": "1.2.0",
            "_view_name": "LayoutView",
            "align_content": null,
            "align_items": null,
            "align_self": null,
            "border": null,
            "bottom": null,
            "display": null,
            "flex": null,
            "flex_flow": null,
            "grid_area": null,
            "grid_auto_columns": null,
            "grid_auto_flow": null,
            "grid_auto_rows": null,
            "grid_column": null,
            "grid_gap": null,
            "grid_row": null,
            "grid_template_areas": null,
            "grid_template_columns": null,
            "grid_template_rows": null,
            "height": null,
            "justify_content": null,
            "justify_items": null,
            "left": null,
            "margin": null,
            "max_height": null,
            "max_width": null,
            "min_height": null,
            "min_width": null,
            "object_fit": null,
            "object_position": null,
            "order": null,
            "overflow": null,
            "overflow_x": null,
            "overflow_y": null,
            "padding": null,
            "right": null,
            "top": null,
            "visibility": null,
            "width": null
          }
        },
        "5ab1e47660a64c25a4c6a56265c496fe": {
          "model_module": "@jupyter-widgets/controls",
          "model_name": "DescriptionStyleModel",
          "model_module_version": "1.5.0",
          "state": {
            "_model_module": "@jupyter-widgets/controls",
            "_model_module_version": "1.5.0",
            "_model_name": "DescriptionStyleModel",
            "_view_count": null,
            "_view_module": "@jupyter-widgets/base",
            "_view_module_version": "1.2.0",
            "_view_name": "StyleView",
            "description_width": ""
          }
        },
        "c5029df55e364c009f8854ee51a49301": {
          "model_module": "@jupyter-widgets/controls",
          "model_name": "HBoxModel",
          "model_module_version": "1.5.0",
          "state": {
            "_dom_classes": [],
            "_model_module": "@jupyter-widgets/controls",
            "_model_module_version": "1.5.0",
            "_model_name": "HBoxModel",
            "_view_count": null,
            "_view_module": "@jupyter-widgets/controls",
            "_view_module_version": "1.5.0",
            "_view_name": "HBoxView",
            "box_style": "",
            "children": [
              "IPY_MODEL_1d74ee15feab49cebd070a8b8164e078",
              "IPY_MODEL_10efb35fb985489d85691f54f7f4915e",
              "IPY_MODEL_42603d4faa0943e3819f521efc85ec59"
            ],
            "layout": "IPY_MODEL_e252e81bfe2243f598fb2695c85a56b8"
          }
        },
        "1d74ee15feab49cebd070a8b8164e078": {
          "model_module": "@jupyter-widgets/controls",
          "model_name": "HTMLModel",
          "model_module_version": "1.5.0",
          "state": {
            "_dom_classes": [],
            "_model_module": "@jupyter-widgets/controls",
            "_model_module_version": "1.5.0",
            "_model_name": "HTMLModel",
            "_view_count": null,
            "_view_module": "@jupyter-widgets/controls",
            "_view_module_version": "1.5.0",
            "_view_name": "HTMLView",
            "description": "",
            "description_tooltip": null,
            "layout": "IPY_MODEL_0e83e82739554e228e41834d48378547",
            "placeholder": "​",
            "style": "IPY_MODEL_21770be06cb74b34b9fc05f52e1d303e",
            "value": "100%"
          }
        },
        "10efb35fb985489d85691f54f7f4915e": {
          "model_module": "@jupyter-widgets/controls",
          "model_name": "FloatProgressModel",
          "model_module_version": "1.5.0",
          "state": {
            "_dom_classes": [],
            "_model_module": "@jupyter-widgets/controls",
            "_model_module_version": "1.5.0",
            "_model_name": "FloatProgressModel",
            "_view_count": null,
            "_view_module": "@jupyter-widgets/controls",
            "_view_module_version": "1.5.0",
            "_view_name": "ProgressView",
            "bar_style": "success",
            "description": "",
            "description_tooltip": null,
            "layout": "IPY_MODEL_0f5009117dd444aa9847bf702f6bd522",
            "max": 2,
            "min": 0,
            "orientation": "horizontal",
            "style": "IPY_MODEL_c5c70b402e4a42949620a5e3fef042db",
            "value": 2
          }
        },
        "42603d4faa0943e3819f521efc85ec59": {
          "model_module": "@jupyter-widgets/controls",
          "model_name": "HTMLModel",
          "model_module_version": "1.5.0",
          "state": {
            "_dom_classes": [],
            "_model_module": "@jupyter-widgets/controls",
            "_model_module_version": "1.5.0",
            "_model_name": "HTMLModel",
            "_view_count": null,
            "_view_module": "@jupyter-widgets/controls",
            "_view_module_version": "1.5.0",
            "_view_name": "HTMLView",
            "description": "",
            "description_tooltip": null,
            "layout": "IPY_MODEL_251a60fe838d44908b5d795ffc957ef7",
            "placeholder": "​",
            "style": "IPY_MODEL_2efc41afc9a4483b9dbe8b8ad3466323",
            "value": " 2/2 [00:00&lt;00:00,  7.54ba/s]"
          }
        },
        "e252e81bfe2243f598fb2695c85a56b8": {
          "model_module": "@jupyter-widgets/base",
          "model_name": "LayoutModel",
          "model_module_version": "1.2.0",
          "state": {
            "_model_module": "@jupyter-widgets/base",
            "_model_module_version": "1.2.0",
            "_model_name": "LayoutModel",
            "_view_count": null,
            "_view_module": "@jupyter-widgets/base",
            "_view_module_version": "1.2.0",
            "_view_name": "LayoutView",
            "align_content": null,
            "align_items": null,
            "align_self": null,
            "border": null,
            "bottom": null,
            "display": null,
            "flex": null,
            "flex_flow": null,
            "grid_area": null,
            "grid_auto_columns": null,
            "grid_auto_flow": null,
            "grid_auto_rows": null,
            "grid_column": null,
            "grid_gap": null,
            "grid_row": null,
            "grid_template_areas": null,
            "grid_template_columns": null,
            "grid_template_rows": null,
            "height": null,
            "justify_content": null,
            "justify_items": null,
            "left": null,
            "margin": null,
            "max_height": null,
            "max_width": null,
            "min_height": null,
            "min_width": null,
            "object_fit": null,
            "object_position": null,
            "order": null,
            "overflow": null,
            "overflow_x": null,
            "overflow_y": null,
            "padding": null,
            "right": null,
            "top": null,
            "visibility": null,
            "width": null
          }
        },
        "0e83e82739554e228e41834d48378547": {
          "model_module": "@jupyter-widgets/base",
          "model_name": "LayoutModel",
          "model_module_version": "1.2.0",
          "state": {
            "_model_module": "@jupyter-widgets/base",
            "_model_module_version": "1.2.0",
            "_model_name": "LayoutModel",
            "_view_count": null,
            "_view_module": "@jupyter-widgets/base",
            "_view_module_version": "1.2.0",
            "_view_name": "LayoutView",
            "align_content": null,
            "align_items": null,
            "align_self": null,
            "border": null,
            "bottom": null,
            "display": null,
            "flex": null,
            "flex_flow": null,
            "grid_area": null,
            "grid_auto_columns": null,
            "grid_auto_flow": null,
            "grid_auto_rows": null,
            "grid_column": null,
            "grid_gap": null,
            "grid_row": null,
            "grid_template_areas": null,
            "grid_template_columns": null,
            "grid_template_rows": null,
            "height": null,
            "justify_content": null,
            "justify_items": null,
            "left": null,
            "margin": null,
            "max_height": null,
            "max_width": null,
            "min_height": null,
            "min_width": null,
            "object_fit": null,
            "object_position": null,
            "order": null,
            "overflow": null,
            "overflow_x": null,
            "overflow_y": null,
            "padding": null,
            "right": null,
            "top": null,
            "visibility": null,
            "width": null
          }
        },
        "21770be06cb74b34b9fc05f52e1d303e": {
          "model_module": "@jupyter-widgets/controls",
          "model_name": "DescriptionStyleModel",
          "model_module_version": "1.5.0",
          "state": {
            "_model_module": "@jupyter-widgets/controls",
            "_model_module_version": "1.5.0",
            "_model_name": "DescriptionStyleModel",
            "_view_count": null,
            "_view_module": "@jupyter-widgets/base",
            "_view_module_version": "1.2.0",
            "_view_name": "StyleView",
            "description_width": ""
          }
        },
        "0f5009117dd444aa9847bf702f6bd522": {
          "model_module": "@jupyter-widgets/base",
          "model_name": "LayoutModel",
          "model_module_version": "1.2.0",
          "state": {
            "_model_module": "@jupyter-widgets/base",
            "_model_module_version": "1.2.0",
            "_model_name": "LayoutModel",
            "_view_count": null,
            "_view_module": "@jupyter-widgets/base",
            "_view_module_version": "1.2.0",
            "_view_name": "LayoutView",
            "align_content": null,
            "align_items": null,
            "align_self": null,
            "border": null,
            "bottom": null,
            "display": null,
            "flex": null,
            "flex_flow": null,
            "grid_area": null,
            "grid_auto_columns": null,
            "grid_auto_flow": null,
            "grid_auto_rows": null,
            "grid_column": null,
            "grid_gap": null,
            "grid_row": null,
            "grid_template_areas": null,
            "grid_template_columns": null,
            "grid_template_rows": null,
            "height": null,
            "justify_content": null,
            "justify_items": null,
            "left": null,
            "margin": null,
            "max_height": null,
            "max_width": null,
            "min_height": null,
            "min_width": null,
            "object_fit": null,
            "object_position": null,
            "order": null,
            "overflow": null,
            "overflow_x": null,
            "overflow_y": null,
            "padding": null,
            "right": null,
            "top": null,
            "visibility": null,
            "width": null
          }
        },
        "c5c70b402e4a42949620a5e3fef042db": {
          "model_module": "@jupyter-widgets/controls",
          "model_name": "ProgressStyleModel",
          "model_module_version": "1.5.0",
          "state": {
            "_model_module": "@jupyter-widgets/controls",
            "_model_module_version": "1.5.0",
            "_model_name": "ProgressStyleModel",
            "_view_count": null,
            "_view_module": "@jupyter-widgets/base",
            "_view_module_version": "1.2.0",
            "_view_name": "StyleView",
            "bar_color": null,
            "description_width": ""
          }
        },
        "251a60fe838d44908b5d795ffc957ef7": {
          "model_module": "@jupyter-widgets/base",
          "model_name": "LayoutModel",
          "model_module_version": "1.2.0",
          "state": {
            "_model_module": "@jupyter-widgets/base",
            "_model_module_version": "1.2.0",
            "_model_name": "LayoutModel",
            "_view_count": null,
            "_view_module": "@jupyter-widgets/base",
            "_view_module_version": "1.2.0",
            "_view_name": "LayoutView",
            "align_content": null,
            "align_items": null,
            "align_self": null,
            "border": null,
            "bottom": null,
            "display": null,
            "flex": null,
            "flex_flow": null,
            "grid_area": null,
            "grid_auto_columns": null,
            "grid_auto_flow": null,
            "grid_auto_rows": null,
            "grid_column": null,
            "grid_gap": null,
            "grid_row": null,
            "grid_template_areas": null,
            "grid_template_columns": null,
            "grid_template_rows": null,
            "height": null,
            "justify_content": null,
            "justify_items": null,
            "left": null,
            "margin": null,
            "max_height": null,
            "max_width": null,
            "min_height": null,
            "min_width": null,
            "object_fit": null,
            "object_position": null,
            "order": null,
            "overflow": null,
            "overflow_x": null,
            "overflow_y": null,
            "padding": null,
            "right": null,
            "top": null,
            "visibility": null,
            "width": null
          }
        },
        "2efc41afc9a4483b9dbe8b8ad3466323": {
          "model_module": "@jupyter-widgets/controls",
          "model_name": "DescriptionStyleModel",
          "model_module_version": "1.5.0",
          "state": {
            "_model_module": "@jupyter-widgets/controls",
            "_model_module_version": "1.5.0",
            "_model_name": "DescriptionStyleModel",
            "_view_count": null,
            "_view_module": "@jupyter-widgets/base",
            "_view_module_version": "1.2.0",
            "_view_name": "StyleView",
            "description_width": ""
          }
        },
        "7b074a5c42d04237800d1e00f41e7bef": {
          "model_module": "@jupyter-widgets/controls",
          "model_name": "HBoxModel",
          "model_module_version": "1.5.0",
          "state": {
            "_dom_classes": [],
            "_model_module": "@jupyter-widgets/controls",
            "_model_module_version": "1.5.0",
            "_model_name": "HBoxModel",
            "_view_count": null,
            "_view_module": "@jupyter-widgets/controls",
            "_view_module_version": "1.5.0",
            "_view_name": "HBoxView",
            "box_style": "",
            "children": [
              "IPY_MODEL_20c6770136f242ffbf35b567ee27ff89",
              "IPY_MODEL_9bb2c87af6b644e9903d1b78a178239a",
              "IPY_MODEL_af16249943774ccbbb0e0403ccafb387"
            ],
            "layout": "IPY_MODEL_1b1cbc318c9445b79f805c53f614306a"
          }
        },
        "20c6770136f242ffbf35b567ee27ff89": {
          "model_module": "@jupyter-widgets/controls",
          "model_name": "HTMLModel",
          "model_module_version": "1.5.0",
          "state": {
            "_dom_classes": [],
            "_model_module": "@jupyter-widgets/controls",
            "_model_module_version": "1.5.0",
            "_model_name": "HTMLModel",
            "_view_count": null,
            "_view_module": "@jupyter-widgets/controls",
            "_view_module_version": "1.5.0",
            "_view_name": "HTMLView",
            "description": "",
            "description_tooltip": null,
            "layout": "IPY_MODEL_c0870f0235c9424e93c3548a1e369792",
            "placeholder": "​",
            "style": "IPY_MODEL_5a9aa88c43054b8aacc55c3c47171ca0",
            "value": "100%"
          }
        },
        "9bb2c87af6b644e9903d1b78a178239a": {
          "model_module": "@jupyter-widgets/controls",
          "model_name": "FloatProgressModel",
          "model_module_version": "1.5.0",
          "state": {
            "_dom_classes": [],
            "_model_module": "@jupyter-widgets/controls",
            "_model_module_version": "1.5.0",
            "_model_name": "FloatProgressModel",
            "_view_count": null,
            "_view_module": "@jupyter-widgets/controls",
            "_view_module_version": "1.5.0",
            "_view_name": "ProgressView",
            "bar_style": "success",
            "description": "",
            "description_tooltip": null,
            "layout": "IPY_MODEL_8057e92e83ad4951a674450c81c63bd6",
            "max": 14,
            "min": 0,
            "orientation": "horizontal",
            "style": "IPY_MODEL_da59960e3d32406bada6112d6196bd18",
            "value": 14
          }
        },
        "af16249943774ccbbb0e0403ccafb387": {
          "model_module": "@jupyter-widgets/controls",
          "model_name": "HTMLModel",
          "model_module_version": "1.5.0",
          "state": {
            "_dom_classes": [],
            "_model_module": "@jupyter-widgets/controls",
            "_model_module_version": "1.5.0",
            "_model_name": "HTMLModel",
            "_view_count": null,
            "_view_module": "@jupyter-widgets/controls",
            "_view_module_version": "1.5.0",
            "_view_name": "HTMLView",
            "description": "",
            "description_tooltip": null,
            "layout": "IPY_MODEL_257b5544ddb2458e9d6a8c807f3aa74f",
            "placeholder": "​",
            "style": "IPY_MODEL_8acb78dbe5d0474b831fe7ae6975e605",
            "value": " 14/14 [00:01&lt;00:00, 13.17ba/s]"
          }
        },
        "1b1cbc318c9445b79f805c53f614306a": {
          "model_module": "@jupyter-widgets/base",
          "model_name": "LayoutModel",
          "model_module_version": "1.2.0",
          "state": {
            "_model_module": "@jupyter-widgets/base",
            "_model_module_version": "1.2.0",
            "_model_name": "LayoutModel",
            "_view_count": null,
            "_view_module": "@jupyter-widgets/base",
            "_view_module_version": "1.2.0",
            "_view_name": "LayoutView",
            "align_content": null,
            "align_items": null,
            "align_self": null,
            "border": null,
            "bottom": null,
            "display": null,
            "flex": null,
            "flex_flow": null,
            "grid_area": null,
            "grid_auto_columns": null,
            "grid_auto_flow": null,
            "grid_auto_rows": null,
            "grid_column": null,
            "grid_gap": null,
            "grid_row": null,
            "grid_template_areas": null,
            "grid_template_columns": null,
            "grid_template_rows": null,
            "height": null,
            "justify_content": null,
            "justify_items": null,
            "left": null,
            "margin": null,
            "max_height": null,
            "max_width": null,
            "min_height": null,
            "min_width": null,
            "object_fit": null,
            "object_position": null,
            "order": null,
            "overflow": null,
            "overflow_x": null,
            "overflow_y": null,
            "padding": null,
            "right": null,
            "top": null,
            "visibility": null,
            "width": null
          }
        },
        "c0870f0235c9424e93c3548a1e369792": {
          "model_module": "@jupyter-widgets/base",
          "model_name": "LayoutModel",
          "model_module_version": "1.2.0",
          "state": {
            "_model_module": "@jupyter-widgets/base",
            "_model_module_version": "1.2.0",
            "_model_name": "LayoutModel",
            "_view_count": null,
            "_view_module": "@jupyter-widgets/base",
            "_view_module_version": "1.2.0",
            "_view_name": "LayoutView",
            "align_content": null,
            "align_items": null,
            "align_self": null,
            "border": null,
            "bottom": null,
            "display": null,
            "flex": null,
            "flex_flow": null,
            "grid_area": null,
            "grid_auto_columns": null,
            "grid_auto_flow": null,
            "grid_auto_rows": null,
            "grid_column": null,
            "grid_gap": null,
            "grid_row": null,
            "grid_template_areas": null,
            "grid_template_columns": null,
            "grid_template_rows": null,
            "height": null,
            "justify_content": null,
            "justify_items": null,
            "left": null,
            "margin": null,
            "max_height": null,
            "max_width": null,
            "min_height": null,
            "min_width": null,
            "object_fit": null,
            "object_position": null,
            "order": null,
            "overflow": null,
            "overflow_x": null,
            "overflow_y": null,
            "padding": null,
            "right": null,
            "top": null,
            "visibility": null,
            "width": null
          }
        },
        "5a9aa88c43054b8aacc55c3c47171ca0": {
          "model_module": "@jupyter-widgets/controls",
          "model_name": "DescriptionStyleModel",
          "model_module_version": "1.5.0",
          "state": {
            "_model_module": "@jupyter-widgets/controls",
            "_model_module_version": "1.5.0",
            "_model_name": "DescriptionStyleModel",
            "_view_count": null,
            "_view_module": "@jupyter-widgets/base",
            "_view_module_version": "1.2.0",
            "_view_name": "StyleView",
            "description_width": ""
          }
        },
        "8057e92e83ad4951a674450c81c63bd6": {
          "model_module": "@jupyter-widgets/base",
          "model_name": "LayoutModel",
          "model_module_version": "1.2.0",
          "state": {
            "_model_module": "@jupyter-widgets/base",
            "_model_module_version": "1.2.0",
            "_model_name": "LayoutModel",
            "_view_count": null,
            "_view_module": "@jupyter-widgets/base",
            "_view_module_version": "1.2.0",
            "_view_name": "LayoutView",
            "align_content": null,
            "align_items": null,
            "align_self": null,
            "border": null,
            "bottom": null,
            "display": null,
            "flex": null,
            "flex_flow": null,
            "grid_area": null,
            "grid_auto_columns": null,
            "grid_auto_flow": null,
            "grid_auto_rows": null,
            "grid_column": null,
            "grid_gap": null,
            "grid_row": null,
            "grid_template_areas": null,
            "grid_template_columns": null,
            "grid_template_rows": null,
            "height": null,
            "justify_content": null,
            "justify_items": null,
            "left": null,
            "margin": null,
            "max_height": null,
            "max_width": null,
            "min_height": null,
            "min_width": null,
            "object_fit": null,
            "object_position": null,
            "order": null,
            "overflow": null,
            "overflow_x": null,
            "overflow_y": null,
            "padding": null,
            "right": null,
            "top": null,
            "visibility": null,
            "width": null
          }
        },
        "da59960e3d32406bada6112d6196bd18": {
          "model_module": "@jupyter-widgets/controls",
          "model_name": "ProgressStyleModel",
          "model_module_version": "1.5.0",
          "state": {
            "_model_module": "@jupyter-widgets/controls",
            "_model_module_version": "1.5.0",
            "_model_name": "ProgressStyleModel",
            "_view_count": null,
            "_view_module": "@jupyter-widgets/base",
            "_view_module_version": "1.2.0",
            "_view_name": "StyleView",
            "bar_color": null,
            "description_width": ""
          }
        },
        "257b5544ddb2458e9d6a8c807f3aa74f": {
          "model_module": "@jupyter-widgets/base",
          "model_name": "LayoutModel",
          "model_module_version": "1.2.0",
          "state": {
            "_model_module": "@jupyter-widgets/base",
            "_model_module_version": "1.2.0",
            "_model_name": "LayoutModel",
            "_view_count": null,
            "_view_module": "@jupyter-widgets/base",
            "_view_module_version": "1.2.0",
            "_view_name": "LayoutView",
            "align_content": null,
            "align_items": null,
            "align_self": null,
            "border": null,
            "bottom": null,
            "display": null,
            "flex": null,
            "flex_flow": null,
            "grid_area": null,
            "grid_auto_columns": null,
            "grid_auto_flow": null,
            "grid_auto_rows": null,
            "grid_column": null,
            "grid_gap": null,
            "grid_row": null,
            "grid_template_areas": null,
            "grid_template_columns": null,
            "grid_template_rows": null,
            "height": null,
            "justify_content": null,
            "justify_items": null,
            "left": null,
            "margin": null,
            "max_height": null,
            "max_width": null,
            "min_height": null,
            "min_width": null,
            "object_fit": null,
            "object_position": null,
            "order": null,
            "overflow": null,
            "overflow_x": null,
            "overflow_y": null,
            "padding": null,
            "right": null,
            "top": null,
            "visibility": null,
            "width": null
          }
        },
        "8acb78dbe5d0474b831fe7ae6975e605": {
          "model_module": "@jupyter-widgets/controls",
          "model_name": "DescriptionStyleModel",
          "model_module_version": "1.5.0",
          "state": {
            "_model_module": "@jupyter-widgets/controls",
            "_model_module_version": "1.5.0",
            "_model_name": "DescriptionStyleModel",
            "_view_count": null,
            "_view_module": "@jupyter-widgets/base",
            "_view_module_version": "1.2.0",
            "_view_name": "StyleView",
            "description_width": ""
          }
        },
        "149133418f7a43b9a83756320f95ab7c": {
          "model_module": "@jupyter-widgets/controls",
          "model_name": "HBoxModel",
          "model_module_version": "1.5.0",
          "state": {
            "_dom_classes": [],
            "_model_module": "@jupyter-widgets/controls",
            "_model_module_version": "1.5.0",
            "_model_name": "HBoxModel",
            "_view_count": null,
            "_view_module": "@jupyter-widgets/controls",
            "_view_module_version": "1.5.0",
            "_view_name": "HBoxView",
            "box_style": "",
            "children": [
              "IPY_MODEL_b4efe7a111b041878da78f045589a448",
              "IPY_MODEL_a2d8496d700f41de9ac63866c6aa939c",
              "IPY_MODEL_d1a6f5c25cc24fc3bb9b9fb2005d3070"
            ],
            "layout": "IPY_MODEL_2b4551335b054c43912e7d490c4a88e0"
          }
        },
        "b4efe7a111b041878da78f045589a448": {
          "model_module": "@jupyter-widgets/controls",
          "model_name": "HTMLModel",
          "model_module_version": "1.5.0",
          "state": {
            "_dom_classes": [],
            "_model_module": "@jupyter-widgets/controls",
            "_model_module_version": "1.5.0",
            "_model_name": "HTMLModel",
            "_view_count": null,
            "_view_module": "@jupyter-widgets/controls",
            "_view_module_version": "1.5.0",
            "_view_name": "HTMLView",
            "description": "",
            "description_tooltip": null,
            "layout": "IPY_MODEL_31f44f996a10441da9bf40f033e20c9a",
            "placeholder": "​",
            "style": "IPY_MODEL_77ebbdfcf7834a648150171312d73650",
            "value": "100%"
          }
        },
        "a2d8496d700f41de9ac63866c6aa939c": {
          "model_module": "@jupyter-widgets/controls",
          "model_name": "FloatProgressModel",
          "model_module_version": "1.5.0",
          "state": {
            "_dom_classes": [],
            "_model_module": "@jupyter-widgets/controls",
            "_model_module_version": "1.5.0",
            "_model_name": "FloatProgressModel",
            "_view_count": null,
            "_view_module": "@jupyter-widgets/controls",
            "_view_module_version": "1.5.0",
            "_view_name": "ProgressView",
            "bar_style": "success",
            "description": "",
            "description_tooltip": null,
            "layout": "IPY_MODEL_f306a03592384cae9c749abe976bef21",
            "max": 14,
            "min": 0,
            "orientation": "horizontal",
            "style": "IPY_MODEL_ee418776b99f46fab65925208141a464",
            "value": 14
          }
        },
        "d1a6f5c25cc24fc3bb9b9fb2005d3070": {
          "model_module": "@jupyter-widgets/controls",
          "model_name": "HTMLModel",
          "model_module_version": "1.5.0",
          "state": {
            "_dom_classes": [],
            "_model_module": "@jupyter-widgets/controls",
            "_model_module_version": "1.5.0",
            "_model_name": "HTMLModel",
            "_view_count": null,
            "_view_module": "@jupyter-widgets/controls",
            "_view_module_version": "1.5.0",
            "_view_name": "HTMLView",
            "description": "",
            "description_tooltip": null,
            "layout": "IPY_MODEL_e4305b64e9534631abc9b487f556fc83",
            "placeholder": "​",
            "style": "IPY_MODEL_13cfe780da254cff8d5245b0b7d2fc3c",
            "value": " 14/14 [00:01&lt;00:00, 10.83ba/s]"
          }
        },
        "2b4551335b054c43912e7d490c4a88e0": {
          "model_module": "@jupyter-widgets/base",
          "model_name": "LayoutModel",
          "model_module_version": "1.2.0",
          "state": {
            "_model_module": "@jupyter-widgets/base",
            "_model_module_version": "1.2.0",
            "_model_name": "LayoutModel",
            "_view_count": null,
            "_view_module": "@jupyter-widgets/base",
            "_view_module_version": "1.2.0",
            "_view_name": "LayoutView",
            "align_content": null,
            "align_items": null,
            "align_self": null,
            "border": null,
            "bottom": null,
            "display": null,
            "flex": null,
            "flex_flow": null,
            "grid_area": null,
            "grid_auto_columns": null,
            "grid_auto_flow": null,
            "grid_auto_rows": null,
            "grid_column": null,
            "grid_gap": null,
            "grid_row": null,
            "grid_template_areas": null,
            "grid_template_columns": null,
            "grid_template_rows": null,
            "height": null,
            "justify_content": null,
            "justify_items": null,
            "left": null,
            "margin": null,
            "max_height": null,
            "max_width": null,
            "min_height": null,
            "min_width": null,
            "object_fit": null,
            "object_position": null,
            "order": null,
            "overflow": null,
            "overflow_x": null,
            "overflow_y": null,
            "padding": null,
            "right": null,
            "top": null,
            "visibility": null,
            "width": null
          }
        },
        "31f44f996a10441da9bf40f033e20c9a": {
          "model_module": "@jupyter-widgets/base",
          "model_name": "LayoutModel",
          "model_module_version": "1.2.0",
          "state": {
            "_model_module": "@jupyter-widgets/base",
            "_model_module_version": "1.2.0",
            "_model_name": "LayoutModel",
            "_view_count": null,
            "_view_module": "@jupyter-widgets/base",
            "_view_module_version": "1.2.0",
            "_view_name": "LayoutView",
            "align_content": null,
            "align_items": null,
            "align_self": null,
            "border": null,
            "bottom": null,
            "display": null,
            "flex": null,
            "flex_flow": null,
            "grid_area": null,
            "grid_auto_columns": null,
            "grid_auto_flow": null,
            "grid_auto_rows": null,
            "grid_column": null,
            "grid_gap": null,
            "grid_row": null,
            "grid_template_areas": null,
            "grid_template_columns": null,
            "grid_template_rows": null,
            "height": null,
            "justify_content": null,
            "justify_items": null,
            "left": null,
            "margin": null,
            "max_height": null,
            "max_width": null,
            "min_height": null,
            "min_width": null,
            "object_fit": null,
            "object_position": null,
            "order": null,
            "overflow": null,
            "overflow_x": null,
            "overflow_y": null,
            "padding": null,
            "right": null,
            "top": null,
            "visibility": null,
            "width": null
          }
        },
        "77ebbdfcf7834a648150171312d73650": {
          "model_module": "@jupyter-widgets/controls",
          "model_name": "DescriptionStyleModel",
          "model_module_version": "1.5.0",
          "state": {
            "_model_module": "@jupyter-widgets/controls",
            "_model_module_version": "1.5.0",
            "_model_name": "DescriptionStyleModel",
            "_view_count": null,
            "_view_module": "@jupyter-widgets/base",
            "_view_module_version": "1.2.0",
            "_view_name": "StyleView",
            "description_width": ""
          }
        },
        "f306a03592384cae9c749abe976bef21": {
          "model_module": "@jupyter-widgets/base",
          "model_name": "LayoutModel",
          "model_module_version": "1.2.0",
          "state": {
            "_model_module": "@jupyter-widgets/base",
            "_model_module_version": "1.2.0",
            "_model_name": "LayoutModel",
            "_view_count": null,
            "_view_module": "@jupyter-widgets/base",
            "_view_module_version": "1.2.0",
            "_view_name": "LayoutView",
            "align_content": null,
            "align_items": null,
            "align_self": null,
            "border": null,
            "bottom": null,
            "display": null,
            "flex": null,
            "flex_flow": null,
            "grid_area": null,
            "grid_auto_columns": null,
            "grid_auto_flow": null,
            "grid_auto_rows": null,
            "grid_column": null,
            "grid_gap": null,
            "grid_row": null,
            "grid_template_areas": null,
            "grid_template_columns": null,
            "grid_template_rows": null,
            "height": null,
            "justify_content": null,
            "justify_items": null,
            "left": null,
            "margin": null,
            "max_height": null,
            "max_width": null,
            "min_height": null,
            "min_width": null,
            "object_fit": null,
            "object_position": null,
            "order": null,
            "overflow": null,
            "overflow_x": null,
            "overflow_y": null,
            "padding": null,
            "right": null,
            "top": null,
            "visibility": null,
            "width": null
          }
        },
        "ee418776b99f46fab65925208141a464": {
          "model_module": "@jupyter-widgets/controls",
          "model_name": "ProgressStyleModel",
          "model_module_version": "1.5.0",
          "state": {
            "_model_module": "@jupyter-widgets/controls",
            "_model_module_version": "1.5.0",
            "_model_name": "ProgressStyleModel",
            "_view_count": null,
            "_view_module": "@jupyter-widgets/base",
            "_view_module_version": "1.2.0",
            "_view_name": "StyleView",
            "bar_color": null,
            "description_width": ""
          }
        },
        "e4305b64e9534631abc9b487f556fc83": {
          "model_module": "@jupyter-widgets/base",
          "model_name": "LayoutModel",
          "model_module_version": "1.2.0",
          "state": {
            "_model_module": "@jupyter-widgets/base",
            "_model_module_version": "1.2.0",
            "_model_name": "LayoutModel",
            "_view_count": null,
            "_view_module": "@jupyter-widgets/base",
            "_view_module_version": "1.2.0",
            "_view_name": "LayoutView",
            "align_content": null,
            "align_items": null,
            "align_self": null,
            "border": null,
            "bottom": null,
            "display": null,
            "flex": null,
            "flex_flow": null,
            "grid_area": null,
            "grid_auto_columns": null,
            "grid_auto_flow": null,
            "grid_auto_rows": null,
            "grid_column": null,
            "grid_gap": null,
            "grid_row": null,
            "grid_template_areas": null,
            "grid_template_columns": null,
            "grid_template_rows": null,
            "height": null,
            "justify_content": null,
            "justify_items": null,
            "left": null,
            "margin": null,
            "max_height": null,
            "max_width": null,
            "min_height": null,
            "min_width": null,
            "object_fit": null,
            "object_position": null,
            "order": null,
            "overflow": null,
            "overflow_x": null,
            "overflow_y": null,
            "padding": null,
            "right": null,
            "top": null,
            "visibility": null,
            "width": null
          }
        },
        "13cfe780da254cff8d5245b0b7d2fc3c": {
          "model_module": "@jupyter-widgets/controls",
          "model_name": "DescriptionStyleModel",
          "model_module_version": "1.5.0",
          "state": {
            "_model_module": "@jupyter-widgets/controls",
            "_model_module_version": "1.5.0",
            "_model_name": "DescriptionStyleModel",
            "_view_count": null,
            "_view_module": "@jupyter-widgets/base",
            "_view_module_version": "1.2.0",
            "_view_name": "StyleView",
            "description_width": ""
          }
        },
        "d645bc60eab1409093b0fdd1c264e4a2": {
          "model_module": "@jupyter-widgets/controls",
          "model_name": "HBoxModel",
          "model_module_version": "1.5.0",
          "state": {
            "_dom_classes": [],
            "_model_module": "@jupyter-widgets/controls",
            "_model_module_version": "1.5.0",
            "_model_name": "HBoxModel",
            "_view_count": null,
            "_view_module": "@jupyter-widgets/controls",
            "_view_module_version": "1.5.0",
            "_view_name": "HBoxView",
            "box_style": "",
            "children": [
              "IPY_MODEL_e0e260bdda6a48be9103bfa256b911cf",
              "IPY_MODEL_25c1e8fd123143d4b6f773a5b7953816",
              "IPY_MODEL_be762f6be0e94e3f90b79c809cb35824"
            ],
            "layout": "IPY_MODEL_2f68d01153bd43c1bc21a50c0c58258b"
          }
        },
        "e0e260bdda6a48be9103bfa256b911cf": {
          "model_module": "@jupyter-widgets/controls",
          "model_name": "HTMLModel",
          "model_module_version": "1.5.0",
          "state": {
            "_dom_classes": [],
            "_model_module": "@jupyter-widgets/controls",
            "_model_module_version": "1.5.0",
            "_model_name": "HTMLModel",
            "_view_count": null,
            "_view_module": "@jupyter-widgets/controls",
            "_view_module_version": "1.5.0",
            "_view_name": "HTMLView",
            "description": "",
            "description_tooltip": null,
            "layout": "IPY_MODEL_03806430162e450fb0b649e056bbc543",
            "placeholder": "​",
            "style": "IPY_MODEL_191ad3b73c0a44d89a66b4c7a2719747",
            "value": "100%"
          }
        },
        "25c1e8fd123143d4b6f773a5b7953816": {
          "model_module": "@jupyter-widgets/controls",
          "model_name": "FloatProgressModel",
          "model_module_version": "1.5.0",
          "state": {
            "_dom_classes": [],
            "_model_module": "@jupyter-widgets/controls",
            "_model_module_version": "1.5.0",
            "_model_name": "FloatProgressModel",
            "_view_count": null,
            "_view_module": "@jupyter-widgets/controls",
            "_view_module_version": "1.5.0",
            "_view_name": "ProgressView",
            "bar_style": "success",
            "description": "",
            "description_tooltip": null,
            "layout": "IPY_MODEL_8eddfcbdbe394826841d4b0e19d666ce",
            "max": 14,
            "min": 0,
            "orientation": "horizontal",
            "style": "IPY_MODEL_30fc4a96e0e040b7a71b5307963bd318",
            "value": 14
          }
        },
        "be762f6be0e94e3f90b79c809cb35824": {
          "model_module": "@jupyter-widgets/controls",
          "model_name": "HTMLModel",
          "model_module_version": "1.5.0",
          "state": {
            "_dom_classes": [],
            "_model_module": "@jupyter-widgets/controls",
            "_model_module_version": "1.5.0",
            "_model_name": "HTMLModel",
            "_view_count": null,
            "_view_module": "@jupyter-widgets/controls",
            "_view_module_version": "1.5.0",
            "_view_name": "HTMLView",
            "description": "",
            "description_tooltip": null,
            "layout": "IPY_MODEL_17c62d9bcb9c44abbc7b77e56bc7c66d",
            "placeholder": "​",
            "style": "IPY_MODEL_3b90eb30e2564366b9bf64e37b44331a",
            "value": " 14/14 [00:01&lt;00:00, 12.17ba/s]"
          }
        },
        "2f68d01153bd43c1bc21a50c0c58258b": {
          "model_module": "@jupyter-widgets/base",
          "model_name": "LayoutModel",
          "model_module_version": "1.2.0",
          "state": {
            "_model_module": "@jupyter-widgets/base",
            "_model_module_version": "1.2.0",
            "_model_name": "LayoutModel",
            "_view_count": null,
            "_view_module": "@jupyter-widgets/base",
            "_view_module_version": "1.2.0",
            "_view_name": "LayoutView",
            "align_content": null,
            "align_items": null,
            "align_self": null,
            "border": null,
            "bottom": null,
            "display": null,
            "flex": null,
            "flex_flow": null,
            "grid_area": null,
            "grid_auto_columns": null,
            "grid_auto_flow": null,
            "grid_auto_rows": null,
            "grid_column": null,
            "grid_gap": null,
            "grid_row": null,
            "grid_template_areas": null,
            "grid_template_columns": null,
            "grid_template_rows": null,
            "height": null,
            "justify_content": null,
            "justify_items": null,
            "left": null,
            "margin": null,
            "max_height": null,
            "max_width": null,
            "min_height": null,
            "min_width": null,
            "object_fit": null,
            "object_position": null,
            "order": null,
            "overflow": null,
            "overflow_x": null,
            "overflow_y": null,
            "padding": null,
            "right": null,
            "top": null,
            "visibility": null,
            "width": null
          }
        },
        "03806430162e450fb0b649e056bbc543": {
          "model_module": "@jupyter-widgets/base",
          "model_name": "LayoutModel",
          "model_module_version": "1.2.0",
          "state": {
            "_model_module": "@jupyter-widgets/base",
            "_model_module_version": "1.2.0",
            "_model_name": "LayoutModel",
            "_view_count": null,
            "_view_module": "@jupyter-widgets/base",
            "_view_module_version": "1.2.0",
            "_view_name": "LayoutView",
            "align_content": null,
            "align_items": null,
            "align_self": null,
            "border": null,
            "bottom": null,
            "display": null,
            "flex": null,
            "flex_flow": null,
            "grid_area": null,
            "grid_auto_columns": null,
            "grid_auto_flow": null,
            "grid_auto_rows": null,
            "grid_column": null,
            "grid_gap": null,
            "grid_row": null,
            "grid_template_areas": null,
            "grid_template_columns": null,
            "grid_template_rows": null,
            "height": null,
            "justify_content": null,
            "justify_items": null,
            "left": null,
            "margin": null,
            "max_height": null,
            "max_width": null,
            "min_height": null,
            "min_width": null,
            "object_fit": null,
            "object_position": null,
            "order": null,
            "overflow": null,
            "overflow_x": null,
            "overflow_y": null,
            "padding": null,
            "right": null,
            "top": null,
            "visibility": null,
            "width": null
          }
        },
        "191ad3b73c0a44d89a66b4c7a2719747": {
          "model_module": "@jupyter-widgets/controls",
          "model_name": "DescriptionStyleModel",
          "model_module_version": "1.5.0",
          "state": {
            "_model_module": "@jupyter-widgets/controls",
            "_model_module_version": "1.5.0",
            "_model_name": "DescriptionStyleModel",
            "_view_count": null,
            "_view_module": "@jupyter-widgets/base",
            "_view_module_version": "1.2.0",
            "_view_name": "StyleView",
            "description_width": ""
          }
        },
        "8eddfcbdbe394826841d4b0e19d666ce": {
          "model_module": "@jupyter-widgets/base",
          "model_name": "LayoutModel",
          "model_module_version": "1.2.0",
          "state": {
            "_model_module": "@jupyter-widgets/base",
            "_model_module_version": "1.2.0",
            "_model_name": "LayoutModel",
            "_view_count": null,
            "_view_module": "@jupyter-widgets/base",
            "_view_module_version": "1.2.0",
            "_view_name": "LayoutView",
            "align_content": null,
            "align_items": null,
            "align_self": null,
            "border": null,
            "bottom": null,
            "display": null,
            "flex": null,
            "flex_flow": null,
            "grid_area": null,
            "grid_auto_columns": null,
            "grid_auto_flow": null,
            "grid_auto_rows": null,
            "grid_column": null,
            "grid_gap": null,
            "grid_row": null,
            "grid_template_areas": null,
            "grid_template_columns": null,
            "grid_template_rows": null,
            "height": null,
            "justify_content": null,
            "justify_items": null,
            "left": null,
            "margin": null,
            "max_height": null,
            "max_width": null,
            "min_height": null,
            "min_width": null,
            "object_fit": null,
            "object_position": null,
            "order": null,
            "overflow": null,
            "overflow_x": null,
            "overflow_y": null,
            "padding": null,
            "right": null,
            "top": null,
            "visibility": null,
            "width": null
          }
        },
        "30fc4a96e0e040b7a71b5307963bd318": {
          "model_module": "@jupyter-widgets/controls",
          "model_name": "ProgressStyleModel",
          "model_module_version": "1.5.0",
          "state": {
            "_model_module": "@jupyter-widgets/controls",
            "_model_module_version": "1.5.0",
            "_model_name": "ProgressStyleModel",
            "_view_count": null,
            "_view_module": "@jupyter-widgets/base",
            "_view_module_version": "1.2.0",
            "_view_name": "StyleView",
            "bar_color": null,
            "description_width": ""
          }
        },
        "17c62d9bcb9c44abbc7b77e56bc7c66d": {
          "model_module": "@jupyter-widgets/base",
          "model_name": "LayoutModel",
          "model_module_version": "1.2.0",
          "state": {
            "_model_module": "@jupyter-widgets/base",
            "_model_module_version": "1.2.0",
            "_model_name": "LayoutModel",
            "_view_count": null,
            "_view_module": "@jupyter-widgets/base",
            "_view_module_version": "1.2.0",
            "_view_name": "LayoutView",
            "align_content": null,
            "align_items": null,
            "align_self": null,
            "border": null,
            "bottom": null,
            "display": null,
            "flex": null,
            "flex_flow": null,
            "grid_area": null,
            "grid_auto_columns": null,
            "grid_auto_flow": null,
            "grid_auto_rows": null,
            "grid_column": null,
            "grid_gap": null,
            "grid_row": null,
            "grid_template_areas": null,
            "grid_template_columns": null,
            "grid_template_rows": null,
            "height": null,
            "justify_content": null,
            "justify_items": null,
            "left": null,
            "margin": null,
            "max_height": null,
            "max_width": null,
            "min_height": null,
            "min_width": null,
            "object_fit": null,
            "object_position": null,
            "order": null,
            "overflow": null,
            "overflow_x": null,
            "overflow_y": null,
            "padding": null,
            "right": null,
            "top": null,
            "visibility": null,
            "width": null
          }
        },
        "3b90eb30e2564366b9bf64e37b44331a": {
          "model_module": "@jupyter-widgets/controls",
          "model_name": "DescriptionStyleModel",
          "model_module_version": "1.5.0",
          "state": {
            "_model_module": "@jupyter-widgets/controls",
            "_model_module_version": "1.5.0",
            "_model_name": "DescriptionStyleModel",
            "_view_count": null,
            "_view_module": "@jupyter-widgets/base",
            "_view_module_version": "1.2.0",
            "_view_name": "StyleView",
            "description_width": ""
          }
        },
        "fa40f621d992475897b2cc11b9509030": {
          "model_module": "@jupyter-widgets/controls",
          "model_name": "HBoxModel",
          "model_module_version": "1.5.0",
          "state": {
            "_dom_classes": [],
            "_model_module": "@jupyter-widgets/controls",
            "_model_module_version": "1.5.0",
            "_model_name": "HBoxModel",
            "_view_count": null,
            "_view_module": "@jupyter-widgets/controls",
            "_view_module_version": "1.5.0",
            "_view_name": "HBoxView",
            "box_style": "",
            "children": [
              "IPY_MODEL_1f65e967f1a743be91c11efef3bf7489",
              "IPY_MODEL_993f88bf3c3645eda9a73cf520303492",
              "IPY_MODEL_40268a223a604ee4af099610691e4eb9"
            ],
            "layout": "IPY_MODEL_1fb4fdde69a34f62acf6bedecfda1153"
          }
        },
        "1f65e967f1a743be91c11efef3bf7489": {
          "model_module": "@jupyter-widgets/controls",
          "model_name": "HTMLModel",
          "model_module_version": "1.5.0",
          "state": {
            "_dom_classes": [],
            "_model_module": "@jupyter-widgets/controls",
            "_model_module_version": "1.5.0",
            "_model_name": "HTMLModel",
            "_view_count": null,
            "_view_module": "@jupyter-widgets/controls",
            "_view_module_version": "1.5.0",
            "_view_name": "HTMLView",
            "description": "",
            "description_tooltip": null,
            "layout": "IPY_MODEL_221e933c391043b1abc2d59c4b12d62b",
            "placeholder": "​",
            "style": "IPY_MODEL_8d04c7478def460abeab79ac307d0b92",
            "value": "100%"
          }
        },
        "993f88bf3c3645eda9a73cf520303492": {
          "model_module": "@jupyter-widgets/controls",
          "model_name": "FloatProgressModel",
          "model_module_version": "1.5.0",
          "state": {
            "_dom_classes": [],
            "_model_module": "@jupyter-widgets/controls",
            "_model_module_version": "1.5.0",
            "_model_name": "FloatProgressModel",
            "_view_count": null,
            "_view_module": "@jupyter-widgets/controls",
            "_view_module_version": "1.5.0",
            "_view_name": "ProgressView",
            "bar_style": "success",
            "description": "",
            "description_tooltip": null,
            "layout": "IPY_MODEL_19600629235f45d7afe18d568b627fa3",
            "max": 14,
            "min": 0,
            "orientation": "horizontal",
            "style": "IPY_MODEL_64091400b0d04769a413984528124228",
            "value": 14
          }
        },
        "40268a223a604ee4af099610691e4eb9": {
          "model_module": "@jupyter-widgets/controls",
          "model_name": "HTMLModel",
          "model_module_version": "1.5.0",
          "state": {
            "_dom_classes": [],
            "_model_module": "@jupyter-widgets/controls",
            "_model_module_version": "1.5.0",
            "_model_name": "HTMLModel",
            "_view_count": null,
            "_view_module": "@jupyter-widgets/controls",
            "_view_module_version": "1.5.0",
            "_view_name": "HTMLView",
            "description": "",
            "description_tooltip": null,
            "layout": "IPY_MODEL_3fcb4cc237e24d9e86e2d35b2109a9b0",
            "placeholder": "​",
            "style": "IPY_MODEL_7a4b7d762944400b95147062b72bfad0",
            "value": " 14/14 [00:01&lt;00:00,  9.81ba/s]"
          }
        },
        "1fb4fdde69a34f62acf6bedecfda1153": {
          "model_module": "@jupyter-widgets/base",
          "model_name": "LayoutModel",
          "model_module_version": "1.2.0",
          "state": {
            "_model_module": "@jupyter-widgets/base",
            "_model_module_version": "1.2.0",
            "_model_name": "LayoutModel",
            "_view_count": null,
            "_view_module": "@jupyter-widgets/base",
            "_view_module_version": "1.2.0",
            "_view_name": "LayoutView",
            "align_content": null,
            "align_items": null,
            "align_self": null,
            "border": null,
            "bottom": null,
            "display": null,
            "flex": null,
            "flex_flow": null,
            "grid_area": null,
            "grid_auto_columns": null,
            "grid_auto_flow": null,
            "grid_auto_rows": null,
            "grid_column": null,
            "grid_gap": null,
            "grid_row": null,
            "grid_template_areas": null,
            "grid_template_columns": null,
            "grid_template_rows": null,
            "height": null,
            "justify_content": null,
            "justify_items": null,
            "left": null,
            "margin": null,
            "max_height": null,
            "max_width": null,
            "min_height": null,
            "min_width": null,
            "object_fit": null,
            "object_position": null,
            "order": null,
            "overflow": null,
            "overflow_x": null,
            "overflow_y": null,
            "padding": null,
            "right": null,
            "top": null,
            "visibility": null,
            "width": null
          }
        },
        "221e933c391043b1abc2d59c4b12d62b": {
          "model_module": "@jupyter-widgets/base",
          "model_name": "LayoutModel",
          "model_module_version": "1.2.0",
          "state": {
            "_model_module": "@jupyter-widgets/base",
            "_model_module_version": "1.2.0",
            "_model_name": "LayoutModel",
            "_view_count": null,
            "_view_module": "@jupyter-widgets/base",
            "_view_module_version": "1.2.0",
            "_view_name": "LayoutView",
            "align_content": null,
            "align_items": null,
            "align_self": null,
            "border": null,
            "bottom": null,
            "display": null,
            "flex": null,
            "flex_flow": null,
            "grid_area": null,
            "grid_auto_columns": null,
            "grid_auto_flow": null,
            "grid_auto_rows": null,
            "grid_column": null,
            "grid_gap": null,
            "grid_row": null,
            "grid_template_areas": null,
            "grid_template_columns": null,
            "grid_template_rows": null,
            "height": null,
            "justify_content": null,
            "justify_items": null,
            "left": null,
            "margin": null,
            "max_height": null,
            "max_width": null,
            "min_height": null,
            "min_width": null,
            "object_fit": null,
            "object_position": null,
            "order": null,
            "overflow": null,
            "overflow_x": null,
            "overflow_y": null,
            "padding": null,
            "right": null,
            "top": null,
            "visibility": null,
            "width": null
          }
        },
        "8d04c7478def460abeab79ac307d0b92": {
          "model_module": "@jupyter-widgets/controls",
          "model_name": "DescriptionStyleModel",
          "model_module_version": "1.5.0",
          "state": {
            "_model_module": "@jupyter-widgets/controls",
            "_model_module_version": "1.5.0",
            "_model_name": "DescriptionStyleModel",
            "_view_count": null,
            "_view_module": "@jupyter-widgets/base",
            "_view_module_version": "1.2.0",
            "_view_name": "StyleView",
            "description_width": ""
          }
        },
        "19600629235f45d7afe18d568b627fa3": {
          "model_module": "@jupyter-widgets/base",
          "model_name": "LayoutModel",
          "model_module_version": "1.2.0",
          "state": {
            "_model_module": "@jupyter-widgets/base",
            "_model_module_version": "1.2.0",
            "_model_name": "LayoutModel",
            "_view_count": null,
            "_view_module": "@jupyter-widgets/base",
            "_view_module_version": "1.2.0",
            "_view_name": "LayoutView",
            "align_content": null,
            "align_items": null,
            "align_self": null,
            "border": null,
            "bottom": null,
            "display": null,
            "flex": null,
            "flex_flow": null,
            "grid_area": null,
            "grid_auto_columns": null,
            "grid_auto_flow": null,
            "grid_auto_rows": null,
            "grid_column": null,
            "grid_gap": null,
            "grid_row": null,
            "grid_template_areas": null,
            "grid_template_columns": null,
            "grid_template_rows": null,
            "height": null,
            "justify_content": null,
            "justify_items": null,
            "left": null,
            "margin": null,
            "max_height": null,
            "max_width": null,
            "min_height": null,
            "min_width": null,
            "object_fit": null,
            "object_position": null,
            "order": null,
            "overflow": null,
            "overflow_x": null,
            "overflow_y": null,
            "padding": null,
            "right": null,
            "top": null,
            "visibility": null,
            "width": null
          }
        },
        "64091400b0d04769a413984528124228": {
          "model_module": "@jupyter-widgets/controls",
          "model_name": "ProgressStyleModel",
          "model_module_version": "1.5.0",
          "state": {
            "_model_module": "@jupyter-widgets/controls",
            "_model_module_version": "1.5.0",
            "_model_name": "ProgressStyleModel",
            "_view_count": null,
            "_view_module": "@jupyter-widgets/base",
            "_view_module_version": "1.2.0",
            "_view_name": "StyleView",
            "bar_color": null,
            "description_width": ""
          }
        },
        "3fcb4cc237e24d9e86e2d35b2109a9b0": {
          "model_module": "@jupyter-widgets/base",
          "model_name": "LayoutModel",
          "model_module_version": "1.2.0",
          "state": {
            "_model_module": "@jupyter-widgets/base",
            "_model_module_version": "1.2.0",
            "_model_name": "LayoutModel",
            "_view_count": null,
            "_view_module": "@jupyter-widgets/base",
            "_view_module_version": "1.2.0",
            "_view_name": "LayoutView",
            "align_content": null,
            "align_items": null,
            "align_self": null,
            "border": null,
            "bottom": null,
            "display": null,
            "flex": null,
            "flex_flow": null,
            "grid_area": null,
            "grid_auto_columns": null,
            "grid_auto_flow": null,
            "grid_auto_rows": null,
            "grid_column": null,
            "grid_gap": null,
            "grid_row": null,
            "grid_template_areas": null,
            "grid_template_columns": null,
            "grid_template_rows": null,
            "height": null,
            "justify_content": null,
            "justify_items": null,
            "left": null,
            "margin": null,
            "max_height": null,
            "max_width": null,
            "min_height": null,
            "min_width": null,
            "object_fit": null,
            "object_position": null,
            "order": null,
            "overflow": null,
            "overflow_x": null,
            "overflow_y": null,
            "padding": null,
            "right": null,
            "top": null,
            "visibility": null,
            "width": null
          }
        },
        "7a4b7d762944400b95147062b72bfad0": {
          "model_module": "@jupyter-widgets/controls",
          "model_name": "DescriptionStyleModel",
          "model_module_version": "1.5.0",
          "state": {
            "_model_module": "@jupyter-widgets/controls",
            "_model_module_version": "1.5.0",
            "_model_name": "DescriptionStyleModel",
            "_view_count": null,
            "_view_module": "@jupyter-widgets/base",
            "_view_module_version": "1.2.0",
            "_view_name": "StyleView",
            "description_width": ""
          }
        },
        "389473b6f18c4eea83ab6a4879061354": {
          "model_module": "@jupyter-widgets/controls",
          "model_name": "HBoxModel",
          "model_module_version": "1.5.0",
          "state": {
            "_dom_classes": [],
            "_model_module": "@jupyter-widgets/controls",
            "_model_module_version": "1.5.0",
            "_model_name": "HBoxModel",
            "_view_count": null,
            "_view_module": "@jupyter-widgets/controls",
            "_view_module_version": "1.5.0",
            "_view_name": "HBoxView",
            "box_style": "",
            "children": [
              "IPY_MODEL_b53447e6f62949f9bb88d2d4da5b4dc5",
              "IPY_MODEL_e13b50ac4cc042abb9b948e1882e0b64",
              "IPY_MODEL_4a2e5d82f28f4a01abbcf3d6d9d10955"
            ],
            "layout": "IPY_MODEL_b21a8a86bce04f6fb418e3685c12a632"
          }
        },
        "b53447e6f62949f9bb88d2d4da5b4dc5": {
          "model_module": "@jupyter-widgets/controls",
          "model_name": "HTMLModel",
          "model_module_version": "1.5.0",
          "state": {
            "_dom_classes": [],
            "_model_module": "@jupyter-widgets/controls",
            "_model_module_version": "1.5.0",
            "_model_name": "HTMLModel",
            "_view_count": null,
            "_view_module": "@jupyter-widgets/controls",
            "_view_module_version": "1.5.0",
            "_view_name": "HTMLView",
            "description": "",
            "description_tooltip": null,
            "layout": "IPY_MODEL_af8252316cea41faaf6923aba4009eb6",
            "placeholder": "​",
            "style": "IPY_MODEL_04b32f1c04494cd1a12bbbb7252fb89d",
            "value": "100%"
          }
        },
        "e13b50ac4cc042abb9b948e1882e0b64": {
          "model_module": "@jupyter-widgets/controls",
          "model_name": "FloatProgressModel",
          "model_module_version": "1.5.0",
          "state": {
            "_dom_classes": [],
            "_model_module": "@jupyter-widgets/controls",
            "_model_module_version": "1.5.0",
            "_model_name": "FloatProgressModel",
            "_view_count": null,
            "_view_module": "@jupyter-widgets/controls",
            "_view_module_version": "1.5.0",
            "_view_name": "ProgressView",
            "bar_style": "success",
            "description": "",
            "description_tooltip": null,
            "layout": "IPY_MODEL_8b18ac027f53420fb308b353d0d6bb87",
            "max": 14,
            "min": 0,
            "orientation": "horizontal",
            "style": "IPY_MODEL_912842f9992841f3bbf3d55a88d1d6bb",
            "value": 14
          }
        },
        "4a2e5d82f28f4a01abbcf3d6d9d10955": {
          "model_module": "@jupyter-widgets/controls",
          "model_name": "HTMLModel",
          "model_module_version": "1.5.0",
          "state": {
            "_dom_classes": [],
            "_model_module": "@jupyter-widgets/controls",
            "_model_module_version": "1.5.0",
            "_model_name": "HTMLModel",
            "_view_count": null,
            "_view_module": "@jupyter-widgets/controls",
            "_view_module_version": "1.5.0",
            "_view_name": "HTMLView",
            "description": "",
            "description_tooltip": null,
            "layout": "IPY_MODEL_2e2f539ccd1849ec9c5cf05a7d862397",
            "placeholder": "​",
            "style": "IPY_MODEL_8e35cc00fad94df6b3e2400a16ac2603",
            "value": " 14/14 [00:01&lt;00:00, 12.49ba/s]"
          }
        },
        "b21a8a86bce04f6fb418e3685c12a632": {
          "model_module": "@jupyter-widgets/base",
          "model_name": "LayoutModel",
          "model_module_version": "1.2.0",
          "state": {
            "_model_module": "@jupyter-widgets/base",
            "_model_module_version": "1.2.0",
            "_model_name": "LayoutModel",
            "_view_count": null,
            "_view_module": "@jupyter-widgets/base",
            "_view_module_version": "1.2.0",
            "_view_name": "LayoutView",
            "align_content": null,
            "align_items": null,
            "align_self": null,
            "border": null,
            "bottom": null,
            "display": null,
            "flex": null,
            "flex_flow": null,
            "grid_area": null,
            "grid_auto_columns": null,
            "grid_auto_flow": null,
            "grid_auto_rows": null,
            "grid_column": null,
            "grid_gap": null,
            "grid_row": null,
            "grid_template_areas": null,
            "grid_template_columns": null,
            "grid_template_rows": null,
            "height": null,
            "justify_content": null,
            "justify_items": null,
            "left": null,
            "margin": null,
            "max_height": null,
            "max_width": null,
            "min_height": null,
            "min_width": null,
            "object_fit": null,
            "object_position": null,
            "order": null,
            "overflow": null,
            "overflow_x": null,
            "overflow_y": null,
            "padding": null,
            "right": null,
            "top": null,
            "visibility": null,
            "width": null
          }
        },
        "af8252316cea41faaf6923aba4009eb6": {
          "model_module": "@jupyter-widgets/base",
          "model_name": "LayoutModel",
          "model_module_version": "1.2.0",
          "state": {
            "_model_module": "@jupyter-widgets/base",
            "_model_module_version": "1.2.0",
            "_model_name": "LayoutModel",
            "_view_count": null,
            "_view_module": "@jupyter-widgets/base",
            "_view_module_version": "1.2.0",
            "_view_name": "LayoutView",
            "align_content": null,
            "align_items": null,
            "align_self": null,
            "border": null,
            "bottom": null,
            "display": null,
            "flex": null,
            "flex_flow": null,
            "grid_area": null,
            "grid_auto_columns": null,
            "grid_auto_flow": null,
            "grid_auto_rows": null,
            "grid_column": null,
            "grid_gap": null,
            "grid_row": null,
            "grid_template_areas": null,
            "grid_template_columns": null,
            "grid_template_rows": null,
            "height": null,
            "justify_content": null,
            "justify_items": null,
            "left": null,
            "margin": null,
            "max_height": null,
            "max_width": null,
            "min_height": null,
            "min_width": null,
            "object_fit": null,
            "object_position": null,
            "order": null,
            "overflow": null,
            "overflow_x": null,
            "overflow_y": null,
            "padding": null,
            "right": null,
            "top": null,
            "visibility": null,
            "width": null
          }
        },
        "04b32f1c04494cd1a12bbbb7252fb89d": {
          "model_module": "@jupyter-widgets/controls",
          "model_name": "DescriptionStyleModel",
          "model_module_version": "1.5.0",
          "state": {
            "_model_module": "@jupyter-widgets/controls",
            "_model_module_version": "1.5.0",
            "_model_name": "DescriptionStyleModel",
            "_view_count": null,
            "_view_module": "@jupyter-widgets/base",
            "_view_module_version": "1.2.0",
            "_view_name": "StyleView",
            "description_width": ""
          }
        },
        "8b18ac027f53420fb308b353d0d6bb87": {
          "model_module": "@jupyter-widgets/base",
          "model_name": "LayoutModel",
          "model_module_version": "1.2.0",
          "state": {
            "_model_module": "@jupyter-widgets/base",
            "_model_module_version": "1.2.0",
            "_model_name": "LayoutModel",
            "_view_count": null,
            "_view_module": "@jupyter-widgets/base",
            "_view_module_version": "1.2.0",
            "_view_name": "LayoutView",
            "align_content": null,
            "align_items": null,
            "align_self": null,
            "border": null,
            "bottom": null,
            "display": null,
            "flex": null,
            "flex_flow": null,
            "grid_area": null,
            "grid_auto_columns": null,
            "grid_auto_flow": null,
            "grid_auto_rows": null,
            "grid_column": null,
            "grid_gap": null,
            "grid_row": null,
            "grid_template_areas": null,
            "grid_template_columns": null,
            "grid_template_rows": null,
            "height": null,
            "justify_content": null,
            "justify_items": null,
            "left": null,
            "margin": null,
            "max_height": null,
            "max_width": null,
            "min_height": null,
            "min_width": null,
            "object_fit": null,
            "object_position": null,
            "order": null,
            "overflow": null,
            "overflow_x": null,
            "overflow_y": null,
            "padding": null,
            "right": null,
            "top": null,
            "visibility": null,
            "width": null
          }
        },
        "912842f9992841f3bbf3d55a88d1d6bb": {
          "model_module": "@jupyter-widgets/controls",
          "model_name": "ProgressStyleModel",
          "model_module_version": "1.5.0",
          "state": {
            "_model_module": "@jupyter-widgets/controls",
            "_model_module_version": "1.5.0",
            "_model_name": "ProgressStyleModel",
            "_view_count": null,
            "_view_module": "@jupyter-widgets/base",
            "_view_module_version": "1.2.0",
            "_view_name": "StyleView",
            "bar_color": null,
            "description_width": ""
          }
        },
        "2e2f539ccd1849ec9c5cf05a7d862397": {
          "model_module": "@jupyter-widgets/base",
          "model_name": "LayoutModel",
          "model_module_version": "1.2.0",
          "state": {
            "_model_module": "@jupyter-widgets/base",
            "_model_module_version": "1.2.0",
            "_model_name": "LayoutModel",
            "_view_count": null,
            "_view_module": "@jupyter-widgets/base",
            "_view_module_version": "1.2.0",
            "_view_name": "LayoutView",
            "align_content": null,
            "align_items": null,
            "align_self": null,
            "border": null,
            "bottom": null,
            "display": null,
            "flex": null,
            "flex_flow": null,
            "grid_area": null,
            "grid_auto_columns": null,
            "grid_auto_flow": null,
            "grid_auto_rows": null,
            "grid_column": null,
            "grid_gap": null,
            "grid_row": null,
            "grid_template_areas": null,
            "grid_template_columns": null,
            "grid_template_rows": null,
            "height": null,
            "justify_content": null,
            "justify_items": null,
            "left": null,
            "margin": null,
            "max_height": null,
            "max_width": null,
            "min_height": null,
            "min_width": null,
            "object_fit": null,
            "object_position": null,
            "order": null,
            "overflow": null,
            "overflow_x": null,
            "overflow_y": null,
            "padding": null,
            "right": null,
            "top": null,
            "visibility": null,
            "width": null
          }
        },
        "8e35cc00fad94df6b3e2400a16ac2603": {
          "model_module": "@jupyter-widgets/controls",
          "model_name": "DescriptionStyleModel",
          "model_module_version": "1.5.0",
          "state": {
            "_model_module": "@jupyter-widgets/controls",
            "_model_module_version": "1.5.0",
            "_model_name": "DescriptionStyleModel",
            "_view_count": null,
            "_view_module": "@jupyter-widgets/base",
            "_view_module_version": "1.2.0",
            "_view_name": "StyleView",
            "description_width": ""
          }
        },
        "e1979f628483440b93a44ee4eaa7ebf9": {
          "model_module": "@jupyter-widgets/controls",
          "model_name": "HBoxModel",
          "model_module_version": "1.5.0",
          "state": {
            "_dom_classes": [],
            "_model_module": "@jupyter-widgets/controls",
            "_model_module_version": "1.5.0",
            "_model_name": "HBoxModel",
            "_view_count": null,
            "_view_module": "@jupyter-widgets/controls",
            "_view_module_version": "1.5.0",
            "_view_name": "HBoxView",
            "box_style": "",
            "children": [
              "IPY_MODEL_417c4f914bb64034a9b39a9e8e31d53d",
              "IPY_MODEL_1a3bcdcc08054af3b703206bfb313989",
              "IPY_MODEL_d7c6dbe4feed47d39d2845c18c3dc785"
            ],
            "layout": "IPY_MODEL_744a82c8c05944eb99c1f9c67c9fcc5a"
          }
        },
        "417c4f914bb64034a9b39a9e8e31d53d": {
          "model_module": "@jupyter-widgets/controls",
          "model_name": "HTMLModel",
          "model_module_version": "1.5.0",
          "state": {
            "_dom_classes": [],
            "_model_module": "@jupyter-widgets/controls",
            "_model_module_version": "1.5.0",
            "_model_name": "HTMLModel",
            "_view_count": null,
            "_view_module": "@jupyter-widgets/controls",
            "_view_module_version": "1.5.0",
            "_view_name": "HTMLView",
            "description": "",
            "description_tooltip": null,
            "layout": "IPY_MODEL_13fadc0de9954056869525b9e77f8d48",
            "placeholder": "​",
            "style": "IPY_MODEL_7c0450719cf84d9b8e9991e5aa3236b2",
            "value": "100%"
          }
        },
        "1a3bcdcc08054af3b703206bfb313989": {
          "model_module": "@jupyter-widgets/controls",
          "model_name": "FloatProgressModel",
          "model_module_version": "1.5.0",
          "state": {
            "_dom_classes": [],
            "_model_module": "@jupyter-widgets/controls",
            "_model_module_version": "1.5.0",
            "_model_name": "FloatProgressModel",
            "_view_count": null,
            "_view_module": "@jupyter-widgets/controls",
            "_view_module_version": "1.5.0",
            "_view_name": "ProgressView",
            "bar_style": "success",
            "description": "",
            "description_tooltip": null,
            "layout": "IPY_MODEL_d3587f1dd6ea4c52be86235b1aff2897",
            "max": 14,
            "min": 0,
            "orientation": "horizontal",
            "style": "IPY_MODEL_0a9cc8639a1447d6b2c7433ee5b01f38",
            "value": 14
          }
        },
        "d7c6dbe4feed47d39d2845c18c3dc785": {
          "model_module": "@jupyter-widgets/controls",
          "model_name": "HTMLModel",
          "model_module_version": "1.5.0",
          "state": {
            "_dom_classes": [],
            "_model_module": "@jupyter-widgets/controls",
            "_model_module_version": "1.5.0",
            "_model_name": "HTMLModel",
            "_view_count": null,
            "_view_module": "@jupyter-widgets/controls",
            "_view_module_version": "1.5.0",
            "_view_name": "HTMLView",
            "description": "",
            "description_tooltip": null,
            "layout": "IPY_MODEL_7dac358d9016499a9b1f8ec10bd2efa9",
            "placeholder": "​",
            "style": "IPY_MODEL_a7389b3d472244de97ab3384d0ebaf8f",
            "value": " 14/14 [00:01&lt;00:00, 10.66ba/s]"
          }
        },
        "744a82c8c05944eb99c1f9c67c9fcc5a": {
          "model_module": "@jupyter-widgets/base",
          "model_name": "LayoutModel",
          "model_module_version": "1.2.0",
          "state": {
            "_model_module": "@jupyter-widgets/base",
            "_model_module_version": "1.2.0",
            "_model_name": "LayoutModel",
            "_view_count": null,
            "_view_module": "@jupyter-widgets/base",
            "_view_module_version": "1.2.0",
            "_view_name": "LayoutView",
            "align_content": null,
            "align_items": null,
            "align_self": null,
            "border": null,
            "bottom": null,
            "display": null,
            "flex": null,
            "flex_flow": null,
            "grid_area": null,
            "grid_auto_columns": null,
            "grid_auto_flow": null,
            "grid_auto_rows": null,
            "grid_column": null,
            "grid_gap": null,
            "grid_row": null,
            "grid_template_areas": null,
            "grid_template_columns": null,
            "grid_template_rows": null,
            "height": null,
            "justify_content": null,
            "justify_items": null,
            "left": null,
            "margin": null,
            "max_height": null,
            "max_width": null,
            "min_height": null,
            "min_width": null,
            "object_fit": null,
            "object_position": null,
            "order": null,
            "overflow": null,
            "overflow_x": null,
            "overflow_y": null,
            "padding": null,
            "right": null,
            "top": null,
            "visibility": null,
            "width": null
          }
        },
        "13fadc0de9954056869525b9e77f8d48": {
          "model_module": "@jupyter-widgets/base",
          "model_name": "LayoutModel",
          "model_module_version": "1.2.0",
          "state": {
            "_model_module": "@jupyter-widgets/base",
            "_model_module_version": "1.2.0",
            "_model_name": "LayoutModel",
            "_view_count": null,
            "_view_module": "@jupyter-widgets/base",
            "_view_module_version": "1.2.0",
            "_view_name": "LayoutView",
            "align_content": null,
            "align_items": null,
            "align_self": null,
            "border": null,
            "bottom": null,
            "display": null,
            "flex": null,
            "flex_flow": null,
            "grid_area": null,
            "grid_auto_columns": null,
            "grid_auto_flow": null,
            "grid_auto_rows": null,
            "grid_column": null,
            "grid_gap": null,
            "grid_row": null,
            "grid_template_areas": null,
            "grid_template_columns": null,
            "grid_template_rows": null,
            "height": null,
            "justify_content": null,
            "justify_items": null,
            "left": null,
            "margin": null,
            "max_height": null,
            "max_width": null,
            "min_height": null,
            "min_width": null,
            "object_fit": null,
            "object_position": null,
            "order": null,
            "overflow": null,
            "overflow_x": null,
            "overflow_y": null,
            "padding": null,
            "right": null,
            "top": null,
            "visibility": null,
            "width": null
          }
        },
        "7c0450719cf84d9b8e9991e5aa3236b2": {
          "model_module": "@jupyter-widgets/controls",
          "model_name": "DescriptionStyleModel",
          "model_module_version": "1.5.0",
          "state": {
            "_model_module": "@jupyter-widgets/controls",
            "_model_module_version": "1.5.0",
            "_model_name": "DescriptionStyleModel",
            "_view_count": null,
            "_view_module": "@jupyter-widgets/base",
            "_view_module_version": "1.2.0",
            "_view_name": "StyleView",
            "description_width": ""
          }
        },
        "d3587f1dd6ea4c52be86235b1aff2897": {
          "model_module": "@jupyter-widgets/base",
          "model_name": "LayoutModel",
          "model_module_version": "1.2.0",
          "state": {
            "_model_module": "@jupyter-widgets/base",
            "_model_module_version": "1.2.0",
            "_model_name": "LayoutModel",
            "_view_count": null,
            "_view_module": "@jupyter-widgets/base",
            "_view_module_version": "1.2.0",
            "_view_name": "LayoutView",
            "align_content": null,
            "align_items": null,
            "align_self": null,
            "border": null,
            "bottom": null,
            "display": null,
            "flex": null,
            "flex_flow": null,
            "grid_area": null,
            "grid_auto_columns": null,
            "grid_auto_flow": null,
            "grid_auto_rows": null,
            "grid_column": null,
            "grid_gap": null,
            "grid_row": null,
            "grid_template_areas": null,
            "grid_template_columns": null,
            "grid_template_rows": null,
            "height": null,
            "justify_content": null,
            "justify_items": null,
            "left": null,
            "margin": null,
            "max_height": null,
            "max_width": null,
            "min_height": null,
            "min_width": null,
            "object_fit": null,
            "object_position": null,
            "order": null,
            "overflow": null,
            "overflow_x": null,
            "overflow_y": null,
            "padding": null,
            "right": null,
            "top": null,
            "visibility": null,
            "width": null
          }
        },
        "0a9cc8639a1447d6b2c7433ee5b01f38": {
          "model_module": "@jupyter-widgets/controls",
          "model_name": "ProgressStyleModel",
          "model_module_version": "1.5.0",
          "state": {
            "_model_module": "@jupyter-widgets/controls",
            "_model_module_version": "1.5.0",
            "_model_name": "ProgressStyleModel",
            "_view_count": null,
            "_view_module": "@jupyter-widgets/base",
            "_view_module_version": "1.2.0",
            "_view_name": "StyleView",
            "bar_color": null,
            "description_width": ""
          }
        },
        "7dac358d9016499a9b1f8ec10bd2efa9": {
          "model_module": "@jupyter-widgets/base",
          "model_name": "LayoutModel",
          "model_module_version": "1.2.0",
          "state": {
            "_model_module": "@jupyter-widgets/base",
            "_model_module_version": "1.2.0",
            "_model_name": "LayoutModel",
            "_view_count": null,
            "_view_module": "@jupyter-widgets/base",
            "_view_module_version": "1.2.0",
            "_view_name": "LayoutView",
            "align_content": null,
            "align_items": null,
            "align_self": null,
            "border": null,
            "bottom": null,
            "display": null,
            "flex": null,
            "flex_flow": null,
            "grid_area": null,
            "grid_auto_columns": null,
            "grid_auto_flow": null,
            "grid_auto_rows": null,
            "grid_column": null,
            "grid_gap": null,
            "grid_row": null,
            "grid_template_areas": null,
            "grid_template_columns": null,
            "grid_template_rows": null,
            "height": null,
            "justify_content": null,
            "justify_items": null,
            "left": null,
            "margin": null,
            "max_height": null,
            "max_width": null,
            "min_height": null,
            "min_width": null,
            "object_fit": null,
            "object_position": null,
            "order": null,
            "overflow": null,
            "overflow_x": null,
            "overflow_y": null,
            "padding": null,
            "right": null,
            "top": null,
            "visibility": null,
            "width": null
          }
        },
        "a7389b3d472244de97ab3384d0ebaf8f": {
          "model_module": "@jupyter-widgets/controls",
          "model_name": "DescriptionStyleModel",
          "model_module_version": "1.5.0",
          "state": {
            "_model_module": "@jupyter-widgets/controls",
            "_model_module_version": "1.5.0",
            "_model_name": "DescriptionStyleModel",
            "_view_count": null,
            "_view_module": "@jupyter-widgets/base",
            "_view_module_version": "1.2.0",
            "_view_name": "StyleView",
            "description_width": ""
          }
        }
      }
    },
    "accelerator": "GPU"
  },
  "nbformat": 4,
  "nbformat_minor": 0
}